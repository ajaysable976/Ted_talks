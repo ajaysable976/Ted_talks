{
 "cells": [
  {
   "cell_type": "markdown",
   "id": "857f7dde",
   "metadata": {},
   "source": [
    "## **Project Name**  \n",
    "- Ted_talks_views_prediction(regression)\n"
   ]
  },
  {
   "cell_type": "markdown",
   "id": "8c71788d",
   "metadata": {},
   "source": [
    "## **GitHub Link -**\n",
    "https://github.com/ajaysable976/Ted_talks/blob/main/ted_talks_views_prediction(regression).ipynb"
   ]
  },
  {
   "cell_type": "markdown",
   "id": "71cfc1e4",
   "metadata": {},
   "source": [
    "### Problem Statement\n",
    "\n",
    "TED is devoted to spreading powerful ideas on just about any topic. These datasets contain over 4,000 TED talks including transcripts in many languages.\n",
    "\n",
    "Founded in 1984 by Richard Salman as a nonprofit organization that aimed at bringing experts from the fields of Technology, Entertainment, and Design together, TED Conferences have gone on to become the Mecca of ideas from virtually all walks of life. As of 2015, TED and its sister TEDx chapters have published more than 2000 talks for free consumption by the masses and its speaker list boasts of the likes of Al Gore, Jimmy Wales, Shahrukh Khan, and Bill Gates.\n",
    "\n",
    "The main objective is to build a predictive model, which could help in predicting the views of the videos uploaded on the TEDx website."
   ]
  },
  {
   "cell_type": "markdown",
   "id": "534effe2",
   "metadata": {},
   "source": [
    "## ***Let's Begin !***"
   ]
  },
  {
   "cell_type": "markdown",
   "id": "5547595a",
   "metadata": {},
   "source": [
    "### 1. Know Your Data"
   ]
  },
  {
   "cell_type": "markdown",
   "id": "be9eb593",
   "metadata": {},
   "source": [
    "#### importing library"
   ]
  },
  {
   "cell_type": "code",
   "execution_count": 1,
   "id": "cb479b3a",
   "metadata": {},
   "outputs": [],
   "source": [
    "import pandas as pd\n",
    "import numpy as np\n",
    "import seaborn as sns\n",
    "import matplotlib\n",
    "import matplotlib.pyplot as plt\n",
    "%matplotlib inline\n",
    "\n",
    "import warnings\n",
    "warnings.filterwarnings('ignore')"
   ]
  },
  {
   "cell_type": "code",
   "execution_count": 2,
   "id": "56ac8681",
   "metadata": {},
   "outputs": [],
   "source": [
    "from wordcloud import WordCloud,ImageColorGenerator\n",
    "pd.plotting.register_matplotlib_converters()\n",
    "import calendar\n",
    "     "
   ]
  },
  {
   "cell_type": "code",
   "execution_count": 3,
   "id": "daf0bcc8",
   "metadata": {},
   "outputs": [],
   "source": [
    "import sklearn\n",
    "\n",
    "from sklearn.model_selection import ShuffleSplit , StratifiedKFold , RepeatedStratifiedKFold ,train_test_split\n",
    "from sklearn.model_selection import cross_val_score , cross_validate ,cross_val_predict\n",
    "\n",
    "from sklearn.preprocessing import RobustScaler\n",
    "from sklearn.pipeline import Pipeline\n"
   ]
  },
  {
   "cell_type": "markdown",
   "id": "291ec9fa",
   "metadata": {},
   "source": [
    "#### Dataset Loading"
   ]
  },
  {
   "cell_type": "code",
   "execution_count": 4,
   "id": "ecdc2449",
   "metadata": {},
   "outputs": [],
   "source": [
    "data = pd.read_csv('data_ted_talks.csv')"
   ]
  },
  {
   "cell_type": "markdown",
   "id": "9a8273be",
   "metadata": {},
   "source": [
    "#### Dataset First View"
   ]
  },
  {
   "cell_type": "code",
   "execution_count": 5,
   "id": "13f2bafe",
   "metadata": {},
   "outputs": [
    {
     "data": {
      "text/html": [
       "<div>\n",
       "<style scoped>\n",
       "    .dataframe tbody tr th:only-of-type {\n",
       "        vertical-align: middle;\n",
       "    }\n",
       "\n",
       "    .dataframe tbody tr th {\n",
       "        vertical-align: top;\n",
       "    }\n",
       "\n",
       "    .dataframe thead th {\n",
       "        text-align: right;\n",
       "    }\n",
       "</style>\n",
       "<table border=\"1\" class=\"dataframe\">\n",
       "  <thead>\n",
       "    <tr style=\"text-align: right;\">\n",
       "      <th></th>\n",
       "      <th>talk_id</th>\n",
       "      <th>title</th>\n",
       "      <th>speaker_1</th>\n",
       "      <th>all_speakers</th>\n",
       "      <th>occupations</th>\n",
       "      <th>about_speakers</th>\n",
       "      <th>views</th>\n",
       "      <th>recorded_date</th>\n",
       "      <th>published_date</th>\n",
       "      <th>event</th>\n",
       "      <th>native_lang</th>\n",
       "      <th>available_lang</th>\n",
       "      <th>comments</th>\n",
       "      <th>duration</th>\n",
       "      <th>topics</th>\n",
       "      <th>related_talks</th>\n",
       "      <th>url</th>\n",
       "      <th>description</th>\n",
       "      <th>transcript</th>\n",
       "    </tr>\n",
       "  </thead>\n",
       "  <tbody>\n",
       "    <tr>\n",
       "      <th>0</th>\n",
       "      <td>1</td>\n",
       "      <td>Averting the climate crisis</td>\n",
       "      <td>Al Gore</td>\n",
       "      <td>{0: 'Al Gore'}</td>\n",
       "      <td>{0: ['climate advocate']}</td>\n",
       "      <td>{0: 'Nobel Laureate Al Gore focused the world’...</td>\n",
       "      <td>3523392</td>\n",
       "      <td>2006-02-25</td>\n",
       "      <td>2006-06-27</td>\n",
       "      <td>TED2006</td>\n",
       "      <td>en</td>\n",
       "      <td>['ar', 'bg', 'cs', 'de', 'el', 'en', 'es', 'fa...</td>\n",
       "      <td>272.0</td>\n",
       "      <td>977</td>\n",
       "      <td>['alternative energy', 'cars', 'climate change...</td>\n",
       "      <td>{243: 'New thinking on the climate crisis', 54...</td>\n",
       "      <td>https://www.ted.com/talks/al_gore_averting_the...</td>\n",
       "      <td>With the same humor and humanity he exuded in ...</td>\n",
       "      <td>Thank you so much, Chris. And it's truly a gre...</td>\n",
       "    </tr>\n",
       "    <tr>\n",
       "      <th>1</th>\n",
       "      <td>92</td>\n",
       "      <td>The best stats you've ever seen</td>\n",
       "      <td>Hans Rosling</td>\n",
       "      <td>{0: 'Hans Rosling'}</td>\n",
       "      <td>{0: ['global health expert; data visionary']}</td>\n",
       "      <td>{0: 'In Hans Rosling’s hands, data sings. Glob...</td>\n",
       "      <td>14501685</td>\n",
       "      <td>2006-02-22</td>\n",
       "      <td>2006-06-27</td>\n",
       "      <td>TED2006</td>\n",
       "      <td>en</td>\n",
       "      <td>['ar', 'az', 'bg', 'bn', 'bs', 'cs', 'da', 'de...</td>\n",
       "      <td>628.0</td>\n",
       "      <td>1190</td>\n",
       "      <td>['Africa', 'Asia', 'Google', 'demo', 'economic...</td>\n",
       "      <td>{2056: \"Own your body's data\", 2296: 'A visual...</td>\n",
       "      <td>https://www.ted.com/talks/hans_rosling_the_bes...</td>\n",
       "      <td>You've never seen data presented like this. Wi...</td>\n",
       "      <td>About 10 years ago, I took on the task to teac...</td>\n",
       "    </tr>\n",
       "    <tr>\n",
       "      <th>2</th>\n",
       "      <td>7</td>\n",
       "      <td>Simplicity sells</td>\n",
       "      <td>David Pogue</td>\n",
       "      <td>{0: 'David Pogue'}</td>\n",
       "      <td>{0: ['technology columnist']}</td>\n",
       "      <td>{0: 'David Pogue is the personal technology co...</td>\n",
       "      <td>1920832</td>\n",
       "      <td>2006-02-24</td>\n",
       "      <td>2006-06-27</td>\n",
       "      <td>TED2006</td>\n",
       "      <td>en</td>\n",
       "      <td>['ar', 'bg', 'de', 'el', 'en', 'es', 'fa', 'fr...</td>\n",
       "      <td>124.0</td>\n",
       "      <td>1286</td>\n",
       "      <td>['computers', 'entertainment', 'interface desi...</td>\n",
       "      <td>{1725: '10 top time-saving tech tips', 2274: '...</td>\n",
       "      <td>https://www.ted.com/talks/david_pogue_simplici...</td>\n",
       "      <td>New York Times columnist David Pogue takes aim...</td>\n",
       "      <td>(Music: \"The Sound of Silence,\" Simon &amp; Garfun...</td>\n",
       "    </tr>\n",
       "    <tr>\n",
       "      <th>3</th>\n",
       "      <td>53</td>\n",
       "      <td>Greening the ghetto</td>\n",
       "      <td>Majora Carter</td>\n",
       "      <td>{0: 'Majora Carter'}</td>\n",
       "      <td>{0: ['activist for environmental justice']}</td>\n",
       "      <td>{0: 'Majora Carter redefined the field of envi...</td>\n",
       "      <td>2664069</td>\n",
       "      <td>2006-02-26</td>\n",
       "      <td>2006-06-27</td>\n",
       "      <td>TED2006</td>\n",
       "      <td>en</td>\n",
       "      <td>['ar', 'bg', 'bn', 'ca', 'cs', 'de', 'en', 'es...</td>\n",
       "      <td>219.0</td>\n",
       "      <td>1116</td>\n",
       "      <td>['MacArthur grant', 'activism', 'business', 'c...</td>\n",
       "      <td>{1041: '3 stories of local eco-entrepreneurshi...</td>\n",
       "      <td>https://www.ted.com/talks/majora_carter_greeni...</td>\n",
       "      <td>In an emotionally charged talk, MacArthur-winn...</td>\n",
       "      <td>If you're here today — and I'm very happy that...</td>\n",
       "    </tr>\n",
       "    <tr>\n",
       "      <th>4</th>\n",
       "      <td>66</td>\n",
       "      <td>Do schools kill creativity?</td>\n",
       "      <td>Sir Ken Robinson</td>\n",
       "      <td>{0: 'Sir Ken Robinson'}</td>\n",
       "      <td>{0: ['author', 'educator']}</td>\n",
       "      <td>{0: \"Creativity expert Sir Ken Robinson challe...</td>\n",
       "      <td>65051954</td>\n",
       "      <td>2006-02-25</td>\n",
       "      <td>2006-06-27</td>\n",
       "      <td>TED2006</td>\n",
       "      <td>en</td>\n",
       "      <td>['af', 'ar', 'az', 'be', 'bg', 'bn', 'ca', 'cs...</td>\n",
       "      <td>4931.0</td>\n",
       "      <td>1164</td>\n",
       "      <td>['children', 'creativity', 'culture', 'dance',...</td>\n",
       "      <td>{865: 'Bring on the learning revolution!', 173...</td>\n",
       "      <td>https://www.ted.com/talks/sir_ken_robinson_do_...</td>\n",
       "      <td>Sir Ken Robinson makes an entertaining and pro...</td>\n",
       "      <td>Good morning. How are you? (Audience) Good. It...</td>\n",
       "    </tr>\n",
       "  </tbody>\n",
       "</table>\n",
       "</div>"
      ],
      "text/plain": [
       "   talk_id                            title         speaker_1  \\\n",
       "0        1      Averting the climate crisis           Al Gore   \n",
       "1       92  The best stats you've ever seen      Hans Rosling   \n",
       "2        7                 Simplicity sells       David Pogue   \n",
       "3       53              Greening the ghetto     Majora Carter   \n",
       "4       66      Do schools kill creativity?  Sir Ken Robinson   \n",
       "\n",
       "              all_speakers                                    occupations  \\\n",
       "0           {0: 'Al Gore'}                      {0: ['climate advocate']}   \n",
       "1      {0: 'Hans Rosling'}  {0: ['global health expert; data visionary']}   \n",
       "2       {0: 'David Pogue'}                  {0: ['technology columnist']}   \n",
       "3     {0: 'Majora Carter'}    {0: ['activist for environmental justice']}   \n",
       "4  {0: 'Sir Ken Robinson'}                    {0: ['author', 'educator']}   \n",
       "\n",
       "                                      about_speakers     views recorded_date  \\\n",
       "0  {0: 'Nobel Laureate Al Gore focused the world’...   3523392    2006-02-25   \n",
       "1  {0: 'In Hans Rosling’s hands, data sings. Glob...  14501685    2006-02-22   \n",
       "2  {0: 'David Pogue is the personal technology co...   1920832    2006-02-24   \n",
       "3  {0: 'Majora Carter redefined the field of envi...   2664069    2006-02-26   \n",
       "4  {0: \"Creativity expert Sir Ken Robinson challe...  65051954    2006-02-25   \n",
       "\n",
       "  published_date    event native_lang  \\\n",
       "0     2006-06-27  TED2006          en   \n",
       "1     2006-06-27  TED2006          en   \n",
       "2     2006-06-27  TED2006          en   \n",
       "3     2006-06-27  TED2006          en   \n",
       "4     2006-06-27  TED2006          en   \n",
       "\n",
       "                                      available_lang  comments  duration  \\\n",
       "0  ['ar', 'bg', 'cs', 'de', 'el', 'en', 'es', 'fa...     272.0       977   \n",
       "1  ['ar', 'az', 'bg', 'bn', 'bs', 'cs', 'da', 'de...     628.0      1190   \n",
       "2  ['ar', 'bg', 'de', 'el', 'en', 'es', 'fa', 'fr...     124.0      1286   \n",
       "3  ['ar', 'bg', 'bn', 'ca', 'cs', 'de', 'en', 'es...     219.0      1116   \n",
       "4  ['af', 'ar', 'az', 'be', 'bg', 'bn', 'ca', 'cs...    4931.0      1164   \n",
       "\n",
       "                                              topics  \\\n",
       "0  ['alternative energy', 'cars', 'climate change...   \n",
       "1  ['Africa', 'Asia', 'Google', 'demo', 'economic...   \n",
       "2  ['computers', 'entertainment', 'interface desi...   \n",
       "3  ['MacArthur grant', 'activism', 'business', 'c...   \n",
       "4  ['children', 'creativity', 'culture', 'dance',...   \n",
       "\n",
       "                                       related_talks  \\\n",
       "0  {243: 'New thinking on the climate crisis', 54...   \n",
       "1  {2056: \"Own your body's data\", 2296: 'A visual...   \n",
       "2  {1725: '10 top time-saving tech tips', 2274: '...   \n",
       "3  {1041: '3 stories of local eco-entrepreneurshi...   \n",
       "4  {865: 'Bring on the learning revolution!', 173...   \n",
       "\n",
       "                                                 url  \\\n",
       "0  https://www.ted.com/talks/al_gore_averting_the...   \n",
       "1  https://www.ted.com/talks/hans_rosling_the_bes...   \n",
       "2  https://www.ted.com/talks/david_pogue_simplici...   \n",
       "3  https://www.ted.com/talks/majora_carter_greeni...   \n",
       "4  https://www.ted.com/talks/sir_ken_robinson_do_...   \n",
       "\n",
       "                                         description  \\\n",
       "0  With the same humor and humanity he exuded in ...   \n",
       "1  You've never seen data presented like this. Wi...   \n",
       "2  New York Times columnist David Pogue takes aim...   \n",
       "3  In an emotionally charged talk, MacArthur-winn...   \n",
       "4  Sir Ken Robinson makes an entertaining and pro...   \n",
       "\n",
       "                                          transcript  \n",
       "0  Thank you so much, Chris. And it's truly a gre...  \n",
       "1  About 10 years ago, I took on the task to teac...  \n",
       "2  (Music: \"The Sound of Silence,\" Simon & Garfun...  \n",
       "3  If you're here today — and I'm very happy that...  \n",
       "4  Good morning. How are you? (Audience) Good. It...  "
      ]
     },
     "execution_count": 5,
     "metadata": {},
     "output_type": "execute_result"
    }
   ],
   "source": [
    "data.head()"
   ]
  },
  {
   "cell_type": "markdown",
   "id": "5356da7b",
   "metadata": {},
   "source": [
    "#### Dataset Rows & Columns count"
   ]
  },
  {
   "cell_type": "code",
   "execution_count": 6,
   "id": "1ac657d4",
   "metadata": {},
   "outputs": [
    {
     "data": {
      "text/plain": [
       "(4005, 19)"
      ]
     },
     "execution_count": 6,
     "metadata": {},
     "output_type": "execute_result"
    }
   ],
   "source": [
    "data.shape"
   ]
  },
  {
   "cell_type": "markdown",
   "id": "6963c1dd",
   "metadata": {},
   "source": [
    "#### Dataset Information"
   ]
  },
  {
   "cell_type": "code",
   "execution_count": 7,
   "id": "bbefe015",
   "metadata": {},
   "outputs": [
    {
     "name": "stdout",
     "output_type": "stream",
     "text": [
      "<class 'pandas.core.frame.DataFrame'>\n",
      "RangeIndex: 4005 entries, 0 to 4004\n",
      "Data columns (total 19 columns):\n",
      " #   Column          Non-Null Count  Dtype  \n",
      "---  ------          --------------  -----  \n",
      " 0   talk_id         4005 non-null   int64  \n",
      " 1   title           4005 non-null   object \n",
      " 2   speaker_1       4005 non-null   object \n",
      " 3   all_speakers    4001 non-null   object \n",
      " 4   occupations     3483 non-null   object \n",
      " 5   about_speakers  3502 non-null   object \n",
      " 6   views           4005 non-null   int64  \n",
      " 7   recorded_date   4004 non-null   object \n",
      " 8   published_date  4005 non-null   object \n",
      " 9   event           4005 non-null   object \n",
      " 10  native_lang     4005 non-null   object \n",
      " 11  available_lang  4005 non-null   object \n",
      " 12  comments        3350 non-null   float64\n",
      " 13  duration        4005 non-null   int64  \n",
      " 14  topics          4005 non-null   object \n",
      " 15  related_talks   4005 non-null   object \n",
      " 16  url             4005 non-null   object \n",
      " 17  description     4005 non-null   object \n",
      " 18  transcript      4005 non-null   object \n",
      "dtypes: float64(1), int64(3), object(15)\n",
      "memory usage: 594.6+ KB\n"
     ]
    }
   ],
   "source": [
    "data.info()"
   ]
  },
  {
   "cell_type": "code",
   "execution_count": 8,
   "id": "711491c5",
   "metadata": {},
   "outputs": [
    {
     "data": {
      "text/plain": [
       "talk_id             0\n",
       "title               0\n",
       "speaker_1           0\n",
       "all_speakers        4\n",
       "occupations       522\n",
       "about_speakers    503\n",
       "views               0\n",
       "recorded_date       1\n",
       "published_date      0\n",
       "event               0\n",
       "native_lang         0\n",
       "available_lang      0\n",
       "comments          655\n",
       "duration            0\n",
       "topics              0\n",
       "related_talks       0\n",
       "url                 0\n",
       "description         0\n",
       "transcript          0\n",
       "dtype: int64"
      ]
     },
     "execution_count": 8,
     "metadata": {},
     "output_type": "execute_result"
    }
   ],
   "source": [
    "data.isnull().sum()"
   ]
  },
  {
   "cell_type": "markdown",
   "id": "d4a03aad",
   "metadata": {},
   "source": [
    "- There are missing value in the data"
   ]
  },
  {
   "cell_type": "markdown",
   "id": "c9c86649",
   "metadata": {},
   "source": [
    "#### What did you know about your dataset?"
   ]
  },
  {
   "cell_type": "markdown",
   "id": "60fef37a",
   "metadata": {},
   "source": [
    "The dataset contains features like:\n",
    "\n",
    "1. talk_id: Talk identification number provided by TED\n",
    "2. title: Title of the talk\n",
    "3. speaker_1: First speaker in TED's speaker list\n",
    "4. all_speakers: Speakers in the talk\n",
    "5. occupations: Occupations of the speakers\n",
    "6. about_speakers: Blurb about each speaker\n",
    "7. recorded_date: Date the talk was recorded\n",
    "8. published_date: Date the talk was published to TED.com\n",
    "9. event: Event or medium in which the talk was given\n",
    "10. native_lang: Language the talk was given in\n",
    "11. available_lang: All available languages (lang_code) for a talk\n",
    "12. comments: Count of comments\n",
    "13. duration: Duration in seconds\n",
    "14. topics: Related tags or topics for the talk\n",
    "15. related_talks: Related talks (key='talk_id',value='title')\n",
    "16. url: URL of the talk\n",
    "17. description: Description of the talk\n",
    "18. transcript: Full transcript of the talk\n",
    "\n",
    "19. 'views': Count of views**(dependent varaible)**\n"
   ]
  },
  {
   "cell_type": "markdown",
   "id": "7e1925d7",
   "metadata": {},
   "source": [
    "## 2. Understanding Your Variables"
   ]
  },
  {
   "cell_type": "code",
   "execution_count": 9,
   "id": "4a81d19b",
   "metadata": {},
   "outputs": [
    {
     "data": {
      "text/plain": [
       "Index(['talk_id', 'title', 'speaker_1', 'all_speakers', 'occupations',\n",
       "       'about_speakers', 'views', 'recorded_date', 'published_date', 'event',\n",
       "       'native_lang', 'available_lang', 'comments', 'duration', 'topics',\n",
       "       'related_talks', 'url', 'description', 'transcript'],\n",
       "      dtype='object')"
      ]
     },
     "execution_count": 9,
     "metadata": {},
     "output_type": "execute_result"
    }
   ],
   "source": [
    "# Dataset Columns\n",
    "data.columns"
   ]
  },
  {
   "cell_type": "code",
   "execution_count": 10,
   "id": "ffb55bc8",
   "metadata": {},
   "outputs": [
    {
     "data": {
      "text/html": [
       "<div>\n",
       "<style scoped>\n",
       "    .dataframe tbody tr th:only-of-type {\n",
       "        vertical-align: middle;\n",
       "    }\n",
       "\n",
       "    .dataframe tbody tr th {\n",
       "        vertical-align: top;\n",
       "    }\n",
       "\n",
       "    .dataframe thead th {\n",
       "        text-align: right;\n",
       "    }\n",
       "</style>\n",
       "<table border=\"1\" class=\"dataframe\">\n",
       "  <thead>\n",
       "    <tr style=\"text-align: right;\">\n",
       "      <th></th>\n",
       "      <th>talk_id</th>\n",
       "      <th>title</th>\n",
       "      <th>speaker_1</th>\n",
       "      <th>all_speakers</th>\n",
       "      <th>occupations</th>\n",
       "      <th>about_speakers</th>\n",
       "      <th>views</th>\n",
       "      <th>recorded_date</th>\n",
       "      <th>published_date</th>\n",
       "      <th>event</th>\n",
       "      <th>native_lang</th>\n",
       "      <th>available_lang</th>\n",
       "      <th>comments</th>\n",
       "      <th>duration</th>\n",
       "      <th>topics</th>\n",
       "      <th>related_talks</th>\n",
       "      <th>url</th>\n",
       "      <th>description</th>\n",
       "      <th>transcript</th>\n",
       "    </tr>\n",
       "  </thead>\n",
       "  <tbody>\n",
       "    <tr>\n",
       "      <th>count</th>\n",
       "      <td>4005.000000</td>\n",
       "      <td>4005</td>\n",
       "      <td>4005</td>\n",
       "      <td>4001</td>\n",
       "      <td>3483</td>\n",
       "      <td>3502</td>\n",
       "      <td>4.005000e+03</td>\n",
       "      <td>4004</td>\n",
       "      <td>4005</td>\n",
       "      <td>4005</td>\n",
       "      <td>4005</td>\n",
       "      <td>4005</td>\n",
       "      <td>3350.000000</td>\n",
       "      <td>4005.000000</td>\n",
       "      <td>4005</td>\n",
       "      <td>4005</td>\n",
       "      <td>4005</td>\n",
       "      <td>4005</td>\n",
       "      <td>4005</td>\n",
       "    </tr>\n",
       "    <tr>\n",
       "      <th>unique</th>\n",
       "      <td>NaN</td>\n",
       "      <td>4005</td>\n",
       "      <td>3274</td>\n",
       "      <td>3306</td>\n",
       "      <td>2049</td>\n",
       "      <td>2977</td>\n",
       "      <td>NaN</td>\n",
       "      <td>1334</td>\n",
       "      <td>2962</td>\n",
       "      <td>459</td>\n",
       "      <td>12</td>\n",
       "      <td>3902</td>\n",
       "      <td>NaN</td>\n",
       "      <td>NaN</td>\n",
       "      <td>3977</td>\n",
       "      <td>4005</td>\n",
       "      <td>4005</td>\n",
       "      <td>4005</td>\n",
       "      <td>4005</td>\n",
       "    </tr>\n",
       "    <tr>\n",
       "      <th>top</th>\n",
       "      <td>NaN</td>\n",
       "      <td>Averting the climate crisis</td>\n",
       "      <td>Alex Gendler</td>\n",
       "      <td>{0: 'Alex Gendler'}</td>\n",
       "      <td>{0: ['writer']}</td>\n",
       "      <td>{0: 'Alex Rosenthal takes everyday experiences...</td>\n",
       "      <td>NaN</td>\n",
       "      <td>2017-04-24</td>\n",
       "      <td>2017-09-07</td>\n",
       "      <td>TED-Ed</td>\n",
       "      <td>en</td>\n",
       "      <td>['en']</td>\n",
       "      <td>NaN</td>\n",
       "      <td>NaN</td>\n",
       "      <td>['TED-Ed', 'math']</td>\n",
       "      <td>{243: 'New thinking on the climate crisis', 54...</td>\n",
       "      <td>https://www.ted.com/talks/al_gore_averting_the...</td>\n",
       "      <td>With the same humor and humanity he exuded in ...</td>\n",
       "      <td>Thank you so much, Chris. And it's truly a gre...</td>\n",
       "    </tr>\n",
       "    <tr>\n",
       "      <th>freq</th>\n",
       "      <td>NaN</td>\n",
       "      <td>1</td>\n",
       "      <td>34</td>\n",
       "      <td>34</td>\n",
       "      <td>53</td>\n",
       "      <td>10</td>\n",
       "      <td>NaN</td>\n",
       "      <td>97</td>\n",
       "      <td>27</td>\n",
       "      <td>556</td>\n",
       "      <td>3957</td>\n",
       "      <td>24</td>\n",
       "      <td>NaN</td>\n",
       "      <td>NaN</td>\n",
       "      <td>8</td>\n",
       "      <td>1</td>\n",
       "      <td>1</td>\n",
       "      <td>1</td>\n",
       "      <td>1</td>\n",
       "    </tr>\n",
       "    <tr>\n",
       "      <th>mean</th>\n",
       "      <td>12432.538327</td>\n",
       "      <td>NaN</td>\n",
       "      <td>NaN</td>\n",
       "      <td>NaN</td>\n",
       "      <td>NaN</td>\n",
       "      <td>NaN</td>\n",
       "      <td>2.148006e+06</td>\n",
       "      <td>NaN</td>\n",
       "      <td>NaN</td>\n",
       "      <td>NaN</td>\n",
       "      <td>NaN</td>\n",
       "      <td>NaN</td>\n",
       "      <td>161.997015</td>\n",
       "      <td>724.011236</td>\n",
       "      <td>NaN</td>\n",
       "      <td>NaN</td>\n",
       "      <td>NaN</td>\n",
       "      <td>NaN</td>\n",
       "      <td>NaN</td>\n",
       "    </tr>\n",
       "    <tr>\n",
       "      <th>std</th>\n",
       "      <td>17447.576262</td>\n",
       "      <td>NaN</td>\n",
       "      <td>NaN</td>\n",
       "      <td>NaN</td>\n",
       "      <td>NaN</td>\n",
       "      <td>NaN</td>\n",
       "      <td>3.451226e+06</td>\n",
       "      <td>NaN</td>\n",
       "      <td>NaN</td>\n",
       "      <td>NaN</td>\n",
       "      <td>NaN</td>\n",
       "      <td>NaN</td>\n",
       "      <td>268.838922</td>\n",
       "      <td>361.775462</td>\n",
       "      <td>NaN</td>\n",
       "      <td>NaN</td>\n",
       "      <td>NaN</td>\n",
       "      <td>NaN</td>\n",
       "      <td>NaN</td>\n",
       "    </tr>\n",
       "    <tr>\n",
       "      <th>min</th>\n",
       "      <td>1.000000</td>\n",
       "      <td>NaN</td>\n",
       "      <td>NaN</td>\n",
       "      <td>NaN</td>\n",
       "      <td>NaN</td>\n",
       "      <td>NaN</td>\n",
       "      <td>0.000000e+00</td>\n",
       "      <td>NaN</td>\n",
       "      <td>NaN</td>\n",
       "      <td>NaN</td>\n",
       "      <td>NaN</td>\n",
       "      <td>NaN</td>\n",
       "      <td>0.000000</td>\n",
       "      <td>60.000000</td>\n",
       "      <td>NaN</td>\n",
       "      <td>NaN</td>\n",
       "      <td>NaN</td>\n",
       "      <td>NaN</td>\n",
       "      <td>NaN</td>\n",
       "    </tr>\n",
       "    <tr>\n",
       "      <th>25%</th>\n",
       "      <td>1252.000000</td>\n",
       "      <td>NaN</td>\n",
       "      <td>NaN</td>\n",
       "      <td>NaN</td>\n",
       "      <td>NaN</td>\n",
       "      <td>NaN</td>\n",
       "      <td>8.820690e+05</td>\n",
       "      <td>NaN</td>\n",
       "      <td>NaN</td>\n",
       "      <td>NaN</td>\n",
       "      <td>NaN</td>\n",
       "      <td>NaN</td>\n",
       "      <td>38.000000</td>\n",
       "      <td>393.000000</td>\n",
       "      <td>NaN</td>\n",
       "      <td>NaN</td>\n",
       "      <td>NaN</td>\n",
       "      <td>NaN</td>\n",
       "      <td>NaN</td>\n",
       "    </tr>\n",
       "    <tr>\n",
       "      <th>50%</th>\n",
       "      <td>2333.000000</td>\n",
       "      <td>NaN</td>\n",
       "      <td>NaN</td>\n",
       "      <td>NaN</td>\n",
       "      <td>NaN</td>\n",
       "      <td>NaN</td>\n",
       "      <td>1.375508e+06</td>\n",
       "      <td>NaN</td>\n",
       "      <td>NaN</td>\n",
       "      <td>NaN</td>\n",
       "      <td>NaN</td>\n",
       "      <td>NaN</td>\n",
       "      <td>89.000000</td>\n",
       "      <td>738.000000</td>\n",
       "      <td>NaN</td>\n",
       "      <td>NaN</td>\n",
       "      <td>NaN</td>\n",
       "      <td>NaN</td>\n",
       "      <td>NaN</td>\n",
       "    </tr>\n",
       "    <tr>\n",
       "      <th>75%</th>\n",
       "      <td>23777.000000</td>\n",
       "      <td>NaN</td>\n",
       "      <td>NaN</td>\n",
       "      <td>NaN</td>\n",
       "      <td>NaN</td>\n",
       "      <td>NaN</td>\n",
       "      <td>2.133110e+06</td>\n",
       "      <td>NaN</td>\n",
       "      <td>NaN</td>\n",
       "      <td>NaN</td>\n",
       "      <td>NaN</td>\n",
       "      <td>NaN</td>\n",
       "      <td>188.000000</td>\n",
       "      <td>974.000000</td>\n",
       "      <td>NaN</td>\n",
       "      <td>NaN</td>\n",
       "      <td>NaN</td>\n",
       "      <td>NaN</td>\n",
       "      <td>NaN</td>\n",
       "    </tr>\n",
       "    <tr>\n",
       "      <th>max</th>\n",
       "      <td>62794.000000</td>\n",
       "      <td>NaN</td>\n",
       "      <td>NaN</td>\n",
       "      <td>NaN</td>\n",
       "      <td>NaN</td>\n",
       "      <td>NaN</td>\n",
       "      <td>6.505195e+07</td>\n",
       "      <td>NaN</td>\n",
       "      <td>NaN</td>\n",
       "      <td>NaN</td>\n",
       "      <td>NaN</td>\n",
       "      <td>NaN</td>\n",
       "      <td>6449.000000</td>\n",
       "      <td>3922.000000</td>\n",
       "      <td>NaN</td>\n",
       "      <td>NaN</td>\n",
       "      <td>NaN</td>\n",
       "      <td>NaN</td>\n",
       "      <td>NaN</td>\n",
       "    </tr>\n",
       "  </tbody>\n",
       "</table>\n",
       "</div>"
      ],
      "text/plain": [
       "             talk_id                        title     speaker_1  \\\n",
       "count    4005.000000                         4005          4005   \n",
       "unique           NaN                         4005          3274   \n",
       "top              NaN  Averting the climate crisis  Alex Gendler   \n",
       "freq             NaN                            1            34   \n",
       "mean    12432.538327                          NaN           NaN   \n",
       "std     17447.576262                          NaN           NaN   \n",
       "min         1.000000                          NaN           NaN   \n",
       "25%      1252.000000                          NaN           NaN   \n",
       "50%      2333.000000                          NaN           NaN   \n",
       "75%     23777.000000                          NaN           NaN   \n",
       "max     62794.000000                          NaN           NaN   \n",
       "\n",
       "               all_speakers      occupations  \\\n",
       "count                  4001             3483   \n",
       "unique                 3306             2049   \n",
       "top     {0: 'Alex Gendler'}  {0: ['writer']}   \n",
       "freq                     34               53   \n",
       "mean                    NaN              NaN   \n",
       "std                     NaN              NaN   \n",
       "min                     NaN              NaN   \n",
       "25%                     NaN              NaN   \n",
       "50%                     NaN              NaN   \n",
       "75%                     NaN              NaN   \n",
       "max                     NaN              NaN   \n",
       "\n",
       "                                           about_speakers         views  \\\n",
       "count                                                3502  4.005000e+03   \n",
       "unique                                               2977           NaN   \n",
       "top     {0: 'Alex Rosenthal takes everyday experiences...           NaN   \n",
       "freq                                                   10           NaN   \n",
       "mean                                                  NaN  2.148006e+06   \n",
       "std                                                   NaN  3.451226e+06   \n",
       "min                                                   NaN  0.000000e+00   \n",
       "25%                                                   NaN  8.820690e+05   \n",
       "50%                                                   NaN  1.375508e+06   \n",
       "75%                                                   NaN  2.133110e+06   \n",
       "max                                                   NaN  6.505195e+07   \n",
       "\n",
       "       recorded_date published_date   event native_lang available_lang  \\\n",
       "count           4004           4005    4005        4005           4005   \n",
       "unique          1334           2962     459          12           3902   \n",
       "top       2017-04-24     2017-09-07  TED-Ed          en         ['en']   \n",
       "freq              97             27     556        3957             24   \n",
       "mean             NaN            NaN     NaN         NaN            NaN   \n",
       "std              NaN            NaN     NaN         NaN            NaN   \n",
       "min              NaN            NaN     NaN         NaN            NaN   \n",
       "25%              NaN            NaN     NaN         NaN            NaN   \n",
       "50%              NaN            NaN     NaN         NaN            NaN   \n",
       "75%              NaN            NaN     NaN         NaN            NaN   \n",
       "max              NaN            NaN     NaN         NaN            NaN   \n",
       "\n",
       "           comments     duration              topics  \\\n",
       "count   3350.000000  4005.000000                4005   \n",
       "unique          NaN          NaN                3977   \n",
       "top             NaN          NaN  ['TED-Ed', 'math']   \n",
       "freq            NaN          NaN                   8   \n",
       "mean     161.997015   724.011236                 NaN   \n",
       "std      268.838922   361.775462                 NaN   \n",
       "min        0.000000    60.000000                 NaN   \n",
       "25%       38.000000   393.000000                 NaN   \n",
       "50%       89.000000   738.000000                 NaN   \n",
       "75%      188.000000   974.000000                 NaN   \n",
       "max     6449.000000  3922.000000                 NaN   \n",
       "\n",
       "                                            related_talks  \\\n",
       "count                                                4005   \n",
       "unique                                               4005   \n",
       "top     {243: 'New thinking on the climate crisis', 54...   \n",
       "freq                                                    1   \n",
       "mean                                                  NaN   \n",
       "std                                                   NaN   \n",
       "min                                                   NaN   \n",
       "25%                                                   NaN   \n",
       "50%                                                   NaN   \n",
       "75%                                                   NaN   \n",
       "max                                                   NaN   \n",
       "\n",
       "                                                      url  \\\n",
       "count                                                4005   \n",
       "unique                                               4005   \n",
       "top     https://www.ted.com/talks/al_gore_averting_the...   \n",
       "freq                                                    1   \n",
       "mean                                                  NaN   \n",
       "std                                                   NaN   \n",
       "min                                                   NaN   \n",
       "25%                                                   NaN   \n",
       "50%                                                   NaN   \n",
       "75%                                                   NaN   \n",
       "max                                                   NaN   \n",
       "\n",
       "                                              description  \\\n",
       "count                                                4005   \n",
       "unique                                               4005   \n",
       "top     With the same humor and humanity he exuded in ...   \n",
       "freq                                                    1   \n",
       "mean                                                  NaN   \n",
       "std                                                   NaN   \n",
       "min                                                   NaN   \n",
       "25%                                                   NaN   \n",
       "50%                                                   NaN   \n",
       "75%                                                   NaN   \n",
       "max                                                   NaN   \n",
       "\n",
       "                                               transcript  \n",
       "count                                                4005  \n",
       "unique                                               4005  \n",
       "top     Thank you so much, Chris. And it's truly a gre...  \n",
       "freq                                                    1  \n",
       "mean                                                  NaN  \n",
       "std                                                   NaN  \n",
       "min                                                   NaN  \n",
       "25%                                                   NaN  \n",
       "50%                                                   NaN  \n",
       "75%                                                   NaN  \n",
       "max                                                   NaN  "
      ]
     },
     "execution_count": 10,
     "metadata": {},
     "output_type": "execute_result"
    }
   ],
   "source": [
    "# Dataset Describe\n",
    "data.describe(include='all')"
   ]
  },
  {
   "cell_type": "markdown",
   "id": "5df19135",
   "metadata": {},
   "source": [
    "#### Check Unique Values for each variable."
   ]
  },
  {
   "cell_type": "code",
   "execution_count": 11,
   "id": "b22e0972",
   "metadata": {},
   "outputs": [
    {
     "name": "stdout",
     "output_type": "stream",
     "text": [
      "talk_id           4005\n",
      "title             4005\n",
      "speaker_1         3274\n",
      "all_speakers      3306\n",
      "occupations       2049\n",
      "about_speakers    2977\n",
      "views             3996\n",
      "recorded_date     1334\n",
      "published_date    2962\n",
      "event              459\n",
      "native_lang         12\n",
      "available_lang    3902\n",
      "comments           601\n",
      "duration          1188\n",
      "topics            3977\n",
      "related_talks     4005\n",
      "url               4005\n",
      "description       4005\n",
      "transcript        4005\n",
      "dtype: int64\n"
     ]
    }
   ],
   "source": [
    "# print the number of unique values for each column\n",
    "print(data.nunique())"
   ]
  },
  {
   "cell_type": "markdown",
   "id": "02081db6",
   "metadata": {},
   "source": [
    "#### checking for Missing Value"
   ]
  },
  {
   "cell_type": "code",
   "execution_count": 12,
   "id": "015d2b7f",
   "metadata": {},
   "outputs": [
    {
     "name": "stdout",
     "output_type": "stream",
     "text": [
      "Missing Data Count\n",
      "comments          655\n",
      "occupations       522\n",
      "about_speakers    503\n",
      "all_speakers        4\n",
      "recorded_date       1\n",
      "dtype: int64\n",
      "----------------------------------------------------------------------------------------------------\n",
      "Missing Data Percentage\n",
      "comments          16.35\n",
      "occupations       13.03\n",
      "about_speakers    12.56\n",
      "all_speakers       0.10\n",
      "recorded_date      0.02\n",
      "dtype: float64\n"
     ]
    }
   ],
   "source": [
    "# Missing Value Count Function\n",
    "def show_missing():\n",
    "    missing = data.columns[data.isnull().any()].tolist()\n",
    "    return missing\n",
    "\n",
    "# Missing data counts and percentage\n",
    "print('Missing Data Count')\n",
    "print(data[show_missing()].isnull().sum().sort_values(ascending = False))\n",
    "print('--'*50)\n",
    "print('Missing Data Percentage')\n",
    "print(round(data[show_missing()].isnull().sum().sort_values(ascending = False)/len(data)*100,2))"
   ]
  },
  {
   "cell_type": "code",
   "execution_count": 13,
   "id": "3d0600dd",
   "metadata": {},
   "outputs": [],
   "source": [
    "data['occupations'].fillna(str({0:['other']}),inplace=True,axis=0)\n",
    "data['about_speakers'].fillna(str({0:''}),inplace=True,axis=0)"
   ]
  },
  {
   "cell_type": "code",
   "execution_count": 14,
   "id": "2856aef3",
   "metadata": {},
   "outputs": [
    {
     "data": {
      "text/plain": [
       "talk_id             0\n",
       "title               0\n",
       "speaker_1           0\n",
       "all_speakers        4\n",
       "occupations         0\n",
       "about_speakers      0\n",
       "views               0\n",
       "recorded_date       1\n",
       "published_date      0\n",
       "event               0\n",
       "native_lang         0\n",
       "available_lang      0\n",
       "comments          655\n",
       "duration            0\n",
       "topics              0\n",
       "related_talks       0\n",
       "url                 0\n",
       "description         0\n",
       "transcript          0\n",
       "dtype: int64"
      ]
     },
     "execution_count": 14,
     "metadata": {},
     "output_type": "execute_result"
    }
   ],
   "source": [
    "data.isnull().sum()"
   ]
  },
  {
   "cell_type": "markdown",
   "id": "369c3abb",
   "metadata": {},
   "source": [
    "## 3. Data Wrangling"
   ]
  },
  {
   "cell_type": "markdown",
   "id": "464d9203",
   "metadata": {},
   "source": [
    "#### lets divide our dataset into different category like \n",
    "- numerical\n",
    "- categorical\n",
    "- target etc.."
   ]
  },
  {
   "cell_type": "code",
   "execution_count": 15,
   "id": "4909a344",
   "metadata": {},
   "outputs": [],
   "source": [
    "numerical_features   = ['duration',]\n",
    "date_features    = ['recorded_date' , 'published_date']\n",
    "categorical_features = ['event']\n",
    "\n",
    "beta_features        = ['topics']\n",
    "text_features = ['title' , 'about_speakers' , 'occupations' , 'transcript' , 'description' ,]\n",
    "\n",
    "irrelevant_features  = ['url' , 'all_speakers' , 'speaker_1' , 'native_lang']\n",
    "missing_features = ['available_lang' , 'comments' , 'related_talks']\n",
    "\n",
    "target = ['views']"
   ]
  },
  {
   "cell_type": "code",
   "execution_count": 16,
   "id": "ddd6e360",
   "metadata": {},
   "outputs": [],
   "source": [
    "all_features = numerical_features + date_features + categorical_features + beta_features + text_features + irrelevant_features + missing_features + target\n"
   ]
  },
  {
   "cell_type": "markdown",
   "id": "89f5aeb6",
   "metadata": {},
   "source": [
    "- Now lets keep only those column in the dataset we will help our model and **which is necessary to our dataset**\n",
    "- we will exclude those columns which are **irrelevant**"
   ]
  },
  {
   "cell_type": "code",
   "execution_count": 17,
   "id": "c6c77e9d",
   "metadata": {},
   "outputs": [
    {
     "data": {
      "text/html": [
       "<div>\n",
       "<style scoped>\n",
       "    .dataframe tbody tr th:only-of-type {\n",
       "        vertical-align: middle;\n",
       "    }\n",
       "\n",
       "    .dataframe tbody tr th {\n",
       "        vertical-align: top;\n",
       "    }\n",
       "\n",
       "    .dataframe thead th {\n",
       "        text-align: right;\n",
       "    }\n",
       "</style>\n",
       "<table border=\"1\" class=\"dataframe\">\n",
       "  <thead>\n",
       "    <tr style=\"text-align: right;\">\n",
       "      <th></th>\n",
       "      <th>views</th>\n",
       "      <th>duration</th>\n",
       "      <th>recorded_date</th>\n",
       "      <th>published_date</th>\n",
       "      <th>event</th>\n",
       "      <th>topics</th>\n",
       "      <th>title</th>\n",
       "      <th>about_speakers</th>\n",
       "      <th>occupations</th>\n",
       "      <th>transcript</th>\n",
       "      <th>description</th>\n",
       "    </tr>\n",
       "  </thead>\n",
       "  <tbody>\n",
       "    <tr>\n",
       "      <th>0</th>\n",
       "      <td>3523392</td>\n",
       "      <td>977</td>\n",
       "      <td>2006-02-25</td>\n",
       "      <td>2006-06-27</td>\n",
       "      <td>TED2006</td>\n",
       "      <td>['alternative energy', 'cars', 'climate change...</td>\n",
       "      <td>Averting the climate crisis</td>\n",
       "      <td>{0: 'Nobel Laureate Al Gore focused the world’...</td>\n",
       "      <td>{0: ['climate advocate']}</td>\n",
       "      <td>Thank you so much, Chris. And it's truly a gre...</td>\n",
       "      <td>With the same humor and humanity he exuded in ...</td>\n",
       "    </tr>\n",
       "    <tr>\n",
       "      <th>1</th>\n",
       "      <td>14501685</td>\n",
       "      <td>1190</td>\n",
       "      <td>2006-02-22</td>\n",
       "      <td>2006-06-27</td>\n",
       "      <td>TED2006</td>\n",
       "      <td>['Africa', 'Asia', 'Google', 'demo', 'economic...</td>\n",
       "      <td>The best stats you've ever seen</td>\n",
       "      <td>{0: 'In Hans Rosling’s hands, data sings. Glob...</td>\n",
       "      <td>{0: ['global health expert; data visionary']}</td>\n",
       "      <td>About 10 years ago, I took on the task to teac...</td>\n",
       "      <td>You've never seen data presented like this. Wi...</td>\n",
       "    </tr>\n",
       "    <tr>\n",
       "      <th>2</th>\n",
       "      <td>1920832</td>\n",
       "      <td>1286</td>\n",
       "      <td>2006-02-24</td>\n",
       "      <td>2006-06-27</td>\n",
       "      <td>TED2006</td>\n",
       "      <td>['computers', 'entertainment', 'interface desi...</td>\n",
       "      <td>Simplicity sells</td>\n",
       "      <td>{0: 'David Pogue is the personal technology co...</td>\n",
       "      <td>{0: ['technology columnist']}</td>\n",
       "      <td>(Music: \"The Sound of Silence,\" Simon &amp; Garfun...</td>\n",
       "      <td>New York Times columnist David Pogue takes aim...</td>\n",
       "    </tr>\n",
       "    <tr>\n",
       "      <th>3</th>\n",
       "      <td>2664069</td>\n",
       "      <td>1116</td>\n",
       "      <td>2006-02-26</td>\n",
       "      <td>2006-06-27</td>\n",
       "      <td>TED2006</td>\n",
       "      <td>['MacArthur grant', 'activism', 'business', 'c...</td>\n",
       "      <td>Greening the ghetto</td>\n",
       "      <td>{0: 'Majora Carter redefined the field of envi...</td>\n",
       "      <td>{0: ['activist for environmental justice']}</td>\n",
       "      <td>If you're here today — and I'm very happy that...</td>\n",
       "      <td>In an emotionally charged talk, MacArthur-winn...</td>\n",
       "    </tr>\n",
       "    <tr>\n",
       "      <th>4</th>\n",
       "      <td>65051954</td>\n",
       "      <td>1164</td>\n",
       "      <td>2006-02-25</td>\n",
       "      <td>2006-06-27</td>\n",
       "      <td>TED2006</td>\n",
       "      <td>['children', 'creativity', 'culture', 'dance',...</td>\n",
       "      <td>Do schools kill creativity?</td>\n",
       "      <td>{0: \"Creativity expert Sir Ken Robinson challe...</td>\n",
       "      <td>{0: ['author', 'educator']}</td>\n",
       "      <td>Good morning. How are you? (Audience) Good. It...</td>\n",
       "      <td>Sir Ken Robinson makes an entertaining and pro...</td>\n",
       "    </tr>\n",
       "  </tbody>\n",
       "</table>\n",
       "</div>"
      ],
      "text/plain": [
       "      views  duration recorded_date published_date    event  \\\n",
       "0   3523392       977    2006-02-25     2006-06-27  TED2006   \n",
       "1  14501685      1190    2006-02-22     2006-06-27  TED2006   \n",
       "2   1920832      1286    2006-02-24     2006-06-27  TED2006   \n",
       "3   2664069      1116    2006-02-26     2006-06-27  TED2006   \n",
       "4  65051954      1164    2006-02-25     2006-06-27  TED2006   \n",
       "\n",
       "                                              topics  \\\n",
       "0  ['alternative energy', 'cars', 'climate change...   \n",
       "1  ['Africa', 'Asia', 'Google', 'demo', 'economic...   \n",
       "2  ['computers', 'entertainment', 'interface desi...   \n",
       "3  ['MacArthur grant', 'activism', 'business', 'c...   \n",
       "4  ['children', 'creativity', 'culture', 'dance',...   \n",
       "\n",
       "                             title  \\\n",
       "0      Averting the climate crisis   \n",
       "1  The best stats you've ever seen   \n",
       "2                 Simplicity sells   \n",
       "3              Greening the ghetto   \n",
       "4      Do schools kill creativity?   \n",
       "\n",
       "                                      about_speakers  \\\n",
       "0  {0: 'Nobel Laureate Al Gore focused the world’...   \n",
       "1  {0: 'In Hans Rosling’s hands, data sings. Glob...   \n",
       "2  {0: 'David Pogue is the personal technology co...   \n",
       "3  {0: 'Majora Carter redefined the field of envi...   \n",
       "4  {0: \"Creativity expert Sir Ken Robinson challe...   \n",
       "\n",
       "                                     occupations  \\\n",
       "0                      {0: ['climate advocate']}   \n",
       "1  {0: ['global health expert; data visionary']}   \n",
       "2                  {0: ['technology columnist']}   \n",
       "3    {0: ['activist for environmental justice']}   \n",
       "4                    {0: ['author', 'educator']}   \n",
       "\n",
       "                                          transcript  \\\n",
       "0  Thank you so much, Chris. And it's truly a gre...   \n",
       "1  About 10 years ago, I took on the task to teac...   \n",
       "2  (Music: \"The Sound of Silence,\" Simon & Garfun...   \n",
       "3  If you're here today — and I'm very happy that...   \n",
       "4  Good morning. How are you? (Audience) Good. It...   \n",
       "\n",
       "                                         description  \n",
       "0  With the same humor and humanity he exuded in ...  \n",
       "1  You've never seen data presented like this. Wi...  \n",
       "2  New York Times columnist David Pogue takes aim...  \n",
       "3  In an emotionally charged talk, MacArthur-winn...  \n",
       "4  Sir Ken Robinson makes an entertaining and pro...  "
      ]
     },
     "execution_count": 17,
     "metadata": {},
     "output_type": "execute_result"
    }
   ],
   "source": [
    "df1 = data[target + numerical_features + date_features + categorical_features + beta_features + text_features]\n",
    "df1.head()"
   ]
  },
  {
   "cell_type": "markdown",
   "id": "43a0a15d",
   "metadata": {},
   "source": [
    "- looking at the above dataset we can see **recorded_date and published_date** lets add a new column usinf these two features"
   ]
  },
  {
   "cell_type": "code",
   "execution_count": 18,
   "id": "f1064f05",
   "metadata": {},
   "outputs": [],
   "source": [
    "df1['recorded_date']  = pd.to_datetime(df1['recorded_date']  ,format='%Y-%m-%d')\n",
    "df1['published_date'] = pd.to_datetime(df1['published_date'] ,format='%Y-%m-%d')\n",
    "\n",
    "df1['days_taken_to_publish'] = df1['published_date'] - df1['recorded_date']"
   ]
  },
  {
   "cell_type": "code",
   "execution_count": 19,
   "id": "8c2a570b",
   "metadata": {},
   "outputs": [
    {
     "data": {
      "text/html": [
       "<div>\n",
       "<style scoped>\n",
       "    .dataframe tbody tr th:only-of-type {\n",
       "        vertical-align: middle;\n",
       "    }\n",
       "\n",
       "    .dataframe tbody tr th {\n",
       "        vertical-align: top;\n",
       "    }\n",
       "\n",
       "    .dataframe thead th {\n",
       "        text-align: right;\n",
       "    }\n",
       "</style>\n",
       "<table border=\"1\" class=\"dataframe\">\n",
       "  <thead>\n",
       "    <tr style=\"text-align: right;\">\n",
       "      <th></th>\n",
       "      <th>views</th>\n",
       "      <th>duration</th>\n",
       "      <th>recorded_date</th>\n",
       "      <th>published_date</th>\n",
       "      <th>event</th>\n",
       "      <th>topics</th>\n",
       "      <th>title</th>\n",
       "      <th>about_speakers</th>\n",
       "      <th>occupations</th>\n",
       "      <th>transcript</th>\n",
       "      <th>description</th>\n",
       "      <th>days_taken_to_publish</th>\n",
       "    </tr>\n",
       "  </thead>\n",
       "  <tbody>\n",
       "    <tr>\n",
       "      <th>0</th>\n",
       "      <td>3523392</td>\n",
       "      <td>977</td>\n",
       "      <td>2006-02-25</td>\n",
       "      <td>2006-06-27</td>\n",
       "      <td>TED2006</td>\n",
       "      <td>['alternative energy', 'cars', 'climate change...</td>\n",
       "      <td>Averting the climate crisis</td>\n",
       "      <td>{0: 'Nobel Laureate Al Gore focused the world’...</td>\n",
       "      <td>{0: ['climate advocate']}</td>\n",
       "      <td>Thank you so much, Chris. And it's truly a gre...</td>\n",
       "      <td>With the same humor and humanity he exuded in ...</td>\n",
       "      <td>122 days</td>\n",
       "    </tr>\n",
       "    <tr>\n",
       "      <th>1</th>\n",
       "      <td>14501685</td>\n",
       "      <td>1190</td>\n",
       "      <td>2006-02-22</td>\n",
       "      <td>2006-06-27</td>\n",
       "      <td>TED2006</td>\n",
       "      <td>['Africa', 'Asia', 'Google', 'demo', 'economic...</td>\n",
       "      <td>The best stats you've ever seen</td>\n",
       "      <td>{0: 'In Hans Rosling’s hands, data sings. Glob...</td>\n",
       "      <td>{0: ['global health expert; data visionary']}</td>\n",
       "      <td>About 10 years ago, I took on the task to teac...</td>\n",
       "      <td>You've never seen data presented like this. Wi...</td>\n",
       "      <td>125 days</td>\n",
       "    </tr>\n",
       "    <tr>\n",
       "      <th>2</th>\n",
       "      <td>1920832</td>\n",
       "      <td>1286</td>\n",
       "      <td>2006-02-24</td>\n",
       "      <td>2006-06-27</td>\n",
       "      <td>TED2006</td>\n",
       "      <td>['computers', 'entertainment', 'interface desi...</td>\n",
       "      <td>Simplicity sells</td>\n",
       "      <td>{0: 'David Pogue is the personal technology co...</td>\n",
       "      <td>{0: ['technology columnist']}</td>\n",
       "      <td>(Music: \"The Sound of Silence,\" Simon &amp; Garfun...</td>\n",
       "      <td>New York Times columnist David Pogue takes aim...</td>\n",
       "      <td>123 days</td>\n",
       "    </tr>\n",
       "    <tr>\n",
       "      <th>3</th>\n",
       "      <td>2664069</td>\n",
       "      <td>1116</td>\n",
       "      <td>2006-02-26</td>\n",
       "      <td>2006-06-27</td>\n",
       "      <td>TED2006</td>\n",
       "      <td>['MacArthur grant', 'activism', 'business', 'c...</td>\n",
       "      <td>Greening the ghetto</td>\n",
       "      <td>{0: 'Majora Carter redefined the field of envi...</td>\n",
       "      <td>{0: ['activist for environmental justice']}</td>\n",
       "      <td>If you're here today — and I'm very happy that...</td>\n",
       "      <td>In an emotionally charged talk, MacArthur-winn...</td>\n",
       "      <td>121 days</td>\n",
       "    </tr>\n",
       "    <tr>\n",
       "      <th>4</th>\n",
       "      <td>65051954</td>\n",
       "      <td>1164</td>\n",
       "      <td>2006-02-25</td>\n",
       "      <td>2006-06-27</td>\n",
       "      <td>TED2006</td>\n",
       "      <td>['children', 'creativity', 'culture', 'dance',...</td>\n",
       "      <td>Do schools kill creativity?</td>\n",
       "      <td>{0: \"Creativity expert Sir Ken Robinson challe...</td>\n",
       "      <td>{0: ['author', 'educator']}</td>\n",
       "      <td>Good morning. How are you? (Audience) Good. It...</td>\n",
       "      <td>Sir Ken Robinson makes an entertaining and pro...</td>\n",
       "      <td>122 days</td>\n",
       "    </tr>\n",
       "  </tbody>\n",
       "</table>\n",
       "</div>"
      ],
      "text/plain": [
       "      views  duration recorded_date published_date    event  \\\n",
       "0   3523392       977    2006-02-25     2006-06-27  TED2006   \n",
       "1  14501685      1190    2006-02-22     2006-06-27  TED2006   \n",
       "2   1920832      1286    2006-02-24     2006-06-27  TED2006   \n",
       "3   2664069      1116    2006-02-26     2006-06-27  TED2006   \n",
       "4  65051954      1164    2006-02-25     2006-06-27  TED2006   \n",
       "\n",
       "                                              topics  \\\n",
       "0  ['alternative energy', 'cars', 'climate change...   \n",
       "1  ['Africa', 'Asia', 'Google', 'demo', 'economic...   \n",
       "2  ['computers', 'entertainment', 'interface desi...   \n",
       "3  ['MacArthur grant', 'activism', 'business', 'c...   \n",
       "4  ['children', 'creativity', 'culture', 'dance',...   \n",
       "\n",
       "                             title  \\\n",
       "0      Averting the climate crisis   \n",
       "1  The best stats you've ever seen   \n",
       "2                 Simplicity sells   \n",
       "3              Greening the ghetto   \n",
       "4      Do schools kill creativity?   \n",
       "\n",
       "                                      about_speakers  \\\n",
       "0  {0: 'Nobel Laureate Al Gore focused the world’...   \n",
       "1  {0: 'In Hans Rosling’s hands, data sings. Glob...   \n",
       "2  {0: 'David Pogue is the personal technology co...   \n",
       "3  {0: 'Majora Carter redefined the field of envi...   \n",
       "4  {0: \"Creativity expert Sir Ken Robinson challe...   \n",
       "\n",
       "                                     occupations  \\\n",
       "0                      {0: ['climate advocate']}   \n",
       "1  {0: ['global health expert; data visionary']}   \n",
       "2                  {0: ['technology columnist']}   \n",
       "3    {0: ['activist for environmental justice']}   \n",
       "4                    {0: ['author', 'educator']}   \n",
       "\n",
       "                                          transcript  \\\n",
       "0  Thank you so much, Chris. And it's truly a gre...   \n",
       "1  About 10 years ago, I took on the task to teac...   \n",
       "2  (Music: \"The Sound of Silence,\" Simon & Garfun...   \n",
       "3  If you're here today — and I'm very happy that...   \n",
       "4  Good morning. How are you? (Audience) Good. It...   \n",
       "\n",
       "                                         description days_taken_to_publish  \n",
       "0  With the same humor and humanity he exuded in ...              122 days  \n",
       "1  You've never seen data presented like this. Wi...              125 days  \n",
       "2  New York Times columnist David Pogue takes aim...              123 days  \n",
       "3  In an emotionally charged talk, MacArthur-winn...              121 days  \n",
       "4  Sir Ken Robinson makes an entertaining and pro...              122 days  "
      ]
     },
     "execution_count": 19,
     "metadata": {},
     "output_type": "execute_result"
    }
   ],
   "source": [
    "df1.head()"
   ]
  },
  {
   "cell_type": "code",
   "execution_count": 20,
   "id": "9e43b91c",
   "metadata": {},
   "outputs": [
    {
     "data": {
      "text/plain": [
       "Timestamp('2020-04-30 00:00:00')"
      ]
     },
     "execution_count": 20,
     "metadata": {},
     "output_type": "execute_result"
    }
   ],
   "source": [
    "last_publishing_date = df1['published_date'].max()\n",
    "last_publishing_date"
   ]
  },
  {
   "cell_type": "markdown",
   "id": "ce767056",
   "metadata": {},
   "source": [
    "- it looks like my **last Timestamp was 2020-04-30**\n",
    "- lets use this feature and **create one more column**"
   ]
  },
  {
   "cell_type": "code",
   "execution_count": 21,
   "id": "582971c6",
   "metadata": {},
   "outputs": [
    {
     "data": {
      "text/html": [
       "<div>\n",
       "<style scoped>\n",
       "    .dataframe tbody tr th:only-of-type {\n",
       "        vertical-align: middle;\n",
       "    }\n",
       "\n",
       "    .dataframe tbody tr th {\n",
       "        vertical-align: top;\n",
       "    }\n",
       "\n",
       "    .dataframe thead th {\n",
       "        text-align: right;\n",
       "    }\n",
       "</style>\n",
       "<table border=\"1\" class=\"dataframe\">\n",
       "  <thead>\n",
       "    <tr style=\"text-align: right;\">\n",
       "      <th></th>\n",
       "      <th>views</th>\n",
       "      <th>duration</th>\n",
       "      <th>recorded_date</th>\n",
       "      <th>published_date</th>\n",
       "      <th>event</th>\n",
       "      <th>topics</th>\n",
       "      <th>title</th>\n",
       "      <th>about_speakers</th>\n",
       "      <th>occupations</th>\n",
       "      <th>transcript</th>\n",
       "      <th>description</th>\n",
       "      <th>days_taken_to_publish</th>\n",
       "      <th>time_since_published</th>\n",
       "    </tr>\n",
       "  </thead>\n",
       "  <tbody>\n",
       "    <tr>\n",
       "      <th>0</th>\n",
       "      <td>3523392</td>\n",
       "      <td>977</td>\n",
       "      <td>2006-02-25</td>\n",
       "      <td>2006-06-27</td>\n",
       "      <td>TED2006</td>\n",
       "      <td>['alternative energy', 'cars', 'climate change...</td>\n",
       "      <td>Averting the climate crisis</td>\n",
       "      <td>{0: 'Nobel Laureate Al Gore focused the world’...</td>\n",
       "      <td>{0: ['climate advocate']}</td>\n",
       "      <td>Thank you so much, Chris. And it's truly a gre...</td>\n",
       "      <td>With the same humor and humanity he exuded in ...</td>\n",
       "      <td>122 days</td>\n",
       "      <td>5056 days</td>\n",
       "    </tr>\n",
       "    <tr>\n",
       "      <th>1</th>\n",
       "      <td>14501685</td>\n",
       "      <td>1190</td>\n",
       "      <td>2006-02-22</td>\n",
       "      <td>2006-06-27</td>\n",
       "      <td>TED2006</td>\n",
       "      <td>['Africa', 'Asia', 'Google', 'demo', 'economic...</td>\n",
       "      <td>The best stats you've ever seen</td>\n",
       "      <td>{0: 'In Hans Rosling’s hands, data sings. Glob...</td>\n",
       "      <td>{0: ['global health expert; data visionary']}</td>\n",
       "      <td>About 10 years ago, I took on the task to teac...</td>\n",
       "      <td>You've never seen data presented like this. Wi...</td>\n",
       "      <td>125 days</td>\n",
       "      <td>5056 days</td>\n",
       "    </tr>\n",
       "    <tr>\n",
       "      <th>2</th>\n",
       "      <td>1920832</td>\n",
       "      <td>1286</td>\n",
       "      <td>2006-02-24</td>\n",
       "      <td>2006-06-27</td>\n",
       "      <td>TED2006</td>\n",
       "      <td>['computers', 'entertainment', 'interface desi...</td>\n",
       "      <td>Simplicity sells</td>\n",
       "      <td>{0: 'David Pogue is the personal technology co...</td>\n",
       "      <td>{0: ['technology columnist']}</td>\n",
       "      <td>(Music: \"The Sound of Silence,\" Simon &amp; Garfun...</td>\n",
       "      <td>New York Times columnist David Pogue takes aim...</td>\n",
       "      <td>123 days</td>\n",
       "      <td>5056 days</td>\n",
       "    </tr>\n",
       "    <tr>\n",
       "      <th>3</th>\n",
       "      <td>2664069</td>\n",
       "      <td>1116</td>\n",
       "      <td>2006-02-26</td>\n",
       "      <td>2006-06-27</td>\n",
       "      <td>TED2006</td>\n",
       "      <td>['MacArthur grant', 'activism', 'business', 'c...</td>\n",
       "      <td>Greening the ghetto</td>\n",
       "      <td>{0: 'Majora Carter redefined the field of envi...</td>\n",
       "      <td>{0: ['activist for environmental justice']}</td>\n",
       "      <td>If you're here today — and I'm very happy that...</td>\n",
       "      <td>In an emotionally charged talk, MacArthur-winn...</td>\n",
       "      <td>121 days</td>\n",
       "      <td>5056 days</td>\n",
       "    </tr>\n",
       "    <tr>\n",
       "      <th>4</th>\n",
       "      <td>65051954</td>\n",
       "      <td>1164</td>\n",
       "      <td>2006-02-25</td>\n",
       "      <td>2006-06-27</td>\n",
       "      <td>TED2006</td>\n",
       "      <td>['children', 'creativity', 'culture', 'dance',...</td>\n",
       "      <td>Do schools kill creativity?</td>\n",
       "      <td>{0: \"Creativity expert Sir Ken Robinson challe...</td>\n",
       "      <td>{0: ['author', 'educator']}</td>\n",
       "      <td>Good morning. How are you? (Audience) Good. It...</td>\n",
       "      <td>Sir Ken Robinson makes an entertaining and pro...</td>\n",
       "      <td>122 days</td>\n",
       "      <td>5056 days</td>\n",
       "    </tr>\n",
       "  </tbody>\n",
       "</table>\n",
       "</div>"
      ],
      "text/plain": [
       "      views  duration recorded_date published_date    event  \\\n",
       "0   3523392       977    2006-02-25     2006-06-27  TED2006   \n",
       "1  14501685      1190    2006-02-22     2006-06-27  TED2006   \n",
       "2   1920832      1286    2006-02-24     2006-06-27  TED2006   \n",
       "3   2664069      1116    2006-02-26     2006-06-27  TED2006   \n",
       "4  65051954      1164    2006-02-25     2006-06-27  TED2006   \n",
       "\n",
       "                                              topics  \\\n",
       "0  ['alternative energy', 'cars', 'climate change...   \n",
       "1  ['Africa', 'Asia', 'Google', 'demo', 'economic...   \n",
       "2  ['computers', 'entertainment', 'interface desi...   \n",
       "3  ['MacArthur grant', 'activism', 'business', 'c...   \n",
       "4  ['children', 'creativity', 'culture', 'dance',...   \n",
       "\n",
       "                             title  \\\n",
       "0      Averting the climate crisis   \n",
       "1  The best stats you've ever seen   \n",
       "2                 Simplicity sells   \n",
       "3              Greening the ghetto   \n",
       "4      Do schools kill creativity?   \n",
       "\n",
       "                                      about_speakers  \\\n",
       "0  {0: 'Nobel Laureate Al Gore focused the world’...   \n",
       "1  {0: 'In Hans Rosling’s hands, data sings. Glob...   \n",
       "2  {0: 'David Pogue is the personal technology co...   \n",
       "3  {0: 'Majora Carter redefined the field of envi...   \n",
       "4  {0: \"Creativity expert Sir Ken Robinson challe...   \n",
       "\n",
       "                                     occupations  \\\n",
       "0                      {0: ['climate advocate']}   \n",
       "1  {0: ['global health expert; data visionary']}   \n",
       "2                  {0: ['technology columnist']}   \n",
       "3    {0: ['activist for environmental justice']}   \n",
       "4                    {0: ['author', 'educator']}   \n",
       "\n",
       "                                          transcript  \\\n",
       "0  Thank you so much, Chris. And it's truly a gre...   \n",
       "1  About 10 years ago, I took on the task to teac...   \n",
       "2  (Music: \"The Sound of Silence,\" Simon & Garfun...   \n",
       "3  If you're here today — and I'm very happy that...   \n",
       "4  Good morning. How are you? (Audience) Good. It...   \n",
       "\n",
       "                                         description days_taken_to_publish  \\\n",
       "0  With the same humor and humanity he exuded in ...              122 days   \n",
       "1  You've never seen data presented like this. Wi...              125 days   \n",
       "2  New York Times columnist David Pogue takes aim...              123 days   \n",
       "3  In an emotionally charged talk, MacArthur-winn...              121 days   \n",
       "4  Sir Ken Robinson makes an entertaining and pro...              122 days   \n",
       "\n",
       "  time_since_published  \n",
       "0            5056 days  \n",
       "1            5056 days  \n",
       "2            5056 days  \n",
       "3            5056 days  \n",
       "4            5056 days  "
      ]
     },
     "execution_count": 21,
     "metadata": {},
     "output_type": "execute_result"
    }
   ],
   "source": [
    "df1['time_since_published'] = last_publishing_date - pd.DatetimeIndex(df1['published_date'])\n",
    "df1.head()"
   ]
  },
  {
   "cell_type": "markdown",
   "id": "75c0622a",
   "metadata": {},
   "source": [
    "Looking at the above dataset we can see **published_date** has date,month and year combine data so lets create seperate columns for each like **year,month & day**"
   ]
  },
  {
   "cell_type": "code",
   "execution_count": 22,
   "id": "0f3f07ad",
   "metadata": {},
   "outputs": [],
   "source": [
    "df1['month'] = pd.DatetimeIndex(df1['published_date']).month\n",
    "df1['month'] = df1['month'].apply(lambda x: calendar.month_abbr[x])\n",
    "df1['year'] = pd.DatetimeIndex(df1['published_date']).year\n",
    "df1['day']  = pd.DatetimeIndex(df1['published_date']).day"
   ]
  },
  {
   "cell_type": "code",
   "execution_count": 23,
   "id": "6ac348d5",
   "metadata": {},
   "outputs": [
    {
     "data": {
      "text/html": [
       "<div>\n",
       "<style scoped>\n",
       "    .dataframe tbody tr th:only-of-type {\n",
       "        vertical-align: middle;\n",
       "    }\n",
       "\n",
       "    .dataframe tbody tr th {\n",
       "        vertical-align: top;\n",
       "    }\n",
       "\n",
       "    .dataframe thead th {\n",
       "        text-align: right;\n",
       "    }\n",
       "</style>\n",
       "<table border=\"1\" class=\"dataframe\">\n",
       "  <thead>\n",
       "    <tr style=\"text-align: right;\">\n",
       "      <th></th>\n",
       "      <th>views</th>\n",
       "      <th>duration</th>\n",
       "      <th>recorded_date</th>\n",
       "      <th>published_date</th>\n",
       "      <th>event</th>\n",
       "      <th>topics</th>\n",
       "      <th>title</th>\n",
       "      <th>about_speakers</th>\n",
       "      <th>occupations</th>\n",
       "      <th>transcript</th>\n",
       "      <th>description</th>\n",
       "      <th>days_taken_to_publish</th>\n",
       "      <th>time_since_published</th>\n",
       "      <th>month</th>\n",
       "      <th>year</th>\n",
       "      <th>day</th>\n",
       "    </tr>\n",
       "  </thead>\n",
       "  <tbody>\n",
       "    <tr>\n",
       "      <th>0</th>\n",
       "      <td>3523392</td>\n",
       "      <td>977</td>\n",
       "      <td>2006-02-25</td>\n",
       "      <td>2006-06-27</td>\n",
       "      <td>TED2006</td>\n",
       "      <td>['alternative energy', 'cars', 'climate change...</td>\n",
       "      <td>Averting the climate crisis</td>\n",
       "      <td>{0: 'Nobel Laureate Al Gore focused the world’...</td>\n",
       "      <td>{0: ['climate advocate']}</td>\n",
       "      <td>Thank you so much, Chris. And it's truly a gre...</td>\n",
       "      <td>With the same humor and humanity he exuded in ...</td>\n",
       "      <td>122 days</td>\n",
       "      <td>5056 days</td>\n",
       "      <td>Jun</td>\n",
       "      <td>2006</td>\n",
       "      <td>27</td>\n",
       "    </tr>\n",
       "    <tr>\n",
       "      <th>1</th>\n",
       "      <td>14501685</td>\n",
       "      <td>1190</td>\n",
       "      <td>2006-02-22</td>\n",
       "      <td>2006-06-27</td>\n",
       "      <td>TED2006</td>\n",
       "      <td>['Africa', 'Asia', 'Google', 'demo', 'economic...</td>\n",
       "      <td>The best stats you've ever seen</td>\n",
       "      <td>{0: 'In Hans Rosling’s hands, data sings. Glob...</td>\n",
       "      <td>{0: ['global health expert; data visionary']}</td>\n",
       "      <td>About 10 years ago, I took on the task to teac...</td>\n",
       "      <td>You've never seen data presented like this. Wi...</td>\n",
       "      <td>125 days</td>\n",
       "      <td>5056 days</td>\n",
       "      <td>Jun</td>\n",
       "      <td>2006</td>\n",
       "      <td>27</td>\n",
       "    </tr>\n",
       "    <tr>\n",
       "      <th>2</th>\n",
       "      <td>1920832</td>\n",
       "      <td>1286</td>\n",
       "      <td>2006-02-24</td>\n",
       "      <td>2006-06-27</td>\n",
       "      <td>TED2006</td>\n",
       "      <td>['computers', 'entertainment', 'interface desi...</td>\n",
       "      <td>Simplicity sells</td>\n",
       "      <td>{0: 'David Pogue is the personal technology co...</td>\n",
       "      <td>{0: ['technology columnist']}</td>\n",
       "      <td>(Music: \"The Sound of Silence,\" Simon &amp; Garfun...</td>\n",
       "      <td>New York Times columnist David Pogue takes aim...</td>\n",
       "      <td>123 days</td>\n",
       "      <td>5056 days</td>\n",
       "      <td>Jun</td>\n",
       "      <td>2006</td>\n",
       "      <td>27</td>\n",
       "    </tr>\n",
       "    <tr>\n",
       "      <th>3</th>\n",
       "      <td>2664069</td>\n",
       "      <td>1116</td>\n",
       "      <td>2006-02-26</td>\n",
       "      <td>2006-06-27</td>\n",
       "      <td>TED2006</td>\n",
       "      <td>['MacArthur grant', 'activism', 'business', 'c...</td>\n",
       "      <td>Greening the ghetto</td>\n",
       "      <td>{0: 'Majora Carter redefined the field of envi...</td>\n",
       "      <td>{0: ['activist for environmental justice']}</td>\n",
       "      <td>If you're here today — and I'm very happy that...</td>\n",
       "      <td>In an emotionally charged talk, MacArthur-winn...</td>\n",
       "      <td>121 days</td>\n",
       "      <td>5056 days</td>\n",
       "      <td>Jun</td>\n",
       "      <td>2006</td>\n",
       "      <td>27</td>\n",
       "    </tr>\n",
       "    <tr>\n",
       "      <th>4</th>\n",
       "      <td>65051954</td>\n",
       "      <td>1164</td>\n",
       "      <td>2006-02-25</td>\n",
       "      <td>2006-06-27</td>\n",
       "      <td>TED2006</td>\n",
       "      <td>['children', 'creativity', 'culture', 'dance',...</td>\n",
       "      <td>Do schools kill creativity?</td>\n",
       "      <td>{0: \"Creativity expert Sir Ken Robinson challe...</td>\n",
       "      <td>{0: ['author', 'educator']}</td>\n",
       "      <td>Good morning. How are you? (Audience) Good. It...</td>\n",
       "      <td>Sir Ken Robinson makes an entertaining and pro...</td>\n",
       "      <td>122 days</td>\n",
       "      <td>5056 days</td>\n",
       "      <td>Jun</td>\n",
       "      <td>2006</td>\n",
       "      <td>27</td>\n",
       "    </tr>\n",
       "  </tbody>\n",
       "</table>\n",
       "</div>"
      ],
      "text/plain": [
       "      views  duration recorded_date published_date    event  \\\n",
       "0   3523392       977    2006-02-25     2006-06-27  TED2006   \n",
       "1  14501685      1190    2006-02-22     2006-06-27  TED2006   \n",
       "2   1920832      1286    2006-02-24     2006-06-27  TED2006   \n",
       "3   2664069      1116    2006-02-26     2006-06-27  TED2006   \n",
       "4  65051954      1164    2006-02-25     2006-06-27  TED2006   \n",
       "\n",
       "                                              topics  \\\n",
       "0  ['alternative energy', 'cars', 'climate change...   \n",
       "1  ['Africa', 'Asia', 'Google', 'demo', 'economic...   \n",
       "2  ['computers', 'entertainment', 'interface desi...   \n",
       "3  ['MacArthur grant', 'activism', 'business', 'c...   \n",
       "4  ['children', 'creativity', 'culture', 'dance',...   \n",
       "\n",
       "                             title  \\\n",
       "0      Averting the climate crisis   \n",
       "1  The best stats you've ever seen   \n",
       "2                 Simplicity sells   \n",
       "3              Greening the ghetto   \n",
       "4      Do schools kill creativity?   \n",
       "\n",
       "                                      about_speakers  \\\n",
       "0  {0: 'Nobel Laureate Al Gore focused the world’...   \n",
       "1  {0: 'In Hans Rosling’s hands, data sings. Glob...   \n",
       "2  {0: 'David Pogue is the personal technology co...   \n",
       "3  {0: 'Majora Carter redefined the field of envi...   \n",
       "4  {0: \"Creativity expert Sir Ken Robinson challe...   \n",
       "\n",
       "                                     occupations  \\\n",
       "0                      {0: ['climate advocate']}   \n",
       "1  {0: ['global health expert; data visionary']}   \n",
       "2                  {0: ['technology columnist']}   \n",
       "3    {0: ['activist for environmental justice']}   \n",
       "4                    {0: ['author', 'educator']}   \n",
       "\n",
       "                                          transcript  \\\n",
       "0  Thank you so much, Chris. And it's truly a gre...   \n",
       "1  About 10 years ago, I took on the task to teac...   \n",
       "2  (Music: \"The Sound of Silence,\" Simon & Garfun...   \n",
       "3  If you're here today — and I'm very happy that...   \n",
       "4  Good morning. How are you? (Audience) Good. It...   \n",
       "\n",
       "                                         description days_taken_to_publish  \\\n",
       "0  With the same humor and humanity he exuded in ...              122 days   \n",
       "1  You've never seen data presented like this. Wi...              125 days   \n",
       "2  New York Times columnist David Pogue takes aim...              123 days   \n",
       "3  In an emotionally charged talk, MacArthur-winn...              121 days   \n",
       "4  Sir Ken Robinson makes an entertaining and pro...              122 days   \n",
       "\n",
       "  time_since_published month  year  day  \n",
       "0            5056 days   Jun  2006   27  \n",
       "1            5056 days   Jun  2006   27  \n",
       "2            5056 days   Jun  2006   27  \n",
       "3            5056 days   Jun  2006   27  \n",
       "4            5056 days   Jun  2006   27  "
      ]
     },
     "execution_count": 23,
     "metadata": {},
     "output_type": "execute_result"
    }
   ],
   "source": [
    "df1.head()"
   ]
  },
  {
   "cell_type": "markdown",
   "id": "73011c3a",
   "metadata": {},
   "source": [
    "- looking at the above dataset we can add some more feature using **views column**"
   ]
  },
  {
   "cell_type": "markdown",
   "id": "0a542473",
   "metadata": {},
   "source": [
    "- calculating the daily average views for each row of the dataset dataframe, based on the total number of views and the number of days since the content was published"
   ]
  },
  {
   "cell_type": "code",
   "execution_count": 24,
   "id": "127fdb6e",
   "metadata": {},
   "outputs": [],
   "source": [
    "df1['daily_views'] = df1['views'] / ( df1['time_since_published'].apply(lambda x : x.days) + 1 )"
   ]
  },
  {
   "cell_type": "code",
   "execution_count": 25,
   "id": "bd37ee1e",
   "metadata": {},
   "outputs": [
    {
     "data": {
      "text/html": [
       "<div>\n",
       "<style scoped>\n",
       "    .dataframe tbody tr th:only-of-type {\n",
       "        vertical-align: middle;\n",
       "    }\n",
       "\n",
       "    .dataframe tbody tr th {\n",
       "        vertical-align: top;\n",
       "    }\n",
       "\n",
       "    .dataframe thead th {\n",
       "        text-align: right;\n",
       "    }\n",
       "</style>\n",
       "<table border=\"1\" class=\"dataframe\">\n",
       "  <thead>\n",
       "    <tr style=\"text-align: right;\">\n",
       "      <th></th>\n",
       "      <th>views</th>\n",
       "      <th>duration</th>\n",
       "      <th>recorded_date</th>\n",
       "      <th>published_date</th>\n",
       "      <th>event</th>\n",
       "      <th>topics</th>\n",
       "      <th>title</th>\n",
       "      <th>about_speakers</th>\n",
       "      <th>occupations</th>\n",
       "      <th>transcript</th>\n",
       "      <th>description</th>\n",
       "      <th>days_taken_to_publish</th>\n",
       "      <th>time_since_published</th>\n",
       "      <th>month</th>\n",
       "      <th>year</th>\n",
       "      <th>day</th>\n",
       "      <th>daily_views</th>\n",
       "    </tr>\n",
       "  </thead>\n",
       "  <tbody>\n",
       "    <tr>\n",
       "      <th>0</th>\n",
       "      <td>3523392</td>\n",
       "      <td>977</td>\n",
       "      <td>2006-02-25</td>\n",
       "      <td>2006-06-27</td>\n",
       "      <td>TED2006</td>\n",
       "      <td>['alternative energy', 'cars', 'climate change...</td>\n",
       "      <td>Averting the climate crisis</td>\n",
       "      <td>{0: 'Nobel Laureate Al Gore focused the world’...</td>\n",
       "      <td>{0: ['climate advocate']}</td>\n",
       "      <td>Thank you so much, Chris. And it's truly a gre...</td>\n",
       "      <td>With the same humor and humanity he exuded in ...</td>\n",
       "      <td>122 days</td>\n",
       "      <td>5056 days</td>\n",
       "      <td>Jun</td>\n",
       "      <td>2006</td>\n",
       "      <td>27</td>\n",
       "      <td>696.735614</td>\n",
       "    </tr>\n",
       "    <tr>\n",
       "      <th>1</th>\n",
       "      <td>14501685</td>\n",
       "      <td>1190</td>\n",
       "      <td>2006-02-22</td>\n",
       "      <td>2006-06-27</td>\n",
       "      <td>TED2006</td>\n",
       "      <td>['Africa', 'Asia', 'Google', 'demo', 'economic...</td>\n",
       "      <td>The best stats you've ever seen</td>\n",
       "      <td>{0: 'In Hans Rosling’s hands, data sings. Glob...</td>\n",
       "      <td>{0: ['global health expert; data visionary']}</td>\n",
       "      <td>About 10 years ago, I took on the task to teac...</td>\n",
       "      <td>You've never seen data presented like this. Wi...</td>\n",
       "      <td>125 days</td>\n",
       "      <td>5056 days</td>\n",
       "      <td>Jun</td>\n",
       "      <td>2006</td>\n",
       "      <td>27</td>\n",
       "      <td>2867.645837</td>\n",
       "    </tr>\n",
       "    <tr>\n",
       "      <th>2</th>\n",
       "      <td>1920832</td>\n",
       "      <td>1286</td>\n",
       "      <td>2006-02-24</td>\n",
       "      <td>2006-06-27</td>\n",
       "      <td>TED2006</td>\n",
       "      <td>['computers', 'entertainment', 'interface desi...</td>\n",
       "      <td>Simplicity sells</td>\n",
       "      <td>{0: 'David Pogue is the personal technology co...</td>\n",
       "      <td>{0: ['technology columnist']}</td>\n",
       "      <td>(Music: \"The Sound of Silence,\" Simon &amp; Garfun...</td>\n",
       "      <td>New York Times columnist David Pogue takes aim...</td>\n",
       "      <td>123 days</td>\n",
       "      <td>5056 days</td>\n",
       "      <td>Jun</td>\n",
       "      <td>2006</td>\n",
       "      <td>27</td>\n",
       "      <td>379.836267</td>\n",
       "    </tr>\n",
       "    <tr>\n",
       "      <th>3</th>\n",
       "      <td>2664069</td>\n",
       "      <td>1116</td>\n",
       "      <td>2006-02-26</td>\n",
       "      <td>2006-06-27</td>\n",
       "      <td>TED2006</td>\n",
       "      <td>['MacArthur grant', 'activism', 'business', 'c...</td>\n",
       "      <td>Greening the ghetto</td>\n",
       "      <td>{0: 'Majora Carter redefined the field of envi...</td>\n",
       "      <td>{0: ['activist for environmental justice']}</td>\n",
       "      <td>If you're here today — and I'm very happy that...</td>\n",
       "      <td>In an emotionally charged talk, MacArthur-winn...</td>\n",
       "      <td>121 days</td>\n",
       "      <td>5056 days</td>\n",
       "      <td>Jun</td>\n",
       "      <td>2006</td>\n",
       "      <td>27</td>\n",
       "      <td>526.808187</td>\n",
       "    </tr>\n",
       "    <tr>\n",
       "      <th>4</th>\n",
       "      <td>65051954</td>\n",
       "      <td>1164</td>\n",
       "      <td>2006-02-25</td>\n",
       "      <td>2006-06-27</td>\n",
       "      <td>TED2006</td>\n",
       "      <td>['children', 'creativity', 'culture', 'dance',...</td>\n",
       "      <td>Do schools kill creativity?</td>\n",
       "      <td>{0: \"Creativity expert Sir Ken Robinson challe...</td>\n",
       "      <td>{0: ['author', 'educator']}</td>\n",
       "      <td>Good morning. How are you? (Audience) Good. It...</td>\n",
       "      <td>Sir Ken Robinson makes an entertaining and pro...</td>\n",
       "      <td>122 days</td>\n",
       "      <td>5056 days</td>\n",
       "      <td>Jun</td>\n",
       "      <td>2006</td>\n",
       "      <td>27</td>\n",
       "      <td>12863.744117</td>\n",
       "    </tr>\n",
       "  </tbody>\n",
       "</table>\n",
       "</div>"
      ],
      "text/plain": [
       "      views  duration recorded_date published_date    event  \\\n",
       "0   3523392       977    2006-02-25     2006-06-27  TED2006   \n",
       "1  14501685      1190    2006-02-22     2006-06-27  TED2006   \n",
       "2   1920832      1286    2006-02-24     2006-06-27  TED2006   \n",
       "3   2664069      1116    2006-02-26     2006-06-27  TED2006   \n",
       "4  65051954      1164    2006-02-25     2006-06-27  TED2006   \n",
       "\n",
       "                                              topics  \\\n",
       "0  ['alternative energy', 'cars', 'climate change...   \n",
       "1  ['Africa', 'Asia', 'Google', 'demo', 'economic...   \n",
       "2  ['computers', 'entertainment', 'interface desi...   \n",
       "3  ['MacArthur grant', 'activism', 'business', 'c...   \n",
       "4  ['children', 'creativity', 'culture', 'dance',...   \n",
       "\n",
       "                             title  \\\n",
       "0      Averting the climate crisis   \n",
       "1  The best stats you've ever seen   \n",
       "2                 Simplicity sells   \n",
       "3              Greening the ghetto   \n",
       "4      Do schools kill creativity?   \n",
       "\n",
       "                                      about_speakers  \\\n",
       "0  {0: 'Nobel Laureate Al Gore focused the world’...   \n",
       "1  {0: 'In Hans Rosling’s hands, data sings. Glob...   \n",
       "2  {0: 'David Pogue is the personal technology co...   \n",
       "3  {0: 'Majora Carter redefined the field of envi...   \n",
       "4  {0: \"Creativity expert Sir Ken Robinson challe...   \n",
       "\n",
       "                                     occupations  \\\n",
       "0                      {0: ['climate advocate']}   \n",
       "1  {0: ['global health expert; data visionary']}   \n",
       "2                  {0: ['technology columnist']}   \n",
       "3    {0: ['activist for environmental justice']}   \n",
       "4                    {0: ['author', 'educator']}   \n",
       "\n",
       "                                          transcript  \\\n",
       "0  Thank you so much, Chris. And it's truly a gre...   \n",
       "1  About 10 years ago, I took on the task to teac...   \n",
       "2  (Music: \"The Sound of Silence,\" Simon & Garfun...   \n",
       "3  If you're here today — and I'm very happy that...   \n",
       "4  Good morning. How are you? (Audience) Good. It...   \n",
       "\n",
       "                                         description days_taken_to_publish  \\\n",
       "0  With the same humor and humanity he exuded in ...              122 days   \n",
       "1  You've never seen data presented like this. Wi...              125 days   \n",
       "2  New York Times columnist David Pogue takes aim...              123 days   \n",
       "3  In an emotionally charged talk, MacArthur-winn...              121 days   \n",
       "4  Sir Ken Robinson makes an entertaining and pro...              122 days   \n",
       "\n",
       "  time_since_published month  year  day   daily_views  \n",
       "0            5056 days   Jun  2006   27    696.735614  \n",
       "1            5056 days   Jun  2006   27   2867.645837  \n",
       "2            5056 days   Jun  2006   27    379.836267  \n",
       "3            5056 days   Jun  2006   27    526.808187  \n",
       "4            5056 days   Jun  2006   27  12863.744117  "
      ]
     },
     "execution_count": 25,
     "metadata": {},
     "output_type": "execute_result"
    }
   ],
   "source": [
    "df1.head()"
   ]
  },
  {
   "cell_type": "markdown",
   "id": "59d45abb",
   "metadata": {},
   "source": [
    "- looking at the above dataset we Add a new column using **event** column"
   ]
  },
  {
   "cell_type": "code",
   "execution_count": 26,
   "id": "8b92235a",
   "metadata": {},
   "outputs": [],
   "source": [
    "# Add a new column called 'event_TED-Ed_BE' to the dataset\n",
    "df1['event_TED-Ed_BE'] = df1['event'] == 'TED-Ed'\n",
    "\n",
    "\n",
    "# Convert the values in 'event_TED-Ed_BE' to integers\n",
    "df1['event_TED-Ed_BE'] = df1['event_TED-Ed_BE'].astype(int)"
   ]
  },
  {
   "cell_type": "markdown",
   "id": "818a4a65",
   "metadata": {},
   "source": [
    "- Looking at the above data set we can see that the column **occupations** is not cleaned data it contains numbers,string and some punctuation Same is with the **about_speakers and topics** columns also so lets clean the column using **list comprehension**"
   ]
  },
  {
   "cell_type": "code",
   "execution_count": 156,
   "id": "d8156f84",
   "metadata": {},
   "outputs": [
    {
     "ename": "AttributeError",
     "evalue": "'str' object has no attribute 'values'",
     "output_type": "error",
     "traceback": [
      "\u001b[1;31m---------------------------------------------------------------------------\u001b[0m",
      "\u001b[1;31mAttributeError\u001b[0m                            Traceback (most recent call last)",
      "Input \u001b[1;32mIn [156]\u001b[0m, in \u001b[0;36m<cell line: 1>\u001b[1;34m()\u001b[0m\n\u001b[1;32m----> 1\u001b[0m df1[\u001b[38;5;124m'\u001b[39m\u001b[38;5;124moccupations\u001b[39m\u001b[38;5;124m'\u001b[39m] \u001b[38;5;241m=\u001b[39m \u001b[43mdf1\u001b[49m\u001b[43m[\u001b[49m\u001b[38;5;124;43m'\u001b[39;49m\u001b[38;5;124;43moccupations\u001b[39;49m\u001b[38;5;124;43m'\u001b[39;49m\u001b[43m]\u001b[49m\u001b[38;5;241;43m.\u001b[39;49m\u001b[43mapply\u001b[49m\u001b[43m(\u001b[49m\u001b[38;5;28;43;01mlambda\u001b[39;49;00m\u001b[43m \u001b[49m\u001b[43mx\u001b[49m\u001b[43m \u001b[49m\u001b[43m:\u001b[49m\u001b[43m \u001b[49m\u001b[38;5;124;43m'\u001b[39;49m\u001b[38;5;124;43m \u001b[39;49m\u001b[38;5;124;43m'\u001b[39;49m\u001b[38;5;241;43m.\u001b[39;49m\u001b[43mjoin\u001b[49m\u001b[43m(\u001b[49m\u001b[43m[\u001b[49m\u001b[38;5;28;43mstr\u001b[39;49m\u001b[43m(\u001b[49m\u001b[43mitem\u001b[49m\u001b[43m)\u001b[49m\u001b[43m \u001b[49m\u001b[38;5;28;43;01mfor\u001b[39;49;00m\u001b[43m \u001b[49m\u001b[43msublist\u001b[49m\u001b[43m \u001b[49m\u001b[38;5;129;43;01min\u001b[39;49;00m\u001b[43m \u001b[49m\u001b[38;5;28;43mlist\u001b[39;49m\u001b[43m(\u001b[49m\u001b[43mx\u001b[49m\u001b[38;5;241;43m.\u001b[39;49m\u001b[43mvalues\u001b[49m\u001b[43m(\u001b[49m\u001b[43m)\u001b[49m\u001b[43m)\u001b[49m\u001b[43m \u001b[49m\u001b[38;5;28;43;01mfor\u001b[39;49;00m\u001b[43m \u001b[49m\u001b[43mitem\u001b[49m\u001b[43m \u001b[49m\u001b[38;5;129;43;01min\u001b[39;49;00m\u001b[43m \u001b[49m\u001b[43msublist\u001b[49m\u001b[43m]\u001b[49m\u001b[43m \u001b[49m\u001b[43m)\u001b[49m\u001b[43m)\u001b[49m\n",
      "File \u001b[1;32mc:\\pyver\\py_3_9_0\\lib\\site-packages\\pandas\\core\\series.py:4433\u001b[0m, in \u001b[0;36mSeries.apply\u001b[1;34m(self, func, convert_dtype, args, **kwargs)\u001b[0m\n\u001b[0;32m   4323\u001b[0m \u001b[38;5;28;01mdef\u001b[39;00m \u001b[38;5;21mapply\u001b[39m(\n\u001b[0;32m   4324\u001b[0m     \u001b[38;5;28mself\u001b[39m,\n\u001b[0;32m   4325\u001b[0m     func: AggFuncType,\n\u001b[1;32m   (...)\u001b[0m\n\u001b[0;32m   4328\u001b[0m     \u001b[38;5;241m*\u001b[39m\u001b[38;5;241m*\u001b[39mkwargs,\n\u001b[0;32m   4329\u001b[0m ) \u001b[38;5;241m-\u001b[39m\u001b[38;5;241m>\u001b[39m DataFrame \u001b[38;5;241m|\u001b[39m Series:\n\u001b[0;32m   4330\u001b[0m     \u001b[38;5;124;03m\"\"\"\u001b[39;00m\n\u001b[0;32m   4331\u001b[0m \u001b[38;5;124;03m    Invoke function on values of Series.\u001b[39;00m\n\u001b[0;32m   4332\u001b[0m \n\u001b[1;32m   (...)\u001b[0m\n\u001b[0;32m   4431\u001b[0m \u001b[38;5;124;03m    dtype: float64\u001b[39;00m\n\u001b[0;32m   4432\u001b[0m \u001b[38;5;124;03m    \"\"\"\u001b[39;00m\n\u001b[1;32m-> 4433\u001b[0m     \u001b[38;5;28;01mreturn\u001b[39;00m \u001b[43mSeriesApply\u001b[49m\u001b[43m(\u001b[49m\u001b[38;5;28;43mself\u001b[39;49m\u001b[43m,\u001b[49m\u001b[43m \u001b[49m\u001b[43mfunc\u001b[49m\u001b[43m,\u001b[49m\u001b[43m \u001b[49m\u001b[43mconvert_dtype\u001b[49m\u001b[43m,\u001b[49m\u001b[43m \u001b[49m\u001b[43margs\u001b[49m\u001b[43m,\u001b[49m\u001b[43m \u001b[49m\u001b[43mkwargs\u001b[49m\u001b[43m)\u001b[49m\u001b[38;5;241;43m.\u001b[39;49m\u001b[43mapply\u001b[49m\u001b[43m(\u001b[49m\u001b[43m)\u001b[49m\n",
      "File \u001b[1;32mc:\\pyver\\py_3_9_0\\lib\\site-packages\\pandas\\core\\apply.py:1088\u001b[0m, in \u001b[0;36mSeriesApply.apply\u001b[1;34m(self)\u001b[0m\n\u001b[0;32m   1084\u001b[0m \u001b[38;5;28;01mif\u001b[39;00m \u001b[38;5;28misinstance\u001b[39m(\u001b[38;5;28mself\u001b[39m\u001b[38;5;241m.\u001b[39mf, \u001b[38;5;28mstr\u001b[39m):\n\u001b[0;32m   1085\u001b[0m     \u001b[38;5;66;03m# if we are a string, try to dispatch\u001b[39;00m\n\u001b[0;32m   1086\u001b[0m     \u001b[38;5;28;01mreturn\u001b[39;00m \u001b[38;5;28mself\u001b[39m\u001b[38;5;241m.\u001b[39mapply_str()\n\u001b[1;32m-> 1088\u001b[0m \u001b[38;5;28;01mreturn\u001b[39;00m \u001b[38;5;28;43mself\u001b[39;49m\u001b[38;5;241;43m.\u001b[39;49m\u001b[43mapply_standard\u001b[49m\u001b[43m(\u001b[49m\u001b[43m)\u001b[49m\n",
      "File \u001b[1;32mc:\\pyver\\py_3_9_0\\lib\\site-packages\\pandas\\core\\apply.py:1143\u001b[0m, in \u001b[0;36mSeriesApply.apply_standard\u001b[1;34m(self)\u001b[0m\n\u001b[0;32m   1137\u001b[0m         values \u001b[38;5;241m=\u001b[39m obj\u001b[38;5;241m.\u001b[39mastype(\u001b[38;5;28mobject\u001b[39m)\u001b[38;5;241m.\u001b[39m_values\n\u001b[0;32m   1138\u001b[0m         \u001b[38;5;66;03m# error: Argument 2 to \"map_infer\" has incompatible type\u001b[39;00m\n\u001b[0;32m   1139\u001b[0m         \u001b[38;5;66;03m# \"Union[Callable[..., Any], str, List[Union[Callable[..., Any], str]],\u001b[39;00m\n\u001b[0;32m   1140\u001b[0m         \u001b[38;5;66;03m# Dict[Hashable, Union[Union[Callable[..., Any], str],\u001b[39;00m\n\u001b[0;32m   1141\u001b[0m         \u001b[38;5;66;03m# List[Union[Callable[..., Any], str]]]]]\"; expected\u001b[39;00m\n\u001b[0;32m   1142\u001b[0m         \u001b[38;5;66;03m# \"Callable[[Any], Any]\"\u001b[39;00m\n\u001b[1;32m-> 1143\u001b[0m         mapped \u001b[38;5;241m=\u001b[39m \u001b[43mlib\u001b[49m\u001b[38;5;241;43m.\u001b[39;49m\u001b[43mmap_infer\u001b[49m\u001b[43m(\u001b[49m\n\u001b[0;32m   1144\u001b[0m \u001b[43m            \u001b[49m\u001b[43mvalues\u001b[49m\u001b[43m,\u001b[49m\n\u001b[0;32m   1145\u001b[0m \u001b[43m            \u001b[49m\u001b[43mf\u001b[49m\u001b[43m,\u001b[49m\u001b[43m  \u001b[49m\u001b[38;5;66;43;03m# type: ignore[arg-type]\u001b[39;49;00m\n\u001b[0;32m   1146\u001b[0m \u001b[43m            \u001b[49m\u001b[43mconvert\u001b[49m\u001b[38;5;241;43m=\u001b[39;49m\u001b[38;5;28;43mself\u001b[39;49m\u001b[38;5;241;43m.\u001b[39;49m\u001b[43mconvert_dtype\u001b[49m\u001b[43m,\u001b[49m\n\u001b[0;32m   1147\u001b[0m \u001b[43m        \u001b[49m\u001b[43m)\u001b[49m\n\u001b[0;32m   1149\u001b[0m \u001b[38;5;28;01mif\u001b[39;00m \u001b[38;5;28mlen\u001b[39m(mapped) \u001b[38;5;129;01mand\u001b[39;00m \u001b[38;5;28misinstance\u001b[39m(mapped[\u001b[38;5;241m0\u001b[39m], ABCSeries):\n\u001b[0;32m   1150\u001b[0m     \u001b[38;5;66;03m# GH#43986 Need to do list(mapped) in order to get treated as nested\u001b[39;00m\n\u001b[0;32m   1151\u001b[0m     \u001b[38;5;66;03m#  See also GH#25959 regarding EA support\u001b[39;00m\n\u001b[0;32m   1152\u001b[0m     \u001b[38;5;28;01mreturn\u001b[39;00m obj\u001b[38;5;241m.\u001b[39m_constructor_expanddim(\u001b[38;5;28mlist\u001b[39m(mapped), index\u001b[38;5;241m=\u001b[39mobj\u001b[38;5;241m.\u001b[39mindex)\n",
      "File \u001b[1;32mc:\\pyver\\py_3_9_0\\lib\\site-packages\\pandas\\_libs\\lib.pyx:2870\u001b[0m, in \u001b[0;36mpandas._libs.lib.map_infer\u001b[1;34m()\u001b[0m\n",
      "Input \u001b[1;32mIn [156]\u001b[0m, in \u001b[0;36m<lambda>\u001b[1;34m(x)\u001b[0m\n\u001b[1;32m----> 1\u001b[0m df1[\u001b[38;5;124m'\u001b[39m\u001b[38;5;124moccupations\u001b[39m\u001b[38;5;124m'\u001b[39m] \u001b[38;5;241m=\u001b[39m df1[\u001b[38;5;124m'\u001b[39m\u001b[38;5;124moccupations\u001b[39m\u001b[38;5;124m'\u001b[39m]\u001b[38;5;241m.\u001b[39mapply(\u001b[38;5;28;01mlambda\u001b[39;00m x : \u001b[38;5;124m'\u001b[39m\u001b[38;5;124m \u001b[39m\u001b[38;5;124m'\u001b[39m\u001b[38;5;241m.\u001b[39mjoin([\u001b[38;5;28mstr\u001b[39m(item) \u001b[38;5;28;01mfor\u001b[39;00m sublist \u001b[38;5;129;01min\u001b[39;00m \u001b[38;5;28mlist\u001b[39m(\u001b[43mx\u001b[49m\u001b[38;5;241;43m.\u001b[39;49m\u001b[43mvalues\u001b[49m()) \u001b[38;5;28;01mfor\u001b[39;00m item \u001b[38;5;129;01min\u001b[39;00m sublist] ))\n",
      "\u001b[1;31mAttributeError\u001b[0m: 'str' object has no attribute 'values'"
     ]
    }
   ],
   "source": [
    "df1['occupations'] = df1['occupations'].apply(lambda x : ' '.join([str(item) for sublist in list(x.values()) for item in sublist] ))"
   ]
  },
  {
   "cell_type": "markdown",
   "id": "333828b7",
   "metadata": {},
   "source": [
    "- As you can see we are getting **AttributeError: 'str' object has no attribute 'values'** so to deal with this error we will use a method called **ast.literal_eval**\n"
   ]
  },
  {
   "cell_type": "code",
   "execution_count": 28,
   "id": "19ff57b3",
   "metadata": {},
   "outputs": [],
   "source": [
    "import ast\n",
    "\n",
    "df1['occupations']    = df1['occupations']    .apply(ast.literal_eval)\n",
    "df1['topics']         = df1['topics']         .apply(ast.literal_eval)\n",
    "df1['about_speakers'] = df1['about_speakers'] .apply(ast.literal_eval)"
   ]
  },
  {
   "cell_type": "code",
   "execution_count": 29,
   "id": "d76586e4",
   "metadata": {},
   "outputs": [],
   "source": [
    "df1['occupations'] = df1['occupations'].apply(lambda x : ' '.join([str(item) for sublist in list(x.values()) for item in sublist] ))"
   ]
  },
  {
   "cell_type": "code",
   "execution_count": 30,
   "id": "33f6e8d9",
   "metadata": {},
   "outputs": [],
   "source": [
    "df1['about_speakers'] = df1['about_speakers'] .apply( lambda x : ' '.join([str(elem) for elem in x.values()]) )"
   ]
  },
  {
   "cell_type": "code",
   "execution_count": 31,
   "id": "a35d3fce",
   "metadata": {},
   "outputs": [
    {
     "data": {
      "text/html": [
       "<div>\n",
       "<style scoped>\n",
       "    .dataframe tbody tr th:only-of-type {\n",
       "        vertical-align: middle;\n",
       "    }\n",
       "\n",
       "    .dataframe tbody tr th {\n",
       "        vertical-align: top;\n",
       "    }\n",
       "\n",
       "    .dataframe thead th {\n",
       "        text-align: right;\n",
       "    }\n",
       "</style>\n",
       "<table border=\"1\" class=\"dataframe\">\n",
       "  <thead>\n",
       "    <tr style=\"text-align: right;\">\n",
       "      <th></th>\n",
       "      <th>views</th>\n",
       "      <th>duration</th>\n",
       "      <th>recorded_date</th>\n",
       "      <th>published_date</th>\n",
       "      <th>event</th>\n",
       "      <th>topics</th>\n",
       "      <th>title</th>\n",
       "      <th>about_speakers</th>\n",
       "      <th>occupations</th>\n",
       "      <th>transcript</th>\n",
       "      <th>description</th>\n",
       "      <th>days_taken_to_publish</th>\n",
       "      <th>time_since_published</th>\n",
       "      <th>month</th>\n",
       "      <th>year</th>\n",
       "      <th>day</th>\n",
       "      <th>daily_views</th>\n",
       "      <th>event_TED-Ed_BE</th>\n",
       "    </tr>\n",
       "  </thead>\n",
       "  <tbody>\n",
       "    <tr>\n",
       "      <th>0</th>\n",
       "      <td>3523392</td>\n",
       "      <td>977</td>\n",
       "      <td>2006-02-25</td>\n",
       "      <td>2006-06-27</td>\n",
       "      <td>TED2006</td>\n",
       "      <td>[alternative energy, cars, climate change, cul...</td>\n",
       "      <td>Averting the climate crisis</td>\n",
       "      <td>Nobel Laureate Al Gore focused the world’s att...</td>\n",
       "      <td>climate advocate</td>\n",
       "      <td>Thank you so much, Chris. And it's truly a gre...</td>\n",
       "      <td>With the same humor and humanity he exuded in ...</td>\n",
       "      <td>122 days</td>\n",
       "      <td>5056 days</td>\n",
       "      <td>Jun</td>\n",
       "      <td>2006</td>\n",
       "      <td>27</td>\n",
       "      <td>696.735614</td>\n",
       "      <td>0</td>\n",
       "    </tr>\n",
       "    <tr>\n",
       "      <th>1</th>\n",
       "      <td>14501685</td>\n",
       "      <td>1190</td>\n",
       "      <td>2006-02-22</td>\n",
       "      <td>2006-06-27</td>\n",
       "      <td>TED2006</td>\n",
       "      <td>[Africa, Asia, Google, demo, economics, global...</td>\n",
       "      <td>The best stats you've ever seen</td>\n",
       "      <td>In Hans Rosling’s hands, data sings. Global tr...</td>\n",
       "      <td>global health expert; data visionary</td>\n",
       "      <td>About 10 years ago, I took on the task to teac...</td>\n",
       "      <td>You've never seen data presented like this. Wi...</td>\n",
       "      <td>125 days</td>\n",
       "      <td>5056 days</td>\n",
       "      <td>Jun</td>\n",
       "      <td>2006</td>\n",
       "      <td>27</td>\n",
       "      <td>2867.645837</td>\n",
       "      <td>0</td>\n",
       "    </tr>\n",
       "    <tr>\n",
       "      <th>2</th>\n",
       "      <td>1920832</td>\n",
       "      <td>1286</td>\n",
       "      <td>2006-02-24</td>\n",
       "      <td>2006-06-27</td>\n",
       "      <td>TED2006</td>\n",
       "      <td>[computers, entertainment, interface design, m...</td>\n",
       "      <td>Simplicity sells</td>\n",
       "      <td>David Pogue is the personal technology columni...</td>\n",
       "      <td>technology columnist</td>\n",
       "      <td>(Music: \"The Sound of Silence,\" Simon &amp; Garfun...</td>\n",
       "      <td>New York Times columnist David Pogue takes aim...</td>\n",
       "      <td>123 days</td>\n",
       "      <td>5056 days</td>\n",
       "      <td>Jun</td>\n",
       "      <td>2006</td>\n",
       "      <td>27</td>\n",
       "      <td>379.836267</td>\n",
       "      <td>0</td>\n",
       "    </tr>\n",
       "    <tr>\n",
       "      <th>3</th>\n",
       "      <td>2664069</td>\n",
       "      <td>1116</td>\n",
       "      <td>2006-02-26</td>\n",
       "      <td>2006-06-27</td>\n",
       "      <td>TED2006</td>\n",
       "      <td>[MacArthur grant, activism, business, cities, ...</td>\n",
       "      <td>Greening the ghetto</td>\n",
       "      <td>Majora Carter redefined the field of environme...</td>\n",
       "      <td>activist for environmental justice</td>\n",
       "      <td>If you're here today — and I'm very happy that...</td>\n",
       "      <td>In an emotionally charged talk, MacArthur-winn...</td>\n",
       "      <td>121 days</td>\n",
       "      <td>5056 days</td>\n",
       "      <td>Jun</td>\n",
       "      <td>2006</td>\n",
       "      <td>27</td>\n",
       "      <td>526.808187</td>\n",
       "      <td>0</td>\n",
       "    </tr>\n",
       "    <tr>\n",
       "      <th>4</th>\n",
       "      <td>65051954</td>\n",
       "      <td>1164</td>\n",
       "      <td>2006-02-25</td>\n",
       "      <td>2006-06-27</td>\n",
       "      <td>TED2006</td>\n",
       "      <td>[children, creativity, culture, dance, educati...</td>\n",
       "      <td>Do schools kill creativity?</td>\n",
       "      <td>Creativity expert Sir Ken Robinson challenges ...</td>\n",
       "      <td>author educator</td>\n",
       "      <td>Good morning. How are you? (Audience) Good. It...</td>\n",
       "      <td>Sir Ken Robinson makes an entertaining and pro...</td>\n",
       "      <td>122 days</td>\n",
       "      <td>5056 days</td>\n",
       "      <td>Jun</td>\n",
       "      <td>2006</td>\n",
       "      <td>27</td>\n",
       "      <td>12863.744117</td>\n",
       "      <td>0</td>\n",
       "    </tr>\n",
       "  </tbody>\n",
       "</table>\n",
       "</div>"
      ],
      "text/plain": [
       "      views  duration recorded_date published_date    event  \\\n",
       "0   3523392       977    2006-02-25     2006-06-27  TED2006   \n",
       "1  14501685      1190    2006-02-22     2006-06-27  TED2006   \n",
       "2   1920832      1286    2006-02-24     2006-06-27  TED2006   \n",
       "3   2664069      1116    2006-02-26     2006-06-27  TED2006   \n",
       "4  65051954      1164    2006-02-25     2006-06-27  TED2006   \n",
       "\n",
       "                                              topics  \\\n",
       "0  [alternative energy, cars, climate change, cul...   \n",
       "1  [Africa, Asia, Google, demo, economics, global...   \n",
       "2  [computers, entertainment, interface design, m...   \n",
       "3  [MacArthur grant, activism, business, cities, ...   \n",
       "4  [children, creativity, culture, dance, educati...   \n",
       "\n",
       "                             title  \\\n",
       "0      Averting the climate crisis   \n",
       "1  The best stats you've ever seen   \n",
       "2                 Simplicity sells   \n",
       "3              Greening the ghetto   \n",
       "4      Do schools kill creativity?   \n",
       "\n",
       "                                      about_speakers  \\\n",
       "0  Nobel Laureate Al Gore focused the world’s att...   \n",
       "1  In Hans Rosling’s hands, data sings. Global tr...   \n",
       "2  David Pogue is the personal technology columni...   \n",
       "3  Majora Carter redefined the field of environme...   \n",
       "4  Creativity expert Sir Ken Robinson challenges ...   \n",
       "\n",
       "                            occupations  \\\n",
       "0                      climate advocate   \n",
       "1  global health expert; data visionary   \n",
       "2                  technology columnist   \n",
       "3    activist for environmental justice   \n",
       "4                       author educator   \n",
       "\n",
       "                                          transcript  \\\n",
       "0  Thank you so much, Chris. And it's truly a gre...   \n",
       "1  About 10 years ago, I took on the task to teac...   \n",
       "2  (Music: \"The Sound of Silence,\" Simon & Garfun...   \n",
       "3  If you're here today — and I'm very happy that...   \n",
       "4  Good morning. How are you? (Audience) Good. It...   \n",
       "\n",
       "                                         description days_taken_to_publish  \\\n",
       "0  With the same humor and humanity he exuded in ...              122 days   \n",
       "1  You've never seen data presented like this. Wi...              125 days   \n",
       "2  New York Times columnist David Pogue takes aim...              123 days   \n",
       "3  In an emotionally charged talk, MacArthur-winn...              121 days   \n",
       "4  Sir Ken Robinson makes an entertaining and pro...              122 days   \n",
       "\n",
       "  time_since_published month  year  day   daily_views  event_TED-Ed_BE  \n",
       "0            5056 days   Jun  2006   27    696.735614                0  \n",
       "1            5056 days   Jun  2006   27   2867.645837                0  \n",
       "2            5056 days   Jun  2006   27    379.836267                0  \n",
       "3            5056 days   Jun  2006   27    526.808187                0  \n",
       "4            5056 days   Jun  2006   27  12863.744117                0  "
      ]
     },
     "execution_count": 31,
     "metadata": {},
     "output_type": "execute_result"
    }
   ],
   "source": [
    "df1.head()"
   ]
  },
  {
   "cell_type": "code",
   "execution_count": 32,
   "id": "0a92097f",
   "metadata": {},
   "outputs": [
    {
     "name": "stdout",
     "output_type": "stream",
     "text": [
      "There are 8 categorical variables\n"
     ]
    }
   ],
   "source": [
    "# find categorical variables\n",
    "categorical = [var for var in df1.columns if df1[var].dtype=='O']\n",
    "print('There are {} categorical variables'.format(len(categorical)))"
   ]
  },
  {
   "cell_type": "code",
   "execution_count": 33,
   "id": "8b7936c2",
   "metadata": {},
   "outputs": [
    {
     "name": "stdout",
     "output_type": "stream",
     "text": [
      "There are 10 numerical variables\n"
     ]
    }
   ],
   "source": [
    "# find Numerical variables\n",
    "numerical = [var for var in df1.columns if df1[var].dtype!='O']\n",
    "print('There are {} numerical variables'.format(len(numerical)))"
   ]
  },
  {
   "cell_type": "code",
   "execution_count": 34,
   "id": "5516eb24",
   "metadata": {},
   "outputs": [
    {
     "name": "stdout",
     "output_type": "stream",
     "text": [
      "<class 'str'>\n",
      "<class 'str'>\n",
      "<class 'str'>\n",
      "<class 'str'>\n",
      "<class 'str'>\n",
      "<class 'str'>\n",
      "<class 'str'>\n",
      "<class 'str'>\n",
      "<class 'str'>\n",
      "<class 'str'>\n"
     ]
    }
   ],
   "source": [
    "for element in numerical:\n",
    "    print(type(element))"
   ]
  },
  {
   "cell_type": "code",
   "execution_count": 35,
   "id": "1864ba6f",
   "metadata": {},
   "outputs": [
    {
     "name": "stdout",
     "output_type": "stream",
     "text": [
      "year  values:  [2006 2007 2008 2009 2010 2011 2012 2013 2014 2015 2016 2017 2018 2019\n",
      " 2020]\n",
      "event_TED-Ed_BE  values:  [0 1]\n",
      "There are 2 discrete variables\n"
     ]
    }
   ],
   "source": [
    "discrete = []\n",
    "for var in numerical:\n",
    "    if len(df1[var].unique())<20:\n",
    "        print(var, ' values: ', df1[var].unique())\n",
    "        discrete.append(var)\n",
    "        \n",
    "print('There are {} discrete variables'.format(len(discrete)))"
   ]
  },
  {
   "cell_type": "code",
   "execution_count": 122,
   "id": "dd82f17e",
   "metadata": {},
   "outputs": [
    {
     "data": {
      "image/png": "[encoded data removed]",
      "text/plain": [
       "<Figure size 432x288 with 1 Axes>"
      ]
     },
     "metadata": {
      "needs_background": "light"
     },
     "output_type": "display_data"
    },
    {
     "data": {
      "image/png": "[encoded data removed]",
      "text/plain": [
       "<Figure size 432x288 with 1 Axes>"
      ]
     },
     "metadata": {
      "needs_background": "light"
     },
     "output_type": "display_data"
    },
    {
     "data": {
      "image/png": "[encoded data removed]",
      "text/plain": [
       "<Figure size 432x288 with 1 Axes>"
      ]
     },
     "metadata": {
      "needs_background": "light"
     },
     "output_type": "display_data"
    },
    {
     "data": {
      "image/png": "[encoded data removed]",
      "text/plain": [
       "<Figure size 432x288 with 1 Axes>"
      ]
     },
     "metadata": {
      "needs_background": "light"
     },
     "output_type": "display_data"
    },
    {
     "data": {
      "image/png": "[encoded data removed]",
      "text/plain": [
       "<Figure size 432x288 with 1 Axes>"
      ]
     },
     "metadata": {
      "needs_background": "light"
     },
     "output_type": "display_data"
    },
    {
     "data": {
      "image/png": "[encoded data removed]",
      "text/plain": [
       "<Figure size 432x288 with 1 Axes>"
      ]
     },
     "metadata": {
      "needs_background": "light"
     },
     "output_type": "display_data"
    },
    {
     "data": {
      "image/png": "[encoded data removed]",
      "text/plain": [
       "<Figure size 432x288 with 1 Axes>"
      ]
     },
     "metadata": {
      "needs_background": "light"
     },
     "output_type": "display_data"
    }
   ],
   "source": [
    "# Chart - 1 visualization code\n",
    "continuous = [var for var in numerical if var not in discrete and var not in ['views']]\n",
    "for var in continuous:\n",
    "    plt.subplot(1, 2, 2)\n",
    "    fig = sns.distplot((df1[var].dropna()))\n",
    "    fig.set_ylabel('Number of distributions')\n",
    "    fig.set_xlabel(var)\n",
    "\n",
    "    plt.show()"
   ]
  },
  {
   "cell_type": "code",
   "execution_count": 118,
   "id": "b8e00df6",
   "metadata": {},
   "outputs": [
    {
     "data": {
      "image/png": "[encoded data removed]",
      "text/plain": [
       "<Figure size 432x288 with 1 Axes>"
      ]
     },
     "metadata": {
      "needs_background": "light"
     },
     "output_type": "display_data"
    },
    {
     "data": {
      "text/plain": [
       "<Figure size 432x288 with 0 Axes>"
      ]
     },
     "metadata": {},
     "output_type": "display_data"
    }
   ],
   "source": [
    "# It looks more normal now.\n",
    "sns.distplot((df1['duration']+1).transform(np.log),fit=None);\n",
    "fig = plt.figure()"
   ]
  },
  {
   "cell_type": "code",
   "execution_count": 123,
   "id": "5b7841a7",
   "metadata": {},
   "outputs": [
    {
     "data": {
      "image/png": "[encoded data removed]",
      "text/plain": [
       "<Figure size 432x288 with 1 Axes>"
      ]
     },
     "metadata": {
      "needs_background": "light"
     },
     "output_type": "display_data"
    },
    {
     "data": {
      "text/plain": [
       "<Figure size 432x288 with 0 Axes>"
      ]
     },
     "metadata": {},
     "output_type": "display_data"
    }
   ],
   "source": [
    "# It looks more normal now.\n",
    "sns.distplot((df1['daily_views']+1).transform(np.log),fit=None);\n",
    "fig = plt.figure()"
   ]
  },
  {
   "cell_type": "code",
   "execution_count": 140,
   "id": "79093f88",
   "metadata": {},
   "outputs": [],
   "source": [
    "# It looks more normal now.\n",
    "df1.dropna(how='all',inplace=True)"
   ]
  },
  {
   "cell_type": "code",
   "execution_count": 142,
   "id": "96c131f9",
   "metadata": {},
   "outputs": [
    {
     "data": {
      "text/plain": [
       "views                    0\n",
       "duration                 0\n",
       "recorded_date            1\n",
       "published_date           0\n",
       "event                    0\n",
       "topics                   0\n",
       "title                    0\n",
       "about_speakers           0\n",
       "occupations              0\n",
       "transcript               0\n",
       "description              0\n",
       "days_taken_to_publish    1\n",
       "time_since_published     0\n",
       "month                    0\n",
       "year                     0\n",
       "day                      0\n",
       "daily_views              0\n",
       "event_TED-Ed_BE          0\n",
       "topics_string            0\n",
       "text_corpus              0\n",
       "dtype: int64"
      ]
     },
     "execution_count": 142,
     "metadata": {},
     "output_type": "execute_result"
    }
   ],
   "source": [
    "# It looks more normal now.\n",
    "df1.isna().sum()"
   ]
  },
  {
   "cell_type": "code",
   "execution_count": 150,
   "id": "396b74d5",
   "metadata": {},
   "outputs": [
    {
     "data": {
      "text/plain": [
       "views                    0\n",
       "duration                 0\n",
       "recorded_date            0\n",
       "published_date           0\n",
       "event                    0\n",
       "topics                   0\n",
       "title                    0\n",
       "about_speakers           0\n",
       "occupations              0\n",
       "transcript               0\n",
       "description              0\n",
       "days_taken_to_publish    1\n",
       "time_since_published     0\n",
       "month                    0\n",
       "year                     0\n",
       "day                      0\n",
       "daily_views              0\n",
       "event_TED-Ed_BE          0\n",
       "topics_string            0\n",
       "text_corpus              0\n",
       "dtype: int64"
      ]
     },
     "execution_count": 150,
     "metadata": {},
     "output_type": "execute_result"
    }
   ],
   "source": [
    "df1['recorded_date'] = df1['recorded_date'].fillna(0)\n",
    "df1.isna().sum()"
   ]
  },
  {
   "cell_type": "code",
   "execution_count": 37,
   "id": "d71d2429",
   "metadata": {},
   "outputs": [
    {
     "data": {
      "image/png": "[encoded data removed]",
      "text/plain": [
       "<Figure size 1296x1152 with 1 Axes>"
      ]
     },
     "metadata": {
      "needs_background": "light"
     },
     "output_type": "display_data"
    }
   ],
   "source": [
    "#top speakers\n",
    "temp=df1.groupby(['month'],as_index=False)['daily_views'].sum().sort_values('daily_views',ascending=False)[:5]\n",
    "plt.figure(figsize=(18,16))\n",
    "ax=sns.barplot(x='month', y='daily_views',data=temp)\n",
    "plt.setp(ax.get_xticklabels(), rotation=50);\n",
    "plt.title('Top 5 months according to daily_views')\n",
    "ax.grid(False)"
   ]
  },
  {
   "cell_type": "code",
   "execution_count": 38,
   "id": "c7b9daea",
   "metadata": {},
   "outputs": [
    {
     "data": {
      "image/png": "[encoded data removed]",
      "text/plain": [
       "<Figure size 1296x1152 with 1 Axes>"
      ]
     },
     "metadata": {
      "needs_background": "light"
     },
     "output_type": "display_data"
    }
   ],
   "source": [
    "#top event\n",
    "temp=df1.groupby(['event'],as_index=False)['daily_views'].sum().sort_values('daily_views',ascending=False)[:5]\n",
    "plt.figure(figsize=(18,16))\n",
    "ax=sns.barplot(x='event', y='daily_views',data=temp)\n",
    "plt.setp(ax.get_xticklabels(), rotation=50);\n",
    "plt.title('Top 5 event according to daily_views')\n",
    "ax.grid(False)"
   ]
  },
  {
   "cell_type": "code",
   "execution_count": 39,
   "id": "cd5540fc",
   "metadata": {},
   "outputs": [
    {
     "data": {
      "image/png": "[encoded data removed]",
      "text/plain": [
       "<Figure size 1080x864 with 2 Axes>"
      ]
     },
     "metadata": {
      "needs_background": "light"
     },
     "output_type": "display_data"
    }
   ],
   "source": [
    "# Chart - 6 visualization code correlation\n",
    "plt.figure(figsize = (15, 12))\n",
    "sns.heatmap(df1.corr(), cmap=\"RdYlBu\", annot=True, fmt=\".1f\")\n",
    "plt.show()"
   ]
  },
  {
   "cell_type": "markdown",
   "id": "5f2df529",
   "metadata": {},
   "source": [
    "- Now let's see who is the **most popular TED Talker**"
   ]
  },
  {
   "cell_type": "code",
   "execution_count": 40,
   "id": "0f7740b9",
   "metadata": {},
   "outputs": [
    {
     "data": {
      "text/html": [
       "<div>\n",
       "<style scoped>\n",
       "    .dataframe tbody tr th:only-of-type {\n",
       "        vertical-align: middle;\n",
       "    }\n",
       "\n",
       "    .dataframe tbody tr th {\n",
       "        vertical-align: top;\n",
       "    }\n",
       "\n",
       "    .dataframe thead th {\n",
       "        text-align: right;\n",
       "    }\n",
       "</style>\n",
       "<table border=\"1\" class=\"dataframe\">\n",
       "  <thead>\n",
       "    <tr style=\"text-align: right;\">\n",
       "      <th></th>\n",
       "      <th>main_speaker</th>\n",
       "      <th>appearances</th>\n",
       "    </tr>\n",
       "  </thead>\n",
       "  <tbody>\n",
       "    <tr>\n",
       "      <th>104</th>\n",
       "      <td>Alex Gendler</td>\n",
       "      <td>34</td>\n",
       "    </tr>\n",
       "    <tr>\n",
       "      <th>1318</th>\n",
       "      <td>Iseult Gillespie</td>\n",
       "      <td>19</td>\n",
       "    </tr>\n",
       "    <tr>\n",
       "      <th>998</th>\n",
       "      <td>Emma Bryce</td>\n",
       "      <td>12</td>\n",
       "    </tr>\n",
       "    <tr>\n",
       "      <th>715</th>\n",
       "      <td>Daniel Finkel</td>\n",
       "      <td>11</td>\n",
       "    </tr>\n",
       "    <tr>\n",
       "      <th>1231</th>\n",
       "      <td>Hans Rosling</td>\n",
       "      <td>10</td>\n",
       "    </tr>\n",
       "    <tr>\n",
       "      <th>108</th>\n",
       "      <td>Alex Rosenthal</td>\n",
       "      <td>10</td>\n",
       "    </tr>\n",
       "    <tr>\n",
       "      <th>1638</th>\n",
       "      <td>Juan Enriquez</td>\n",
       "      <td>9</td>\n",
       "    </tr>\n",
       "    <tr>\n",
       "      <th>1196</th>\n",
       "      <td>Greg Gage</td>\n",
       "      <td>9</td>\n",
       "    </tr>\n",
       "    <tr>\n",
       "      <th>581</th>\n",
       "      <td>Chris Anderson</td>\n",
       "      <td>8</td>\n",
       "    </tr>\n",
       "    <tr>\n",
       "      <th>2000</th>\n",
       "      <td>Marco Tempest</td>\n",
       "      <td>7</td>\n",
       "    </tr>\n",
       "  </tbody>\n",
       "</table>\n",
       "</div>"
      ],
      "text/plain": [
       "          main_speaker  appearances\n",
       "104       Alex Gendler           34\n",
       "1318  Iseult Gillespie           19\n",
       "998         Emma Bryce           12\n",
       "715      Daniel Finkel           11\n",
       "1231      Hans Rosling           10\n",
       "108     Alex Rosenthal           10\n",
       "1638     Juan Enriquez            9\n",
       "1196         Greg Gage            9\n",
       "581     Chris Anderson            8\n",
       "2000     Marco Tempest            7"
      ]
     },
     "execution_count": 40,
     "metadata": {},
     "output_type": "execute_result"
    }
   ],
   "source": [
    "speaker_df = data.groupby('speaker_1').count().reset_index()[['speaker_1', 'views']]\n",
    "speaker_df.columns = ['main_speaker', 'appearances']\n",
    "speaker_df = speaker_df.sort_values('appearances', ascending=False)\n",
    "speaker_df.head(10)"
   ]
  },
  {
   "cell_type": "markdown",
   "id": "e009baca",
   "metadata": {},
   "source": [
    "- Now let's see which is the **most popular occupation appearance**"
   ]
  },
  {
   "cell_type": "code",
   "execution_count": 41,
   "id": "f20cc98b",
   "metadata": {},
   "outputs": [
    {
     "data": {
      "text/html": [
       "<div>\n",
       "<style scoped>\n",
       "    .dataframe tbody tr th:only-of-type {\n",
       "        vertical-align: middle;\n",
       "    }\n",
       "\n",
       "    .dataframe tbody tr th {\n",
       "        vertical-align: top;\n",
       "    }\n",
       "\n",
       "    .dataframe thead th {\n",
       "        text-align: right;\n",
       "    }\n",
       "</style>\n",
       "<table border=\"1\" class=\"dataframe\">\n",
       "  <thead>\n",
       "    <tr style=\"text-align: right;\">\n",
       "      <th></th>\n",
       "      <th>occupations</th>\n",
       "      <th>appearances</th>\n",
       "    </tr>\n",
       "  </thead>\n",
       "  <tbody>\n",
       "    <tr>\n",
       "      <th>1388</th>\n",
       "      <td>{0: ['other']}</td>\n",
       "      <td>522</td>\n",
       "    </tr>\n",
       "    <tr>\n",
       "      <th>2039</th>\n",
       "      <td>{0: ['writer']}</td>\n",
       "      <td>53</td>\n",
       "    </tr>\n",
       "    <tr>\n",
       "      <th>1096</th>\n",
       "      <td>{0: ['journalist']}</td>\n",
       "      <td>47</td>\n",
       "    </tr>\n",
       "    <tr>\n",
       "      <th>766</th>\n",
       "      <td>{0: ['entrepreneur']}</td>\n",
       "      <td>42</td>\n",
       "    </tr>\n",
       "    <tr>\n",
       "      <th>156</th>\n",
       "      <td>{0: ['artist']}</td>\n",
       "      <td>41</td>\n",
       "    </tr>\n",
       "    <tr>\n",
       "      <th>...</th>\n",
       "      <td>...</td>\n",
       "      <td>...</td>\n",
       "    </tr>\n",
       "    <tr>\n",
       "      <th>759</th>\n",
       "      <td>{0: ['entrepreneur', 'programmer'], 1: ['head ...</td>\n",
       "      <td>1</td>\n",
       "    </tr>\n",
       "    <tr>\n",
       "      <th>758</th>\n",
       "      <td>{0: ['entrepreneur', 'podcaster', 'storyteller']}</td>\n",
       "      <td>1</td>\n",
       "    </tr>\n",
       "    <tr>\n",
       "      <th>757</th>\n",
       "      <td>{0: ['entrepreneur', 'philanthropist'], 1: ['h...</td>\n",
       "      <td>1</td>\n",
       "    </tr>\n",
       "    <tr>\n",
       "      <th>756</th>\n",
       "      <td>{0: ['entrepreneur', 'marketer']}</td>\n",
       "      <td>1</td>\n",
       "    </tr>\n",
       "    <tr>\n",
       "      <th>1025</th>\n",
       "      <td>{0: ['infectious disease scientist'], 1: ['hea...</td>\n",
       "      <td>1</td>\n",
       "    </tr>\n",
       "  </tbody>\n",
       "</table>\n",
       "<p>2050 rows × 2 columns</p>\n",
       "</div>"
      ],
      "text/plain": [
       "                                            occupations  appearances\n",
       "1388                                     {0: ['other']}          522\n",
       "2039                                    {0: ['writer']}           53\n",
       "1096                                {0: ['journalist']}           47\n",
       "766                               {0: ['entrepreneur']}           42\n",
       "156                                     {0: ['artist']}           41\n",
       "...                                                 ...          ...\n",
       "759   {0: ['entrepreneur', 'programmer'], 1: ['head ...            1\n",
       "758   {0: ['entrepreneur', 'podcaster', 'storyteller']}            1\n",
       "757   {0: ['entrepreneur', 'philanthropist'], 1: ['h...            1\n",
       "756                   {0: ['entrepreneur', 'marketer']}            1\n",
       "1025  {0: ['infectious disease scientist'], 1: ['hea...            1\n",
       "\n",
       "[2050 rows x 2 columns]"
      ]
     },
     "execution_count": 41,
     "metadata": {},
     "output_type": "execute_result"
    }
   ],
   "source": [
    "occupation_df = data[data['occupations']!= 'unknown'].groupby('occupations').count().reset_index()[['occupations', 'views']]\n",
    "occupation_df.columns = ['occupations', 'appearances']\n",
    "occupation_df = occupation_df.sort_values('appearances', ascending=False)\n",
    "occupation_df"
   ]
  },
  {
   "cell_type": "code",
   "execution_count": 42,
   "id": "07d7fd4a",
   "metadata": {},
   "outputs": [
    {
     "data": {
      "text/plain": [
       "<AxesSubplot:xlabel='occupations', ylabel='appearances'>"
      ]
     },
     "execution_count": 42,
     "metadata": {},
     "output_type": "execute_result"
    },
    {
     "data": {
      "image/png": "[encoded data removed]",
      "text/plain": [
       "<Figure size 1080x360 with 1 Axes>"
      ]
     },
     "metadata": {
      "needs_background": "light"
     },
     "output_type": "display_data"
    }
   ],
   "source": [
    "plt.figure(figsize=(15,5))\n",
    "sns.barplot(x='occupations', y='appearances', data=occupation_df.head(10))"
   ]
  },
  {
   "cell_type": "code",
   "execution_count": 43,
   "id": "9ebfa0c0",
   "metadata": {},
   "outputs": [
    {
     "data": {
      "image/png": "[encoded data removed]",
      "text/plain": [
       "<Figure size 1080x576 with 1 Axes>"
      ]
     },
     "metadata": {
      "needs_background": "light"
     },
     "output_type": "display_data"
    }
   ],
   "source": [
    "fig, ax = plt.subplots(nrows=1, ncols=1,figsize=(15, 8))\n",
    "sns.boxplot(x='occupations', y='views', data=data[data['occupations'].isin(occupation_df.head(10)['occupations'])], palette=\"muted\", ax =ax)\n",
    "ax.set_ylim([0, 1e7])\n",
    "plt.show()"
   ]
  },
  {
   "cell_type": "code",
   "execution_count": 44,
   "id": "4763dbd3",
   "metadata": {},
   "outputs": [
    {
     "data": {
      "text/plain": [
       "Index(['views', 'duration', 'recorded_date', 'published_date', 'event',\n",
       "       'topics', 'title', 'about_speakers', 'occupations', 'transcript',\n",
       "       'description', 'days_taken_to_publish', 'time_since_published', 'month',\n",
       "       'year', 'day', 'daily_views', 'event_TED-Ed_BE'],\n",
       "      dtype='object')"
      ]
     },
     "execution_count": 44,
     "metadata": {},
     "output_type": "execute_result"
    }
   ],
   "source": [
    "df1.columns"
   ]
  },
  {
   "cell_type": "code",
   "execution_count": 45,
   "id": "c03ec374",
   "metadata": {},
   "outputs": [
    {
     "data": {
      "text/plain": [
       "0        alternative energy cars climate change cultur...\n",
       "1        Africa Asia Google demo economics global issu...\n",
       "2        computers entertainment interface design medi...\n",
       "3        MacArthur grant activism business cities envi...\n",
       "4        children creativity culture dance education p...\n",
       "                              ...                        \n",
       "4000     activism data technology mental health softwa...\n",
       "4001     TED-Ed education history animation intelligen...\n",
       "4002     society law policy justice system TEDx societ...\n",
       "4003     TED-Ed education animation United States wome...\n",
       "4004     animals TED-Ed animation oceans science educa...\n",
       "Name: text_corpus, Length: 4005, dtype: object"
      ]
     },
     "execution_count": 45,
     "metadata": {},
     "output_type": "execute_result"
    }
   ],
   "source": [
    "df1['topics_string'] = df1['topics'].apply( lambda x : ' '.join([str(elem) for elem in x]) )\n",
    "     \n",
    "\n",
    "df1['text_corpus'] = \\\n",
    "  10*(' ' + df1['topics_string']) + 10*(' ' + df1['event']) \\\n",
    "+ 10*(' ' + df1['occupations']) + df1['transcript'] + ' ' \\\n",
    "+ df1['description'] + ' ' + df1['about_speakers'] + ' ' \\\n",
    "+ 3*(' ' + df1['title'])\n",
    "\n",
    "df1['text_corpus']"
   ]
  },
  {
   "cell_type": "code",
   "execution_count": 46,
   "id": "3c5436d7",
   "metadata": {},
   "outputs": [
    {
     "data": {
      "text/html": [
       "<div>\n",
       "<style scoped>\n",
       "    .dataframe tbody tr th:only-of-type {\n",
       "        vertical-align: middle;\n",
       "    }\n",
       "\n",
       "    .dataframe tbody tr th {\n",
       "        vertical-align: top;\n",
       "    }\n",
       "\n",
       "    .dataframe thead th {\n",
       "        text-align: right;\n",
       "    }\n",
       "</style>\n",
       "<table border=\"1\" class=\"dataframe\">\n",
       "  <thead>\n",
       "    <tr style=\"text-align: right;\">\n",
       "      <th></th>\n",
       "      <th>views</th>\n",
       "      <th>duration</th>\n",
       "      <th>recorded_date</th>\n",
       "      <th>published_date</th>\n",
       "      <th>event</th>\n",
       "      <th>topics</th>\n",
       "      <th>title</th>\n",
       "      <th>about_speakers</th>\n",
       "      <th>occupations</th>\n",
       "      <th>transcript</th>\n",
       "      <th>description</th>\n",
       "      <th>days_taken_to_publish</th>\n",
       "      <th>time_since_published</th>\n",
       "      <th>month</th>\n",
       "      <th>year</th>\n",
       "      <th>day</th>\n",
       "      <th>daily_views</th>\n",
       "      <th>event_TED-Ed_BE</th>\n",
       "      <th>topics_string</th>\n",
       "      <th>text_corpus</th>\n",
       "    </tr>\n",
       "  </thead>\n",
       "  <tbody>\n",
       "    <tr>\n",
       "      <th>0</th>\n",
       "      <td>3523392</td>\n",
       "      <td>977</td>\n",
       "      <td>2006-02-25</td>\n",
       "      <td>2006-06-27</td>\n",
       "      <td>TED2006</td>\n",
       "      <td>[alternative energy, cars, climate change, cul...</td>\n",
       "      <td>Averting the climate crisis</td>\n",
       "      <td>Nobel Laureate Al Gore focused the world’s att...</td>\n",
       "      <td>climate advocate</td>\n",
       "      <td>Thank you so much, Chris. And it's truly a gre...</td>\n",
       "      <td>With the same humor and humanity he exuded in ...</td>\n",
       "      <td>122 days</td>\n",
       "      <td>5056 days</td>\n",
       "      <td>Jun</td>\n",
       "      <td>2006</td>\n",
       "      <td>27</td>\n",
       "      <td>696.735614</td>\n",
       "      <td>0</td>\n",
       "      <td>alternative energy cars climate change culture...</td>\n",
       "      <td>alternative energy cars climate change cultur...</td>\n",
       "    </tr>\n",
       "    <tr>\n",
       "      <th>1</th>\n",
       "      <td>14501685</td>\n",
       "      <td>1190</td>\n",
       "      <td>2006-02-22</td>\n",
       "      <td>2006-06-27</td>\n",
       "      <td>TED2006</td>\n",
       "      <td>[Africa, Asia, Google, demo, economics, global...</td>\n",
       "      <td>The best stats you've ever seen</td>\n",
       "      <td>In Hans Rosling’s hands, data sings. Global tr...</td>\n",
       "      <td>global health expert; data visionary</td>\n",
       "      <td>About 10 years ago, I took on the task to teac...</td>\n",
       "      <td>You've never seen data presented like this. Wi...</td>\n",
       "      <td>125 days</td>\n",
       "      <td>5056 days</td>\n",
       "      <td>Jun</td>\n",
       "      <td>2006</td>\n",
       "      <td>27</td>\n",
       "      <td>2867.645837</td>\n",
       "      <td>0</td>\n",
       "      <td>Africa Asia Google demo economics global issue...</td>\n",
       "      <td>Africa Asia Google demo economics global issu...</td>\n",
       "    </tr>\n",
       "    <tr>\n",
       "      <th>2</th>\n",
       "      <td>1920832</td>\n",
       "      <td>1286</td>\n",
       "      <td>2006-02-24</td>\n",
       "      <td>2006-06-27</td>\n",
       "      <td>TED2006</td>\n",
       "      <td>[computers, entertainment, interface design, m...</td>\n",
       "      <td>Simplicity sells</td>\n",
       "      <td>David Pogue is the personal technology columni...</td>\n",
       "      <td>technology columnist</td>\n",
       "      <td>(Music: \"The Sound of Silence,\" Simon &amp; Garfun...</td>\n",
       "      <td>New York Times columnist David Pogue takes aim...</td>\n",
       "      <td>123 days</td>\n",
       "      <td>5056 days</td>\n",
       "      <td>Jun</td>\n",
       "      <td>2006</td>\n",
       "      <td>27</td>\n",
       "      <td>379.836267</td>\n",
       "      <td>0</td>\n",
       "      <td>computers entertainment interface design media...</td>\n",
       "      <td>computers entertainment interface design medi...</td>\n",
       "    </tr>\n",
       "    <tr>\n",
       "      <th>3</th>\n",
       "      <td>2664069</td>\n",
       "      <td>1116</td>\n",
       "      <td>2006-02-26</td>\n",
       "      <td>2006-06-27</td>\n",
       "      <td>TED2006</td>\n",
       "      <td>[MacArthur grant, activism, business, cities, ...</td>\n",
       "      <td>Greening the ghetto</td>\n",
       "      <td>Majora Carter redefined the field of environme...</td>\n",
       "      <td>activist for environmental justice</td>\n",
       "      <td>If you're here today — and I'm very happy that...</td>\n",
       "      <td>In an emotionally charged talk, MacArthur-winn...</td>\n",
       "      <td>121 days</td>\n",
       "      <td>5056 days</td>\n",
       "      <td>Jun</td>\n",
       "      <td>2006</td>\n",
       "      <td>27</td>\n",
       "      <td>526.808187</td>\n",
       "      <td>0</td>\n",
       "      <td>MacArthur grant activism business cities envir...</td>\n",
       "      <td>MacArthur grant activism business cities envi...</td>\n",
       "    </tr>\n",
       "    <tr>\n",
       "      <th>4</th>\n",
       "      <td>65051954</td>\n",
       "      <td>1164</td>\n",
       "      <td>2006-02-25</td>\n",
       "      <td>2006-06-27</td>\n",
       "      <td>TED2006</td>\n",
       "      <td>[children, creativity, culture, dance, educati...</td>\n",
       "      <td>Do schools kill creativity?</td>\n",
       "      <td>Creativity expert Sir Ken Robinson challenges ...</td>\n",
       "      <td>author educator</td>\n",
       "      <td>Good morning. How are you? (Audience) Good. It...</td>\n",
       "      <td>Sir Ken Robinson makes an entertaining and pro...</td>\n",
       "      <td>122 days</td>\n",
       "      <td>5056 days</td>\n",
       "      <td>Jun</td>\n",
       "      <td>2006</td>\n",
       "      <td>27</td>\n",
       "      <td>12863.744117</td>\n",
       "      <td>0</td>\n",
       "      <td>children creativity culture dance education pa...</td>\n",
       "      <td>children creativity culture dance education p...</td>\n",
       "    </tr>\n",
       "  </tbody>\n",
       "</table>\n",
       "</div>"
      ],
      "text/plain": [
       "      views  duration recorded_date published_date    event  \\\n",
       "0   3523392       977    2006-02-25     2006-06-27  TED2006   \n",
       "1  14501685      1190    2006-02-22     2006-06-27  TED2006   \n",
       "2   1920832      1286    2006-02-24     2006-06-27  TED2006   \n",
       "3   2664069      1116    2006-02-26     2006-06-27  TED2006   \n",
       "4  65051954      1164    2006-02-25     2006-06-27  TED2006   \n",
       "\n",
       "                                              topics  \\\n",
       "0  [alternative energy, cars, climate change, cul...   \n",
       "1  [Africa, Asia, Google, demo, economics, global...   \n",
       "2  [computers, entertainment, interface design, m...   \n",
       "3  [MacArthur grant, activism, business, cities, ...   \n",
       "4  [children, creativity, culture, dance, educati...   \n",
       "\n",
       "                             title  \\\n",
       "0      Averting the climate crisis   \n",
       "1  The best stats you've ever seen   \n",
       "2                 Simplicity sells   \n",
       "3              Greening the ghetto   \n",
       "4      Do schools kill creativity?   \n",
       "\n",
       "                                      about_speakers  \\\n",
       "0  Nobel Laureate Al Gore focused the world’s att...   \n",
       "1  In Hans Rosling’s hands, data sings. Global tr...   \n",
       "2  David Pogue is the personal technology columni...   \n",
       "3  Majora Carter redefined the field of environme...   \n",
       "4  Creativity expert Sir Ken Robinson challenges ...   \n",
       "\n",
       "                            occupations  \\\n",
       "0                      climate advocate   \n",
       "1  global health expert; data visionary   \n",
       "2                  technology columnist   \n",
       "3    activist for environmental justice   \n",
       "4                       author educator   \n",
       "\n",
       "                                          transcript  \\\n",
       "0  Thank you so much, Chris. And it's truly a gre...   \n",
       "1  About 10 years ago, I took on the task to teac...   \n",
       "2  (Music: \"The Sound of Silence,\" Simon & Garfun...   \n",
       "3  If you're here today — and I'm very happy that...   \n",
       "4  Good morning. How are you? (Audience) Good. It...   \n",
       "\n",
       "                                         description days_taken_to_publish  \\\n",
       "0  With the same humor and humanity he exuded in ...              122 days   \n",
       "1  You've never seen data presented like this. Wi...              125 days   \n",
       "2  New York Times columnist David Pogue takes aim...              123 days   \n",
       "3  In an emotionally charged talk, MacArthur-winn...              121 days   \n",
       "4  Sir Ken Robinson makes an entertaining and pro...              122 days   \n",
       "\n",
       "  time_since_published month  year  day   daily_views  event_TED-Ed_BE  \\\n",
       "0            5056 days   Jun  2006   27    696.735614                0   \n",
       "1            5056 days   Jun  2006   27   2867.645837                0   \n",
       "2            5056 days   Jun  2006   27    379.836267                0   \n",
       "3            5056 days   Jun  2006   27    526.808187                0   \n",
       "4            5056 days   Jun  2006   27  12863.744117                0   \n",
       "\n",
       "                                       topics_string  \\\n",
       "0  alternative energy cars climate change culture...   \n",
       "1  Africa Asia Google demo economics global issue...   \n",
       "2  computers entertainment interface design media...   \n",
       "3  MacArthur grant activism business cities envir...   \n",
       "4  children creativity culture dance education pa...   \n",
       "\n",
       "                                         text_corpus  \n",
       "0   alternative energy cars climate change cultur...  \n",
       "1   Africa Asia Google demo economics global issu...  \n",
       "2   computers entertainment interface design medi...  \n",
       "3   MacArthur grant activism business cities envi...  \n",
       "4   children creativity culture dance education p...  "
      ]
     },
     "execution_count": 46,
     "metadata": {},
     "output_type": "execute_result"
    }
   ],
   "source": [
    "df1.head()"
   ]
  },
  {
   "cell_type": "markdown",
   "id": "ce7c42cc",
   "metadata": {},
   "source": [
    "### saving the new data"
   ]
  },
  {
   "cell_type": "code",
   "execution_count": 47,
   "id": "6930bf24",
   "metadata": {},
   "outputs": [],
   "source": [
    "filepath = 'cleaned_data_all.csv'\n",
    "\n",
    "df1.to_csv(filepath)"
   ]
  },
  {
   "cell_type": "code",
   "execution_count": 48,
   "id": "5e3de4d4",
   "metadata": {},
   "outputs": [],
   "source": [
    "filepath = 'cleaned_data_NLP.csv'\n",
    "\n",
    "dataset_nlp = df1[[\n",
    " 'daily_views',\n",
    " 'duration',\n",
    " 'event_TED-Ed_BE',\n",
    " 'days_taken_to_publish',\n",
    " 'time_since_published',\n",
    " 'text_corpus']]\n",
    " \n",
    "dataset_nlp.to_csv(filepath)"
   ]
  },
  {
   "cell_type": "code",
   "execution_count": 49,
   "id": "f18ba083",
   "metadata": {},
   "outputs": [
    {
     "data": {
      "text/html": [
       "<div>\n",
       "<style scoped>\n",
       "    .dataframe tbody tr th:only-of-type {\n",
       "        vertical-align: middle;\n",
       "    }\n",
       "\n",
       "    .dataframe tbody tr th {\n",
       "        vertical-align: top;\n",
       "    }\n",
       "\n",
       "    .dataframe thead th {\n",
       "        text-align: right;\n",
       "    }\n",
       "</style>\n",
       "<table border=\"1\" class=\"dataframe\">\n",
       "  <thead>\n",
       "    <tr style=\"text-align: right;\">\n",
       "      <th></th>\n",
       "      <th>Unnamed: 0</th>\n",
       "      <th>daily_views</th>\n",
       "      <th>duration</th>\n",
       "      <th>event_TED-Ed_BE</th>\n",
       "      <th>days_taken_to_publish</th>\n",
       "      <th>time_since_published</th>\n",
       "      <th>text_corpus</th>\n",
       "    </tr>\n",
       "  </thead>\n",
       "  <tbody>\n",
       "    <tr>\n",
       "      <th>0</th>\n",
       "      <td>0</td>\n",
       "      <td>696.735614</td>\n",
       "      <td>977</td>\n",
       "      <td>0</td>\n",
       "      <td>122 days</td>\n",
       "      <td>5056 days</td>\n",
       "      <td>alternative energy cars climate change cultur...</td>\n",
       "    </tr>\n",
       "    <tr>\n",
       "      <th>1</th>\n",
       "      <td>1</td>\n",
       "      <td>2867.645837</td>\n",
       "      <td>1190</td>\n",
       "      <td>0</td>\n",
       "      <td>125 days</td>\n",
       "      <td>5056 days</td>\n",
       "      <td>Africa Asia Google demo economics global issu...</td>\n",
       "    </tr>\n",
       "    <tr>\n",
       "      <th>2</th>\n",
       "      <td>2</td>\n",
       "      <td>379.836267</td>\n",
       "      <td>1286</td>\n",
       "      <td>0</td>\n",
       "      <td>123 days</td>\n",
       "      <td>5056 days</td>\n",
       "      <td>computers entertainment interface design medi...</td>\n",
       "    </tr>\n",
       "    <tr>\n",
       "      <th>3</th>\n",
       "      <td>3</td>\n",
       "      <td>526.808187</td>\n",
       "      <td>1116</td>\n",
       "      <td>0</td>\n",
       "      <td>121 days</td>\n",
       "      <td>5056 days</td>\n",
       "      <td>MacArthur grant activism business cities envi...</td>\n",
       "    </tr>\n",
       "    <tr>\n",
       "      <th>4</th>\n",
       "      <td>4</td>\n",
       "      <td>12863.744117</td>\n",
       "      <td>1164</td>\n",
       "      <td>0</td>\n",
       "      <td>122 days</td>\n",
       "      <td>5056 days</td>\n",
       "      <td>children creativity culture dance education p...</td>\n",
       "    </tr>\n",
       "  </tbody>\n",
       "</table>\n",
       "</div>"
      ],
      "text/plain": [
       "   Unnamed: 0   daily_views  duration  event_TED-Ed_BE days_taken_to_publish  \\\n",
       "0           0    696.735614       977                0              122 days   \n",
       "1           1   2867.645837      1190                0              125 days   \n",
       "2           2    379.836267      1286                0              123 days   \n",
       "3           3    526.808187      1116                0              121 days   \n",
       "4           4  12863.744117      1164                0              122 days   \n",
       "\n",
       "  time_since_published                                        text_corpus  \n",
       "0            5056 days   alternative energy cars climate change cultur...  \n",
       "1            5056 days   Africa Asia Google demo economics global issu...  \n",
       "2            5056 days   computers entertainment interface design medi...  \n",
       "3            5056 days   MacArthur grant activism business cities envi...  \n",
       "4            5056 days   children creativity culture dance education p...  "
      ]
     },
     "execution_count": 49,
     "metadata": {},
     "output_type": "execute_result"
    }
   ],
   "source": [
    "dataset_nlp = pd.read_csv('cleaned_data_NLP.csv')\n",
    "dataset_nlp.head()"
   ]
  },
  {
   "cell_type": "markdown",
   "id": "e49f6701",
   "metadata": {},
   "source": [
    "#### importing library"
   ]
  },
  {
   "cell_type": "code",
   "execution_count": 50,
   "id": "b40158ea",
   "metadata": {},
   "outputs": [],
   "source": [
    "import re, string, unicodedata\n",
    "import missingno as mno\n",
    "import ast\n",
    "import string\n",
    "     \n",
    "\n",
    "from keras.preprocessing.text import Tokenizer\n",
    "from sklearn.feature_extraction.text import TfidfVectorizer"
   ]
  },
  {
   "cell_type": "code",
   "execution_count": 51,
   "id": "bd57b38b",
   "metadata": {},
   "outputs": [],
   "source": [
    "#!pip install word2number\n",
    "from word2number import w2n"
   ]
  },
  {
   "cell_type": "code",
   "execution_count": 52,
   "id": "0590b649",
   "metadata": {},
   "outputs": [],
   "source": [
    "#!pip install contractions\n",
    "import contractions"
   ]
  },
  {
   "cell_type": "code",
   "execution_count": 53,
   "id": "95e257c4",
   "metadata": {},
   "outputs": [
    {
     "name": "stderr",
     "output_type": "stream",
     "text": [
      "[nltk_data] Downloading package omw-1.4 to\n",
      "[nltk_data]     C:\\Users\\vijay\\AppData\\Roaming\\nltk_data...\n",
      "[nltk_data]   Package omw-1.4 is already up-to-date!\n"
     ]
    },
    {
     "data": {
      "text/plain": [
       "True"
      ]
     },
     "execution_count": 53,
     "metadata": {},
     "output_type": "execute_result"
    }
   ],
   "source": [
    "import nltk\n",
    "nltk.download(\"omw-1.4\")"
   ]
  },
  {
   "cell_type": "code",
   "execution_count": 54,
   "id": "1d7b90bc",
   "metadata": {},
   "outputs": [
    {
     "name": "stderr",
     "output_type": "stream",
     "text": [
      "[nltk_data] Downloading package stopwords to\n",
      "[nltk_data]     C:\\Users\\vijay\\AppData\\Roaming\\nltk_data...\n",
      "[nltk_data]   Package stopwords is already up-to-date!\n",
      "[nltk_data] Downloading package wordnet to\n",
      "[nltk_data]     C:\\Users\\vijay\\AppData\\Roaming\\nltk_data...\n",
      "[nltk_data]   Package wordnet is already up-to-date!\n"
     ]
    }
   ],
   "source": [
    "nltk.download('stopwords')\n",
    "nltk.download('wordnet')\n",
    "\n",
    "#import inflect\n",
    "from nltk.corpus import stopwords\n",
    "# from nltk.stem import WordNetLemmatizer\n",
    "from nltk.stem.snowball import SnowballStemmer\n",
    "from nltk.stem import LancasterStemmer, WordNetLemmatizer\n",
    "\n",
    "from nltk import word_tokenize, sent_tokenize\n",
    "from nltk.corpus import stopwords\n",
    "\n",
    "wordnet=WordNetLemmatizer()"
   ]
  },
  {
   "cell_type": "code",
   "execution_count": 55,
   "id": "1d77c695",
   "metadata": {},
   "outputs": [
    {
     "data": {
      "text/plain": [
       "array(['i', 'me', 'my', 'myself', 'we', 'our', 'ours', 'ourselves', 'you',\n",
       "       \"you're\", \"you've\", \"you'll\", \"you'd\", 'your', 'yours', 'yourself',\n",
       "       'yourselves', 'he', 'him', 'his', 'himself', 'she', \"she's\", 'her',\n",
       "       'hers', 'herself', 'it', \"it's\", 'its', 'itself', 'they', 'them',\n",
       "       'their', 'theirs', 'themselves', 'what', 'which', 'who', 'whom',\n",
       "       'this', 'that', \"that'll\", 'these', 'those', 'am', 'is', 'are',\n",
       "       'was', 'were', 'be', 'been', 'being', 'have', 'has', 'had',\n",
       "       'having', 'do', 'does', 'did', 'doing', 'a', 'an', 'the', 'and',\n",
       "       'but', 'if', 'or', 'because', 'as', 'until', 'while', 'of', 'at',\n",
       "       'by', 'for', 'with', 'about', 'against', 'between', 'into',\n",
       "       'through', 'during', 'before', 'after', 'above', 'below', 'to',\n",
       "       'from', 'up', 'down', 'in', 'out', 'on', 'off', 'over', 'under',\n",
       "       'again', 'further', 'then', 'once', 'here', 'there', 'when',\n",
       "       'where', 'why', 'how', 'all', 'any', 'both', 'each', 'few', 'more',\n",
       "       'most', 'other', 'some', 'such', 'no', 'nor', 'not', 'only', 'own',\n",
       "       'same', 'so', 'than', 'too', 'very', 's', 't', 'can', 'will',\n",
       "       'just', 'don', \"don't\", 'should', \"should've\", 'now', 'd', 'll',\n",
       "       'm', 'o', 're', 've', 'y', 'ain', 'aren', \"aren't\", 'couldn',\n",
       "       \"couldn't\", 'didn', \"didn't\", 'doesn', \"doesn't\", 'hadn', \"hadn't\",\n",
       "       'hasn', \"hasn't\", 'haven', \"haven't\", 'isn', \"isn't\", 'ma',\n",
       "       'mightn', \"mightn't\", 'mustn', \"mustn't\", 'needn', \"needn't\",\n",
       "       'shan', \"shan't\", 'shouldn', \"shouldn't\", 'wasn', \"wasn't\",\n",
       "       'weren', \"weren't\", 'won', \"won't\", 'wouldn', \"wouldn't\"],\n",
       "      dtype='<U10')"
      ]
     },
     "execution_count": 55,
     "metadata": {},
     "output_type": "execute_result"
    }
   ],
   "source": [
    "# extracting the stopwords from nltk library\n",
    "sw = stopwords.words('english')\n",
    "# displaying the stopwords\n",
    "np.array(sw)"
   ]
  },
  {
   "cell_type": "markdown",
   "id": "11cbfd0e",
   "metadata": {},
   "source": [
    "#### building text cleaning functions"
   ]
  },
  {
   "cell_type": "code",
   "execution_count": 56,
   "id": "286365a4",
   "metadata": {},
   "outputs": [],
   "source": [
    "def remove_punctuation(text):\n",
    "  # creating an empty list\n",
    "  expanded_words = []    \n",
    "  for word in text.split():\n",
    "    # using contractions.fix to expand the shotened words\n",
    "    expanded_words.append(contractions.fix(word))   \n",
    "      \n",
    "  expanded_text = ' '.join(expanded_words)\n",
    "  no_punct=expanded_text.translate(str.maketrans('', '', string.punctuation))\n",
    "\n",
    "  return no_punct"
   ]
  },
  {
   "cell_type": "code",
   "execution_count": 57,
   "id": "08d7fbf3",
   "metadata": {},
   "outputs": [
    {
     "data": {
      "text/plain": [
       "0    alternative energy cars climate change culture...\n",
       "Name: text_corpus, dtype: object"
      ]
     },
     "execution_count": 57,
     "metadata": {},
     "output_type": "execute_result"
    }
   ],
   "source": [
    "dataset_nlp['text_corpus'] = dataset_nlp['text_corpus'].apply(remove_punctuation)\n",
    "dataset_nlp.head(1).text_corpus"
   ]
  },
  {
   "cell_type": "code",
   "execution_count": 58,
   "id": "60d3cb17",
   "metadata": {},
   "outputs": [],
   "source": [
    "def remove_punctuation_2(text):\n",
    "  '''a function for removing punctuation'''\n",
    "  text=re.sub(\"[^a-zA-Z]\",\" \",text)\n",
    "  for word in text.split():\n",
    "    try:\n",
    "      w2n.word_to_num(word)\n",
    "    except:\n",
    "      continue\n",
    "  # replacing the punctuations with no space, \n",
    "  # which in effect deletes the punctuation marks \n",
    "  translator = str.maketrans('', '', string.punctuation)\n",
    "  # return the text stripped of punctuation marks\n",
    "  return text.translate(translator)"
   ]
  },
  {
   "cell_type": "code",
   "execution_count": 59,
   "id": "da0b511b",
   "metadata": {},
   "outputs": [
    {
     "data": {
      "text/plain": [
       "0    alternative energy cars climate change culture...\n",
       "Name: text_corpus, dtype: object"
      ]
     },
     "execution_count": 59,
     "metadata": {},
     "output_type": "execute_result"
    }
   ],
   "source": [
    "dataset_nlp['text_corpus'] = dataset_nlp['text_corpus'].apply(remove_punctuation_2)\n",
    "dataset_nlp.head(1).text_corpus"
   ]
  },
  {
   "cell_type": "code",
   "execution_count": 60,
   "id": "f9165601",
   "metadata": {},
   "outputs": [],
   "source": [
    "def remove_stopwords(text):\n",
    "  '''a function for removing the stopword'''\n",
    "  # removing the stop words and lowercasing the selected words\n",
    "  text = [wordnet.lemmatize(word.lower()) for word in text.split() if word.lower() not in sw]\n",
    "  # joining the list of words with space separator\n",
    "  return \" \".join(text)"
   ]
  },
  {
   "cell_type": "code",
   "execution_count": 61,
   "id": "c49e1b1d",
   "metadata": {},
   "outputs": [
    {
     "data": {
      "text/plain": [
       "0    alternative energy car climate change culture ...\n",
       "Name: text_corpus, dtype: object"
      ]
     },
     "execution_count": 61,
     "metadata": {},
     "output_type": "execute_result"
    }
   ],
   "source": [
    "dataset_nlp['text_corpus'] = dataset_nlp['text_corpus'].apply(remove_stopwords)\n",
    "dataset_nlp.head(1).text_corpus"
   ]
  },
  {
   "cell_type": "markdown",
   "id": "6b14989f",
   "metadata": {},
   "source": [
    "### Vectorization"
   ]
  },
  {
   "cell_type": "code",
   "execution_count": 62,
   "id": "f9258fbf",
   "metadata": {},
   "outputs": [],
   "source": [
    "# Vectorization\n",
    "from sklearn.feature_extraction.text import TfidfVectorizer\n",
    "\n",
    "tfidfvect = TfidfVectorizer(stop_words='english' , lowercase=True , min_df = 10)"
   ]
  },
  {
   "cell_type": "code",
   "execution_count": 63,
   "id": "3a10aa48",
   "metadata": {},
   "outputs": [
    {
     "data": {
      "text/plain": [
       "dict_items([('alternative', 427), ('energy', 4294), ('car', 1796), ('climate', 2202), ('change', 1971), ('culture', 3047), ('environment', 4385), ('global', 5516), ('issue', 6949), ('science', 11267), ('sustainability', 12610), ('technology', 12806), ('ted', 12808), ('advocate', 247), ('chris', 2094), ('truly', 13344), ('great', 5656), ('honor', 6102), ('opportunity', 8872), ('come', 2365), ('stage', 12167), ('twice', 13407), ('extremely', 4720), ('grateful', 5642), ('blown', 1372), ('away', 967), ('conference', 2546), ('want', 14015), ('thank', 12943), ('nice', 8559), ('comment', 2382), ('say', 11219), ('night', 8575), ('sincerely', 11717), ('partly', 9197), ('mock', 8187), ('need', 8487), ('laughter', 7281), ('position', 9711), ('flew', 5038), ('air', 329), ('force', 5130), ('year', 14359), ('shoe', 11602), ('boot', 1427), ('airplane', 337), ('applause', 628), ('tell', 12863), ('quick', 10228), ('story', 12317), ('illustrate', 6325), ('like', 7447), ('true', 13343), ('bit', 1295), ('soon', 11957), ('left', 7341), ('white', 14163), ('house', 6155), ('driving', 3945), ('home', 6077), ('nashville', 8441), ('little', 7513), ('farm', 4814), ('mile', 8078), ('east', 4040), ('know', 7193), ('sound', 11974), ('thing', 12978), ('looked', 7582), ('mirror', 8136), ('sudden', 12475), ('hit', 6050), ('heard', 5909), ('phantom', 9407), ('limb', 7457), ('pain', 9093), ('rented', 10680), ('ford', 5134), ('started', 12208), ('looking', 7583), ('place', 9521), ('eat', 4044), ('got', 5569), ('exit', 4618), ('lebanon', 7336), ('tennessee', 12894), ('restaurant', 10818), ('lowcost', 7623), ('family', 4795), ('chain', 1956), ('went', 14133), ('sat', 11193), ('booth', 1428), ('waitress', 13995), ('came', 1740), ('big', 1231), ('commotion', 2405), ('took', 13120), ('order', 8910), ('couple', 2873), ('lowered', 7625), ('voice', 13950), ('really', 10374), ('strain', 12324), ('hear', 5908), ('saying', 11220), ('said', 11138), ('yes', 14373), ('vice', 13867), ('president', 9862), ('al', 345), ('gore', 5562), ('wife', 14184), ('man', 7738), ('long', 7566), ('way', 14075), ('kind', 7161), ('series', 11482), ('epiphany', 4402), ('day', 3169), ('continuing', 2707), ('totally', 13147), ('fly', 5087), ('africa', 278), ('make', 7715), ('speech', 12055), ('nigeria', 8573), ('city', 2142), ('lagos', 7225), ('topic', 13128), ('began', 1148), ('telling', 12865), ('happened', 5817), ('told', 13104), ('pretty', 9877), ('shared', 11555), ('laughed', 7279), ('gave', 5396), ('airport', 338), ('fell', 4887), ('asleep', 770), ('plane', 9530), ('middle', 8057), ('landed', 7235), ('island', 6940), ('woke', 14254), ('opened', 8851), ('door', 3852), ('fresh', 5257), ('running', 11093), ('runway', 11095), ('waving', 14073), ('piece', 9471), ('paper', 9139), ('yelling', 14368), ('washington', 14049), ('thought', 12995), ('atlantic', 835), ('world', 14285), ('wrong', 14334), ('remembered', 10646), ('bunch', 1643), ('turned', 13389), ('staff', 12166), ('upset', 13701), ('wire', 14224), ('service', 11492), ('written', 14333), ('printed', 9916), ('united', 13594), ('state', 12219), ('america', 457), ('monterey', 8252), ('checked', 2020), ('announced', 541), ('yesterday', 14374), ('quote', 10243), ('named', 8413), ('yous', 14394), ('soil', 11921), ('david', 3164), ('jay', 6989), ('chef', 2035), ('hat', 5865), ('burger', 1654), ('fry', 5288), ('later', 7269), ('handwritten', 5810), ('letter', 7382), ('friend', 5267), ('partner', 9198), ('colleague', 2321), ('clinton', 2214), ('congratulation', 2583), ('new', 8542), ('celebrate', 1907), ('success', 12463), ('life', 7419), ('going', 5542), ('talk', 12738), ('information', 6582), ('ecology', 4061), ('thinking', 12981), ('plan', 9529), ('lifelong', 7428), ('habit', 5758), ('coming', 2376), ('maybe', 7886), ('time', 13058), ('anderson', 505), ('deal', 3184), ('focus', 5093), ('elaborate', 4123), ('crisis', 2969), ('start', 12207), ('image', 6331), ('slide', 11804), ('update', 13683), ('add', 165), ('learn', 7325), ('tide', 13041), ('shell', 11577), ('temperature', 12870), ('record', 10451), ('january', 6979), ('historical', 6047), ('average', 939), ('degree', 3297), ('month', 8254), ('wanted', 14016), ('bad', 1004), ('news', 8551), ('kidding', 7146), ('material', 7859), ('projected', 9999), ('contribution', 2728), ('warming', 14029), ('business', 1673), ('usual', 13738), ('efficiency', 4104), ('electricity', 4137), ('fruit', 5284), ('conservation', 2617), ('cost', 2840), ('profit', 9978), ('sign', 11674), ('negative', 8491), ('positive', 9714), ('investment', 6879), ('pay', 9261), ('effective', 4100), ('path', 9230), ('truck', 13342), ('talked', 12739), ('slideshow', 11805), ('perspective', 9381), ('easy', 4043), ('visible', 13922), ('target', 12762), ('concern', 2517), ('pollution', 9657), ('building', 1621), ('significant', 11681), ('lowest', 7627), ('standard', 12188), ('address', 177), ('puzzle', 10193), ('transportation', 13257), ('important', 6399), ('renewables', 10675), ('current', 3066), ('level', 7386), ('technological', 12803), ('difference', 3555), ('john', 7031), ('lot', 7601), ('people', 9315), ('directly', 3611), ('involved', 6894), ('wedge', 14102), ('grow', 5709), ('rapidly', 10319), ('projection', 10001), ('carbon', 1799), ('capture', 1792), ('stand', 12187), ('likely', 7450), ('killer', 7152), ('app', 609), ('enable', 4247), ('continue', 2704), ('use', 13730), ('fossil', 5190), ('fuel', 5292), ('safe', 11127), ('quite', 10237), ('ok', 8807), ('reduce', 10493), ('emission', 4207), ('expenditure', 4636), ('profitable', 9979), ('insulation', 6711), ('better', 1213), ('design', 3431), ('buy', 1686), ('green', 5666), ('mentioned', 7976), ('automobile', 927), ('hybrid', 6242), ('light', 7438), ('rail', 10277), ('figure', 4930), ('option', 8895), ('consumer', 2667), ('choice', 2073), ('harsh', 5857), ('effect', 4099), ('le', 7307), ('consider', 2623), ('decision', 3222), ('live', 7517), ('carbonneutral', 1801), ('good', 5550), ('branding', 1495), ('love', 7616), ('advice', 239), ('help', 5944), ('connects', 2601), ('easier', 4037), ('think', 12979), ('mean', 7897), ('dioxide', 3599), ('range', 10307), ('purchase', 10170), ('acquire', 121), ('offset', 8798), ('remainder', 10635), ('completely', 2461), ('reduced', 10494), ('calculator', 1723), ('participant', 9184), ('production', 9968), ('convened', 2737), ('active', 137), ('involvement', 6895), ('leading', 7311), ('software', 11920), ('writer', 14328), ('calculation', 1722), ('construct', 2655), ('precisely', 9790), ('calculate', 1718), ('given', 5498), ('movie', 8321), ('updated', 13684), ('making', 7719), ('hard', 5830), ('integrate', 6722), ('solution', 11937), ('innovation', 6639), ('entertainment', 4363), ('architecture', 683), ('community', 2416), ('invest', 6869), ('sustainably', 12612), ('listen', 7495), ('invested', 6870), ('money', 8234), ('manager', 7743), ('compensate', 2439), ('basis', 1089), ('annual', 548), ('performance', 9335), ('complain', 2453), ('quarterly', 10216), ('report', 10710), ('ceo', 1939), ('management', 7742), ('judge', 7064), ('paid', 9092), ('capital', 1781), ('based', 1083), ('shortterm', 11624), ('return', 10862), ('catalyst', 1864), ('teach', 12783), ('version', 13848), ('ago', 305), ('entertaining', 4362), ('ensure', 4348), ('sending', 11437), ('somebody', 11948), ('pick', 9461), ('personally', 9379), ('train', 13201), ('repurposed', 10732), ('personal', 9374), ('obviously', 8754), ('replaced', 10696), ('generic', 5426), ('approach', 647), ('link', 7480), ('conducting', 2540), ('course', 2877), ('summer', 12507), ('group', 5705), ('nominated', 8606), ('different', 3556), ('folk', 5103), ('en', 4246), ('masse', 7846), ('country', 2869), ('single', 11725), ('week', 14105), ('right', 10947), ('cutting', 3089), ('edge', 4077), ('working', 14278), ('larry', 7258), ('process', 9955), ('posted', 9728), ('tool', 13121), ('copyright', 2794), ('young', 14390), ('remix', 10657), ('anybody', 589), ('idea', 6275), ('ought', 8966), ('stay', 12236), ('arm', 709), ('length', 7365), ('politics', 9645), ('republican', 10731), ('trying', 13356), ('convince', 2761), ('democrat', 3336), ('used', 13731), ('bipartisan', 1283), ('politically', 9643), ('democracy', 3335), ('work', 14274), ('supposed', 12556), ('support', 12550), ('trading', 13188), ('closed', 2226), ('participation', 9188), ('everybody', 4525), ('board', 1383), ('director', 3612), ('serve', 11489), ('corporation', 2806), ('legal', 7347), ('liability', 7398), ('urge', 13717), ('maximum', 7883), ('income', 6465), ('reducing', 10496), ('avoided', 953), ('market', 7811), ('solve', 11939), ('problem', 9947), ('accomplish', 80), ('mass', 7842), ('persuasion', 9385), ('campaign', 1748), ('spring', 12127), ('mind', 8100), ('american', 458), ('presently', 9856), ('politician', 9644), ('permission', 9353), ('modern', 8196), ('role', 11018), ('logic', 7555), ('reason', 10383), ('longer', 7569), ('includes', 6461), ('wealth', 14084), ('power', 9753), ('repetition', 10693), ('short', 11613), ('second', 11349), ('television', 12862), ('ad', 153), ('let', 7380), ('suggested', 12490), ('instead', 6691), ('collapse', 2316), ('test', 12924), ('facing', 4756), ('scientist', 11270), ('combination', 2360), ('thumb', 13030), ('neocortex', 8507), ('viable', 13859), ('repeat', 10686), ('political', 9642), ('partisan', 9195), ('influence', 6574), ('connected', 2593), ('bring', 1549), ('appreciate', 640), ('humor', 6210), ('humanity', 6188), ('inconvenient', 6473), ('truth', 13352), ('spell', 12058), ('individual', 6519), ('immediately', 6350), ('buying', 1689), ('inventing', 6860), ('hotter', 6152), ('brand', 1493), ('nobel', 8594), ('laureate', 7287), ('focused', 5094), ('attention', 864), ('showing', 11637), ('moving', 8322), ('real', 10362), ('asia', 763), ('google', 5557), ('demo', 3334), ('economics', 4066), ('health', 5902), ('statistic', 12229), ('development', 3498), ('visualization', 13932), ('math', 7862), ('expert', 4650), ('data', 3154), ('visionary', 13925), ('task', 12765), ('swedish', 12638), ('undergraduate', 13507), ('student', 12396), ('spent', 12065), ('african', 279), ('institution', 6699), ('studying', 12400), ('hunger', 6220), ('sort', 11968), ('expected', 4631), ('medical', 7925), ('university', 13602), ('institute', 6697), ('called', 1729), ('nervous', 8515), ('actually', 148), ('highest', 5993), ('grade', 5592), ('college', 2329), ('question', 10222), ('learned', 7326), ('child', 2055), ('mortality', 8279), ('pair', 9102), ('bigger', 1232), ('uncertainty', 13477), ('turkey', 13384), ('poland', 9625), ('russia', 11102), ('pakistan', 9106), ('south', 11983), ('result', 10836), ('confidence', 2550), ('interval', 6806), ('narrow', 8435), ('happy', 5824), ('answer', 555), ('possible', 9721), ('professor', 9976), ('international', 6780), ('late', 7265), ('realized', 10370), ('discovery', 3661), ('shown', 11638), ('statistically', 12231), ('significantly', 11682), ('chimpanzee', 2065), ('score', 11279), ('half', 5775), ('banana', 1039), ('sri', 12154), ('lanka', 7247), ('case', 1848), ('ignorance', 6300), ('preconceived', 9792), ('unethical', 13551), ('study', 12399), ('hand', 5791), ('prize', 9935), ('medicine', 7930), ('par', 9142), ('communicate', 2408), ('happening', 5818), ('aware', 965), ('display', 3711), ('bubble', 1599), ('china', 2067), ('india', 6499), ('size', 11752), ('population', 9684), ('axis', 978), ('fertility', 4903), ('rate', 10327), ('asked', 767), ('discovered', 3658), ('textbook', 12935), ('mainly', 7703), ('western', 14136), ('small', 11835), ('large', 7252), ('number', 8688), ('woman', 14258), ('error', 4445), ('margin', 7797), ('expectancy', 4629), ('birth', 1288), ('industrialized', 6532), ('developing', 3497), ('relatively', 10600), ('type', 13426), ('smaller', 11836), ('stopped', 12309), ('available', 936), ('improving', 6427), ('latin', 7272), ('yellow', 14369), ('arabic', 669), ('larger', 7254), ('remain', 10634), ('indonesia', 6524), ('fast', 4830), ('bangladesh', 1047), ('miracle', 8133), ('happens', 5819), ('imam', 6342), ('promote', 10013), ('planning', 9537), ('corner', 2800), ('terrible', 12913), ('hiv', 6053), ('epidemic', 4398), ('rest', 10816), ('end', 4272), ('comparison', 2430), ('vietnam', 13879), ('war', 14018), ('indicate', 6502), ('death', 3191), ('improvement', 6425), ('getting', 5475), ('keeping', 7116), ('communist', 2415), ('economy', 4068), ('faster', 4831), ('social', 11901), ('today', 13096), ('look', 7581), ('underestimate', 13501), ('tremendous', 13291), ('saw', 11218), ('economic', 4063), ('distribution', 3771), ('dollar', 3826), ('gap', 5375), ('rich', 10924), ('poor', 9670), ('myth', 8402), ('percent', 9322), ('richest', 10928), ('poorest', 9672), ('concept', 2513), ('aid', 323), ('giving', 5499), ('form', 5165), ('poverty', 9751), ('oecd', 8783), ('club', 2242), ('overlap', 9031), ('earth', 4031), ('europe', 4501), ('lived', 7518), ('absolute', 28), ('asian', 764), ('forward', 5188), ('increase', 6480), ('million', 8092), ('pattern', 9250), ('best', 1203), ('bank', 1050), ('happen', 5816), ('divided', 3792), ('logarithmic', 7552), ('scale', 11225), ('growth', 5715), ('possibility', 9720), ('percentile', 9324), ('gdp', 5401), ('caput', 1795), ('turn', 13387), ('regional', 10552), ('gross', 5699), ('domestic', 3831), ('product', 9967), ('region', 10551), ('subsaharan', 12433), ('arab', 667), ('separately', 11467), ('expand', 4621), ('dimension', 3588), ('adding', 171), ('value', 13773), ('survival', 12592), ('survive', 12593), ('age', 288), ('strong', 12379), ('split', 12094), ('burst', 1666), ('sierra', 11669), ('leone', 7372), ('trade', 13183), ('barrier', 1079), ('sell', 11427), ('sugar', 12487), ('textile', 12937), ('equal', 4405), ('term', 12904), ('north', 8637), ('huge', 6173), ('ghana', 5478), ('humanitarian', 6187), ('uganda', 13444), ('holiday', 6067), ('variation', 13793), ('afghanistan', 276), ('religion', 10625), ('neighbor', 8502), ('yemen', 14371), ('civil', 2144), ('emirate', 4206), ('equally', 4407), ('foreign', 5141), ('worker', 14276), ('cambodia', 1737), ('singapore', 11720), ('weakness', 14083), ('soviet', 11990), ('differently', 3560), ('cuba', 3029), ('healthy', 5906), ('chile', 2061), ('lower', 7624), ('highincome', 5995), ('mao', 7783), ('brought', 1580), ('died', 3549), ('mainstream', 7704), ('seen', 11378), ('direction', 3609), ('difficult', 3562), ('example', 4556), ('compare', 2427), ('korea', 7203), ('brazil', 1501), ('label', 7210), ('run', 11089), ('advancement', 222), ('slower', 11823), ('trail', 13199), ('speed', 12056), ('wealthy', 14087), ('mineral', 8112), ('oil', 8805), ('bought', 1455), ('supermarket', 12536), ('kid', 7145), ('schooling', 11265), ('educate', 4088), ('fairly', 4777), ('spite', 12090), ('falling', 4787), ('price', 9894), ('appearance', 619), ('tend', 12884), ('past', 9217), ('dangerous', 3129), ('niger', 8572), ('famine', 4796), ('recently', 10414), ('discus', 3669), ('exists', 4617), ('universal', 13598), ('access', 65), ('treatment', 13286), ('strategy', 12338), ('highly', 6001), ('relevant', 10614), ('detailed', 3463), ('excited', 4576), ('policy', 9634), ('maker', 7716), ('corporate', 2805), ('sector', 11361), ('changing', 1974), ('using', 13737), ('nation', 8445), ('national', 8446), ('statistical', 12230), ('agency', 290), ('nongovernmental', 8613), ('organization', 8922), ('hidden', 5980), ('database', 3155), ('public', 10129), ('internet', 6782), ('effectively', 4101), ('include', 6459), ('publicly', 10132), ('funded', 5317), ('web', 14098), ('page', 9090), ('stupid', 12410), ('password', 9216), ('boring', 1433), ('needed', 8488), ('wonderful', 14262), ('added', 166), ('nonprofit', 8618), ('venture', 13832), ('linking', 7484), ('london', 7562), ('underground', 13508), ('warn', 14032), ('appropriate', 650), ('write', 14327), ('person', 9372), ('produced', 9964), ('animation', 531), ('set', 11495), ('liberating', 7404), ('accept', 59), ('search', 11334), ('function', 5308), ('copy', 2792), ('searchable', 11335), ('format', 5170), ('anthropology', 568), ('main', 7699), ('unit', 13592), ('impossible', 6408), ('peculiar', 9281), ('searched', 11336), ('free', 5240), ('entrepreneur', 4376), ('flower', 5070), ('net', 8518), ('crucial', 2999), ('point', 9612), ('animate', 528), ('head', 5886), ('clever', 2192), ('guy', 5753), ('huh', 6178), ('able', 13), ('growing', 5711), ('appearing', 621), ('overlooking', 9037), ('ghost', 5480), ('scary', 11246), ('user', 13735), ('variable', 13790), ('easily', 4039), ('ax', 976), ('click', 2196), ('graphic', 5633), ('instantly', 6690), ('understand', 13523), ('statistician', 12232), ('reality', 10367), ('analytical', 489), ('method', 8019), ('amazingly', 444), ('fit', 5000), ('computer', 2500), ('tendency', 12886), ('lifting', 7436), ('interesting', 6761), ('follow', 5104), ('presented', 9853), ('drama', 3905), ('urgency', 13719), ('guru', 5751), ('han', 5790), ('rosling', 11043), ('socalled', 11899), ('sings', 11728), ('trend', 13295), ('vivid', 13942), ('picture', 9468), ('surprisingly', 12580), ('snap', 11873), ('sharp', 11560), ('stats', 12233), ('interface', 6763), ('medium', 7938), ('music', 8378), ('simplicity', 11701), ('columnist', 2355), ('silence', 11684), ('simon', 11697), ('hello', 5942), ('mail', 7696), ('old', 8810), ('tech', 12797), ('ignored', 6303), ('boss', 1441), ('warning', 14035), ('monday', 8232), ('morning', 8271), ('evening', 4517), ('dinner', 3597), ('grew', 5678), ('cold', 2303), ('mold', 8214), ('hold', 6063), ('listening', 7498), ('phone', 9430), ('line', 7469), ('punched', 10154), ('touch', 13149), ('tone', 13116), ('hour', 6154), ('crashed', 2920), ('mac', 7662), ('constantly', 2644), ('hang', 5812), ('bomb', 1405), ('erased', 4427), ('dream', 3919), ('vengeance', 13824), ('motorcycle', 8305), ('crash', 2919), ('blood', 1362), ('fading', 4767), ('strength', 12350), ('pray', 9774), ('trained', 13202), ('md', 7893), ('welcome', 14118), ('spot', 12114), ('presenter', 9854), ('broadway', 1566), ('offered', 8791), ('column', 2354), ('sent', 11456), ('coolest', 2774), ('hottest', 6153), ('gadget', 5350), ('arrive', 730), ('try', 13355), ('play', 9553), ('evaluate', 4504), ('novelty', 8670), ('wear', 14090), ('send', 11436), ('nut', 8699), ('absolutely', 29), ('job', 7024), ('downside', 3884), ('intended', 6735), ('publish', 10133), ('email', 4174), ('noticed', 8657), ('incredible', 6484), ('feeling', 4885), ('lonely', 7565), ('york', 14383), ('frustration', 5287), ('alarm', 348), ('screen', 11303), ('lucky', 7638), ('overwhelmed', 9056), ('feel', 4883), ('structure', 12386), ('enjoyable', 4323), ('wrote', 14337), ('effort', 4107), ('reach', 10345), ('technical', 12799), ('message', 8000), ('reader', 10356), ('feedback', 4880), ('website', 14100), ('tale', 12734), ('woe', 14252), ('rage', 10273), ('oh', 8803), ('accelerating', 54), ('ironically', 6919), ('industry', 6533), ('gotten', 5572), ('original', 8934), ('operating', 8862), ('reagan', 10361), ('entire', 4368), ('logo', 7560), ('irony', 6920), ('broader', 1564), ('audience', 883), ('contact', 2672), ('equipment', 4415), ('distinct', 3749), ('privilege', 9933), ('sitting', 11744), ('apple', 629), ('center', 1929), ('duplicate', 3988), ('headset', 5895), ('recorded', 10453), ('quality', 10206), ('assurance', 808), ('collect', 2322), ('funniest', 5328), ('dumb', 3980), ('pas', 9204), ('cd', 1900), ('gift', 5483), ('bag', 1010), ('classic', 2163), ('understandable', 13524), ('mouse', 8315), ('noise', 8601), ('technician', 12801), ('madam', 7672), ('squeak', 12143), ('louder', 7605), ('restart', 10817), ('matter', 7872), ('typed', 13427), ('typing', 13431), ('admit', 202), ('blame', 1315), ('fall', 4784), ('foot', 5118), ('overload', 9033), ('complexity', 2466), ('hardware', 5837), ('finger', 4964), ('essentially', 4465), ('staying', 12239), ('challenge', 1960), ('subject', 12421), ('primal', 9900), ('mandate', 7748), ('release', 10607), ('vase', 13801), ('candy', 1766), ('bar', 1059), ('joining', 7036), ('feature', 4869), ('photoshop', 9442), ('company', 2423), ('revenue', 10877), ('upgrade', 13687), ('paradox', 9148), ('improve', 6423), ('eventually', 4521), ('ruin', 11080), ('microsoft', 8053), ('word', 14272), ('processor', 9959), ('administration', 194), ('experiment', 4643), ('wait', 13991), ('minute', 8132), ('create', 2934), ('simple', 11698), ('pure', 10173), ('nodding', 8599), ('acknowledgment', 118), ('sport', 12112), ('utility', 13744), ('principle', 9914), ('surround', 12584), ('unnecessary', 13622), ('someday', 11949), ('stick', 12272), ('button', 1685), ('popup', 9688), ('menu', 7981), ('careful', 1811), ('choose', 2080), ('wind', 14205), ('joke', 7038), ('photo', 9433), ('open', 8849), ('teeny', 12850), ('window', 14208), ('arrived', 731), ('matrix', 7870), ('vertical', 13851), ('horizontal', 6123), ('list', 7493), ('automatically', 925), ('switch', 12659), ('art', 738), ('designing', 3437), ('knowing', 7195), ('dialogue', 3528), ('box', 1471), ('component', 2474), ('view', 13881), ('exact', 4544), ('designed', 3433), ('severely', 11514), ('divergent', 3785), ('tends', 12891), ('break', 1507), ('step', 12255), ('wizard', 14250), ('pace', 9076), ('bite', 1298), ('limit', 7460), ('cross', 2985), ('pack', 9079), ('intelligent', 6732), ('believe', 1170), ('consistency', 2632), ('realworld', 10377), ('equivalent', 4419), ('trash', 13263), ('folder', 5101), ('beg', 1147), ('designer', 3434), ('rule', 11083), ('violate', 13898), ('biggest', 1233), ('intelligence', 6731), ('consistent', 2633), ('village', 13891), ('sorry', 11967), ('japan', 6980), ('scroll', 11314), ('seven', 11506), ('inconsistent', 6471), ('touched', 13150), ('god', 5537), ('shut', 11651), ('pc', 9269), ('clicking', 2199), ('pet', 9395), ('printer', 9917), ('print', 9915), ('document', 3812), ('shuttle', 11656), ('cockpit', 2270), ('notice', 8656), ('embraced', 4193), ('cult', 3040), ('palm', 9119), ('especially', 4459), ('speak', 12020), ('flying', 5089), ('high', 5987), ('met', 8006), ('employee', 4234), ('tap', 12755), ('counter', 2859), ('jeff', 6996), ('pilot', 9485), ('redesigned', 10487), ('blank', 1319), ('file', 4934), ('opposite', 8876), ('monitor', 8237), ('appears', 622), ('counting', 2867), ('fun', 5307), ('gate', 5388), ('song', 11954), ('piano', 9459), ('geek', 5404), ('forever', 5152), ('ibm', 6262), ('loss', 7599), ('code', 2275), ('royalty', 11068), ('garbage', 5377), ('press', 9864), ('rd', 10344), ('hack', 5761), ('loosely', 7590), ('slow', 11821), ('praise', 9771), ('mediocrity', 7933), ('entered', 4355), ('planet', 9531), ('domination', 3839), ('mode', 8190), ('responsible', 10813), ('office', 8793), ('dying', 4004), ('throw', 13025), ('locked', 7546), ('stuff', 12401), ('lock', 7544), ('liked', 7448), ('watch', 14057), ('wireless', 14226), ('miserably', 8142), ('simply', 11707), ('beautifully', 1133), ('cell', 1914), ('stop', 12308), ('leave', 7333), ('area', 688), ('crunch', 3009), ('worse', 14297), ('hope', 6111), ('illuminating', 6321), ('putting', 10192), ('manual', 7774), ('funny', 5329), ('steve', 12267), ('expo', 4679), ('black', 1304), ('jean', 6994), ('crowd', 2993), ('wild', 14190), ('strange', 12328), ('explain', 4655), ('future', 5345), ('teen', 12847), ('garage', 5376), ('buddy', 1610), ('rope', 11038), ('trick', 13305), ('fortune', 5186), ('drive', 3940), ('vision', 13924), ('sandal', 11175), ('weather', 14094), ('leather', 7332), ('believed', 1171), ('elegance', 4145), ('beauty', 1134), ('depressed', 3398), ('share', 11554), ('worth', 14302), ('meaning', 7898), ('ipod', 6908), ('violated', 13899), ('common', 2401), ('wisdom', 14230), ('recorder', 10454), ('transmitter', 13247), ('backed', 988), ('lesson', 7378), ('catching', 1873), ('physically', 9450), ('cool', 2771), ('elegant', 4146), ('lately', 7266), ('digital', 3573), ('camera', 1742), ('haul', 5873), ('usb', 13728), ('cable', 1702), ('card', 1803), ('lose', 7595), ('memory', 7967), ('fold', 5099), ('revealing', 10873), ('source', 11980), ('plug', 9583), ('yeah', 14358), ('laptop', 7251), ('cord', 2796), ('hook', 6106), ('sure', 12564), ('walk', 14000), ('pull', 10142), ('floor', 5059), ('care', 1808), ('whoa', 14166), ('magnetic', 7685), ('recognition', 10431), ('quiet', 10231), ('quickly', 10230), ('period', 9344), ('dictate', 3543), ('writes', 14331), ('macro', 7669), ('correct', 2809), ('ideal', 6276), ('situation', 11746), ('echo', 4053), ('hall', 5777), ('respond', 10806), ('sends', 11438), ('fan', 4799), ('thanks', 12948), ('taking', 12733), ('conversely', 2749), ('hate', 5868), ('daily', 3109), ('piss', 9504), ('admire', 199), ('dirty', 3615), ('secret', 11355), ('tried', 13312), ('accuracy', 96), ('drawer', 3913), ('sick', 11662), ('accurate', 97), ('starting', 12210), ('spread', 12124), ('final', 4951), ('remember', 10645), ('necessarily', 8481), ('count', 2856), ('deciding', 3218), ('motivation', 8299), ('ca', 1698), ('aim', 326), ('worst', 14300), ('offender', 8787), ('provides', 10094), ('encouraging', 4268), ('correspondent', 2821), ('cbs', 1899), ('bestselling', 1206), ('author', 909), ('title', 13090), ('dummy', 3981), ('missing', 8153), ('book', 1418), ('macarthur', 7663), ('grant', 5627), ('activism', 139), ('inequality', 6537), ('activist', 140), ('environmental', 4386), ('justice', 7095), ('sustainable', 12611), ('save', 11211), ('agenda', 291), ('feasible', 4865), ('urban', 13712), ('decisionmaking', 3223), ('private', 9930), ('danger', 3128), ('dog', 3820), ('abandoned', 4), ('puppy', 10169), ('rain', 10280), ('anticipated', 572), ('fighting', 4928), ('waste', 14051), ('facility', 4755), ('planned', 9535), ('river', 10981), ('waterfront', 14062), ('despite', 3449), ('fact', 4757), ('handled', 5802), ('commercial', 2388), ('sewage', 11517), ('plant', 9538), ('sludge', 11827), ('largest', 7256), ('diesel', 3551), ('trip', 13319), ('ratio', 10330), ('park', 9169), ('contacted', 2673), ('department', 3372), ('initiative', 6618), ('develop', 3494), ('project', 9998), ('wellmeaning', 14129), ('naive', 8411), ('lovely', 7618), ('earlier', 4019), ('jogging', 7028), ('pulled', 10143), ('illegal', 6310), ('dump', 3982), ('weed', 14104), ('pile', 9478), ('mention', 7975), ('kept', 7127), ('dragging', 3897), ('lo', 7527), ('behold', 1165), ('knew', 7183), ('forgotten', 5163), ('saving', 11213), ('proud', 10084), ('beginning', 1155), ('bronx', 1572), ('imagined', 6338), ('garnered', 5383), ('hunt', 6222), ('leveraged', 7390), ('seed', 11371), ('exchange', 4572), ('marriage', 7817), ('vow', 13976), ('beloved', 1180), ('whistle', 14160), ('pressing', 9866), ('living', 7523), ('canary', 1758), ('coal', 2256), ('familiar', 4793), ('burden', 1648), ('benefit', 1190), ('unfortunately', 13570), ('race', 10249), ('class', 2162), ('reliable', 10616), ('indicator', 6508), ('tree', 13288), ('pose', 9708), ('greatest', 5658), ('risk', 10972), ('walking', 14003), ('distance', 3744), ('chemical', 2036), ('created', 2935), ('hostile', 6145), ('condition', 2531), ('lead', 7308), ('obesity', 8718), ('diabetes', 3515), ('asthma', 812), ('toxic', 13167), ('neighborhood', 8503), ('hospitalization', 6140), ('higher', 5992), ('impact', 6366), ('dearly', 3190), ('solid', 11931), ('associated', 801), ('latino', 7274), ('men', 7968), ('posse', 9717), ('untold', 13663), ('untapped', 13660), ('potential', 9741), ('resident', 10769), ('unemployed', 13547), ('lowincome', 7628), ('citizen', 2140), ('visit', 13926), ('primary', 9902), ('taxpayer', 12778), ('produce', 9963), ('proportional', 10040), ('unhealthy', 13573), ('fortunately', 5185), ('striving', 12376), ('compromise', 2493), ('color', 2346), ('destroy', 3454), ('incredibly', 6485), ('goodlooking', 5552), ('graduated', 5600), ('school', 11263), ('traveled', 13268), ('early', 4021), ('financially', 4956), ('stable', 12161), ('imprisoned', 6419), ('watched', 14058), ('nearly', 8478), ('burn', 1660), ('brother', 1578), ('fought', 5194), ('block', 1352), ('jesus', 7011), ('crack', 2901), ('street', 12349), ('ghetto', 5479), ('apart', 595), ('heart', 5912), ('fight', 4926), ('dad', 3107), ('porter', 9699), ('son', 11952), ('slave', 11789), ('section', 11360), ('married', 7818), ('mom', 8220), ('workingclass', 14279), ('pursued', 10185), ('flight', 5046), ('certain', 1946), ('including', 6462), ('deemed', 3247), ('landlord', 7240), ('torch', 13131), ('insurance', 6715), ('dead', 3178), ('injured', 6623), ('tenant', 12883), ('notwithstanding', 8664), ('highway', 6015), ('construction', 2658), ('boom', 1422), ('robert', 10997), ('moses', 8285), ('spearheaded', 12025), ('aggressive', 298), ('goal', 5534), ('county', 2871), ('manhattan', 7754), ('lie', 7417), ('chance', 1970), ('displaced', 3708), ('perception', 9325), ('pimp', 9488), ('prostitute', 10063), ('earliest', 4020), ('ugly', 13446), ('reflect', 10518), ('property', 10035), ('worthless', 14303), ('luckily', 7637), ('inside', 6660), ('teacher', 12784), ('mentor', 7978), ('degradation', 3293), ('begets', 1149), ('injustice', 6625), ('zoning', 14419), ('regulation', 10566), ('polluting', 9656), ('factor', 4760), ('taken', 12730), ('consideration', 2626), ('decided', 3215), ('justify', 7098), ('local', 7538), ('movement', 8320), ('federal', 4876), ('dedicated', 3244), ('bike', 1235), ('physical', 9448), ('inform', 6580), ('regarding', 10545), ('traffic', 13192), ('safety', 11133), ('placement', 9524), ('properly', 10034), ('provide', 10091), ('shop', 11607), ('juice', 7072), ('secured', 11364), ('build', 1619), ('avenue', 938), ('landscape', 7243), ('architect', 681), ('constructed', 2656), ('connect', 2592), ('acre', 125), ('separated', 11466), ('water', 14060), ('nurture', 8696), ('natural', 8456), ('abundance', 40), ('stewardship', 12270), ('training', 13204), ('field', 4920), ('ecological', 4058), ('restoration', 10823), ('skill', 11764), ('compete', 2441), ('financial', 4955), ('stake', 12176), ('underutilized', 13533), ('relic', 10619), ('era', 4421), ('built', 1623), ('regard', 10543), ('rush', 11098), ('virtually', 13913), ('unused', 13668), ('allows', 406), ('removal', 10662), ('stakeholder', 12177), ('utilized', 13746), ('affordable', 272), ('housing', 6160), ('roof', 11030), ('demonstration', 3352), ('surface', 12567), ('absorb', 30), ('solar', 11924), ('heat', 5919), ('atmosphere', 838), ('contribute', 2724), ('degrade', 3294), ('sun', 12512), ('breathe', 1517), ('retain', 10845), ('rainfall', 10283), ('fund', 5313), ('costly', 2845), ('incidentally', 6456), ('located', 7542), ('habitat', 5760), ('butterfly', 1684), ('installation', 6683), ('bringing', 1550), ('activity', 144), ('pitch', 9508), ('investor', 6880), ('ask', 766), ('forgiveness', 5160), ('katrina', 7111), ('prior', 9919), ('orleans', 8940), ('ninth', 8589), ('ward', 14020), ('largely', 7253), ('populated', 9683), ('cultural', 3045), ('hiphop', 6035), ('jazz', 6990), ('host', 6142), ('close', 2225), ('proximity', 10103), ('abused', 43), ('regulatory', 10568), ('pernicious', 9356), ('lax', 7297), ('governmental', 5579), ('accountability', 87), ('destruction', 3459), ('inevitable', 6542), ('emerged', 4198), ('valuable', 13771), ('dig', 3566), ('symbol', 12672), ('blight', 1339), ('solved', 11940), ('promise', 10010), ('gone', 5549), ('gulf', 5745), ('coast', 2259), ('decade', 3202), ('proactive', 9939), ('homegrown', 6078), ('resource', 10795), ('grassroots', 5641), ('born', 1434), ('desperation', 3447), ('expect', 4628), ('government', 5578), ('moral', 8266), ('presentation', 9851), ('represents', 10720), ('tiny', 13077), ('clue', 2243), ('motivates', 8297), ('interested', 6760), ('triple', 13320), ('concerned', 2518), ('developer', 3496), ('present', 9850), ('comprehensive', 2487), ('deficit', 3274), ('parade', 9145), ('subsidy', 12441), ('propose', 10042), ('stadium', 12165), ('coordination', 2784), ('cumulative', 3049), ('increased', 6481), ('space', 11995), ('lame', 7230), ('team', 12786), ('replacing', 10699), ('destroying', 3457), ('thousand', 12999), ('parking', 9172), ('zip', 14416), ('transit', 13232), ('debate', 3193), ('costbenefit', 2842), ('analysis', 486), ('fixing', 5012), ('versus', 13849), ('incorporating', 6477), ('structural', 12384), ('closely', 2227), ('columbia', 2352), ('shine', 11588), ('straight', 12321), ('wilderness', 14191), ('preserve', 9858), ('inner', 6631), ('capitalist', 1783), ('probably', 9943), ('precedent', 9784), ('fellow', 4888), ('tedsters', 12827), ('hero', 5964), ('vulnerable', 13981), ('continues', 2706), ('shame', 11545), ('remind', 10650), ('greater', 5657), ('globalization', 5517), ('surrounded', 12585), ('runaway', 11090), ('gun', 5747), ('violence', 13902), ('drug', 3957), ('trafficking', 13195), ('reputation', 10734), ('unlike', 13610), ('blessed', 1336), ('mayor', 7887), ('demographic', 3343), ('portion', 9701), ('serving', 11493), ('narrowed', 8436), ('key', 7132), ('municipal', 8361), ('lane', 7245), ('outlawed', 8981), ('expanded', 4622), ('pedestrian', 9284), ('plaza', 9563), ('efficient', 4105), ('bus', 1670), ('brilliant', 1546), ('reflecting', 10520), ('daytoday', 3173), ('crime', 2961), ('dropped', 3950), ('alive', 382), ('attacked', 851), ('typical', 13429), ('budget', 1611), ('excuse', 4589), ('meant', 7901), ('afford', 270), ('participate', 9185), ('resurgence', 10840), ('expense', 4637), ('majority', 7714), ('considered', 2627), ('radical', 10264), ('nationwide', 8453), ('sexy', 11527), ('cocktail', 2272), ('conversation', 2746), ('democratize', 3340), ('table', 12708), ('insisting', 6669), ('addressed', 178), ('glad', 5502), ('spoke', 12100), ('mr', 8326), ('breakfast', 1510), ('included', 6460), ('marketing', 7814), ('response', 10811), ('program', 9984), ('understood', 13528), ('asking', 768), ('funding', 5319), ('offer', 8790), ('troubled', 13335), ('topdown', 13127), ('reminded', 10651), ('wasting', 14056), ('experience', 4639), ('far', 4807), ('meet', 7940), ('audacity', 881), ('courage', 2875), ('station', 12227), ('powerful', 9755), ('gain', 5353), ('emotionally', 4218), ('charged', 1991), ('carter', 1840), ('minority', 8128), ('suffer', 12479), ('flawed', 5029), ('redefined', 10482), ('equality', 4406), ('century', 1938), ('usa', 13725), ('creativity', 2942), ('dance', 3123), ('education', 4091), ('parenting', 9166), ('teaching', 12785), ('educator', 4093), ('leaving', 7334), ('theme', 12957), ('extraordinary', 4715), ('evidence', 4529), ('human', 6181), ('variety', 13796), ('party', 9203), ('frankly', 5228), ('curiously', 3062), ('face', 4744), ('pin', 9489), ('wall', 14004), ('deep', 3248), ('vested', 13855), ('grasp', 5636), ('retiring', 10857), ('expertise', 4652), ('educating', 4090), ('agreed', 310), ('nonetheless', 8610), ('capacity', 1778), ('marvel', 7829), ('seeing', 11373), ('exceptional', 4566), ('childhood', 2058), ('dedication', 3245), ('talent', 12735), ('literacy', 7503), ('treat', 13281), ('status', 12235), ('girl', 5495), ('drawing', 3914), ('hardly', 5835), ('fascinated', 4822), ('england', 4310), ('honest', 6096), ('strict', 12362), ('sequel', 11471), ('ii', 6306), ('james', 6974), ('joseph', 7048), ('thrilled', 13016), ('crammed', 2913), ('agent', 292), ('tshirts', 13358), ('robinson', 10999), ('king', 7168), ('bearing', 1125), ('gold', 5543), ('sequence', 11472), ('boy', 1474), ('afterward', 286), ('switched', 12660), ('fouryearolds', 5205), ('tea', 12782), ('towel', 13163), ('frank', 5226), ('frightened', 5271), ('creative', 2939), ('prepared', 9839), ('adult', 218), ('lost', 7600), ('mistake', 8159), ('picasso', 9460), ('artist', 752), ('passionately', 9212), ('educated', 4089), ('moved', 8319), ('los', 7594), ('angeles', 519), ('imagine', 6337), ('seamless', 11331), ('transition', 13233), ('outside', 9000), ('shakespeare', 11538), ('father', 4843), ('struck', 12383), ('english', 4311), ('annoying', 547), ('harder', 5833), ('bed', 1135), ('william', 14197), ('pencil', 9300), ('speaking', 12022), ('confusing', 2576), ('daughter', 3161), ('loved', 7617), ('girlfriend', 5496), ('sarah', 11191), ('known', 7198), ('fourth', 5202), ('anniversary', 539), ('pleased', 9567), ('strike', 12366), ('travel', 13267), ('hierarchy', 5985), ('mathematics', 7866), ('language', 7246), ('normally', 8635), ('allowed', 404), ('body', 1392), ('miss', 8150), ('meeting', 7941), ('truthfully', 13354), ('progressively', 9994), ('waist', 13990), ('slightly', 11809), ('alien', 374), ('conclude', 2522), ('output', 8992), ('succeeds', 12462), ('winner', 14215), ('purpose', 10179), ('mark', 7808), ('achievement', 109), ('curious', 3061), ('affection', 260), ('typically', 13430), ('literal', 7504), ('transport', 13256), ('residential', 10770), ('senior', 11440), ('academic', 48), ('pop', 9674), ('grown', 5712), ('beat', 1127), ('waiting', 13994), ('predicated', 9800), ('ability', 11), ('th', 12940), ('rooted', 11036), ('useful', 13732), ('ground', 5701), ('musician', 8380), ('benign', 1194), ('profoundly', 9981), ('mistaken', 8160), ('engulfed', 4314), ('revolution', 10899), ('dominate', 3835), ('entrance', 4374), ('consequence', 2614), ('talented', 12736), ('valued', 13774), ('stigmatized', 12279), ('according', 84), ('unesco', 13550), ('worldwide', 14291), ('graduating', 5601), ('history', 6049), ('transformational', 13222), ('explosion', 4677), ('suddenly', 12476), ('heading', 5889), ('carry', 1835), ('playing', 9560), ('video', 13876), ('game', 5367), ('previous', 9891), ('required', 10739), ('ba', 980), ('phd', 9412), ('inflation', 6570), ('indicates', 6504), ('shifting', 11587), ('beneath', 1187), ('radically', 10266), ('rethink', 10850), ('diverse', 3786), ('visually', 13936), ('abstract', 35), ('secondly', 11353), ('dynamic', 4006), ('interaction', 6748), ('brain', 1484), ('wonderfully', 14263), ('interactive', 6749), ('compartment', 2431), ('define', 3277), ('shaft', 11533), ('nerve', 8514), ('join', 7034), ('corpus', 2808), ('thicker', 12974), ('following', 5107), ('helen', 5937), ('multitasking', 8353), ('raft', 10271), ('research', 10746), ('cooking', 2769), ('meal', 7896), ('thankfully', 12946), ('dealing', 3186), ('talking', 12740), ('painting', 9101), ('ceiling', 1906), ('surgery', 12572), ('annoyed', 546), ('egg', 4110), ('philosophical', 9426), ('forest', 5150), ('hears', 5911), ('tshirt', 13357), ('speaks', 12023), ('moment', 8222), ('interview', 6811), ('prompted', 10019), ('choreographer', 2089), ('cat', 1862), ('opera', 8858), ('royal', 11067), ('ballet', 1031), ('lunch', 7647), ('dancer', 3125), ('hopeless', 6115), ('parent', 9163), ('learning', 7328), ('disorder', 3699), ('concentrate', 2508), ('adhd', 183), ('invented', 6859), ('specialist', 12027), ('room', 11032), ('mother', 8290), ('led', 7339), ('chair', 1957), ('disturbing', 3778), ('homework', 6086), ('doctor', 3809), ('listened', 7496), ('privately', 9931), ('radio', 10267), ('desk', 3441), ('walked', 14001), ('sit', 11740), ('contemporary', 2689), ('career', 1810), ('founded', 5197), ('andrew', 509), ('lloyd', 7526), ('successful', 12464), ('musical', 8379), ('theater', 12952), ('pleasure', 9570), ('medication', 7928), ('calm', 1731), ('triggered', 13314), ('rachel', 10251), ('carson', 1837), ('adopt', 209), ('conception', 2514), ('richness', 10929), ('mined', 8109), ('particular', 9191), ('commodity', 2400), ('fundamental', 5314), ('jonas', 7042), ('insect', 6652), ('disappear', 3624), ('disappeared', 3626), ('flourish', 5065), ('celebrates', 1909), ('imagination', 6335), ('wisely', 14232), ('avert', 943), ('scenario', 11251), ('sir', 11735), ('ken', 7121), ('creating', 2937), ('champion', 1966), ('cultivate', 3041), ('acknowledge', 115), ('multiple', 8346), ('kill', 7150), ('collaboration', 2311), ('library', 7410), ('rapid', 10318), ('reinforce', 10578), ('rationality', 10334), ('absurd', 37), ('transcends', 13214), ('baggage', 1011), ('rational', 10332), ('conclusion', 2524), ('signature', 11678), ('obsessed', 8743), ('editing', 4084), ('traditional', 13190), ('master', 7849), ('sketch', 11759), ('notion', 8661), ('flexibility', 5040), ('singular', 11729), ('shotgun', 11626), ('shoot', 11604), ('bound', 1461), ('modernism', 8198), ('operational', 8864), ('dwarf', 3997), ('parameter', 9156), ('opening', 8853), ('immediate', 6349), ('proposing', 10045), ('continuum', 2711), ('identify', 6287), ('specifically', 12037), ('pushed', 10189), ('spectrum', 12049), ('originally', 8935), ('hoped', 6112), ('seattle', 11344), ('central', 1933), ('eye', 4726), ('diagram', 3524), ('settled', 11501), ('core', 2797), ('evolution', 4536), ('forget', 5155), ('dominance', 3833), ('potent', 9740), ('premise', 9831), ('librarian', 7409), ('inception', 6452), ('carnegie', 1821), ('tradition', 13189), ('responsibility', 10812), ('particularly', 9192), ('upper', 13697), ('reading', 10358), ('magazine', 7678), ('troubling', 13337), ('expansion', 4626), ('proposed', 10043), ('predict', 9801), ('certainty', 1948), ('rooftop', 11031), ('clarity', 2159), ('glory', 5525), ('operation', 8863), ('onethird', 8830), ('twothirds', 13420), ('band', 1040), ('square', 12139), ('footage', 5119), ('platform', 9549), ('comb', 2357), ('collective', 2326), ('literally', 7505), ('signed', 11679), ('lefthand', 7342), ('low', 7621), ('site', 11742), ('contextual', 2697), ('relationship', 10598), ('abide', 10), ('forth', 5182), ('discrete', 3663), ('sense', 11444), ('spiral', 12082), ('inexpensive', 6545), ('expensive', 4638), ('organize', 8924), ('decimal', 3219), ('continuous', 2709), ('grows', 5714), ('contract', 2714), ('tear', 12792), ('experienced', 4640), ('skin', 11766), ('serf', 11478), ('double', 3865), ('duty', 3995), ('lateral', 7270), ('stability', 12158), ('element', 4148), ('holding', 6065), ('glass', 5507), ('layer', 7299), ('metal', 8011), ('stretched', 12360), ('act', 127), ('exterior', 4705), ('opaque', 8847), ('interior', 6771), ('entirely', 4369), ('transparent', 13251), ('tour', 13156), ('motion', 8294), ('sickness', 11663), ('apologize', 605), ('unveiled', 13672), ('whim', 14151), ('ego', 4111), ('defended', 3265), ('observation', 8735), ('entry', 4382), ('unusual', 13669), ('recognizing', 10436), ('plenty', 9574), ('shopping', 11610), ('mall', 7729), ('allow', 402), ('downtown', 3887), ('yell', 14366), ('chess', 2047), ('mixing', 8176), ('chamber', 1964), ('unique', 13588), ('dizzy', 3802), ('dallas', 3113), ('client', 2200), ('temporary', 12877), ('infamous', 6548), ('chicago', 2051), ('exception', 4565), ('worked', 14275), ('blow', 1370), ('cherry', 2046), ('orchard', 8904), ('hole', 6066), ('daunting', 3162), ('brandnew', 1496), ('pristine', 9927), ('experimental', 4644), ('nature', 8459), ('arena', 689), ('transform', 13220), ('overcome', 9018), ('previously', 9892), ('defined', 3278), ('stack', 12162), ('machine', 7664), ('placed', 9523), ('theatrical', 12954), ('redefine', 10481), ('tower', 13164), ('acoustic', 119), ('enclosure', 4254), ('push', 10188), ('artistic', 754), ('thrust', 13028), ('traverse', 13272), ('flat', 5023), ('achieve', 107), ('achievable', 106), ('palette', 9117), ('procession', 9958), ('trapped', 13261), ('liberated', 7403), ('enters', 4358), ('greek', 5665), ('lifted', 7435), ('separate', 11465), ('backdrop', 987), ('openair', 8850), ('balcony', 1025), ('configuration', 2553), ('enormous', 4334), ('object', 8722), ('charles', 1998), ('aircraft', 333), ('rent', 10679), ('event', 4519), ('remove', 10663), ('monster', 8249), ('inverted', 6868), ('normal', 8632), ('providing', 10095), ('museum', 8376), ('louisville', 7612), ('pro', 9938), ('reverse', 10882), ('aspiration', 774), ('collaborate', 2308), ('interact', 6745), ('credible', 2947), ('skyline', 11774), ('various', 13797), ('constraint', 2654), ('operate', 8859), ('muhammad', 8337), ('ali', 372), ('respect', 10797), ('flood', 5056), ('similar', 11694), ('broke', 1569), ('corridor', 2824), ('cut', 3085), ('nightmare', 8578), ('bathtub', 1101), ('underneath', 13514), ('historic', 6046), ('district', 3773), ('hotel', 6149), ('luxury', 7656), ('warner', 14034), ('lift', 7434), ('flip', 5048), ('circulation', 2131), ('connection', 2597), ('road', 10984), ('basic', 1086), ('formal', 5166), ('willful', 14196), ('gesture', 5474), ('derived', 3412), ('statement', 12222), ('attempting', 858), ('zone', 14418), ('mix', 8174), ('xray', 14344), ('lobby', 7533), ('combined', 2362), ('subway', 12458), ('map', 7784), ('transfer', 13217), ('creates', 2936), ('amazing', 443), ('nd', 8473), ('curator', 3055), ('exercise', 4595), ('bicycle', 1227), ('invade', 6850), ('swimming', 12651), ('pool', 9668), ('begin', 1153), ('exhibition', 4607), ('forced', 5131), ('confines', 2557), ('gallery', 5361), ('mid', 8055), ('finish', 4968), ('mechanical', 7913), ('jack', 6962), ('instance', 6686), ('meat', 7910), ('insert', 6657), ('optimize', 8891), ('context', 2696), ('redirect', 10489), ('joshua', 7050), ('dazzling', 3174), ('dizzying', 3803), ('virtual', 13912), ('recent', 10413), ('hailed', 5768), ('masterpiece', 7852), ('founding', 5199), ('metropolitan', 8025), ('netherlands', 8520), ('served', 11490), ('principal', 9913), ('renamed', 10668), ('firm', 4982), ('rex', 10912), ('christianity', 2097), ('comedy', 2368), ('storytelling', 12319), ('actor', 145), ('comedian', 2367), ('playwright', 9562), ('september', 11470), ('seventh', 11508), ('birthday', 1289), ('downstairs', 3885), ('kitchen', 7176), ('washing', 14048), ('dish', 3683), ('doorway', 3854), ('hey', 5976), ('smiled', 11854), ('cake', 1715), ('importantly', 6400), ('reached', 10346), ('capable', 1777), ('committing', 2399), ('sin', 11716), ('phrase', 9446), ('sister', 11738), ('mary', 7832), ('kevin', 7131), ('caught', 1885), ('excitement', 4577), ('preparation', 9837), ('confession', 2549), ('dress', 3924), ('veil', 13816), ('catholic', 1883), ('church', 2112), ('note', 8652), ('permanent', 9351), ('till', 13053), ('sunk', 12517), ('credit', 2948), ('basically', 1087), ('useless', 13734), ('santa', 11186), ('naughty', 8460), ('honey', 6099), ('technically', 12800), ('thanksgiving', 12949), ('christmas', 2100), ('bob', 1389), ('julie', 7077), ('upsetting', 13702), ('delivering', 3321), ('eve', 4516), ('surprise', 12577), ('clock', 2218), ('fuss', 5343), ('suspicious', 12608), ('obvious', 8753), ('distinctive', 3751), ('wrapping', 14315), ('style', 12413), ('handwriting', 5809), ('plus', 9594), ('loop', 7587), ('el', 4122), ('mountain', 8309), ('weird', 14115), ('protect', 10066), ('embarrassment', 4183), ('humiliation', 6206), ('rejection', 10590), ('relief', 10621), ('shock', 11598), ('missed', 8151), ('criterion', 2972), ('clear', 2181), ('finally', 4952), ('playground', 9559), ('saturday', 11202), ('kicking', 7142), ('ball', 1029), ('ran', 10300), ('angry', 523), ('dramatically', 3907), ('turning', 13390), ('aside', 765), ('october', 8774), ('date', 3158), ('kindergarten', 7163), ('ready', 10359), ('oldest', 8812), ('understandably', 13525), ('worry', 14295), ('realize', 10369), ('ate', 828), ('comforting', 2373), ('celebrating', 1910), ('poster', 9729), ('bedroom', 1137), ('read', 10355), ('beautiful', 1132), ('hair', 5769), ('filling', 4939), ('ominous', 8820), ('depressing', 3399), ('astonished', 813), ('dawned', 3168), ('tab', 12707), ('cruel', 3002), ('missionary', 8155), ('lady', 7222), ('cartoon', 1842), ('heaven', 5924), ('teenager', 12849), ('gang', 5373), ('robbing', 10995), ('subscription', 12436), ('ignore', 6302), ('answered', 556), ('stood', 12306), ('shirt', 11595), ('tag', 12720), ('identified', 6285), ('official', 8795), ('representative', 10717), ('christ', 2095), ('saint', 11143), ('raised', 10289), ('pacific', 9078), ('northwest', 8641), ('dated', 3159), ('doctrine', 3811), ('mission', 8154), ('guess', 5727), ('fix', 5008), ('argue', 694), ('uncomfortable', 13483), ('pause', 9254), ('relieved', 10624), ('jerusalem', 7008), ('apparently', 614), ('evil', 4532), ('infant', 6550), ('fetus', 4911), ('boat', 1388), ('descendant', 3416), ('reproduced', 10724), ('bone', 1414), ('visited', 13927), ('remained', 10636), ('win', 14204), ('blew', 1338), ('managed', 7741), ('hiding', 5983), ('wood', 14268), ('reformed', 10526), ('egyptian', 4113), ('plate', 9547), ('buried', 1657), ('near', 8475), ('seat', 11341), ('native', 8454), ('descended', 3417), ('smith', 11857), ('backyard', 999), ('magic', 7679), ('stone', 12305), ('translate', 13236), ('personality', 9375), ('intergalactic', 6768), ('overlord', 9038), ('righteous', 10948), ('prophet', 10037), ('crazy', 2931), ('exactly', 4545), ('spectacular', 12045), ('prophecy', 10036), ('wondered', 14261), ('cooperate', 2777), ('adapt', 157), ('lifespan', 7430), ('violent', 13903), ('bear', 1123), ('baby', 982), ('assuming', 806), ('die', 3548), ('exhaustion', 4603), ('cute', 3086), ('standing', 12191), ('eternity', 4481), ('dear', 3189), ('incentive', 6450), ('restored', 10826), ('leg', 7345), ('blind', 1340), ('uterus', 13742), ('cancer', 1761), ('gosh', 5566), ('nose', 8644), ('chapter', 1983), ('check', 2019), ('hurry', 6230), ('initially', 6614), ('felt', 4890), ('superior', 12533), ('smug', 11867), ('conventional', 2742), ('faith', 4780), ('hearing', 5910), ('theology', 12960), ('dogma', 3821), ('intercourse', 6756), ('virgin', 13909), ('ridiculous', 10940), ('stuck', 12394), ('hurt', 6231), ('confused', 2575), ('cared', 1809), ('shelter', 11579), ('tragedy', 13196), ('gratitude', 5645), ('clearly', 2188), ('knock', 7189), ('julia', 7074), ('quest', 10221), ('belief', 1168), ('excerpt', 4568), ('solo', 11935), ('letting', 7383), ('tackle', 12714), ('cognitive', 2289), ('consciousness', 2610), ('philosophy', 9428), ('philosopher', 9425), ('gathering', 5394), ('wondering', 14264), ('magnificent', 7687), ('beast', 1126), ('dairy', 3110), ('cow', 2893), ('animal', 527), ('introduce', 6835), ('joyce', 7058), ('poem', 9607), ('fool', 5114), ('ancestor', 499), ('cattle', 1884), ('selection', 11390), ('domesticated', 3832), ('steward', 12269), ('gradually', 5598), ('engineering', 4309), ('optimized', 8892), ('phenomenon', 9414), ('evolved', 4540), ('millennium', 8087), ('biological', 1265), ('base', 1081), ('redesigning', 10488), ('nonstop', 8620), ('terror', 12920), ('anger', 520), ('anxiety', 586), ('intensity', 6739), ('eloquently', 4172), ('brilliantly', 1547), ('immensely', 6352), ('traced', 13174), ('mixture', 8177), ('evolutionary', 4538), ('redesign', 10486), ('proposal', 10041), ('claim', 2150), ('remark', 10641), ('require', 10738), ('writing', 14332), ('arithmetic', 706), ('curriculum', 3068), ('creed', 2950), ('text', 12934), ('symbolism', 12674), ('prohibition', 9997), ('requirement', 10740), ('spin', 12078), ('tolerance', 13105), ('religious', 10626), ('freedom', 5242), ('depends', 3380), ('informed', 6584), ('citizenship', 2141), ('consent', 2613), ('bedrock', 1136), ('understanding', 13526), ('coin', 2297), ('special', 12026), ('pastor', 9221), ('rick', 10930), ('reaction', 10351), ('roman', 11023), ('newspaper', 8552), ('totalitarian', 13145), ('practically', 9763), ('libertarian', 7407), ('hilarious', 6021), ('bothered', 1447), ('plausible', 9552), ('extension', 4701), ('democratic', 3337), ('shocked', 11599), ('anxious', 587), ('preserving', 9860), ('purity', 10177), ('intent', 6741), ('ignorant', 6301), ('depend', 3374), ('sheep', 11573), ('convergence', 2744), ('shepherd', 11582), ('outsource', 9003), ('protection', 10069), ('predator', 9795), ('maintenance', 7709), ('flock', 5055), ('mating', 7868), ('rocket', 11008), ('smart', 11840), ('clueless', 2244), ('francis', 5224), ('crick', 2958), ('dna', 3805), ('jim', 7020), ('watson', 14068), ('joked', 7039), ('leslie', 7376), ('molecular', 8216), ('biologist', 1267), ('hoax', 6059), ('unbelievably', 13472), ('brilliance', 1545), ('foresight', 5149), ('ant', 558), ('climbing', 2207), ('blade', 1311), ('grass', 5638), ('infected', 6552), ('lancet', 7233), ('fluke', 5080), ('belly', 1175), ('reproduce', 10723), ('spooky', 12109), ('misunderstood', 8167), ('submit', 12430), ('carrot', 1834), ('bright', 1539), ('beneficiary', 1189), ('anybodys', 590), ('genetic', 5431), ('fitness', 5001), ('paul', 9251), ('dawn', 3167), ('agriculture', 315), ('livestock', 7522), ('approximately', 657), ('tenth', 12900), ('terrestrial', 12912), ('vertebrate', 13850), ('landmass', 7242), ('calculated', 1719), ('passage', 9206), ('billion', 1242), ('sphere', 12067), ('painted', 9099), ('covering', 2889), ('complex', 2465), ('improbable', 6421), ('fragile', 5211), ('specie', 12035), ('balance', 1022), ('inherent', 6603), ('wield', 14182), ('paintbrush', 9098), ('coat', 2263), ('paint', 9097), ('suppose', 12555), ('martian', 7827), ('puzzled', 10194), ('satellite', 11195), ('photograph', 9434), ('mecca', 7911), ('amazed', 440), ('originated', 8937), ('parasite', 9161), ('mighty', 8066), ('fearless', 4862), ('eaten', 4045), ('infects', 6556), ('suicidal', 12494), ('behavior', 1163), ('behalf', 1158), ('islam', 6937), ('submission', 12429), ('surrender', 12582), ('selfinterest', 11415), ('allah', 383), ('paris', 9167), ('christian', 2096), ('worship', 14299), ('obey', 8719), ('warren', 14040), ('driven', 3941), ('briefly', 1537), ('standpoint', 12192), ('succeeded', 12460), ('agree', 309), ('achieved', 108), ('thirty', 12988), ('fantastic', 4803), ('updating', 13685), ('quietly', 10233), ('dropping', 3951), ('obsolete', 8748), ('interpretation', 6788), ('latest', 7271), ('practitioner', 9767), ('excellent', 4564), ('insight', 6663), ('psychology', 10119), ('wise', 14231), ('invite', 6886), ('hood', 6105), ('appreciated', 641), ('explains', 4658), ('translation', 13240), ('bible', 1225), ('verse', 13847), ('accessible', 68), ('dan', 3122), ('dennett', 3358), ('appreciation', 643), ('wish', 14234), ('revision', 10892), ('opinion', 8867), ('complaint', 2456), ('mentioning', 7977), ('accident', 71), ('astronomical', 822), ('random', 10302), ('universe', 13601), ('significance', 11680), ('brief', 1536), ('homer', 6084), ('film', 4940), ('worried', 14294), ('afraid', 277), ('sentiment', 11461), ('proposition', 10046), ('cosmos', 2839), ('specially', 12033), ('mankind', 7767), ('facet', 4748), ('explanation', 4659), ('michael', 8032), ('noah', 8593), ('sentence', 11457), ('false', 4789), ('scientific', 11268), ('deliberately', 3310), ('shaped', 11551), ('formed', 5173), ('ministry', 8123), ('carefully', 1812), ('mixed', 8175), ('metaphorical', 8014), ('store', 12312), ('trillion', 13316), ('handle', 5801), ('treating', 13284), ('anthropologist', 567), ('noted', 8654), ('hardwired', 5838), ('fiber', 4915), ('deeply', 3254), ('arguing', 697), ('deny', 3369), ('theory', 12965), ('contrary', 2722), ('solving', 11944), ('biology', 1268), ('seriously', 11483), ('compass', 2432), ('rely', 10631), ('counsel', 2853), ('benchmark', 1184), ('evaluating', 4506), ('quoted', 10244), ('sigh', 11671), ('devil', 3503), ('practice', 9764), ('invent', 6858), ('adaptation', 160), ('reasonable', 10384), ('criticism', 2976), ('objection', 8723), ('reasoning', 10387), ('commission', 2391), ('holy', 6075), ('spirit', 12084), ('breakdown', 1508), ('commit', 2394), ('satan', 11194), ('problematic', 9948), ('ship', 11591), ('maine', 7700), ('zero', 14410), ('meme', 7959), ('popular', 9679), ('guise', 5743), ('general', 5413), ('committed', 2397), ('engaged', 4301), ('atheist', 829), ('agnostic', 304), ('hide', 5981), ('sanctity', 11172), ('drop', 3947), ('extinct', 4707), ('taught', 12773), ('happiness', 5823), ('leadership', 7310), ('philanthropy', 9420), ('authorim', 911), ('surprised', 12578), ('wildest', 14192), ('selling', 11429), ('spiritual', 12086), ('emptiness', 4244), ('disease', 3674), ('pillow', 9484), ('tv', 13397), ('weekend', 14106), ('existing', 4616), ('desire', 3439), ('accidental', 72), ('doubt', 3868), ('fulfilled', 5298), ('fake', 4782), ('pretend', 9874), ('monopoly', 8245), ('secular', 11362), ('fine', 4959), ('ton', 13115), ('celebrity', 1912), ('evangelist', 4510), ('worldview', 14289), ('everybodys', 4526), ('betting', 1215), ('bet', 1207), ('society', 11908), ('fame', 4791), ('nobrainer', 8596), ('leader', 7309), ('protecting', 10068), ('debating', 3195), ('challenging', 1963), ('generation', 5422), ('duck', 3973), ('qualify', 10204), ('quantify', 10208), ('determine', 3481), ('determines', 3483), ('pouring', 9750), ('yearold', 14362), ('salary', 11146), ('priest', 9899), ('minister', 8122), ('stereotype', 12262), ('dy', 4002), ('watching', 14059), ('peace', 9270), ('funeral', 5321), ('foundation', 5195), ('major', 7713), ('illiteracy', 6314), ('pandemic', 9130), ('hivaids', 6054), ('charity', 1997), ('raise', 10288), ('grip', 5690), ('spoil', 12097), ('wealthiest', 14086), ('happiest', 5821), ('sex', 11521), ('wired', 14225), ('invitation', 6885), ('continent', 2698), ('solomon', 11936), ('prayer', 9776), ('selfish', 11416), ('selfcentered', 11398), ('famous', 4797), ('land', 7234), ('request', 10735), ('israel', 6947), ('apex', 600), ('widow', 14180), ('orphan', 8941), ('oppressed', 8878), ('defend', 3263), ('assist', 796), ('foreigner', 5142), ('prison', 9925), ('marginalized', 7799), ('selfworth', 11426), ('radar', 10259), ('affluent', 269), ('gated', 5389), ('homeless', 6080), ('pathway', 9236), ('commandment', 2381), ('burning', 1662), ('bush', 1671), ('snake', 11872), ('wow', 14310), ('cheese', 2032), ('bread', 1504), ('debunking', 3200), ('asks', 769), ('represented', 10718), ('identity', 6289), ('occupation', 8758), ('asset', 791), ('tied', 13044), ('account', 86), ('express', 4690), ('hedge', 5931), ('poke', 9622), ('lay', 7298), ('egypt', 4112), ('invited', 6887), ('nba', 8471), ('player', 9556), ('nfl', 8556), ('basketball', 1091), ('background', 989), ('network', 8521), ('shape', 11550), ('undersea', 13520), ('explorer', 4674), ('smile', 11853), ('grandkids', 5619), ('sleep', 11792), ('rise', 10969), ('joy', 7057), ('misguided', 8145), ('helping', 5948), ('reflects', 10523), ('wake', 13996), ('intention', 6742), ('themthe', 12958), ('sold', 11926), ('influential', 6577), ('seeking', 11376), ('apply', 636), ('filmmaker', 4943), ('genie', 5436), ('screwed', 11309), ('pageant', 9091), ('filmed', 4941), ('dotcom', 3863), ('executive', 4594), ('military', 8081), ('officer', 8794), ('qatar', 10199), ('control', 2730), ('statue', 12234), ('liberty', 7408), ('aunt', 894), ('ride', 10935), ('eating', 4047), ('ice', 6265), ('cream', 2932), ('border', 1429), ('laugh', 7278), ('amy', 481), ('forcing', 5133), ('requires', 10741), ('projector', 10002), ('cameron', 1744), ('bridge', 1534), ('pun', 10152), ('persian', 9366), ('strongly', 12382), ('vaccination', 13758), ('sorting', 11970), ('barely', 1069), ('drawn', 3915), ('wedding', 14101), ('older', 8811), ('member', 7956), ('exhibit', 4605), ('cairo', 1714), ('donkey', 3846), ('frame', 5218), ('failed', 4770), ('intense', 6736), ('emotion', 4216), ('argument', 698), ('thrive', 13018), ('circumstance', 2134), ('photography', 9439), ('stint', 12290), ('mtv', 8329), ('iraq', 6913), ('surreal', 12581), ('coverage', 2887), ('embedded', 4186), ('troop', 13329), ('clean', 2174), ('precision', 9791), ('bombing', 1410), ('iraqi', 6914), ('greeting', 5674), ('throwing', 13026), ('baghdad', 1012), ('george', 5467), ('favorite', 4854), ('channel', 1975), ('disliked', 3689), ('osama', 8946), ('bin', 1247), ('laden', 7221), ('hated', 5869), ('command', 2377), ('reaching', 10347), ('character', 1984), ('surprising', 12579), ('emerges', 4202), ('fox', 5206), ('josh', 7049), ('rushing', 11100), ('showed', 11635), ('soldier', 11927), ('uniform', 13578), ('tile', 13052), ('stomach', 12304), ('horrifying', 6132), ('affect', 257), ('realizing', 10372), ('profound', 9980), ('picked', 9462), ('west', 14135), ('criticized', 2978), ('abroad', 24), ('believing', 1173), ('savior', 11214), ('screening', 11305), ('loaded', 7529), ('hospital', 6138), ('victim', 13870), ('depth', 3405), ('clip', 2215), ('conflict', 2563), ('faced', 4747), ('palestinian', 9116), ('suicide', 12495), ('bomber', 1409), ('paradise', 9147), ('sacrifice', 11118), ('revenge', 10876), ('israeli', 6948), ('stronger', 12380), ('forbid', 5128), ('forgive', 5158), ('abu', 39), ('hell', 5941), ('chooses', 2081), ('bitterness', 1302), ('nonviolence', 8623), ('encounter', 4261), ('ambulance', 454), ('siren', 11736), ('tel', 12854), ('aviv', 949), ('casualty', 1861), ('wounded', 14308), ('police', 9631), ('shouting', 11630), ('occupied', 8760), ('territory', 12919), ('jeep', 6995), ('parked', 9170), ('passed', 9207), ('christine', 2099), ('killed', 7151), ('shooting', 11606), ('forum', 5187), ('charge', 1990), ('assistant', 798), ('logically', 7557), ('suffering', 12481), ('suffered', 12480), ('reconciliation', 10443), ('precious', 9786), ('communicated', 2409), ('damn', 3119), ('unto', 13662), ('apartheid', 596), ('narrator', 8434), ('liberation', 7405), ('struggle', 12388), ('screaming', 11302), ('nelson', 8506), ('mandela', 7751), ('union', 13587), ('demanded', 3329), ('singing', 11724), ('dark', 3140), ('stranger', 12331), ('transformation', 13221), ('wright', 14323), ('connecting', 2596), ('independent', 6496), ('ended', 4275), ('witness', 14245), ('documenting', 3816), ('congress', 2586), ('attack', 850), ('peaceful', 9271), ('momentum', 8226), ('town', 13166), ('sharing', 11557), ('communal', 2406), ('highlight', 5998), ('defies', 3276), ('documentary', 3813), ('bond', 1411), ('projecting', 10000), ('tahrir', 12723), ('pyramid', 10196), ('endless', 4279), ('mutual', 8393), ('crossing', 2989), ('location', 7543), ('partnership', 9201), ('introduced', 6836), ('steven', 12268), ('jacob', 6966), ('calling', 1730), ('responded', 10807), ('palo', 9120), ('alto', 430), ('mongolia', 8235), ('brainstorm', 1485), ('cinema', 2119), ('intangible', 6720), ('touching', 13151), ('soul', 11972), ('tangible', 12747), ('certainly', 1947), ('gentleman', 5447), ('unveils', 13674), ('astonishing', 814), ('reveal', 10871), ('triumph', 13324), ('hardship', 5836), ('courageous', 2876), ('ebola', 4051), ('epidemiologist', 4399), ('philanthropist', 9419), ('smallpox', 11838), ('polio', 9637), ('blessing', 1337), ('horrible', 6128), ('optimism', 8887), ('horror', 6133), ('matched', 7856), ('uplifting', 13693), ('exist', 4612), ('journey', 7056), ('intern', 6775), ('san', 11170), ('francisco', 5225), ('indian', 6500), ('affair', 256), ('wound', 14307), ('rock', 11005), ('roll', 11019), ('star', 12197), ('traveling', 13270), ('awful', 971), ('caravan', 1797), ('joined', 7035), ('pond', 9661), ('drove', 3953), ('iran', 6911), ('difficulty', 3563), ('himalayan', 6027), ('monastery', 8231), ('residency', 10768), ('studied', 12397), ('rid', 10932), ('suit', 12496), ('diplomat', 3603), ('outrageous', 8995), ('prediction', 9807), ('eradicated', 4423), ('certificate', 1949), ('eradicating', 4424), ('detection', 3470), ('sergey', 11480), ('affiliation', 262), ('declared', 3228), ('sovereign', 11988), ('strongest', 12381), ('queen', 10218), ('helplessly', 5950), ('scar', 11236), ('photographed', 9435), ('widely', 14174), ('surveillance', 12588), ('horrified', 6131), ('ordinary', 8915), ('lesion', 7375), ('eyelid', 4731), ('swollen', 12663), ('secondary', 11350), ('infection', 6554), ('covered', 2888), ('pregnant', 9821), ('embarked', 4179), ('eradicate', 4422), ('affected', 258), ('exploded', 4663), ('linguistic', 7477), ('household', 6157), ('deity', 3299), ('cooling', 2775), ('prevalent', 9881), ('vaccinate', 13756), ('canada', 1755), ('draw', 3911), ('circle', 2122), ('immunity', 6364), ('spike', 12074), ('illusion', 6323), ('necessary', 8482), ('reward', 10906), ('continued', 2705), ('reported', 10711), ('globe', 5520), ('eradication', 4425), ('malaria', 7720), ('fever', 4912), ('aaron', 0), ('barry', 1080), ('replace', 10695), ('blindness', 1345), ('discovering', 3659), ('survey', 12589), ('finding', 4958), ('cause', 1889), ('mount', 8308), ('alumnus', 435), ('climbed', 2205), ('tasted', 12768), ('sight', 11672), ('epidemiology', 4400), ('clinical', 2211), ('auction', 879), ('conducted', 2539), ('nepal', 8509), ('caused', 1890), ('cataract', 1868), ('cure', 3057), ('prevent', 9882), ('package', 9080), ('dvd', 3996), ('infinite', 6562), ('dr', 3891), ('bird', 1285), ('flu', 5074), ('preventing', 9886), ('vaccine', 13759), ('adequate', 181), ('supply', 12548), ('combat', 2358), ('occurs', 8768), ('progress', 9989), ('alert', 361), ('transmission', 13243), ('sustained', 12613), ('category', 1877), ('coughing', 2851), ('sneezing', 11881), ('influenza', 6578), ('likelihood', 7449), ('lifetime', 7433), ('recession', 10419), ('depression', 3400), ('inventory', 6864), ('tight', 13047), ('rubber', 11071), ('merely', 7988), ('healthcare', 5903), ('unthinkable', 13661), ('simulation', 11712), ('assume', 803), ('slowly', 11825), ('outbreak', 8968), ('undo', 13542), ('isolate', 6942), ('grab', 5584), ('virus', 13917), ('jail', 6970), ('curve', 3075), ('ultimately', 13453), ('downhill', 3878), ('usually', 13739), ('occur', 8764), ('sars', 11192), ('owe', 9059), ('debt', 3199), ('ron', 11028), ('st', 12155), ('founder', 5198), ('flown', 5073), ('february', 4872), ('denominator', 3360), ('total', 13144), ('seriousness', 11484), ('legacy', 7346), ('mantra', 7773), ('contain', 2676), ('novel', 8668), ('shift', 11585), ('drift', 3930), ('industrial', 6530), ('spill', 12076), ('catastrophe', 1869), ('detect', 3466), ('owned', 9063), ('bowel', 1468), ('freely', 5245), ('housed', 6156), ('neutral', 8535), ('redundant', 10499), ('backup', 996), ('crawl', 2925), ('confirmation', 2559), ('sm', 11833), ('instant', 6687), ('messaging', 8001), ('meter', 8017), ('rumor', 11088), ('valid', 13766), ('understands', 13527), ('possibly', 9722), ('mad', 7670), ('violation', 13901), ('lb', 7306), ('hong', 6101), ('kong', 7201), ('remarkable', 10642), ('chicken', 2053), ('track', 13176), ('crawling', 2927), ('symptom', 12681), ('action', 130), ('receive', 10408), ('unexplained', 13556), ('cluster', 2248), ('illness', 6316), ('cracking', 2904), ('reporting', 10713), ('percentage', 9323), ('chinese', 2068), ('spanish', 12006), ('french', 5252), ('nairobi', 8410), ('cdc', 1901), ('accepting', 63), ('overseeing', 9045), ('disaster', 3633), ('invention', 6861), ('opensource', 8857), ('cofounder', 2287), ('kate', 7109), ('responding', 10809), ('systemic', 12705), ('scarce', 11237), ('innovative', 6640), ('socially', 11906), ('jewel', 7014), ('crave', 2923), ('returning', 10864), ('refugee', 10536), ('prototype', 10081), ('experimenting', 4649), ('mobile', 8182), ('clinic', 2210), ('followed', 5105), ('tipping', 13080), ('bam', 1035), ('montana', 8251), ('plain', 9528), ('reservation', 10758), ('alabama', 346), ('mississippi', 8156), ('kicked', 7140), ('horrific', 6130), ('blog', 1358), ('tsunami', 13359), ('raising', 10291), ('needing', 8489), ('reconstruction', 10450), ('overview', 9053), ('manage', 7739), ('embrace', 4192), ('model', 8191), ('utopia', 13748), ('bullet', 1631), ('na', 8405), ('vet', 13856), ('developed', 3495), ('advocacy', 246), ('implementation', 6387), ('workshop', 14284), ('lecture', 7337), ('ngo', 8558), ('competition', 2446), ('referring', 10511), ('implementing', 6389), ('select', 11387), ('emergency', 4200), ('transitional', 13234), ('rebuild', 10398), ('imposing', 6406), ('regrow', 10558), ('sublime', 12425), ('inflatable', 6567), ('shipping', 11594), ('container', 2678), ('dealt', 3187), ('architectural', 682), ('governance', 5575), ('professional', 9974), ('rubble', 11074), ('destroyed', 3455), ('straw', 12341), ('bale', 1027), ('actual', 147), ('villager', 13892), ('kilometer', 7157), ('engaging', 4304), ('spark', 12010), ('distributed', 3768), ('preexisting', 9813), ('awareness', 966), ('plot', 9577), ('finished', 4969), ('patient', 9238), ('nutrition', 8702), ('antiretrovirals', 582), ('setting', 11499), ('route', 11060), ('engine', 4306), ('selfsustaining', 11425), ('currently', 3067), ('rolling', 11022), ('kenya', 7124), ('promiscuous', 10009), ('knowledge', 7196), ('youth', 14395), ('doubled', 3866), ('outreach', 8996), ('coach', 2254), ('empowering', 4240), ('rebuilding', 10399), ('winning', 14216), ('soccer', 11900), ('centre', 1935), ('consultant', 2661), ('football', 5120), ('league', 7314), ('changed', 1972), ('tanzania', 12754), ('june', 7085), ('tedglobal', 12814), ('hurricane', 6229), ('assembled', 785), ('mapping', 7786), ('plastic', 9545), ('august', 893), ('replacement', 10697), ('rainwater', 10286), ('collection', 2325), ('classroom', 2170), ('hot', 6148), ('chocolate', 2072), ('sale', 11147), ('atlanta', 834), ('onsite', 8840), ('cnn', 2253), ('volunteer', 13964), ('figuring', 4932), ('ill', 6309), ('cleaning', 2177), ('walker', 14002), ('buck', 1601), ('clothes', 2237), ('photographer', 9436), ('documented', 3815), ('tent', 12898), ('assemble', 784), ('flap', 5017), ('implemented', 6388), ('inventor', 6863), ('smoking', 11863), ('attach', 846), ('membrane', 7958), ('beam', 1120), ('nasa', 8439), ('whip', 14153), ('mexico', 8027), ('palestine', 9115), ('toilet', 13101), ('spend', 12062), ('abject', 12), ('settlement', 11502), ('camp', 1747), ('actively', 138), ('sec', 11348), ('conduit', 2543), ('replicates', 10705), ('globally', 5519), ('slept', 11797), ('license', 7412), ('replicate', 10703), ('upload', 13694), ('tested', 12926), ('earthquake', 4035), ('integrating', 6724), ('manufacturer', 7779), ('fab', 4736), ('lab', 7209), ('slum', 11829), ('leapfrog', 7322), ('worldchanging', 14286), ('adaptable', 159), ('sheet', 11575), ('yanked', 14352), ('computing', 2503), ('utilize', 13745), ('reviewing', 10889), ('engineer', 4307), ('proven', 10088), ('mouth', 8316), ('trouser', 13339), ('fed', 4875), ('guideline', 5736), ('demonstrates', 3350), ('passionate', 9211), ('collaborative', 2312), ('seek', 11374), ('mit', 8170), ('regime', 10550), ('quit', 10236), ('stepped', 12259), ('chairman', 1958), ('figured', 4931), ('agrees', 313), ('interacting', 6747), ('provided', 10092), ('learner', 7327), ('senegal', 11439), ('lightning', 7444), ('alphabet', 416), ('swim', 12649), ('fish', 4991), ('anecdote', 513), ('telephone', 12858), ('broadband', 1559), ('skype', 11775), ('telephony', 12859), ('hut', 6240), ('brightest', 1541), ('metaphor', 8013), ('parallel', 9152), ('governor', 5580), ('fair', 4775), ('preferred', 9817), ('attending', 863), ('discipline', 3642), ('fifth', 4925), ('server', 11491), ('screw', 11308), ('association', 802), ('perfect', 9329), ('pixel', 9519), ('strategic', 12335), ('launch', 7282), ('kofi', 7200), ('annan', 536), ('november', 8671), ('summit', 12509), ('held', 5936), ('tunisia', 13375), ('ah', 316), ('bulb', 1625), ('laser', 7260), ('distribute', 3767), ('disappears', 3628), ('rough', 11055), ('diagonal', 3523), ('inch', 6453), ('unless', 13609), ('brown', 1582), ('fascinating', 4824), ('devoted', 3508), ('obese', 8717), ('reliably', 10617), ('clap', 2156), ('ovation', 9013), ('nameless', 8414), ('bat', 1094), ('bing', 1251), ('macintosh', 7668), ('steadily', 12241), ('notable', 8648), ('mesh', 7995), ('dual', 3967), ('outdoors', 8974), ('sunlight', 12518), ('manually', 7775), ('resolution', 10785), ('taiwan', 12727), ('embodiment', 4190), ('handsome', 5807), ('decide', 3214), ('nicholas', 8564), ('negroponte', 8501), ('forgot', 5162), ('electronic', 4142), ('massachusetts', 7843), ('bid', 1228), ('law', 7291), ('agonizing', 306), ('nimble', 8583), ('conservative', 2620), ('payroll', 9267), ('thailand', 12942), ('purposely', 10182), ('signing', 11683), ('schedule', 11254), ('afforded', 273), ('scaled', 11226), ('targeting', 12764), ('gray', 5652), ('utterly', 13752), ('stolen', 12303), ('spray', 12121), ('subsequently', 12438), ('gender', 5410), ('uncle', 13481), ('niece', 8570), ('nephew', 8510), ('exciting', 4579), ('content', 2692), ('scratch', 11297), ('dreaming', 3922), ('criticize', 2977), ('december', 3208), ('quantum', 10211), ('soft', 11917), ('landing', 7238), ('laboratory', 7214), ('describes', 3422), ('thinker', 12980), ('angel', 517), ('designerim', 3436), ('drafting', 3894), ('wide', 14173), ('equipped', 4416), ('sensor', 11452), ('kiosk', 7170), ('register', 10553), ('sensing', 11449), ('highresolution', 6008), ('scalable', 11224), ('newfound', 8548), ('accessibility', 67), ('lava', 7289), ('lamp', 7232), ('application', 633), ('squeeze', 12145), ('blob', 1351), ('inject', 6619), ('intuitive', 6846), ('instruction', 6704), ('inherently', 6604), ('malleable', 7730), ('concrete', 2526), ('load', 7528), ('cooler', 2773), ('stretch', 12359), ('pan', 9125), ('zoom', 14421), ('rotate', 11047), ('effortlessly', 4108), ('grossly', 5700), ('canvas', 1773), ('simultaneously', 11715), ('gripping', 5692), ('stretching', 12361), ('interacted', 6746), ('cringe', 2966), ('introducing', 6838), ('keyboard', 7133), ('device', 3502), ('nowadays', 8672), ('applied', 634), ('intelligently', 6733), ('stroke', 12377), ('nyu', 8709), ('neat', 8479), ('magnifying', 7690), ('continuously', 2710), ('enjoyed', 4324), ('emphasized', 4226), ('accessing', 69), ('helped', 5945), ('inference', 6558), ('drill', 3933), ('collected', 2323), ('seamlessly', 11332), ('determining', 3484), ('tilt', 13054), ('relegated', 10610), ('defining', 3280), ('apps', 659), ('manipulate', 7762), ('technique', 12802), ('released', 10608), ('compute', 2499), ('respective', 10803), ('cheap', 2012), ('herald', 5954), ('pianist', 9458), ('composer', 2477), ('speaker', 12021), ('played', 9555), ('kaleidoscope', 7103), ('polish', 9638), ('german', 5472), ('thcentury', 12951), ('melody', 7951), ('female', 4891), ('session', 11494), ('sync', 12686), ('flow', 5068), ('genius', 5440), ('composition', 2480), ('compose', 2475), ('improvise', 6429), ('composed', 2476), ('romantic', 11025), ('inspiration', 6674), ('somewhat', 11951), ('overall', 9015), ('enjoy', 4322), ('japanese', 6981), ('craze', 2929), ('motive', 8302), ('initial', 6613), ('comic', 2374), ('grandiose', 5618), ('pen', 9298), ('distracted', 3761), ('naturally', 8458), ('magical', 7680), ('improvisation', 6428), ('yay', 14357), ('jennifer', 7001), ('lin', 7466), ('chose', 2092), ('concert', 2520), ('performed', 9336), ('improvising', 6431), ('aged', 289), ('violin', 13905), ('violinist', 13906), ('hi', 5977), ('connecticut', 2595), ('cheer', 2027), ('cellphone', 1917), ('memorize', 7964), ('throat', 13022), ('string', 12369), ('pulling', 10144), ('wave', 14070), ('pass', 9205), ('amplified', 469), ('placing', 9525), ('frequency', 5254), ('audio', 884), ('producing', 9966), ('giant', 5482), ('bench', 1183), ('lightweight', 7445), ('whispering', 14159), ('relate', 10592), ('instrument', 6707), ('sounded', 11975), ('tonight', 13118), ('legendary', 7350), ('perform', 9334), ('unexpectedly', 13555), ('honestly', 6097), ('impressive', 6417), ('caring', 1818), ('nuanced', 8678), ('charming', 2002), ('timeless', 13062), ('debut', 3201), ('symphony', 12680), ('orchestra', 8905), ('numerous', 8691), ('charm', 2001), ('yearolds', 14363), ('simplest', 11700), ('diarrhea', 3536), ('malnutrition', 7732), ('breathing', 1520), ('smoke', 11860), ('indoor', 6525), ('acute', 151), ('respiratory', 10805), ('shocking', 11600), ('appalling', 611), ('cleaner', 2176), ('stove', 12320), ('wonder', 14260), ('nanotube', 8424), ('charcoal', 1989), ('rural', 11097), ('haiti', 5773), ('scene', 11252), ('severe', 11512), ('flooding', 5058), ('hill', 6022), ('stabilize', 12159), ('cook', 2766), ('harvest', 5859), ('damage', 3115), ('perfectly', 9333), ('food', 5113), ('corp', 2804), ('compress', 2488), ('discouraging', 3655), ('paperwork', 9140), ('readily', 10357), ('smallscale', 11839), ('extract', 4710), ('nutritional', 8703), ('feed', 4879), ('sits', 11743), ('harness', 5849), ('kiln', 7154), ('drum', 3959), ('seal', 11328), ('restrict', 10829), ('oxygen', 9070), ('conveniently', 2740), ('sticky', 12275), ('porridge', 9695), ('cassava', 1853), ('root', 11035), ('vegetable', 13812), ('bind', 1249), ('graduate', 5599), ('instructor', 6706), ('commonly', 2403), ('dung', 3986), ('smoky', 11864), ('biomass', 1271), ('locally', 7540), ('wheat', 14146), ('rice', 10923), ('manure', 7781), ('ordinarily', 8914), ('sidebyside', 11664), ('improved', 6424), ('marketplace', 7815), ('addition', 173), ('generated', 5419), ('ahead', 318), ('uc', 13440), ('berkeley', 1197), ('switching', 12661), ('agricultural', 314), ('nick', 8565), ('sample', 11165), ('fully', 5305), ('functional', 5309), ('compared', 2428), ('extra', 4709), ('sad', 11121), ('commentary', 2383), ('row', 11064), ('rare', 10323), ('generate', 5418), ('excess', 4569), ('tradeoff', 13186), ('everyday', 4527), ('grinding', 5689), ('grain', 5608), ('advanced', 221), ('cement', 1922), ('earning', 4027), ('workforce', 14277), ('california', 1728), ('zambia', 14403), ('farmer', 4816), ('microfinance', 8044), ('basket', 1090), ('crop', 2984), ('promoting', 10016), ('educational', 4092), ('testing', 12929), ('maintain', 7705), ('bottleneck', 1452), ('fragmented', 5215), ('implement', 6386), ('fume', 5306), ('practical', 9762), ('tough', 13152), ('accomplishment', 82), ('received', 10409), ('cousin', 2884), ('terribly', 12914), ('disciplined', 3643), ('hanging', 5813), ('pee', 9287), ('guide', 5734), ('captain', 1786), ('organic', 8919), ('aesthetic', 254), ('cave', 1896), ('coding', 2278), ('superficial', 12527), ('rubbish', 11073), ('artificially', 748), ('induced', 6528), ('consumerism', 2668), ('purely', 10174), ('instinctively', 6695), ('trust', 13348), ('instinct', 6693), ('stcentury', 12240), ('translator', 13241), ('packaging', 9082), ('elevate', 4152), ('bottle', 1450), ('leonardo', 7371), ('da', 3106), ('vinci', 13895), ('curiosity', 3060), ('instinctive', 6694), ('pad', 9087), ('impression', 6416), ('reinvented', 10585), ('greg', 5675), ('rem', 10633), ('pioneering', 9499), ('digitally', 3574), ('invisible', 6884), ('flowing', 5072), ('richard', 10925), ('icon', 6269), ('elevates', 4154), ('individualism', 6520), ('childrens', 2060), ('polymer', 9660), ('cape', 1779), ('knee', 7182), ('improves', 6426), ('existed', 4613), ('strangeness', 12330), ('evolve', 4539), ('condense', 2529), ('scan', 11229), ('forearm', 5135), ('prototyping', 10083), ('cellular', 1918), ('specimen', 12042), ('qualification', 10202), ('marijuana', 7802), ('cooked', 2767), ('fabulous', 4742), ('estimation', 4474), ('protein', 10073), ('pour', 9748), ('dissolve', 3740), ('manufacturing', 7780), ('restricted', 10830), ('interrelated', 6793), ('inspire', 6676), ('magnesium', 7683), ('wale', 13999), ('holistic', 6068), ('essential', 4464), ('fluidity', 5079), ('funky', 5325), ('fractal', 5207), ('shrinking', 11645), ('sole', 11928), ('blending', 1334), ('tokyo', 13103), ('sculptural', 11322), ('investigation', 6875), ('henry', 5953), ('moore', 8264), ('phew', 9415), ('britain', 1554), ('contributes', 2726), ('sensuality', 11455), ('artwork', 757), ('laughing', 7280), ('sock', 11912), ('coral', 2795), ('deliver', 3319), ('realm', 10375), ('italy', 6954), ('extremity', 4723), ('shadow', 11530), ('minimum', 8120), ('garner', 5382), ('furniture', 5334), ('typology', 13434), ('aluminum', 434), ('opposed', 8874), ('phillips', 9424), ('studio', 12398), ('goodness', 5553), ('soup', 11978), ('delivers', 3322), ('flour', 5064), ('chip', 2069), ('sony', 11956), ('fuck', 5290), ('droplet', 3948), ('banging', 1046), ('moscow', 8284), ('everythings', 4528), ('integrated', 6723), ('panel', 9132), ('battery', 1106), ('wheel', 14147), ('fitted', 5002), ('formula', 5176), ('feminine', 4892), ('inspired', 6677), ('hydrogen', 6246), ('floating', 5054), ('ai', 322), ('anymore', 591), ('staircase', 12175), ('martin', 7828), ('lean', 7318), ('composite', 2479), ('rotates', 11049), ('supported', 12551), ('shot', 11625), ('fear', 4858), ('height', 5933), ('internal', 6776), ('integration', 6725), ('crap', 2917), ('lighting', 7441), ('raining', 10285), ('prefer', 9814), ('elephant', 4151), ('skull', 11772), ('oxford', 9068), ('whale', 14141), ('skeleton', 11755), ('homemade', 6082), ('bamboo', 1036), ('folding', 5102), ('riding', 10942), ('crappy', 2918), ('banker', 1051), ('solarpowered', 11925), ('garden', 5378), ('leaf', 7312), ('golden', 5545), ('supernatural', 12538), ('brick', 1532), ('ceramic', 1940), ('overtime', 9051), ('passion', 9210), ('tom', 13110), ('sweden', 12637), ('beijing', 1166), ('friday', 5263), ('ed', 4073), ('combine', 2361), ('mask', 7839), ('sculpture', 11323), ('copper', 2791), ('jelly', 6999), ('quiz', 10239), ('ross', 11044), ('minimal', 8116), ('wikipedia', 14189), ('van', 13778), ('editor', 4086), ('britannica', 1555), ('encyclopedia', 4271), ('sum', 12502), ('licensed', 7413), ('wiki', 14188), ('demonstrated', 3349), ('edit', 4082), ('describing', 3423), ('divide', 3791), ('chosen', 2093), ('licensing', 7414), ('empowers', 4242), ('redistribute', 10491), ('commercially', 2390), ('arise', 701), ('donation', 3845), ('graph', 5632), ('printing', 9918), ('article', 742), ('discussion', 3672), ('blue', 1373), ('organized', 8925), ('chaotic', 1980), ('administrator', 196), ('online', 8837), ('crew', 2957), ('monthly', 8255), ('bandwidth', 1043), ('hired', 6041), ('brian', 1529), ('parttime', 9202), ('fulltime', 5304), ('comparing', 2429), ('controversy', 2735), ('extensively', 4703), ('red', 10478), ('herring', 5969), ('reporter', 10712), ('spelled', 12059), ('election', 4132), ('contentious', 2693), ('tearing', 12793), ('slight', 11807), ('edited', 4083), ('heavily', 5926), ('occasion', 8755), ('extreme', 4719), ('occasionally', 8757), ('controversial', 2734), ('neutrality', 8536), ('thoughtful', 12996), ('jerk', 7005), ('specific', 12036), ('incident', 6455), ('routine', 11061), ('fixed', 5011), ('cooperation', 2779), ('objectivity', 8726), ('jargon', 6983), ('contributor', 2729), ('engage', 4300), ('realtime', 10376), ('peer', 9291), ('review', 10887), ('chat', 2009), ('monitoring', 8239), ('notification', 8659), ('revert', 10886), ('deleted', 3306), ('intriguing', 6831), ('jump', 7082), ('anonymous', 552), ('log', 7551), ('vast', 13802), ('constant', 2643), ('communication', 2412), ('mailing', 7698), ('offline', 8797), ('bulk', 1627), ('smartest', 11842), ('ip', 6903), ('highlighted', 5999), ('openended', 8852), ('vote', 13972), ('delete', 3305), ('verifiable', 13839), ('arose', 718), ('organically', 8920), ('twisted', 13412), ('supposedly', 12557), ('fails', 4772), ('threat', 13002), ('tomorrow', 13114), ('voting', 13975), ('tightknit', 13049), ('weight', 14114), ('governed', 5576), ('consensus', 2612), ('elected', 4131), ('troll', 13328), ('accuse', 100), ('bias', 1223), ('aristocracy', 704), ('hint', 6033), ('angela', 518), ('admired', 200), ('monarchy', 8230), ('berlin', 1198), ('headline', 5891), ('longstanding', 7578), ('benevolent', 1193), ('dictator', 3545), ('compiled', 2450), ('jewish', 7016), ('conspiracy', 2642), ('openness', 8856), ('undermine', 13512), ('flexible', 5041), ('methodology', 8020), ('ben', 1182), ('jimmy', 7021), ('biased', 1224), ('blogger', 1359), ('journalist', 7053), ('harvard', 5858), ('appointed', 638), ('fulfill', 5297), ('spam', 12004), ('recall', 10401), ('collaborating', 2310), ('selforganizing', 11420), ('legion', 7351), ('resonance', 10788), ('swept', 12646), ('witnessed', 14246), ('thomas', 12989), ('ecosystem', 4069), ('rip', 10964), ('vibrant', 13863), ('inclusive', 6464), ('continually', 2702), ('innovate', 6637), ('disconnect', 3648), ('appear', 618), ('publishes', 10136), ('publishing', 10137), ('complicated', 2469), ('heavy', 5927), ('ultimate', 13452), ('reinventing', 10586), ('digitizing', 3577), ('storing', 12314), ('interconnected', 6753), ('repository', 10714), ('massive', 7847), ('modify', 8205), ('timescale', 13066), ('edition', 4085), ('refer', 10505), ('dj', 3804), ('innovating', 6638), ('cambridge', 1739), ('kyoto', 7207), ('electrical', 4135), ('super', 12524), ('cover', 2886), ('customized', 3084), ('kitty', 7179), ('jones', 7044), ('champagne', 1965), ('illinois', 6313), ('indicating', 6505), ('thirst', 12985), ('ripping', 10967), ('copying', 2793), ('reusing', 10869), ('texas', 12933), ('translating', 13239), ('widespread', 14179), ('thai', 12941), ('embedding', 4187), ('regular', 10559), ('customize', 3083), ('extraordinarily', 4714), ('likened', 7452), ('imperialism', 6382), ('empower', 4238), ('ownership', 9065), ('valley', 13770), ('connectivity', 2599), ('bookstore', 1421), ('published', 10134), ('demand', 3328), ('publisher', 10135), ('publication', 10130), ('modular', 8207), ('inexpensively', 6546), ('amazon', 445), ('ondemand', 8824), ('tail', 12724), ('harry', 5856), ('potter', 9744), ('partial', 9182), ('differential', 3557), ('equation', 4411), ('sustaining', 12614), ('sustain', 12609), ('emergence', 4199), ('impending', 6376), ('representation', 10716), ('tore', 13132), ('lego', 7358), ('myriad', 8396), ('framework', 5220), ('primordial', 9909), ('torn', 13134), ('sophisticated', 11961), ('personalize', 9377), ('excite', 4575), ('reuse', 10868), ('signal', 11675), ('processing', 9957), ('fallen', 4786), ('seemingly', 11377), ('dry', 3963), ('tremendously', 13292), ('synthesizer', 12696), ('intellectual', 6729), ('interconnection', 6755), ('explore', 4672), ('algebra', 368), ('tinker', 13074), ('chemistry', 2039), ('molecule', 8217), ('accused', 101), ('piracy', 9502), ('linux', 7485), ('deed', 3246), ('attribute', 876), ('uptake', 13708), ('visitor', 13929), ('contributing', 2727), ('module', 8210), ('feminist', 4894), ('journal', 7051), ('ensured', 4349), ('lens', 7367), ('allowing', 405), ('adapting', 162), ('humorist', 6211), ('approached', 648), ('explained', 4656), ('trouble', 13334), ('appeal', 615), ('twirl', 13410), ('daddy', 3108), ('pony', 9665), ('stir', 12291), ('pot', 9737), ('casual', 1859), ('placebo', 9522), ('cheaper', 2013), ('compliment', 2472), ('breathes', 1519), ('arriving', 733), ('adage', 155), ('assure', 809), ('honesty', 6098), ('custody', 3079), ('finance', 4953), ('economical', 4064), ('conducive', 2537), ('trustworthy', 13351), ('rebel', 10393), ('rehabilitation', 10570), ('reserve', 10759), ('insisted', 6667), ('possession', 9719), ('refusal', 10537), ('arrangement', 723), ('deposited', 3396), ('security', 11367), ('asylum', 826), ('assistance', 797), ('silent', 11686), ('complete', 2459), ('embarrassing', 4182), ('backstage', 995), ('pursuing', 10186), ('ashamed', 761), ('wasted', 14052), ('slipped', 11813), ('browser', 1584), ('march', 7791), ('dancing', 3126), ('thursday', 13032), ('featured', 4870), ('closest', 2230), ('cent', 1928), ('megabyte', 7942), ('owed', 9060), ('needle', 8490), ('laid', 7226), ('freelance', 5244), ('distilled', 3748), ('idiot', 6294), ('unfortunate', 13569), ('microscope', 8049), ('boulder', 1456), ('rocking', 11009), ('naked', 8412), ('smooth', 11865), ('simulator', 11713), ('trench', 13294), ('prerecorded', 9843), ('cheering', 2030), ('malcolm', 7723), ('applauding', 627), ('heroic', 5965), ('loud', 7604), ('frog', 5275), ('shrimp', 11642), ('replay', 10700), ('buddhist', 1608), ('quarter', 10215), ('hoping', 6118), ('preference', 9816), ('creation', 2938), ('perpetual', 9358), ('hopefully', 6114), ('meaningful', 7899), ('contest', 2694), ('resonated', 10791), ('fashion', 4828), ('crayon', 2928), ('suck', 12470), ('penis', 9308), ('attempt', 856), ('generative', 5424), ('postwar', 9736), ('etching', 4478), ('tuned', 13373), ('partake', 9181), ('trap', 13260), ('submitted', 12431), ('darling', 3145), ('drew', 3927), ('gorgeous', 5564), ('fiction', 4917), ('encourages', 4267), ('contributed', 2725), ('mistress', 8164), ('spouse', 12118), ('chill', 2062), ('peripheral', 9347), ('bonding', 1413), ('lacking', 7219), ('puppet', 10168), ('performer', 9337), ('standup', 12193), ('addictive', 170), ('toy', 13170), ('mischief', 8138), ('preparing', 9841), ('voted', 13973), ('grandfather', 5617), ('greatgrandfather', 5659), ('bloodstream', 1364), ('husband', 6235), ('internationally', 6781), ('appalled', 610), ('impress', 6414), ('makeup', 7718), ('genetics', 5434), ('grandmother', 5621), ('adjust', 187), ('avoid', 950), ('customer', 3081), ('typewriter', 13428), ('exposed', 4687), ('expose', 4686), ('scared', 11241), ('swear', 12631), ('friendly', 5268), ('consume', 2665), ('posting', 9730), ('frequently', 5256), ('blogging', 1360), ('oregon', 8917), ('palate', 9111), ('stimulated', 12283), ('illustration', 6329), ('hid', 5979), ('bunk', 1645), ('overheard', 9029), ('jumped', 7083), ('peak', 9275), ('award', 962), ('southwest', 11986), ('post', 9723), ('wanting', 14017), ('tyrant', 13437), ('loving', 7620), ('sweet', 12641), ('beer', 1144), ('einstein', 4120), ('choked', 2076), ('memorial', 7963), ('anyways', 594), ('gossip', 5568), ('norman', 8636), ('rockwell', 11010), ('critic', 2973), ('bathroom', 1100), ('resonate', 10790), ('biblical', 1226), ('pneumonia', 9598), ('encountered', 4262), ('heartfelt', 5918), ('failure', 4773), ('slowing', 11824), ('persona', 9373), ('unhappy', 13572), ('optimistic', 8889), ('timing', 13069), ('perseverance', 9364), ('extent', 4704), ('direct', 3606), ('trace', 13173), ('influenced', 6575), ('census', 1927), ('maiden', 7695), ('archive', 685), ('greatly', 5660), ('aging', 302), ('grandchild', 5613), ('narcissistic', 8429), ('insane', 6646), ('april', 660), ('visual', 13931), ('cue', 3034), ('germany', 5473), ('smiling', 11856), ('driver', 3942), ('emma', 4213), ('beta', 1208), ('emotional', 4217), ('empowered', 4239), ('comfortable', 2371), ('obituary', 8721), ('movable', 8318), ('spare', 12008), ('hobby', 6060), ('mri', 8327), ('scanner', 11234), ('accepted', 62), ('dumped', 3983), ('campfire', 1752), ('psychological', 10114), ('anne', 537), ('bernard', 1200), ('shaw', 11570), ('consists', 2636), ('sweep', 12639), ('poetry', 9610), ('wine', 14212), ('hooked', 6107), ('sleeping', 11793), ('mat', 7854), ('elevated', 4153), ('dopamine', 3855), ('jumping', 7084), ('sky', 11773), ('mood', 8260), ('swing', 12653), ('despair', 3444), ('poorly', 9673), ('dependence', 3376), ('businessman', 1674), ('sexually', 11526), ('casually', 1860), ('darwinian', 3151), ('rear', 10379), ('characteristic', 1985), ('craving', 2924), ('motor', 8303), ('crank', 2916), ('obsession', 8745), ('psychologist', 10116), ('traumatic', 13265), ('salt', 11155), ('scanned', 11233), ('sweetheart', 12642), ('distraction', 3763), ('heightened', 5934), ('resting', 10820), ('cocaine', 2268), ('promotion', 10017), ('slip', 11812), ('rejected', 10588), ('legend', 7349), ('sorrow', 11966), ('reproduction', 10726), ('sexual', 11524), ('gratification', 5643), ('intolerable', 6822), ('neural', 8524), ('bothering', 1448), ('hungry', 6221), ('attachment', 849), ('longterm', 7579), ('conserving', 2622), ('tolerate', 13107), ('discussing', 3671), ('lust', 7653), ('closing', 2233), ('bark', 1071), ('grassland', 5640), ('gather', 5392), ('regarded', 10544), ('economically', 4065), ('plow', 9580), ('ancient', 504), ('collector', 2328), ('acquiring', 123), ('generally', 5417), ('alike', 381), ('verbal', 13836), ('menstrual', 7970), ('cycle', 3097), ('estrogen', 4475), ('menstruation', 7971), ('journalism', 7052), ('producer', 9965), ('negotiating', 8498), ('imaginative', 6336), ('circuitry', 2126), ('outcome', 8970), ('stepbystep', 12256), ('male', 7724), ('employed', 4233), ('romance', 11024), ('foremost', 5144), ('sexuality', 11525), ('sooner', 11958), ('remorse', 10659), ('marry', 7820), ('fewer', 4913), ('expression', 4693), ('hunting', 6227), ('symmetrical', 12676), ('compatible', 2435), ('arranged', 722), ('divorce', 3799), ('decline', 3230), ('viagra', 13860), ('hip', 6034), ('complication', 2470), ('orgasm', 8928), ('oxytocin', 9071), ('cosmic', 2834), ('unrelated', 13640), ('committee', 2398), ('antidepressant', 576), ('prescription', 9848), ('recommend', 10438), ('serotonin', 11486), ('suppress', 12558), ('circuit', 2125), ('deadly', 3181), ('identical', 6283), ('twin', 13409), ('australian', 903), ('dating', 3160), ('mystery', 8399), ('mysterious', 8397), ('threshold', 13013), ('unconscious', 13487), ('trait', 13205), ('complementary', 2458), ('carrying', 1836), ('brook', 1574), ('trigger', 13313), ('noisy', 8602), ('squeezing', 12147), ('survives', 12595), ('mortal', 8278), ('coil', 2296), ('fisher', 4993), ('tricky', 13311), ('biochemical', 1255), ('importance', 6398), ('abuse', 42), ('cheat', 2016), ('activisti', 141), ('vagina', 13761), ('darkness', 3144), ('secrecy', 11354), ('surrounding', 12586), ('bermuda', 1199), ('triangle', 13299), ('interviewed', 6812), ('highpowered', 6004), ('angle', 521), ('twisting', 13413), ('exhausting', 4602), ('busy', 1679), ('monologue', 8244), ('younger', 14391), ('lesbian', 7374), ('africanamerican', 280), ('shy', 11657), ('reluctant', 10629), ('nurse', 8693), ('neck', 8484), ('pajama', 9105), ('jersey', 7007), ('pal', 9108), ('dignity', 3579), ('miami', 8030), ('philadelphia', 9417), ('menopause', 7969), ('sucked', 12471), ('scream', 11300), ('ambition', 452), ('practicing', 9766), ('buddhism', 1607), ('selfishness', 11417), ('stating', 12226), ('deepest', 3253), ('breaking', 1511), ('narrative', 8433), ('lined', 7472), ('raped', 10317), ('battered', 1105), ('beaten', 1129), ('intervene', 6807), ('investigating', 6874), ('susan', 12598), ('glenn', 5511), ('goldberg', 5544), ('campus', 1754), ('devastating', 3492), ('pocket', 9602), ('crater', 2922), ('recognize', 10433), ('taliban', 12737), ('dressed', 3925), ('revolutionary', 10900), ('firsthand', 4987), ('stripped', 12372), ('strip', 12370), ('vanilla', 13781), ('seated', 11342), ('curtain', 3073), ('melted', 7954), ('washed', 14046), ('cocacola', 2267), ('recognized', 10434), ('antidote', 577), ('vitality', 13939), ('sea', 11325), ('paradigm', 9146), ('transforming', 13226), ('rating', 10329), ('warrior', 14041), ('ak', 342), ('weapon', 14088), ('grieve', 5684), ('devote', 3507), ('transmit', 13244), ('heady', 5896), ('disoriented', 3701), ('separation', 11469), ('separating', 11468), ('brings', 1551), ('transformed', 13224), ('guatemala', 5725), ('beating', 1130), ('addicted', 168), ('rape', 10316), ('madison', 7675), ('dome', 3830), ('heel', 5932), ('murdered', 8365), ('esther', 4471), ('ch', 1954), ('accountant', 89), ('retire', 10854), ('discover', 3657), ('disappearance', 3625), ('accountable', 88), ('wept', 14134), ('mutilated', 8391), ('anatomical', 496), ('rift', 10944), ('dust', 3992), ('maasai', 7661), ('nomad', 8604), ('saved', 11212), ('ritual', 10978), ('trapping', 13262), ('alcoholic', 359), ('fantasy', 4806), ('rescue', 10743), ('sanity', 11183), ('odd', 8776), ('genital', 5437), ('mutilation', 8392), ('outcast', 8969), ('exiled', 4611), ('goat', 5536), ('greeted', 5673), ('heal', 5897), ('broken', 1570), ('miraculous', 8134), ('creator', 2943), ('onstage', 8842), ('waging', 13987), ('groundbreaking', 5702), ('propelled', 10030), ('astronomy', 823), ('physic', 9447), ('suspicion', 12607), ('suspect', 12601), ('dreamed', 3920), ('feynman', 4914), ('width', 14181), ('breadth', 1505), ('assumption', 807), ('queer', 10219), ('physicist', 9452), ('resort', 10793), ('paradoxical', 9149), ('fabric', 4738), ('wasteful', 14053), ('mutually', 8394), ('lewis', 7393), ('drink', 3936), ('odds', 8779), ('bladder', 1310), ('oliver', 8817), ('elementary', 4150), ('probability', 9941), ('hugely', 6174), ('breathed', 1518), ('nitrogen', 8591), ('atom', 840), ('lung', 7649), ('tall', 12741), ('successive', 12467), ('increasing', 6482), ('shattering', 11566), ('mental', 7972), ('recalling', 10403), ('round', 11057), ('rotating', 11050), ('replied', 10708), ('intuition', 6845), ('crystal', 3024), ('nucleus', 8681), ('hardest', 5834), ('particle', 9190), ('spaced', 11997), ('impenetrable', 6377), ('magnitude', 7691), ('navigate', 8463), ('perceive', 9318), ('penetrate', 9302), ('imagining', 6340), ('intuitively', 6847), ('rabbit', 10248), ('velocity', 13819), ('albert', 353), ('iii', 6307), ('commander', 2379), ('stared', 12201), ('virginia', 13910), ('frightening', 5272), ('prospect', 10055), ('merge', 7989), ('commanded', 2378), ('continual', 2701), ('arsenal', 737), ('army', 715), ('galileo', 5360), ('friction', 5262), ('vacuum', 13760), ('bacteria', 1001), ('thermal', 12969), ('dominated', 3836), ('gravity', 5651), ('oblivious', 8730), ('tension', 12897), ('priority', 9923), ('grand', 5612), ('douglas', 3874), ('adam', 156), ('positively', 9715), ('preoccupation', 9834), ('electromagnetic', 4140), ('fluctuation', 5075), ('victorian', 13873), ('desert', 3425), ('volcano', 13958), ('dune', 3985), ('volcanic', 13957), ('ash', 760), ('bodily', 1391), ('retains', 10848), ('crescent', 2955), ('horn', 6127), ('sand', 11174), ('shallow', 11542), ('slope', 11819), ('ridge', 10937), ('cascade', 1847), ('smell', 11849), ('momentarily', 8223), ('neutrino', 8538), ('consist', 2630), ('mediumsized', 7939), ('regulated', 10563), ('adjusted', 188), ('monkey', 8241), ('simulating', 11711), ('threedimensional', 13008), ('branch', 1491), ('trunk', 13347), ('constructing', 2657), ('speculated', 12051), ('ear', 4017), ('swallow', 12619), ('input', 6643), ('perceived', 9319), ('hue', 6171), ('aspect', 771), ('texture', 12939), ('furry', 5335), ('wavelength', 14072), ('sensory', 11453), ('modality', 8189), ('distinguish', 3753), ('fatty', 4846), ('acid', 112), ('diluted', 3585), ('trumpet', 13346), ('rhino', 10914), ('marble', 7789), ('crystalline', 3025), ('vibrating', 13865), ('agreement', 312), ('steady', 12242), ('origin', 8933), ('vastness', 13804), ('geological', 5460), ('estimate', 4472), ('landmark', 7241), ('arisen', 702), ('originate', 8936), ('galaxy', 5359), ('prince', 9910), ('shall', 11541), ('interpret', 6787), ('limitation', 7461), ('apprenticeship', 646), ('mathematical', 7863), ('genuinely', 5452), ('slit', 11816), ('mechanic', 7912), ('stream', 12345), ('similarly', 11696), ('manifest', 7758), ('contraction', 2717), ('applying', 637), ('subscribe', 12434), ('mechanistic', 7916), ('hormone', 6126), ('physiological', 9453), ('faulty', 4849), ('repairing', 10684), ('triggering', 13315), ('phase', 9411), ('escalating', 4451), ('behave', 1159), ('scientifically', 11269), ('philosophically', 9427), ('cumbersome', 3048), ('purposeful', 10180), ('guilt', 5739), ('intentional', 6743), ('modeling', 8193), ('entity', 4373), ('selected', 11388), ('versatile', 13846), ('dawkins', 3166), ('reference', 10506), ('steer', 12250), ('critique', 2980), ('uniquely', 13589), ('suited', 12500), ('existence', 4614), ('dramatic', 3906), ('spaceship', 11998), ('mess', 7999), ('hub', 6166), ('stephen', 12258), ('hawking', 5881), ('famously', 4798), ('orbit', 8901), ('outskirt', 9002), ('lightyears', 7446), ('immersion', 6355), ('rendering', 10671), ('nearest', 8477), ('explode', 4662), ('supernova', 12539), ('staring', 12202), ('glimmer', 5513), ('dense', 3361), ('telescope', 12861), ('collapsed', 2317), ('supermassive', 12537), ('directed', 3607), ('gravitational', 5650), ('jet', 7012), ('illuminated', 6319), ('lobe', 7536), ('experiencing', 4641), ('accurately', 98), ('contains', 2681), ('causal', 1886), ('resembles', 10754), ('embody', 4191), ('universality', 13599), ('everincreasing', 4524), ('essence', 4463), ('insignificant', 6665), ('emphasis', 4224), ('computation', 2497), ('thirdly', 12983), ('inundated', 6849), ('newton', 8554), ('saturated', 11201), ('parochial', 9176), ('misconception', 8140), ('cube', 3031), ('colony', 2345), ('forbidden', 5129), ('fusion', 5342), ('reactor', 10353), ('sens', 11441), ('presentday', 9852), ('astrophysics', 825), ('accelerator', 56), ('hospitable', 6137), ('polluted', 9655), ('limiting', 7463), ('plentiful', 9573), ('ongoing', 8835), ('vulnerability', 13980), ('terrorism', 12921), ('civilization', 2147), ('surviving', 12596), ('fail', 4769), ('unprecedented', 13629), ('overwhelming', 9057), ('distinguishes', 3755), ('prevailing', 9879), ('protocol', 10079), ('measure', 7906), ('advocated', 248), ('postpone', 9733), ('informing', 6585), ('precaution', 9782), ('foresee', 5147), ('stance', 12186), ('ounce', 8967), ('prevention', 9887), ('pound', 9746), ('punch', 10153), ('concentrated', 2509), ('buzzing', 1691), ('reduction', 10497), ('gas', 5385), ('efficiently', 4106), ('cheaply', 2015), ('swarm', 12627), ('deflect', 3286), ('aquatic', 664), ('organism', 8921), ('fringe', 5273), ('sheer', 11574), ('luck', 7636), ('avoiding', 954), ('indefinitely', 6493), ('tablet', 12709), ('carve', 1844), ('theoretical', 12962), ('urgent', 13720), ('pioneer', 9497), ('boundary', 1462), ('distant', 3746), ('writeri', 14329), ('blink', 1346), ('judgment', 7067), ('howard', 6163), ('spaghetti', 12002), ('sauce', 11204), ('parrot', 9179), ('medieval', 7931), ('profession', 9973), ('doctorate', 3810), ('measuring', 7909), ('consulting', 2664), ('pepsi', 9317), ('diet', 3552), ('straightforward', 12323), ('sweetness', 12643), ('batch', 1095), ('concentration', 2511), ('realizes', 10371), ('bell', 1174), ('diner', 3595), ('bolt', 1403), ('analyzed', 492), ('revelation', 10875), ('breakthrough', 1512), ('hire', 6040), ('worm', 14292), ('pickle', 9464), ('campbell', 1751), ('struggling', 12390), ('rag', 10272), ('dominant', 3834), ('tomato', 13111), ('paste', 9219), ('spice', 12069), ('pasta', 9218), ('pleasing', 9568), ('bowl', 1469), ('varied', 13794), ('conceivable', 2505), ('vary', 13798), ('congregate', 2584), ('analyze', 491), ('spicy', 12070), ('mustard', 8385), ('olive', 8816), ('enormously', 4335), ('fundamentally', 5316), ('tongue', 13117), ('critically', 2975), ('taste', 12767), ('coffee', 2284), ('milky', 8084), ('weak', 14077), ('critical', 2974), ('grey', 5679), ('volatile', 13955), ('delicate', 3313), ('jar', 6982), ('charging', 1992), ('takehome', 12729), ('aspire', 776), ('sophistication', 11962), ('imperfect', 6379), ('democratized', 3341), ('confronted', 2571), ('longest', 7571), ('pumpkin', 10151), ('fueled', 5293), ('italian', 6953), ('blended', 1333), ('authentic', 906), ('attached', 848), ('culturally', 3046), ('economist', 4067), ('govern', 5574), ('variability', 13789), ('pursue', 10184), ('disservice', 3737), ('embracing', 4194), ('diversity', 3789), ('pursuit', 10187), ('detective', 3471), ('fad', 4764), ('emerging', 4203), ('subculture', 12420), ('chronicler', 2106), ('narcotic', 8430), ('dealer', 3185), ('glamorous', 5504), ('jewelry', 7015), ('realistically', 10366), ('innercity', 6632), ('rated', 10328), ('delighted', 3316), ('unexpected', 13554), ('wardrobe', 14021), ('malfunction', 7725), ('prestige', 9868), ('petty', 9404), ('unbelievable', 13471), ('occurred', 8765), ('wellbeing', 14122), ('mechanism', 7915), ('enter', 4354), ('coauthor', 2266), ('sociology', 11911), ('freak', 5235), ('defied', 3275), ('sociologist', 11910), ('julius', 7079), ('wilson', 14203), ('surveying', 12591), ('toughest', 13154), ('notorious', 8662), ('suburban', 12455), ('climb', 2204), ('dice', 3539), ('rival', 10979), ('warm', 14026), ('hostage', 6143), ('overnight', 9040), ('gunfire', 5748), ('shower', 11636), ('nap', 8425), ('dissertation', 3736), ('apartment', 597), ('steal', 12244), ('disk', 3687), ('ending', 4278), ('respected', 10799), ('excel', 4562), ('spreadsheet', 12126), ('unequal', 13549), ('trusted', 13349), ('outsider', 9001), ('earned', 4024), ('summarize', 12503), ('mcdonalds', 7892), ('chart', 2003), ('assign', 792), ('simplified', 11703), ('assignment', 795), ('iowa', 6902), ('franchise', 5223), ('endeavor', 4274), ('undertook', 13532), ('exclusive', 4586), ('depending', 3379), ('lucrative', 7639), ('moonlight', 8263), ('wage', 13985), ('welldocumented', 14124), ('consumption', 2671), ('ramification', 10297), ('legitimate', 7357), ('admittedly', 205), ('arrested', 727), ('risky', 10976), ('murderer', 8366), ('convicted', 2759), ('murder', 8364), ('execution', 4593), ('safer', 11131), ('penalty', 9299), ('deterrent', 3486), ('focusing', 5095), ('willing', 14199), ('fooled', 5115), ('rite', 10977), ('controlled', 2731), ('logical', 7556), ('striking', 12367), ('similarity', 11695), ('silicon', 11688), ('stock', 12297), ('firstyear', 4989), ('lawyer', 7296), ('trickery', 13307), ('fancy', 4802), ('hung', 6217), ('servant', 11488), ('capitalism', 1782), ('labor', 7213), ('increment', 6486), ('indifferent', 6512), ('performing', 9338), ('unpleasant', 13627), ('nicely', 8560), ('shit', 11596), ('cash', 1850), ('nash', 8440), ('equilibrium', 4413), ('tactic', 12717), ('turf', 13381), ('observed', 8739), ('related', 10593), ('lack', 7217), ('milliondollar', 8094), ('bonus', 1417), ('losing', 7598), ('hypothesis', 6255), ('bos', 1439), ('eyeopening', 4732), ('upsidedown', 13704), ('evolutionarily', 4537), ('tripled', 13321), ('eager', 4014), ('frontal', 5276), ('prefrontal', 9819), ('cortex', 2830), ('overhaul', 9027), ('marvelous', 7830), ('upright', 13698), ('jerry', 7006), ('liver', 7521), ('onion', 8836), ('whipped', 14154), ('yuck', 14399), ('simulate', 11709), ('flavor', 5027), ('diagnostic', 3521), ('proceed', 9951), ('contemplate', 2686), ('lottery', 7602), ('interestingly', 6762), ('failing', 4771), ('revealed', 10872), ('startling', 12212), ('badly', 1007), ('gaining', 5355), ('passing', 9209), ('duration', 3990), ('trauma', 13264), ('suggests', 12493), ('whatsoever', 14145), ('synthesized', 12695), ('convert', 2751), ('adversity', 232), ('prosperity', 10058), ('achilles', 111), ('machinery', 7666), ('immune', 6363), ('synthesize', 12694), ('synthesizing', 12697), ('mentally', 7974), ('regret', 10557), ('glorious', 5524), ('resigned', 10776), ('shady', 11532), ('uttered', 13751), ('louisiana', 7611), ('halfway', 5776), ('gym', 5754), ('hamburger', 5785), ('loan', 7532), ('immortal', 6361), ('eats', 4048), ('lend', 7362), ('ray', 10342), ('pete', 9397), ('drummer', 3960), ('beatles', 1131), ('errand', 4443), ('snuck', 11890), ('happier', 5820), ('threw', 13014), ('engagement', 4302), ('ring', 10960), ('synthetic', 12698), ('inferior', 6559), ('churning', 2115), ('apology', 608), ('zen', 14409), ('monk', 8240), ('suggest', 12489), ('enduring', 4289), ('stumble', 12403), ('aiming', 328), ('rhetoric', 10913), ('demonstrate', 3348), ('synthesis', 12693), ('rank', 10311), ('closet', 2231), ('stimulus', 12287), ('replicated', 10704), ('hospitalized', 6141), ('syndrome', 12689), ('psychosis', 10121), ('drank', 3908), ('gee', 5403), ('doc', 3807), ('gathered', 5393), ('counted', 2858), ('bless', 1335), ('lineup', 7473), ('liking', 7454), ('ranked', 10312), ('delicious', 3314), ('enemy', 4290), ('lousy', 7614), ('liar', 7400), ('supreme', 12563), ('disadvantage', 3619), ('blackandwhite', 1305), ('dorm', 3856), ('glossy', 5526), ('headquarters', 5894), ('swap', 12625), ('measured', 7907), ('satisfaction', 11197), ('reversible', 10884), ('irreversible', 6928), ('expired', 4654), ('duh', 3977), ('dissatisfied', 3731), ('iq', 6909), ('prose', 10049), ('closer', 2229), ('contemplating', 2687), ('misery', 8143), ('deserve', 3427), ('corrupt', 2827), ('remembrance', 10649), ('folly', 5110), ('bounded', 1463), ('cautious', 1894), ('reckless', 10425), ('longing', 7573), ('manufacture', 7777), ('chasing', 2007), ('gilbert', 5489), ('stumbling', 12405), ('miserable', 8141), ('maximizing', 7882), ('welfare', 14121), ('maximize', 7881), ('worthwhile', 14304), ('salad', 11145), ('dressing', 3926), ('seventyfive', 11510), ('electronics', 4144), ('stereo', 12261), ('tape', 12756), ('amplifier', 470), ('domain', 3829), ('unlimited', 13612), ('mp', 8325), ('assured', 810), ('autonomy', 931), ('inherit', 6605), ('reinvent', 10584), ('default', 3257), ('diligent', 3582), ('preoccupied', 9835), ('consuming', 2670), ('carl', 1819), ('pointing', 9615), ('enables', 4249), ('wifi', 14185), ('blackberry', 1306), ('presumably', 9870), ('lap', 7249), ('draft', 3892), ('lifestyle', 7431), ('doityourself', 3823), ('kit', 7175), ('paradoxically', 9150), ('paralysis', 9153), ('voluntary', 13963), ('retirement', 10856), ('vanguard', 13780), ('gigantic', 5487), ('workplace', 14282), ('employer', 4235), ('matching', 7857), ('participating', 9187), ('happily', 5822), ('match', 7855), ('lastly', 7263), ('ranch', 10301), ('satisfied', 11198), ('disappointing', 3631), ('attractive', 873), ('reject', 10587), ('yorker', 14384), ('estate', 4470), ('beach', 1116), ('spends', 12064), ('subtract', 12452), ('terrific', 12915), ('reflected', 10519), ('choosing', 2082), ('expectation', 4630), ('wore', 14273), ('wearing', 14092), ('shopkeeper', 11608), ('slim', 11810), ('relaxed', 10604), ('distressed', 3765), ('blah', 1312), ('jaw', 6987), ('recovered', 10458), ('disappointed', 3630), ('pleasant', 9566), ('perfection', 9332), ('autobiographical', 919), ('settle', 11500), ('settling', 11504), ('fault', 4848), ('objectively', 8725), ('confident', 2551), ('frustrating', 5286), ('shifted', 11586), ('redistribution', 10492), ('plague', 9526), ('impoverished', 6412), ('shatter', 11564), ('decrease', 3240), ('limited', 7462), ('absence', 26), ('recipe', 10421), ('tenet', 12892), ('freer', 5247), ('paralyzed', 9154), ('offering', 8792), ('neuroscience', 8531), ('researcher', 10748), ('spending', 12063), ('auschwitz', 899), ('survived', 12594), ('hungary', 6219), ('hungarian', 6218), ('raging', 10274), ('escape', 4452), ('divergence', 3784), ('australia', 902), ('chemist', 2038), ('toronto', 13136), ('canyon', 1774), ('hardy', 5840), ('nancy', 8417), ('jungle', 7086), ('passive', 9213), ('observer', 8740), ('emailed', 4175), ('neurology', 8529), ('impaired', 6370), ('spinal', 12079), ('neuron', 8530), ('impairment', 6371), ('alzheimers', 437), ('derivative', 3410), ('causing', 1891), ('compound', 2482), ('inhibit', 6608), ('awarded', 963), ('stumbled', 12404), ('stem', 12254), ('therapy', 12968), ('feared', 4859), ('stanford', 12194), ('literature', 7508), ('tumor', 13369), ('fearful', 4860), ('injury', 6624), ('tissue', 13086), ('arises', 703), ('fracture', 5209), ('phenomenal', 9413), ('differentiate', 3558), ('organ', 8918), ('repair', 10682), ('damaged', 3116), ('excessive', 4570), ('proliferation', 10004), ('ingenious', 6592), ('finetuned', 4963), ('initiated', 6616), ('eliminate', 4159), ('chemotherapy', 2041), ('radiation', 10263), ('toxin', 13169), ('removing', 10665), ('manipulation', 7765), ('elimination', 4163), ('breast', 1514), ('genesis', 5430), ('progression', 9992), ('tracking', 13179), ('tracing', 13175), ('skeletal', 11754), ('muscle', 8373), ('constitutes', 2649), ('resistant', 10782), ('furthermore', 5336), ('localized', 7539), ('contained', 2677), ('specialized', 12030), ('physiology', 9455), ('reply', 10709), ('differentiated', 3559), ('dividing', 3794), ('hijack', 6017), ('unlikely', 13611), ('investigate', 6871), ('inevitably', 6543), ('vessel', 13853), ('favorable', 4852), ('recruit', 10466), ('nutrient', 8700), ('remains', 10638), ('pinpoint', 9496), ('harmful', 5844), ('autopsy', 933), ('suggesting', 12491), ('recruiting', 10468), ('contracting', 2716), ('grabbing', 5586), ('receptor', 10417), ('corresponding', 2822), ('migrate', 8068), ('correlate', 2816), ('interplay', 6786), ('attacking', 853), ('searching', 11337), ('controlling', 2733), ('tie', 13043), ('resistance', 10781), ('disguised', 3679), ('repaired', 10683), ('adapted', 161), ('counteract', 2860), ('farfetched', 4811), ('deteriorating', 3478), ('restore', 10825), ('microbiology', 8041), ('curing', 3059), ('biotech', 1281), ('crusader', 3013), ('brutal', 1594), ('dive', 3780), ('defeating', 3260), ('desirable', 3438), ('feasibility', 4864), ('prove', 10086), ('modest', 8202), ('intermediate', 6774), ('favor', 4851), ('considerably', 2625), ('banned', 1055), ('sympathetic', 12678), ('persuaded', 9383), ('ecologically', 4059), ('british', 1556), ('parliament', 9174), ('tolerated', 13108), ('civilized', 2148), ('spade', 12001), ('frail', 5217), ('dependent', 3378), ('trance', 13207), ('minimize', 8118), ('turbulence', 13379), ('proportion', 10039), ('outweigh', 9009), ('condemning', 2528), ('unnecessarily', 13621), ('overpopulation', 9041), ('toll', 13109), ('dilemma', 3581), ('rejecting', 10589), ('entitled', 4371), ('hesitate', 5972), ('cohort', 2294), ('denying', 3370), ('indefinite', 6492), ('span', 12005), ('immoral', 6360), ('sensible', 11448), ('coping', 2790), ('inevitability', 6541), ('unclear', 13482), ('summed', 12506), ('definition', 3283), ('metabolism', 8008), ('inanimate', 6441), ('accumulate', 92), ('pathology', 9235), ('evident', 4531), ('accumulation', 95), ('battle', 1107), ('abundant', 41), ('promising', 10012), ('rna', 10983), ('interference', 6765), ('intervention', 6810), ('convincing', 2763), ('sake', 11144), ('confer', 2545), ('robust', 11004), ('incremental', 6487), ('refinement', 10515), ('differ', 3554), ('predictability', 9802), ('powered', 9754), ('advance', 220), ('hygiene', 6249), ('antibiotic', 569), ('moderate', 8194), ('middleaged', 8058), ('cusp', 3078), ('remaining', 10637), ('imperfection', 6380), ('thoroughly', 12993), ('eliminating', 4162), ('longevity', 7572), ('trajectory', 13206), ('withstand', 14244), ('biologically', 1266), ('genuine', 5451), ('firstgeneration', 4986), ('irrespective', 6926), ('claiming', 2152), ('alright', 419), ('milestone', 8079), ('speculative', 12053), ('speculation', 12052), ('nonsense', 8619), ('irresponsible', 6927), ('ass', 779), ('attitude', 867), ('implication', 6391), ('description', 3424), ('stopping', 12310), ('converting', 2753), ('involve', 6893), ('periodically', 9346), ('pathogenic', 9233), ('accumulating', 94), ('incomplete', 6468), ('mutation', 8389), ('chromosome', 2102), ('shortlived', 11622), ('extended', 4698), ('indication', 6506), ('partially', 9183), ('suitable', 12497), ('cite', 2137), ('predicting', 9806), ('departure', 3373), ('genome', 5442), ('philanthropic', 9418), ('distract', 3760), ('succeeding', 12461), ('defeat', 3258), ('ag', 287), ('shorter', 11619), ('immortality', 6362), ('advantageous', 225), ('neglect', 8494), ('gene', 5412), ('modulation', 8209), ('motorbike', 8304), ('intend', 6734), ('embryo', 4195), ('respectable', 10798), ('argues', 696), ('curable', 3052), ('averted', 944), ('proposes', 10044), ('la', 7208), ('seth', 11497), ('sweater', 12633), ('fuzzy', 5348), ('zebra', 14407), ('chest', 2048), ('matt', 7871), ('booming', 1424), ('ski', 11762), ('humiliated', 6204), ('mortified', 8282), ('hideous', 5982), ('goodwill', 5554), ('rwanda', 11107), ('steep', 12249), ('scaring', 11245), ('collar', 2319), ('connectedness', 2594), ('inaction', 6438), ('secondhand', 11351), ('clothing', 2238), ('answering', 557), ('circa', 2121), ('bakery', 1020), ('snack', 11870), ('earn', 4023), ('confluence', 2566), ('ethnic', 4491), ('strife', 12365), ('palpable', 9122), ('genocide', 5441), ('banking', 1052), ('lasted', 7261), ('lender', 7363), ('wiped', 14221), ('zeitgeist', 14408), ('tony', 13119), ('blair', 1313), ('bono', 1415), ('thrilling', 13017), ('victory', 13875), ('encouraged', 4265), ('acumen', 150), ('yearning', 14361), ('aggregate', 294), ('factory', 4761), ('middleclass', 8059), ('counterpart', 2864), ('pink', 9493), ('drip', 3938), ('irrigation', 6929), ('largescale', 7255), ('eighth', 4117), ('infinitely', 6563), ('corrugated', 2826), ('iron', 6917), ('jeffrey', 6998), ('sachs', 11114), ('estimated', 4473), ('loses', 7597), ('moon', 8262), ('mar', 7787), ('hurdle', 6228), ('longlasting', 7576), ('fiveyear', 5006), ('youn', 14389), ('primarily', 9901), ('jacqueline', 6967), ('payment', 9265), ('marrying', 7821), ('completed', 2460), ('calculating', 1721), ('ideo', 6290), ('interacts', 6751), ('apiece', 601), ('comfort', 2370), ('bug', 1617), ('handout', 5805), ('flourishing', 5067), ('invests', 6881), ('telecom', 12855), ('alleviate', 393), ('elusive', 4173), ('bishop', 1293), ('executed', 4591), ('authority', 914), ('horse', 6134), ('flourished', 5066), ('tax', 12774), ('saudi', 11205), ('arabia', 668), ('activating', 135), ('productive', 9969), ('contrast', 2723), ('floppy', 5060), ('remote', 10660), ('sibling', 11661), ('afternoon', 284), ('unproductive', 13632), ('concluded', 2523), ('productivity', 9971), ('underdeveloped', 13500), ('multiply', 8350), ('richer', 10927), ('telecommunication', 12856), ('geneva', 5435), ('uk', 13449), ('poorer', 9671), ('install', 6682), ('installing', 6685), ('specialization', 12028), ('specialize', 12029), ('fisherman', 4994), ('purchasing', 10172), ('infrastructure', 6588), ('decentralized', 3210), ('milk', 8083), ('borrow', 1436), ('substantial', 12444), ('consortium', 2640), ('norwegian', 8643), ('knowhow', 7194), ('investing', 6878), ('extend', 4697), ('represent', 10715), ('generating', 5421), ('beneficial', 1188), ('subscriber', 12435), ('subsidize', 12440), ('recipient', 10422), ('reduces', 10495), ('uneducated', 13546), ('survivor', 12597), ('receives', 10411), ('dean', 3188), ('kamen', 7104), ('generator', 5425), ('operator', 8866), ('bangladeshi', 1048), ('bottomup', 1454), ('corruption', 2829), ('tyranny', 13436), ('mobilize', 8185), ('acceptable', 60), ('norm', 8631), ('repressive', 10722), ('denial', 3354), ('provision', 10098), ('diamond', 3531), ('smuggled', 11868), ('timber', 13057), ('incapable', 6446), ('creatively', 2940), ('july', 7080), ('sympathy', 12679), ('exclusion', 4584), ('inclusion', 6463), ('scope', 11277), ('elite', 4165), ('recommendation', 10439), ('hopkins', 6119), ('endlessly', 4280), ('simplify', 11704), ('index', 6498), ('comparatively', 2426), ('administrative', 195), ('borrowing', 1438), ('institutional', 6700), ('organizational', 8923), ('inherited', 6607), ('formation', 5171), ('skilled', 11765), ('solver', 11942), ('stayed', 12238), ('operates', 8861), ('dam', 3114), ('intersection', 6802), ('empowerment', 4241), ('scare', 11240), ('unconventional', 13491), ('compressed', 2489), ('rode', 11013), ('subjected', 12422), ('immense', 6351), ('afghan', 275), ('bombed', 1408), ('russian', 11103), ('discourse', 3656), ('dare', 3136), ('european', 4502), ('nationalist', 8448), ('advisory', 245), ('province', 10096), ('recite', 10424), ('illiterate', 6315), ('northern', 8640), ('paying', 9263), ('attract', 869), ('cotton', 2848), ('opium', 8870), ('tired', 13082), ('bloody', 1365), ('persuade', 9382), ('generates', 5420), ('mobilization', 8184), ('compact', 2421), ('emphasizing', 4228), ('necessity', 8483), ('ingenuity', 6593), ('opponent', 8871), ('unity', 13597), ('kabul', 7102), ('filtered', 4946), ('twist', 13411), ('deprived', 3404), ('sunday', 12513), ('flick', 5042), ('flag', 5014), ('threaten', 13003), ('advertiser', 237), ('advertise', 234), ('painful', 9094), ('yugoslavia', 14400), ('downfall', 3877), ('recording', 10455), ('underestimated', 13502), ('atrocity', 845), ('broadcast', 1560), ('jackson', 6965), ('defense', 3268), ('exercised', 4596), ('repay', 10685), ('deadline', 3180), ('pm', 9597), ('establishing', 4468), ('financing', 4957), ('stunning', 12408), ('scheduled', 11255), ('equity', 4418), ('lease', 7330), ('supporting', 12553), ('financed', 4954), ('eastern', 4042), ('succeed', 12459), ('hypothetical', 6257), ('destined', 3452), ('unheard', 13574), ('fundraising', 5320), ('filled', 4937), ('deaf', 3182), ('reform', 10525), ('issuing', 6951), ('dispose', 3716), ('backbone', 986), ('vital', 13938), ('applies', 635), ('houston', 6161), ('entering', 4356), ('exploration', 4670), ('colonization', 2342), ('snapshot', 11877), ('aviation', 947), ('fouryear', 5203), ('ooh', 8845), ('shaker', 11537), ('renaissance', 10667), ('missile', 8152), ('von', 13969), ('sputnik', 12135), ('robot', 11000), ('fighter', 4927), ('voyager', 13978), ('dozen', 3889), ('rusty', 11105), ('retreated', 10859), ('lunar', 7646), ('lander', 7236), ('capability', 1776), ('dc', 3176), ('develops', 3500), ('darpa', 3148), ('artillery', 749), ('alan', 347), ('manned', 7770), ('airline', 336), ('volume', 13961), ('elliptical', 4169), ('billionaire', 1243), ('ripe', 10965), ('commerce', 2387), ('allen', 390), ('musk', 8381), ('colonize', 2343), ('sr', 12153), ('ticket', 13037), ('recover', 10457), ('starving', 12217), ('tourism', 13159), ('apollo', 604), ('cargo', 1815), ('spacecraft', 11996), ('craft', 2906), ('galactic', 5357), ('polar', 9626), ('geographic', 5455), ('pole', 9630), ('everest', 4523), ('marathon', 7788), ('underwear', 13536), ('minus', 8130), ('expedition', 4634), ('chap', 1981), ('fascinates', 4823), ('slap', 11783), ('bang', 1044), ('frozen', 5283), ('crust', 3017), ('ocean', 8769), ('spoken', 12101), ('attempted', 857), ('toe', 13099), ('decidedly', 3216), ('lowtech', 7631), ('sticking', 12274), ('dangling', 3131), ('antenna', 561), ('twoway', 13421), ('melt', 7952), ('helicopter', 5938), ('skiing', 11763), ('imaginary', 6334), ('vividly', 13943), ('hunter', 6224), ('pr', 9761), ('mum', 8356), ('exhausted', 4601), ('wreck', 14317), ('lying', 7657), ('sofa', 11916), ('daytime', 3172), ('simpson', 11708), ('arctic', 686), ('accomplished', 81), ('rescued', 10744), ('described', 3421), ('perfecting', 9331), ('toothbrush', 13125), ('calorie', 1734), ('logistics', 7559), ('airway', 340), ('siberia', 11659), ('elderly', 4127), ('cameraman', 1743), ('dispute', 3721), ('tandem', 12746), ('frantic', 5229), ('filming', 4942), ('dot', 3862), ('kilo', 7155), ('scrambling', 11292), ('pressure', 9867), ('smashed', 11846), ('drifting', 3932), ('backwards', 998), ('drifted', 3931), ('sleeve', 11796), ('biomimicry', 1275), ('norway', 8642), ('tightly', 13050), ('drag', 3895), ('endurance', 4286), ('guessed', 5728), ('tucked', 13363), ('diary', 3537), ('hightech', 6014), ('navigating', 8466), ('mist', 8158), ('cloud', 2239), ('blowing', 1371), ('snow', 11886), ('ribbon', 10920), ('greenland', 5670), ('expecting', 4632), ('steam', 12247), ('proof', 10024), ('blurry', 1380), ('gps', 5583), ('navigation', 8467), ('ninety', 8586), ('warmed', 14027), ('armpit', 713), ('dialed', 3527), ('sponsor', 12105), ('queue', 10227), ('fateful', 4842), ('troy', 13341), ('monica', 8236), ('macho', 7667), ('cigarette', 2118), ('ladder', 7220), ('flatten', 5024), ('gently', 5449), ('bounced', 1459), ('battling', 1110), ('flipped', 5049), ('belt', 1181), ('obstacle', 8749), ('cafe', 1710), ('tourist', 13160), ('exploring', 4676), ('wider', 14177), ('amazes', 442), ('scratching', 11299), ('antarctica', 560), ('coldest', 2305), ('antarctic', 559), ('coastal', 2260), ('shelf', 11576), ('france', 5222), ('scott', 11285), ('tractor', 13182), ('headed', 5888), ('vehicle', 13815), ('kite', 7177), ('framed', 5219), ('sufficient', 12484), ('decides', 3217), ('recount', 10456), ('harrowing', 5855), ('trek', 13289), ('youngest', 14392), ('recordbreaking', 10452), ('traction', 13181), ('canadian', 1756), ('avid', 948), ('transient', 13230), ('untouched', 13665), ('shoreline', 11612), ('roadside', 10986), ('rebirth', 10395), ('catch', 1871), ('genre', 5445), ('calendar', 1725), ('pennsylvania', 9310), ('turnaround', 13388), ('baseline', 1084), ('sink', 11732), ('teeth', 12852), ('negotiation', 8499), ('indictment', 6509), ('disconnected', 3649), ('appetite', 624), ('sobering', 11898), ('challenged', 1961), ('enjoying', 4325), ('resonates', 10792), ('defines', 3279), ('attraction', 872), ('conscience', 2607), ('tire', 13081), ('lament', 7231), ('recycling', 10477), ('redemption', 10485), ('nanotechnology', 8423), ('meantime', 7902), ('scaling', 11227), ('exxon', 4725), ('tanker', 12751), ('pinnacle', 9495), ('wisconsin', 14229), ('photographing', 9438), ('gm', 5533), ('evolving', 4542), ('gorge', 5563), ('wobble', 14251), ('spinning', 12081), ('reservoir', 10761), ('demolished', 3345), ('nuclear', 8679), ('furnace', 5333), ('weekly', 14107), ('fertile', 4902), ('relocated', 10627), ('highdensity', 5989), ('translated', 13237), ('billboard', 1241), ('refinery', 10516), ('footprint', 5123), ('migrant', 8067), ('migration', 8071), ('shanghai', 11549), ('shenzhen', 11581), ('renewal', 10676), ('flattened', 5025), ('skyscraper', 11777), ('tack', 12713), ('raw', 10341), ('collision', 2335), ('scaffolding', 11223), ('foreground', 5139), ('exploding', 4665), ('boast', 1387), ('taxi', 12776), ('dwelling', 4000), ('density', 3364), ('airconditioning', 332), ('conditioner', 2534), ('breathtaking', 1521), ('cleared', 2184), ('steel', 12248), ('sixth', 11749), ('blast', 1321), ('breaker', 1509), ('fastest', 4832), ('assembly', 787), ('freeze', 5249), ('stern', 12265), ('okay', 8808), ('silk', 11689), ('byproduct', 1696), ('stateoftheart', 12223), ('pairing', 9104), ('thread', 13001), ('nike', 8581), ('popping', 9678), ('explosive', 4678), ('recycled', 10476), ('highend', 5990), ('referred', 10510), ('recycle', 10475), ('cottage', 2847), ('porch', 9689), ('portrait', 9703), ('resist', 10780), ('leap', 7321), ('dedicate', 3243), ('shoulder', 11627), ('megan', 7944), ('affecting', 259), ('correcting', 2811), ('apocalyptic', 603), ('environmentally', 4388), ('tedster', 12826), ('layout', 7303), ('preliminary', 9825), ('blasted', 1322), ('allison', 398), ('brainstorming', 1486), ('psyche', 10107), ('puberty', 10128), ('motivate', 8295), ('motivating', 8298), ('reacting', 10350), ('maze', 7888), ('edward', 4095), ('riveting', 10982), ('altered', 423), ('manufactured', 7778), ('biomedical', 1274), ('discussed', 3670), ('insulin', 6712), ('pump', 10148), ('diabetic', 3516), ('arrives', 732), ('incidence', 6454), ('denied', 3355), ('brave', 1498), ('blockage', 1353), ('coronary', 2802), ('artery', 739), ('noting', 8660), ('segment', 11379), ('elevation', 4155), ('voltage', 13960), ('vibration', 13866), ('beep', 1143), ('fda', 4857), ('pig', 9475), ('external', 4706), ('electrode', 4139), ('blocked', 1356), ('programmed', 9986), ('tim', 13056), ('balloon', 1032), ('pacemaker', 9077), ('exhibited', 4606), ('implanted', 6384), ('programmer', 9987), ('stimulation', 12286), ('gratifying', 5644), ('removed', 10664), ('rhythm', 10917), ('irregular', 6922), ('treated', 13283), ('diagnose', 3517), ('guardian', 5723), ('analyzes', 493), ('headache', 5887), ('ruined', 11081), ('pulse', 10146), ('electric', 4134), ('erase', 4426), ('preceded', 9783), ('aura', 897), ('millimeter', 8091), ('weighs', 14113), ('diameter', 3530), ('neurologist', 8528), ('interfering', 6767), ('appropriately', 652), ('abc', 6), ('anchor', 502), ('suffers', 12482), ('eyewitness', 4734), ('portable', 9697), ('zap', 14404), ('christina', 2098), ('awfully', 972), ('silly', 11690), ('purse', 10183), ('ohio', 8804), ('organizing', 8927), ('trial', 13298), ('impulse', 6432), ('marked', 7809), ('established', 4467), ('diminished', 3591), ('epilepsy', 4401), ('responsive', 10815), ('seizure', 11385), ('manifestation', 7759), ('defibrillator', 3271), ('scalp', 11228), ('neurosurgeon', 8533), ('template', 12872), ('dental', 3366), ('oddly', 8778), ('thickness', 12975), ('advantage', 224), ('spontaneous', 12107), ('acronym', 126), ('optimum', 8894), ('litigation', 7510), ('acting', 129), ('dysfunction', 4009), ('sensed', 11445), ('psychotic', 10125), ('tm', 13092), ('generous', 5428), ('donating', 3844), ('involves', 6896), ('escalated', 4450), ('competent', 2444), ('physician', 9451), ('jury', 7094), ('skyrocketing', 11776), ('anatomy', 498), ('procedure', 9950), ('simpler', 11699), ('agreeing', 311), ('lawsuit', 7295), ('compensation', 2440), ('court', 2878), ('reforming', 10528), ('inventive', 6862), ('determination', 3480), ('alexander', 363), ('graham', 5606), ('domino', 3840), ('pizza', 9520), ('viewing', 13884), ('tub', 13360), ('excites', 4578), ('hollywood', 6072), ('glimpse', 5514), ('writ', 14326), ('idealism', 6277), ('geopolitical', 5465), ('ease', 4036), ('issued', 6950), ('ethiopia', 4489), ('orphanage', 8942), ('beard', 1124), ('shining', 11589), ('handed', 5796), ('ireland', 6915), ('preventable', 9883), ('treatable', 13282), ('pharmacy', 9410), ('irish', 6916), ('inspiring', 6679), ('tougher', 13153), ('commitment', 2395), ('admitted', 204), ('flame', 5016), ('watering', 14063), ('brigade', 1538), ('countless', 2868), ('rigor', 10956), ('nightly', 8577), ('extremist', 4722), ('chaos', 1979), ('breed', 1523), ('turbulent', 13380), ('smarter', 11841), ('colin', 2307), ('antiretroviral', 581), ('advertisement', 236), ('compassion', 2433), ('eu', 4495), ('neon', 8508), ('credibility', 2946), ('indifference', 6511), ('flowering', 5071), ('planted', 9541), ('confirm', 2558), ('pumping', 10150), ('fist', 4999), ('lifesaving', 7429), ('hippie', 6036), ('punk', 10165), ('clash', 2161), ('toughness', 13155), ('detached', 3462), ('allied', 396), ('bend', 1185), ('launched', 7283), ('summon', 12510), ('redefines', 10483), ('disappointment', 3632), ('fiscal', 4990), ('bold', 1398), ('merciful', 7984), ('revolutionized', 10902), ('analog', 483), ('umbrella', 13458), ('impractical', 6413), ('picking', 9463), ('tapping', 12760), ('enthusiasm', 4364), ('coke', 2302), ('nerd', 8512), ('oval', 9010), ('gage', 5352), ('nbc', 8472), ('oscar', 8947), ('jon', 7041), ('airtime', 339), ('sally', 11152), ('adventure', 227), ('desperate', 3445), ('uniting', 13596), ('starvation', 12214), ('rewrite', 10910), ('mindblowing', 8102), ('longdistance', 7567), ('boston', 1442), ('landline', 7239), ('dreamt', 3923), ('pharmacist', 9409), ('accepts', 64), ('singer', 11721), ('skeptic', 11756), ('junk', 7088), ('squad', 12138), ('ralph', 10295), ('rod', 11012), ('highschool', 6011), ('shack', 11528), ('locker', 7547), ('hallway', 5781), ('psychic', 10113), ('skepticism', 11758), ('plumbing', 9587), ('verb', 13835), ('extraterrestrial', 4717), ('multidimensional', 8341), ('interstellar', 6804), ('kansa', 7106), ('arnold', 716), ('expressed', 4691), ('harris', 5854), ('explicit', 4660), ('filler', 4938), ('ufo', 13443), ('perceptual', 9326), ('saturn', 11203), ('planetary', 9532), ('furthest', 5337), ('catalog', 1863), ('operated', 8860), ('kepler', 7126), ('explaining', 4657), ('monumental', 8259), ('closeup', 2232), ('squint', 12149), ('astronomer', 821), ('geologist', 5461), ('baker', 1019), ('nun', 8692), ('teresa', 12903), ('sao', 11187), ('paulo', 9253), ('sandwich', 11178), ('vega', 13810), ('casino', 1852), ('ebay', 4050), ('lip', 7487), ('florida', 5063), ('faithful', 4781), ('wheelchair', 14148), ('crutch', 3019), ('investigated', 6872), ('candle', 1765), ('lit', 7501), ('tribute', 13304), ('backside', 994), ('wipe', 14220), ('auditory', 888), ('downloaded', 3880), ('lyric', 7659), ('alarmed', 349), ('prime', 9904), ('katie', 7110), ('singh', 11723), ('oped', 8848), ('precise', 9789), ('embarrassed', 4181), ('observable', 8734), ('overlook', 9035), ('superstition', 12542), ('mathematician', 7865), ('nationstates', 8452), ('youngster', 14393), ('proudly', 10085), ('introverted', 6842), ('reception', 10415), ('andor', 507), ('sprint', 12129), ('guest', 5731), ('bbc', 1112), ('boyfriend', 1476), ('paused', 9255), ('randomness', 10305), ('react', 10348), ('tossing', 13143), ('vague', 13763), ('toss', 13141), ('repeatedly', 10688), ('fixated', 5009), ('distinguished', 3754), ('occurrence', 8766), ('awesome', 970), ('breath', 1516), ('informal', 6581), ('presenting', 9855), ('tossed', 13142), ('clump', 2245), ('overlapping', 9032), ('stated', 12221), ('diversion', 3788), ('scissors', 11273), ('restriction', 10832), ('enzyme', 4393), ('chunk', 2111), ('trivial', 13326), ('deeper', 3252), ('unlocking', 13616), ('snippet', 11885), ('aimed', 327), ('susceptible', 12599), ('autism', 916), ('involving', 6897), ('bipolar', 1284), ('preventative', 9884), ('mundane', 8359), ('skeptical', 11757), ('caricature', 1817), ('prevalence', 9880), ('weigh', 14110), ('competing', 2445), ('overwhelmingly', 9058), ('relative', 10599), ('celebrated', 1908), ('clark', 2160), ('formally', 5169), ('pediatrician', 9286), ('innocent', 6635), ('murdering', 8367), ('stress', 12355), ('prisoner', 9926), ('horribly', 6129), ('independence', 6495), ('verify', 13842), ('empirically', 4231), ('highrisk', 6010), ('argued', 695), ('splash', 12092), ('guilty', 5740), ('criminal', 2962), ('presumption', 9873), ('innocence', 6634), ('weighing', 14112), ('implausible', 6385), ('reviewed', 10888), ('council', 2852), ('cope', 2786), ('subtlety', 12450), ('underpins', 13517), ('implied', 6394), ('competence', 2443), ('routinely', 11062), ('forensic', 5145), ('ideally', 6281), ('peter', 9398), ('reveals', 10874), ('interpreting', 6791), ('courtroom', 2881), ('wary', 14044), ('tempted', 12879), ('perplexed', 9361), ('relates', 10594), ('kay', 7112), ('danny', 3135), ('hillis', 6024), ('struggled', 12389), ('framing', 5221), ('extending', 4699), ('craig', 2911), ('venter', 13829), ('grid', 5680), ('randomly', 10304), ('inspect', 6672), ('probe', 9945), ('abdomen', 7), ('jamie', 6975), ('hacking', 5764), ('slug', 11828), ('incorporated', 6475), ('dragon', 3898), ('juvenile', 7100), ('swallowed', 12620), ('algae', 367), ('kingdom', 7169), ('broad', 1558), ('fungi', 5323), ('protest', 10074), ('linear', 7471), ('primitive', 9908), ('drilling', 3935), ('pore', 9690), ('retreat', 10858), ('ubiquitous', 13439), ('inert', 6539), ('animated', 529), ('coevolution', 2280), ('roughly', 11056), ('socialization', 11904), ('remarkably', 10643), ('hammer', 5788), ('item', 6955), ('po', 9599), ('thrown', 13027), ('cliche', 2195), ('armor', 711), ('nile', 8582), ('gould', 5573), ('punctuated', 10157), ('sideline', 11665), ('snail', 11871), ('derive', 3411), ('historian', 6045), ('stanley', 12195), ('valve', 13776), ('montgomery', 8253), ('antique', 579), ('corn', 2798), ('knife', 7184), ('papua', 9141), ('guinea', 5741), ('prohibited', 9996), ('decreasing', 3242), ('delay', 3301), ('singularity', 11730), ('kurzweil', 7206), ('finite', 4971), ('expands', 4624), ('mozart', 8324), ('gogh', 5541), ('selfexpression', 11410), ('obligation', 8727), ('skip', 11768), ('deforestation', 3287), ('ddt', 3177), ('extends', 4700), ('enthusiast', 4365), ('kelly', 7118), ('discovers', 3660), ('treatise', 13285), ('evolves', 4541), ('futurist', 5346), ('peril', 9341), ('inefficient', 6536), ('theoretically', 12963), ('renewable', 10674), ('centralized', 1934), ('liquid', 7490), ('disruption', 3728), ('ageold', 293), ('acceleration', 55), ('invariably', 6855), ('enabling', 4250), ('wirelessly', 14227), ('predictable', 9803), ('exponential', 4680), ('explodes', 4664), ('sequenced', 11473), ('pervasive', 9389), ('adopting', 211), ('doubling', 3867), ('multiplying', 8351), ('adopted', 210), ('accelerate', 51), ('homo', 6089), ('sapiens', 11189), ('appendage', 623), ('disagreement', 3623), ('transistor', 13231), ('cracked', 2902), ('enigma', 4320), ('tube', 13361), ('predicted', 9805), ('shrink', 11644), ('supercomputer', 12526), ('intel', 6727), ('tabletop', 12710), ('accusing', 102), ('dumping', 3984), ('bankruptcy', 1054), ('erratic', 4444), ('thermodynamics', 12970), ('unpredictable', 13630), ('rose', 11040), ('electron', 4141), ('sequencing', 11474), ('scanning', 11235), ('measurement', 7908), ('adoption', 212), ('worrying', 14296), ('compounded', 2483), ('storage', 12311), ('fat', 4838), ('season', 11339), ('pharmaceutical', 9408), ('biochemistry', 1257), ('deployed', 3390), ('biotechnology', 1282), ('pulmonary', 10145), ('hypertension', 6252), ('fatal', 4839), ('boomer', 1423), ('penny', 9311), ('exponentially', 4681), ('miniaturization', 8115), ('eric', 4435), ('humanlike', 6192), ('gait', 5356), ('therapeutic', 12966), ('futuristic', 5347), ('rat', 10326), ('robotic', 11001), ('intricacy', 6827), ('rob', 10991), ('olympic', 8818), ('ban', 1037), ('specter', 12048), ('athlete', 831), ('intersect', 6801), ('spatial', 12016), ('temporal', 12875), ('signaling', 11677), ('doug', 3871), ('cerebellum', 1942), ('ecommerce', 4062), ('bust', 1676), ('strictly', 12363), ('retina', 10852), ('augmented', 891), ('maturity', 7878), ('subtle', 12449), ('analytic', 488), ('remembering', 10647), ('invasion', 6856), ('receiving', 10412), ('neurological', 8527), ('merger', 7991), ('feat', 4867), ('expanding', 4623), ('selfreplicating', 11423), ('artificial', 747), ('increasingly', 6483), ('grounded', 5703), ('revered', 10878), ('fouryearold', 5204), ('vegetation', 13814), ('grabbed', 5585), ('classmate', 2169), ('betrayed', 1212), ('powerless', 9759), ('tortured', 13140), ('privileged', 9934), ('amnesty', 463), ('hustle', 6239), ('sting', 12288), ('bruce', 1586), ('comfortably', 2372), ('bury', 1668), ('division', 3797), ('campaigning', 1750), ('internally', 6779), ('lord', 7593), ('torture', 13139), ('displacement', 3709), ('chanting', 1978), ('ordered', 8911), ('carried', 1832), ('raping', 10320), ('fired', 4974), ('convention', 2741), ('intentionally', 6744), ('inflicted', 6573), ('obtain', 8750), ('punish', 10161), ('intimidate', 6819), ('gabriel', 5349), ('ghraib', 5481), ('bay', 1111), ('newark', 8543), ('midwest', 8064), ('interrogated', 6795), ('returned', 10863), ('cap', 1775), ('melting', 7955), ('eroding', 4440), ('correction', 2812), ('humane', 6183), ('questionable', 10223), ('morale', 8267), ('delayed', 3302), ('surely', 12565), ('punishment', 10164), ('thunder', 13031), ('fabricated', 4740), ('cam', 1736), ('uploaded', 13695), ('inhabitant', 6598), ('rising', 10971), ('tedsalon', 12824), ('poet', 9608), ('multimedia', 8344), ('artisti', 753), ('actress', 146), ('lover', 7619), ('kissing', 7174), ('baking', 1021), ('heck', 5929), ('automated', 923), ('inbox', 6445), ('sword', 12665), ('lid', 7416), ('shield', 11584), ('emperor', 4223), ('orange', 8899), ('biscuit', 1291), ('downloads', 3882), ('mortgage', 8281), ('outlaw', 8980), ('firewall', 4978), ('modernday', 8197), ('whack', 14140), ('ya', 14347), ('interfere', 6764), ('anthem', 563), ('cyberspace', 3095), ('chant', 1977), ('cram', 2912), ('worthy', 14305), ('storyteller', 12318), ('avian', 946), ('cardiovascular', 1807), ('occurring', 8767), ('preventive', 9888), ('quantitative', 10209), ('cardiac', 1805), ('prostate', 10060), ('inhibition', 6609), ('diminishing', 3592), ('concerning', 2519), ('pitiful', 9512), ('crunchy', 3011), ('convenient', 2739), ('healthier', 5904), ('del', 3300), ('ucsf', 13442), ('dietary', 3553), ('sweeping', 12640), ('marketer', 7813), ('analyst', 487), ('twohour', 13419), ('tick', 13036), ('freeman', 5246), ('carol', 1825), ('alex', 362), ('selfdoubt', 11406), ('gehry', 5406), ('millionaire', 8093), ('persist', 9367), ('joe', 7025), ('persistence', 9369), ('selfdescribed', 11404), ('researching', 10750), ('kibera', 7138), ('gandhi', 5372), ('bombay', 1407), ('mumbai', 8357), ('urbanized', 13715), ('rio', 10962), ('janeiro', 6977), ('istanbul', 6952), ('touring', 13158), ('tagging', 12722), ('kenyan', 7125), ('polite', 9640), ('exaggerate', 4546), ('reversing', 10885), ('armstrong', 714), ('jr', 7061), ('nearby', 8476), ('owner', 9064), ('sewer', 11518), ('sanitation', 11182), ('tapped', 12759), ('stuffed', 12402), ('mud', 8334), ('bundle', 1644), ('roommate', 11033), ('concoction', 2525), ('staple', 12196), ('slammed', 11780), ('straightened', 12322), ('wool', 14271), ('jacket', 6963), ('mound', 8307), ('adjacent', 185), ('watery', 14067), ('barefoot', 1068), ('sank', 11184), ('muck', 8332), ('scattering', 11249), ('atop', 842), ('latrine', 7276), ('treasured', 13279), ('constrained', 2653), ('heap', 5907), ('restricting', 10831), ('monsoon', 8248), ('fence', 4895), ('reinforced', 10579), ('mattress', 7875), ('inland', 6628), ('hillside', 6025), ('crowded', 2994), ('refrigerator', 10534), ('merchant', 7983), ('merchandise', 7982), ('soda', 11914), ('salon', 11154), ('grocery', 5696), ('righthand', 10951), ('thief', 12976), ('cricket', 2959), ('plankton', 9534), ('pipe', 9500), ('guarantee', 5719), ('disagree', 3621), ('tenure', 12901), ('turkish', 13385), ('petition', 9399), ('civic', 2143), ('median', 7919), ('outspoken', 9005), ('grandma', 5620), ('thriving', 13021), ('environmentalist', 4387), ('drinking', 3937), ('instability', 6680), ('encompass', 4259), ('prioritize', 9920), ('mosquito', 8287), ('peacekeeping', 9273), ('encourage', 4264), ('prioritizing', 9922), ('implicitly', 6393), ('copenhagen', 2787), ('likewise', 7453), ('madrid', 7677), ('prioritized', 9921), ('disgusting', 3682), ('astounding', 817), ('zinc', 14415), ('vitamin', 13940), ('pessimistic', 9392), ('dutch', 3994), ('congolese', 2581), ('accord', 83), ('cast', 1855), ('brad', 1481), ('pitt', 9513), ('digging', 3571), ('halved', 5783), ('vastly', 13803), ('seminar', 11433), ('triage', 13297), ('danish', 3134), ('thoughtprovoking', 12998), ('provocative', 10100), ('indigenous', 6513), ('delight', 3315), ('polished', 9639), ('bitter', 1301), ('jaguar', 6969), ('shaman', 11544), ('inuit', 6848), ('elder', 4126), ('himalaya', 6026), ('adaptive', 163), ('lineage', 7470), ('albeit', 352), ('successfully', 12465), ('imperative', 6378), ('initiation', 6617), ('sing', 11719), ('andes', 506), ('sahara', 11137), ('goddess', 5538), ('biosphere', 1280), ('astonishingly', 815), ('inquisitive', 6645), ('eroded', 4439), ('brink', 1552), ('extinction', 4708), ('scarcely', 11238), ('vocabulary', 13945), ('grammatical', 5611), ('flash', 5020), ('watershed', 14065), ('whispered', 14158), ('enveloped', 4384), ('anticipate', 571), ('dreadful', 3918), ('fate', 4841), ('plight', 9576), ('grave', 5647), ('syllable', 12668), ('yoruba', 14386), ('unable', 13460), ('sacred', 11117), ('cognitively', 2290), ('canopy', 1772), ('equated', 4409), ('tribe', 13303), ('northeastern', 8639), ('ecuador', 4072), ('peacefully', 9272), ('forgetting', 5156), ('rainforest', 10284), ('twodimensional', 13418), ('spear', 12024), ('urine', 13723), ('securing', 11366), ('poison', 9618), ('zombie', 14417), ('sensation', 11442), ('judaism', 7063), ('tragic', 13197), ('diaspora', 3538), ('slavery', 11790), ('invoked', 6890), ('displace', 3707), ('temple', 12873), ('possessed', 9718), ('harmed', 5843), ('handling', 5803), ('impunity', 6434), ('nevada', 8540), ('colombia', 2336), ('caribbean', 1816), ('conquest', 2606), ('isolated', 6943), ('soar', 11893), ('conquered', 2604), ('ruled', 11084), ('shadowy', 11531), ('glacier', 5501), ('mimic', 8098), ('womb', 14259), ('metaphorically', 8015), ('sunrise', 12520), ('bathe', 1097), ('invoke', 6889), ('noble', 8595), ('savage', 11208), ('racist', 10256), ('sentimental', 11462), ('weakened', 14079), ('nostalgia', 8645), ('swamp', 12623), ('chilling', 2063), ('tibet', 13034), ('forged', 5154), ('destiny', 3453), ('ore', 8916), ('irrelevant', 6923), ('crooked', 2983), ('beak', 1119), ('repertoire', 10692), ('woody', 14270), ('mildly', 8077), ('vine', 13896), ('shrub', 11646), ('substance', 12443), ('powder', 9752), ('rifle', 10943), ('barrel', 1077), ('baroque', 1074), ('distortion', 3759), ('evan', 4508), ('sparked', 12011), ('psychedelic', 10109), ('mushroom', 8377), ('classify', 2168), ('hallucination', 5780), ('gut', 5752), ('conjunction', 2589), ('flora', 5061), ('vascular', 13800), ('euphemism', 4496), ('meaningless', 7900), ('establish', 4466), ('taxonomy', 12777), ('stamen', 12184), ('colorful', 2349), ('passively', 9214), ('bow', 1467), ('arrow', 736), ('buggy', 1618), ('threatens', 13006), ('integrity', 6726), ('crude', 3001), ('fade', 4765), ('homeland', 6079), ('nomadic', 8605), ('southeast', 11984), ('prostitution', 10064), ('horizon', 6122), ('ripped', 10966), ('universally', 13600), ('condemned', 2527), ('travelled', 13271), ('monument', 8258), ('cadre', 1707), ('lama', 7228), ('fled', 5031), ('incarcerated', 6447), ('skirt', 11771), ('inadvertently', 6440), ('transgression', 13229), ('monotony', 8247), ('margaret', 7796), ('amorphous', 464), ('humbling', 6199), ('surplus', 12576), ('confront', 2569), ('ensuing', 4347), ('rediscover', 10490), ('conscious', 2608), ('ensuring', 4351), ('tip', 13078), ('sovereignty', 11989), ('refused', 10539), ('runner', 11092), ('wrapped', 14313), ('intimidated', 6820), ('feces', 4874), ('saliva', 11151), ('froze', 5282), ('improvised', 6430), ('harnessed', 5850), ('resilience', 10777), ('nationstate', 8451), ('geography', 5458), ('persuasive', 9386), ('deserves', 3429), ('multicultural', 8340), ('wade', 13984), ('davis', 3165), ('disappearing', 3627), ('alarming', 350), ('scholar', 11261), ('defender', 3266), ('endangered', 4273), ('linguist', 7476), ('protesting', 10078), ('dalai', 3112), ('tennis', 12895), ('crossed', 2988), ('uprising', 13699), ('starved', 12216), ('gentle', 5446), ('impressed', 6415), ('poured', 9749), ('patience', 9237), ('enlightenment', 4330), ('interviewing', 6813), ('tibetan', 13035), ('plateau', 9548), ('pasture', 9223), ('forehead', 5140), ('checking', 2022), ('screamed', 11301), ('buddha', 1606), ('peasant', 9279), ('installed', 6684), ('beggar', 1150), ('nonviolent', 8624), ('belongs', 1179), ('fierce', 4922), ('dart', 3149), ('neighboring', 8504), ('spraying', 12123), ('hosted', 6144), ('islamic', 6938), ('drumming', 3961), ('tribal', 13301), ('inhale', 6601), ('praying', 9777), ('muslim', 8382), ('peru', 9387), ('alaska', 351), ('daniel', 3132), ('cabin', 1700), ('highspeed', 6012), ('cleaned', 2175), ('barn', 1073), ('landslide', 7244), ('mayan', 7885), ('phil', 9416), ('rarely', 10324), ('capturing', 1794), ('astrophysicist', 824), ('darwin', 3150), ('cosmology', 2837), ('comet', 2369), ('nuke', 8686), ('parachute', 9144), ('titan', 13087), ('coastline', 2262), ('methane', 8018), ('centigrade', 1931), ('orbiting', 8903), ('forming', 5175), ('eagle', 4016), ('spectacularly', 12046), ('remnant', 10658), ('cosmologist', 2836), ('patch', 9225), ('faint', 4774), ('simulated', 11710), ('determined', 3482), ('atomic', 841), ('sway', 12630), ('unfinished', 13561), ('unified', 13577), ('shake', 11535), ('hazard', 5884), ('speculate', 12050), ('aftermath', 283), ('depicts', 3385), ('displaying', 3713), ('crushed', 3015), ('geometric', 5463), ('proton', 10080), ('kilogram', 7156), ('enlightening', 4329), ('brit', 1553), ('targeted', 12763), ('modification', 8203), ('implant', 6383), ('greenhouse', 5669), ('bio', 1254), ('fanatic', 4800), ('mindset', 8108), ('unacceptable', 13461), ('expressing', 4692), ('relativity', 10601), ('unify', 13579), ('premature', 9827), ('russell', 11101), ('mindful', 8104), ('schematic', 11257), ('timelapse', 13061), ('demise', 3333), ('unfolding', 13564), ('fraction', 5208), ('creature', 2944), ('plaque', 9543), ('sterile', 12264), ('astronaut', 820), ('pale', 9112), ('afar', 255), ('asteroid', 811), ('continental', 2699), ('succession', 12466), ('sliver', 11817), ('signaled', 11676), ('accelerated', 52), ('abruptly', 25), ('hundredth', 6216), ('millionth', 8095), ('emitter', 4211), ('metallic', 8012), ('escaped', 4453), ('confidently', 2552), ('doom', 3849), ('alteration', 422), ('occupying', 8763), ('vigil', 13886), ('spawn', 12017), ('oasis', 8712), ('depicted', 3382), ('examines', 4554), ('eminent', 4205), ('upbeat', 13680), ('apocalypse', 602), ('grim', 5686), ('uplift', 13692), ('contradiction', 2719), ('multicellular', 8339), ('axe', 977), ('progressive', 9993), ('mere', 7987), ('huntergatherer', 6225), ('reminds', 10654), ('empire', 4229), ('transcend', 13211), ('spanning', 12007), ('convey', 2754), ('nonzero', 8626), ('assigned', 793), ('distinction', 3750), ('zerosum', 14411), ('correlation', 2818), ('inverse', 6866), ('loser', 7596), ('facilitate', 4751), ('adapts', 164), ('accommodate', 75), ('intrinsically', 6833), ('winwin', 14219), ('exploitation', 4667), ('correlated', 2817), ('testament', 12925), ('regardless', 10546), ('nationality', 8449), ('ethnicity', 4492), ('morality', 8268), ('transatlantic', 13210), ('bigotry', 1234), ('racial', 10252), ('constructive', 2659), ('verge', 13838), ('emphasize', 4225), ('hateful', 5870), ('hatred', 5872), ('slippery', 11814), ('sufficiently', 12485), ('surgical', 12573), ('vibe', 13862), ('negativity', 8493), ('sermon', 11485), ('cynicism', 3104), ('boil', 1395), ('lump', 7645), ('cheerful', 2029), ('launching', 7284), ('morally', 8269), ('hating', 5871), ('allegation', 385), ('terrorist', 12922), ('ann', 534), ('empathy', 4222), ('salvation', 11160), ('usage', 13727), ('highlevel', 5997), ('linked', 7482), ('guided', 5735), ('wideranging', 14178), ('lone', 7563), ('frustrated', 5285), ('racing', 10254), ('eddy', 4074), ('gear', 5402), ('brake', 1489), ('ingredient', 6596), ('importing', 6402), ('knowledgeable', 7197), ('enshrined', 4344), ('baseball', 1082), ('bean', 1122), ('pipeline', 9501), ('payoff', 9266), ('uncertain', 13476), ('teenage', 12848), ('patent', 9227), ('disruptive', 3729), ('keen', 7114), ('embryonic', 4196), ('marginal', 7798), ('breeding', 1524), ('rap', 10315), ('tank', 12750), ('amateur', 439), ('leisure', 7359), ('threatened', 13004), ('stifle', 12277), ('incentivize', 6451), ('orchestrate', 8906), ('outlook', 8987), ('competitive', 2447), ('lever', 7388), ('structured', 12387), ('occupy', 8762), ('clearcut', 2183), ('paddy', 9089), ('timothy', 13070), ('chan', 1969), ('employ', 4232), ('bounce', 1458), ('reclaim', 10428), ('constrain', 2652), ('deceptively', 3213), ('weave', 14095), ('intestine', 6815), ('metropolis', 8024), ('basement', 1085), ('bucket', 1602), ('accumulated', 93), ('offensive', 8789), ('smelly', 11852), ('attic', 866), ('convinced', 2762), ('killing', 7153), ('cholera', 2078), ('youk', 14388), ('nuisance', 8685), ('ingest', 6594), ('poisoned', 9619), ('midst', 8063), ('confusion', 2577), ('contracted', 2715), ('terrifying', 12917), ('erupted', 4446), ('potentially', 9742), ('suspected', 12602), ('enlisted', 4332), ('protagonist', 10065), ('drunk', 3962), ('representing', 10719), ('residence', 10767), ('frequent', 5255), ('poisonous', 9621), ('glance', 5505), ('boiling', 1397), ('granted', 5628), ('rome', 11026), ('johnson', 7033), ('segregated', 11380), ('baltimore', 1034), ('maryland', 7833), ('walt', 14007), ('stud', 12395), ('titanic', 13088), ('iceberg', 6266), ('hiroshima', 6043), ('gradual', 5597), ('destination', 3451), ('imitating', 6346), ('lincoln', 7467), ('fort', 5181), ('boarding', 1385), ('imitate', 6345), ('orwell', 8945), ('hispanic', 6044), ('companion', 2422), ('twain', 13398), ('owns', 9067), ('harm', 5842), ('lied', 7418), ('quoting', 10245), ('morris', 8276), ('cardiologist', 1806), ('connotation', 2602), ('greene', 5667), ('intellectually', 6730), ('correctional', 2813), ('inmate', 6629), ('busted', 1677), ('bruise', 1587), ('warped', 14038), ('dared', 3137), ('bruised', 1588), ('guard', 5721), ('petrified', 9401), ('numb', 8687), ('bull', 1629), ('rider', 10936), ('cowboy', 2894), ('tripped', 13323), ('relation', 10596), ('riot', 10963), ('aria', 699), ('cop', 2785), ('captured', 1793), ('videotape', 13877), ('danced', 3124), ('burned', 1661), ('questioning', 10225), ('swallowing', 12621), ('luxurious', 7655), ('turmoil', 13386), ('korean', 7204), ('stamp', 12185), ('africanamericans', 281), ('jesse', 7009), ('enjoyment', 4326), ('anytime', 593), ('bonded', 1412), ('williams', 14198), ('optimist', 8888), ('kidney', 7149), ('digest', 3567), ('pat', 9224), ('upside', 13703), ('dirt', 3614), ('shaking', 11539), ('wrestling', 14321), ('fee', 4878), ('jordan', 7045), ('utah', 13740), ('shoved', 11632), ('sew', 11516), ('anesthesia', 514), ('anna', 535), ('blur', 1378), ('reallife', 10373), ('encompasses', 4260), ('doomed', 3850), ('reprogram', 10728), ('poo', 9666), ('registry', 10556), ('knight', 7185), ('programmable', 9985), ('execute', 4590), ('computational', 2498), ('zurich', 14424), ('follows', 5108), ('neil', 8505), ('illustrator', 6330), ('muse', 8375), ('observing', 8742), ('selfassembly', 11395), ('cereal', 1941), ('layered', 7300), ('nanometer', 8420), ('replicating', 10706), ('assembling', 786), ('semiconductor', 11431), ('autonomously', 930), ('encodes', 4257), ('roger', 11015), ('autonomous', 929), ('tracked', 13177), ('hockey', 6061), ('replication', 10707), ('microchip', 8043), ('wednesday', 14103), ('colored', 2348), ('satisfy', 11199), ('arbitrary', 671), ('programming', 9988), ('absorbed', 31), ('magically', 7681), ('eyeglass', 4729), ('circular', 2127), ('spherical', 12068), ('cylinder', 3101), ('uv', 13753), ('yves', 14402), ('klein', 7180), ('mild', 8076), ('squid', 12148), ('exploit', 4666), ('lisa', 7492), ('nailed', 8409), ('elegantly', 4147), ('generalize', 5415), ('binary', 1248), ('definitely', 3282), ('introduction', 6839), ('dave', 3163), ('tow', 13162), ('aerodynamic', 252), ('saul', 11206), ('commercialized', 2389), ('traded', 13184), ('thesis', 12973), ('rendered', 10670), ('buffer', 1614), ('io', 6900), ('slowed', 11822), ('stored', 12313), ('rearrange', 10381), ('pushing', 10190), ('degraded', 3295), ('proved', 10087), ('theorem', 12961), ('unreliable', 13641), ('billionth', 1245), ('fabrication', 4741), ('wax', 14074), ('billiondollar', 1244), ('artisan', 750), ('bake', 1017), ('prematurely', 9828), ('emerge', 4197), ('fabricate', 4739), ('fidelity', 4919), ('magnet', 7684), ('blueprint', 1374), ('digitize', 3575), ('nano', 8419), ('cutter', 3088), ('begging', 1152), ('semester', 11430), ('sculptor', 11321), ('permitted', 9355), ('silenced', 11685), ('surf', 12566), ('wrestle', 14319), ('awake', 958), ('walmart', 14006), ('bankrupt', 1053), ('personalization', 9376), ('hijacked', 6018), ('approximate', 656), ('micron', 8045), ('nanosecond', 8422), ('microsecond', 8052), ('uncovering', 13494), ('uncover', 13492), ('handson', 5808), ('refuse', 10538), ('stacking', 12164), ('turbine', 13378), ('conversion', 2750), ('cardboard', 1804), ('eightyearold', 4119), ('chief', 2054), ('mainframe', 7701), ('equip', 4414), ('outlier', 8983), ('micro', 8037), ('vc', 13807), ('gordon', 5561), ('looming', 7586), ('explores', 4675), ('unleash', 13606), ('worklife', 14280), ('fastforward', 4834), ('cramming', 2914), ('dial', 3525), ('yoga', 14380), ('salute', 11158), ('amusing', 480), ('dash', 3152), ('wakeup', 13997), ('burnout', 1663), ('bedtime', 1139), ('skipping', 11770), ('paragraph', 9151), ('relaxing', 10605), ('intimate', 6817), ('tender', 12887), ('reflex', 10524), ('urbanization', 13714), ('cyclical', 3098), ('refreshing', 10532), ('draining', 3903), ('benjamin', 1195), ('franklin', 5227), ('psychologically', 10115), ('backlash', 991), ('permit', 9354), ('hypocrisy', 6253), ('farming', 4817), ('cultivating', 3043), ('timetable', 13068), ('curb', 3056), ('officially', 8796), ('declaration', 3226), ('disillusioned', 3686), ('mentality', 7973), ('gentler', 5448), ('healing', 5900), ('approval', 653), ('massage', 7845), ('relaxation', 10603), ('gained', 5354), ('buildup', 1622), ('pointer', 9614), ('sang', 11181), ('rigid', 10955), ('notably', 8649), ('denmark', 3357), ('finland', 4973), ('weep', 14108), ('envy', 4392), ('recharge', 10420), ('tutoring', 13396), ('conceived', 2507), ('adolescent', 208), ('hovering', 6162), ('pleading', 9565), ('treadmill', 13276), ('banning', 1057), ('piling', 9481), ('scotland', 11284), ('freaked', 5236), ('exam', 4550), ('cited', 2138), ('cv', 3091), ('ivy', 6961), ('freshman', 5259), ('savor', 11215), ('exclamation', 4580), ('speeding', 12057), ('shaming', 11548), ('adrenaline', 216), ('taboo', 12712), ('erected', 4431), ('lazy', 7305), ('synonymous', 12691), ('threeandahalf', 13007), ('welcomed', 14119), ('resounding', 10794), ('buzz', 1690), ('squash', 12141), ('chariot', 1993), ('ticking', 13038), ('rosy', 11045), ('tempo', 12874), ('dreaded', 3917), ('cherish', 2043), ('packed', 9083), ('stair', 12174), ('sticker', 12273), ('aw', 956), ('brewing', 1527), ('photojournalist', 9440), ('deer', 3256), ('headlight', 5890), ('violating', 13900), ('relying', 10632), ('motivated', 8296), ('upheaval', 13689), ('awakening', 961), ('racism', 10255), ('assessing', 789), ('ideological', 6291), ('stimulates', 12284), ('journalistic', 7054), ('ira', 6910), ('confrontation', 2570), ('battlefield', 1109), ('decent', 3209), ('rebellion', 10394), ('guerrilla', 5726), ('southern', 11985), ('belonging', 1178), ('salvador', 11159), ('civilian', 2145), ('armed', 710), ('breakup', 1513), ('fractured', 5210), ('bosnia', 1440), ('intimacy', 6816), ('mosque', 8286), ('makeshift', 7717), ('clarify', 2158), ('manhood', 7755), ('isolation', 6945), ('clay', 2173), ('symbolic', 12673), ('somalia', 11946), ('clan', 2155), ('warfare', 14023), ('painfully', 9095), ('shipment', 11592), ('withdrawn', 14242), ('sudan', 12474), ('staged', 12168), ('testimony', 12928), ('eloquent', 4171), ('feeding', 4882), ('inauguration', 6443), ('elevator', 4156), ('discouraged', 3654), ('slaughtered', 11788), ('nato', 8455), ('withdrew', 14243), ('forcibly', 5132), ('deported', 3394), ('imprint', 6418), ('echoed', 4054), ('bombarded', 1406), ('wandering', 14013), ('imposed', 6404), ('quota', 10241), ('defect', 3261), ('labeled', 7211), ('incurable', 6490), ('confined', 2555), ('modernization', 8200), ('railway', 10279), ('unsolicited', 13648), ('countryside', 2870), ('generosity', 5427), ('addict', 167), ('heroin', 5966), ('vietnamese', 13880), ('sprayed', 12122), ('quantity', 10210), ('concentrating', 2510), ('caregiver', 1813), ('tuberculosis', 13362), ('shedding', 11572), ('congo', 2580), ('exposure', 4689), ('malnourished', 7731), ('darfur', 3138), ('punished', 10162), ('handcuffed', 5795), ('yard', 14354), ('wreckage', 14318), ('realization', 10368), ('shortly', 11623), ('rehab', 10569), ('leftover', 7344), ('oppression', 8879), ('alliance', 395), ('imminent', 6359), ('mortar', 8280), ('marine', 7804), ('robber', 10993), ('cheered', 2028), ('hopeful', 6113), ('pilgrimage', 9480), ('observe', 8738), ('practiced', 9765), ('medic', 7923), ('grueling', 5716), ('displayed', 3712), ('humbled', 6198), ('catastrophic', 1870), ('surfing', 12569), ('willingness', 14201), ('biodiversity', 1260), ('mindboggling', 8103), ('declare', 3227), ('constituency', 2646), ('plea', 9564), ('definitively', 3285), ('culmination', 3038), ('peninsula', 9307), ('tropical', 13333), ('fishing', 4996), ('spine', 12080), ('blinded', 1341), ('naturalist', 8457), ('teeming', 12846), ('frontier', 5277), ('unexplored', 13557), ('unknown', 13604), ('amphibian', 466), ('gorilla', 5565), ('photosynthesis', 9444), ('uncovered', 13493), ('smallest', 11837), ('optical', 8885), ('microscopy', 8051), ('rust', 11104), ('eliminated', 4160), ('outline', 8984), ('diagnosed', 3518), ('gram', 5609), ('handful', 5797), ('assisted', 799), ('weaver', 14096), ('viral', 13908), ('exceeds', 4561), ('exceed', 4559), ('addressing', 179), ('microbial', 8039), ('genomic', 5443), ('bacterium', 1003), ('underway', 13535), ('mammal', 7735), ('invertebrate', 6867), ('microorganism', 8046), ('belong', 1176), ('begun', 1157), ('outer', 8975), ('bacterial', 1002), ('earthly', 4034), ('unimaginable', 13581), ('maintained', 7706), ('temptation', 12878), ('flux', 5086), ('distinguishing', 3756), ('tiniest', 13073), ('persisted', 9368), ('exquisitely', 4696), ('composing', 2478), ('conservationist', 2618), ('cuban', 3030), ('permanently', 9352), ('summarized', 12504), ('invasive', 6857), ('mussel', 8383), ('broom', 1576), ('inflict', 6572), ('spirituality', 12087), ('dinosaur', 3598), ('sadly', 11124), ('evaluated', 4505), ('classified', 2167), ('urgently', 13721), ('explored', 4673), ('preservation', 9857), ('transcendent', 13213), ('networked', 8522), ('interdependent', 6758), ('insufficient', 6709), ('tb', 12780), ('stagnant', 12170), ('unstable', 13652), ('unsustainable', 13658), ('depletion', 3388), ('interdependence', 6757), ('nationally', 8450), ('broadly', 1565), ('enterprise', 4357), ('perpetrator', 9357), ('invader', 6852), ('humankind', 6191), ('sensitive', 11450), ('registered', 10554), ('realistic', 10365), ('bahamas', 1013), ('disorganized', 3700), ('negotiated', 8497), ('negotiate', 8496), ('drastically', 3910), ('nest', 8516), ('urged', 13718), ('malawi', 7721), ('infectious', 6555), ('maternal', 7860), ('grappling', 5635), ('donor', 3847), ('rang', 10306), ('regularly', 10561), ('supplement', 12545), ('severity', 11515), ('perfected', 9330), ('evaluation', 4507), ('rwandan', 11108), ('indicative', 6507), ('diana', 3532), ('unusually', 13670), ('gifted', 5484), ('reed', 10500), ('twoandahalf', 13417), ('intestinal', 6814), ('inadequate', 6439), ('counseling', 2854), ('pregnancy', 9820), ('mozambique', 8323), ('systematic', 12703), ('upfront', 13686), ('highquality', 6007), ('scottish', 11286), ('fertilizer', 4907), ('yield', 14375), ('reorganize', 10681), ('worldclass', 14287), ('situated', 11745), ('pointed', 9613), ('automotive', 928), ('steering', 12251), ('reassuring', 10391), ('disabled', 3617), ('carriage', 1831), ('supportive', 12554), ('sailing', 11141), ('longrange', 7577), ('refined', 10514), ('consumed', 2666), ('particulate', 9193), ('golf', 5548), ('cart', 1838), ('multibilliondollar', 8338), ('greece', 5662), ('wagon', 13989), ('railroad', 10278), ('boulevard', 1457), ('palatable', 9110), ('suburb', 12454), ('energized', 4292), ('sidewalk', 11666), ('knocked', 7190), ('lag', 7223), ('recreational', 10465), ('policeman', 9632), ('venice', 13825), ('dictionary', 3547), ('microphone', 8047), ('roller', 11021), ('bureaucracy', 1650), ('regulator', 10567), ('legislator', 7354), ('appointment', 639), ('sneaker', 11879), ('cab', 1699), ('allocate', 399), ('watt', 14069), ('volt', 13959), ('outlet', 8982), ('lithium', 7509), ('gasoline', 5386), ('combustion', 2364), ('gallon', 5362), ('kilowatt', 7158), ('transplant', 13253), ('peek', 9288), ('purification', 10176), ('prosthetic', 10061), ('biomechanics', 1273), ('lobster', 7537), ('roy', 11066), ('overhead', 9028), ('upward', 13709), ('wiggle', 14187), ('tug', 13365), ('smash', 11845), ('stab', 12156), ('smashing', 11847), ('darn', 3147), ('cruising', 3005), ('collecting', 2324), ('flex', 5039), ('ranging', 10310), ('burrow', 1665), ('latch', 7264), ('prevents', 9889), ('amplification', 468), ('preserved', 9859), ('dynamically', 4007), ('visualize', 13933), ('outlined', 8985), ('hyperbolic', 6251), ('compression', 2490), ('popularized', 9681), ('squeezed', 12146), ('purchased', 10171), ('overloaded', 9034), ('releasing', 10609), ('xaxis', 14340), ('yaxis', 14356), ('hitting', 6052), ('millisecond', 8096), ('orientation', 8930), ('vapor', 13788), ('fluid', 5078), ('emits', 4209), ('destructive', 3460), ('destroys', 3458), ('propeller', 10031), ('approaching', 649), ('spreading', 12125), ('collapsing', 2318), ('worn', 14293), ('flesh', 5037), ('wacky', 13983), ('wellestablished', 14126), ('conveying', 2756), ('collaborator', 2313), ('miller', 8088), ('snapping', 11876), ('kick', 7139), ('totem', 13148), ('terminology', 12908), ('michelangelo', 8034), ('functionally', 5311), ('congestion', 2579), ('bmw', 1381), ('avatar', 937), ('sculpted', 11320), ('craftsmanship', 2910), ('screwing', 11310), ('analogy', 485), ('wash', 14045), ('diverge', 3782), ('vanity', 13786), ('manly', 7768), ('applicable', 631), ('philippe', 9422), ('butt', 1682), ('temperament', 12868), ('wrist', 14325), ('successor', 12468), ('suv', 12616), ('stole', 12302), ('fax', 4855), ('pollute', 9654), ('resolved', 10787), ('postcard', 9725), ('elizabeth', 4167), ('taylor', 12779), ('intensive', 6740), ('munich', 8360), ('cup', 3051), ('holder', 6064), ('confronting', 2572), ('surroundings', 12587), ('baffled', 1008), ('bullshit', 1634), ('fucking', 5291), ('yelled', 14367), ('solidarity', 11932), ('furious', 5331), ('catherine', 1881), ('recalled', 10402), ('rendition', 10672), ('overlooked', 9036), ('imposes', 6405), ('ar', 666), ('repeated', 10687), ('mic', 8031), ('suffice', 12483), ('whitney', 14164), ('visuals', 13937), ('forefront', 5138), ('podium', 9606), ('bore', 1430), ('cornell', 2799), ('geneticist', 5433), ('caltech', 1735), ('indiana', 6501), ('biochemist', 1256), ('rockefeller', 11007), ('shortcut', 11616), ('rigorous', 10957), ('coordinate', 2781), ('alpha', 415), ('banished', 1049), ('lawrence', 7294), ('helix', 5940), ('comparable', 2424), ('manuscript', 7782), ('ph', 9406), ('rushed', 11099), ('scheme', 11258), ('dull', 3979), ('teller', 12864), ('marshall', 7824), ('harbor', 5829), ('leo', 7369), ('cohen', 2291), ('patented', 9228), ('biopsy', 1279), ('autistic', 917), ('schizophrenia', 11259), ('schizophrenic', 11260), ('lefthanded', 7343), ('prone', 10020), ('genetically', 5432), ('righthanded', 10952), ('hysterical', 6260), ('reconcile', 10442), ('charlie', 1999), ('blinding', 1343), ('bleeding', 1330), ('minnesota', 8126), ('eyeball', 4727), ('snapped', 11875), ('decorated', 3237), ('hardcore', 5831), ('empathic', 4220), ('joan', 7023), ('velcro', 13818), ('sounding', 11976), ('overly', 9039), ('diagnostics', 3522), ('inserted', 6658), ('freaking', 5237), ('dictated', 3544), ('subconscious', 12418), ('consciously', 2609), ('compelled', 2437), ('wrap', 14312), ('lake', 7227), ('assumes', 805), ('beginner', 1154), ('scraping', 11296), ('ikea', 6308), ('billy', 1246), ('teddy', 12812), ('reframing', 10531), ('kickstart', 7143), ('clunky', 2247), ('bracelet', 1479), ('playful', 9557), ('corresponds', 2823), ('alexandria', 364), ('burnt', 1664), ('existential', 4615), ('neglected', 8495), ('numerical', 8690), ('assigning', 794), ('overwhelm', 9055), ('ecstasy', 4070), ('sunset', 12522), ('cling', 2208), ('involuntary', 6892), ('cruelty', 3003), ('subjective', 12423), ('enhanced', 4316), ('cosmetic', 2833), ('stimulant', 12281), ('steroid', 12266), ('pathetic', 9231), ('unnatural', 13620), ('enhancement', 4317), ('caffeine', 1712), ('alcohol', 358), ('nicotine', 8569), ('anesthetic', 515), ('archetype', 679), ('rewriting', 10911), ('ethical', 4486), ('communicating', 2411), ('faculty', 4763), ('nurturing', 8698), ('chatting', 2011), ('enabled', 4248), ('stare', 12200), ('irritated', 6931), ('irrational', 6921), ('functionality', 5310), ('morphology', 8275), ('selfcontrol', 11402), ('immersed', 6354), ('prairie', 9770), ('subset', 12439), ('alter', 421), ('intrinsic', 6832), ('typography', 13433), ('smack', 11834), ('austria', 904), ('stressful', 12357), ('brochure', 1568), ('refers', 10512), ('listed', 7494), ('cassette', 1854), ('helmet', 5943), ('hometown', 6085), ('blasting', 1323), ('bliss', 1349), ('mexican', 8026), ('swiss', 12658), ('eagerly', 4015), ('nirvana', 8590), ('abstraction', 36), ('viewer', 13883), ('ink', 6626), ('harmony', 5848), ('cheated', 2017), ('advertising', 238), ('cynical', 3103), ('visualized', 13934), ('evoke', 4534), ('bored', 1431), ('supplied', 12546), ('pretending', 9876), ('dusk', 3991), ('immerse', 6353), ('oneself', 8828), ('austrian', 905), ('arizona', 707), ('stefan', 12252), ('whimsical', 14152), ('renowned', 10678), ('album', 355), ('coded', 2276), ('eden', 4075), ('diverged', 3783), ('toast', 13093), ('mapped', 7785), ('zoo', 14420), ('nifty', 8571), ('cockroach', 2271), ('namibia', 8415), ('dolphin', 3828), ('spoon', 12110), ('fertilized', 4906), ('panda', 9129), ('tiger', 13046), ('deteriorate', 3477), ('wolf', 14256), ('deadliest', 3179), ('absorbing', 32), ('bloom', 1366), ('biomaterials', 1272), ('cliff', 2201), ('wing', 14213), ('lizard', 7525), ('pancreas', 9127), ('differs', 3561), ('punctuation', 10158), ('reasonably', 10385), ('privacy', 9929), ('leukemia', 7385), ('cured', 3058), ('genomics', 5444), ('powering', 9758), ('literate', 7507), ('pine', 9491), ('zealand', 14406), ('switzerland', 12662), ('argentine', 691), ('argentina', 690), ('crashing', 2921), ('privatization', 9932), ('shareholder', 11556), ('splitting', 12095), ('moderator', 8195), ('juan', 7062), ('enriquez', 4340), ('mastery', 7853), ('reshape', 10763), ('thrill', 13015), ('critter', 2981), ('courtship', 2882), ('skinny', 11767), ('rowing', 11065), ('mate', 7858), ('underwater', 13534), ('paddle', 9088), ('galapagos', 5358), ('wastewater', 14055), ('bump', 1639), ('flush', 5083), ('calcium', 1717), ('carbonate', 1800), ('ion', 6901), ('seawater', 11345), ('silo', 11691), ('leaned', 7319), ('hike', 6019), ('mimicking', 8099), ('algorithm', 370), ('humanmade', 6194), ('carving', 1846), ('pollen', 9647), ('tumble', 13367), ('divorced', 3800), ('helpful', 5947), ('pearl', 9278), ('evaporation', 4515), ('jigsaw', 7018), ('precursor', 9794), ('selfassemble', 11394), ('barbara', 1061), ('brittle', 1557), ('optic', 8884), ('sponge', 12104), ('knot', 7192), ('starch', 12199), ('glucose', 5530), ('biodegradable', 1258), ('purple', 10178), ('platinum', 9550), ('fin', 4950), ('pigment', 9477), ('facade', 4743), ('beetle', 1146), ('fog', 5097), ('pill', 9482), ('sweaty', 12635), ('mining', 8121), ('microbe', 8038), ('filter', 4945), ('solvent', 11941), ('spider', 12071), ('periodic', 9345), ('timed', 13060), ('refrigeration', 10533), ('regenerate', 10547), ('capsule', 1785), ('glove', 5527), ('offspring', 8800), ('collide', 2330), ('ensemble', 4343), ('herd', 5959), ('marsh', 7822), ('sparkling', 12014), ('enhance', 4315), ('influencing', 6576), ('selfproclaimed', 11422), ('galvanized', 5364), ('portrayed', 9705), ('backing', 990), ('lagoon', 7224), ('molded', 8215), ('geyser', 5476), ('latent', 7268), ('vanishes', 13784), ('substrate', 12447), ('exhale', 4599), ('fossilized', 5191), ('meteorite', 8016), ('delivered', 3320), ('singlecelled', 11726), ('phytoplankton', 9456), ('nurtured', 8697), ('morphed', 8274), ('hardened', 5832), ('defensive', 3269), ('crab', 2900), ('scorpion', 11282), ('prey', 9893), ('clinging', 2209), ('barren', 1078), ('spore', 12111), ('jurassic', 7092), ('madagascar', 7671), ('mobility', 8183), ('lily', 7455), ('diversify', 3787), ('hawaii', 5878), ('silver', 11692), ('sparking', 12012), ('multiplied', 8349), ('orchid', 8908), ('genitalia', 5438), ('lure', 7650), ('hawk', 5880), ('accustomed', 103), ('hyena', 6248), ('lion', 7486), ('sleek', 11791), ('hop', 6110), ('oz', 9073), ('primate', 9903), ('ape', 599), ('dried', 3928), ('masculine', 7834), ('chimp', 2064), ('bonobo', 1416), ('vein', 13817), ('drainage', 3901), ('tidal', 13040), ('winter', 14218), ('stockpile', 12300), ('versa', 13845), ('poetic', 9609), ('soundtrack', 11977), ('philip', 9421), ('awardwinning', 964), ('lyrical', 7660), ('neverending', 8541), ('seize', 11383), ('lining', 7479), ('tame', 12744), ('guitar', 5744), ('arthur', 741), ('bass', 1092), ('adventurous', 229), ('singersongwriter', 11722), ('equate', 4408), ('joyful', 7059), ('ponder', 9662), ('reversed', 10883), ('um', 13457), ('ballot', 1033), ('fountain', 5200), ('amusement', 479), ('static', 12225), ('incorporate', 6474), ('consistently', 2634), ('disguise', 3678), ('ambassador', 447), ('kim', 7159), ('delightful', 3317), ('reflection', 10521), ('transforms', 13227), ('fork', 5164), ('jacques', 6968), ('cousteau', 2885), ('rearranging', 10382), ('cabinet', 1701), ('fitting', 5004), ('egalitarian', 4109), ('empathetic', 4219), ('attributed', 877), ('georgia', 5469), ('lucy', 7640), ('flatter', 5026), ('densely', 3362), ('austin', 901), ('spontaneously', 12108), ('lighter', 7440), ('wasp', 14050), ('backpack', 992), ('farther', 4820), ('goodbye', 5551), ('pedal', 9282), ('swahili', 12618), ('haircut', 5770), ('sharper', 11562), ('flake', 5015), ('requiring', 10742), ('resemblance', 10751), ('advised', 241), ('chalk', 1959), ('sue', 12477), ('rotated', 11048), ('curved', 3076), ('stunned', 12407), ('acquisition', 124), ('promotes', 10015), ('chase', 2005), ('highpitched', 6003), ('adept', 180), ('circling', 2124), ('luggage', 7642), ('prosperous', 10059), ('flaw', 5028), ('measurable', 7904), ('wildly', 14195), ('unfair', 13558), ('worstcase', 14301), ('editorial', 4087), ('notebook', 8653), ('denser', 3363), ('livable', 7516), ('vancouver', 13779), ('managing', 7745), ('portland', 9702), ('manner', 7771), ('dwell', 3998), ('glow', 5528), ('brighter', 1540), ('exhaust', 4600), ('megacities', 7943), ('newest', 8547), ('penguin', 9305), ('bollywood', 1401), ('brazilian', 1502), ('indirect', 6514), ('motto', 8306), ('tweak', 13399), ('superpower', 12540), ('screenshot', 11306), ('fairer', 4776), ('hyderabad', 6243), ('harvesting', 5861), ('moist', 8212), ('distill', 3747), ('transporting', 13259), ('rolled', 11020), ('strait', 12325), ('upwards', 13710), ('detects', 3473), ('scattered', 11248), ('outlive', 8986), ('pathogen', 9232), ('betty', 1216), ('scratched', 11298), ('mouthful', 8317), ('milliliter', 8090), ('characterized', 1988), ('oceanographic', 8772), ('panama', 9126), ('canal', 1757), ('auditorium', 887), ('apparatus', 612), ('filtering', 4947), ('gradient', 5595), ('amino', 461), ('infrared', 6587), ('ultraviolet', 13456), ('assessment', 790), ('comprise', 2491), ('disrupt', 3725), ('ham', 5784), ('injected', 6620), ('senate', 11434), ('fragment', 5213), ('engineered', 4308), ('array', 725), ('combining', 2363), ('fermentation', 4898), ('ethanol', 4483), ('petrochemical', 9402), ('participated', 9186), ('scripture', 11313), ('revolutionizing', 10903), ('epic', 4396), ('lifeforms', 7423), ('sampling', 11167), ('pointless', 9616), ('causality', 1887), ('craziest', 2930), ('distress', 3764), ('junkie', 7089), ('trophy', 13331), ('brass', 1497), ('knuckle', 7199), ('whiskey', 14156), ('clown', 2241), ('entertainer', 4361), ('joystick', 7060), ('playstation', 9561), ('starbucks', 12198), ('colombian', 2337), ('tombstone', 13113), ('alfred', 366), ('teapot', 12791), ('florence', 5062), ('physicality', 9449), ('arrival', 729), ('plantation', 9539), ('manipulating', 7764), ('freud', 5261), ('render', 10669), ('specificity', 12039), ('mosaic', 8283), ('chuck', 2109), ('haystack', 5883), ('opt', 8882), ('ambiguity', 450), ('justified', 7097), ('robbed', 10992), ('warehouse', 14022), ('plumber', 9586), ('fooling', 5116), ('shredded', 11640), ('sliced', 11800), ('telegraph', 12857), ('diffusion', 3565), ('easiest', 4038), ('interrupt', 6797), ('promoted', 10014), ('canceled', 1760), ('interrupting', 6799), ('allowance', 403), ('circled', 2123), ('oven', 9014), ('beef', 1141), ('featuring', 4871), ('copernicus', 2788), ('parable', 9143), ('mini', 8113), ('godfather', 5539), ('retail', 10843), ('loaf', 7531), ('baked', 1018), ('fedex', 4877), ('ignoring', 6305), ('noodle', 8627), ('desperately', 3446), ('yoyo', 14398), ('loudest', 7606), ('bulletproof', 1632), ('windshield', 14210), ('keynote', 7134), ('jam', 6972), ('nail', 8408), ('grader', 5594), ('gem', 5408), ('fastestgrowing', 4833), ('gamble', 5365), ('tract', 13180), ('marketed', 7812), ('soap', 11892), ('noticing', 8658), ('bizarre', 1303), ('conceptual', 2515), ('decoration', 3238), ('hippocampus', 6037), ('documentation', 3814), ('multiplicity', 8348), ('accommodation', 76), ('enhances', 4318), ('hudson', 6170), ('enormity', 4333), ('borough', 1435), ('guiding', 5737), ('connective', 2598), ('dine', 3594), ('presence', 9849), ('unravel', 13634), ('folded', 5100), ('envelope', 4383), ('translucent', 13242), ('porous', 9694), ('keith', 7117), ('reflective', 10522), ('objective', 8724), ('transparency', 13250), ('conditioning', 2535), ('adjusts', 191), ('delta', 3324), ('augmentation', 890), ('rethinking', 10851), ('reshaping', 10765), ('modeled', 8192), ('inquiry', 6644), ('occupies', 8761), ('overt', 9049), ('atmospheric', 839), ('caretaker', 1814), ('carrier', 1833), ('cone', 2544), ('uninterrupted', 13586), ('vienna', 13878), ('inextricably', 6547), ('augmenting', 892), ('energetic', 4291), ('seismic', 11382), ('geologic', 5459), ('gateway', 5391), ('courthouse', 2880), ('edifice', 4079), ('constitution', 2650), ('prizewinning', 9937), ('feather', 4868), ('contaminated', 2684), ('imf', 6344), ('fecal', 4873), ('imagery', 6332), ('captivity', 1791), ('cognition', 2288), ('nonhuman', 8614), ('experimenter', 4648), ('raisin', 10290), ('orangutan', 8900), ('hunched', 6215), ('termite', 12909), ('peered', 9292), ('modifying', 8206), ('louis', 7609), ('imitation', 6347), ('arrogance', 734), ('altruism', 432), ('nonverbal', 8622), ('posture', 9735), ('kiss', 7172), ('sadness', 11125), ('self', 11393), ('traditionally', 13191), ('sentient', 11460), ('humility', 6207), ('multinational', 8345), ('logging', 7554), ('basin', 1088), ('demanding', 3330), ('corrupted', 2828), ('easter', 4041), ('crippling', 2968), ('abusing', 44), ('stupidity', 12411), ('poisoning', 9620), ('harming', 5845), ('faraway', 4808), ('filthy', 4948), ('greed', 5663), ('merry', 7994), ('compromised', 2494), ('preschool', 9844), ('oral', 8898), ('electronically', 4143), ('jane', 6976), ('firstly', 4988), ('limestone', 7459), ('patriotic', 9245), ('quotation', 10242), ('mahatma', 7692), ('dubbed', 3970), ('vocal', 13946), ('picnic', 9467), ('skater', 11753), ('whistling', 14162), ('preacher', 9779), ('jill', 7019), ('catchy', 1874), ('tune', 13372), ('insightful', 6664), ('fanciful', 4801), ('cello', 1916), ('cellist', 1915), ('dolby', 3824), ('strung', 12391), ('moth', 8289), ('caroline', 1827), ('casting', 1857), ('performs', 9339), ('expansive', 4627), ('classical', 2164), ('du', 3966), ('glaze', 5508), ('curl', 3063), ('commenting', 2386), ('ethos', 4493), ('innermost', 6633), ('barrack', 1075), ('suzanne', 12617), ('battalion', 1104), ('lee', 7340), ('magician', 7682), ('impose', 6403), ('inflate', 6568), ('elbow', 4125), ('carolina', 1826), ('cleverly', 2193), ('suggestion', 12492), ('painter', 9100), ('angular', 526), ('rotation', 11051), ('dock', 3808), ('boeing', 1393), ('compelling', 2438), ('marking', 7816), ('clutching', 2251), ('strangely', 12329), ('percussion', 9327), ('tuning', 13374), ('academy', 50), ('audition', 886), ('deafness', 3183), ('clapping', 2157), ('experimented', 4647), ('whilst', 14150), ('relating', 10595), ('wished', 14235), ('soaring', 11895), ('illustrates', 6327), ('dame', 3118), ('isolating', 6944), ('reproductive', 10727), ('npr', 8675), ('coherent', 2292), ('implicit', 6392), ('secure', 11363), ('facto', 4759), ('mercury', 7985), ('explicitly', 4661), ('endgame', 4277), ('appeared', 620), ('cradle', 2905), ('delightfully', 3318), ('blanket', 1320), ('ethically', 4487), ('eyesight', 4733), ('contaminant', 2682), ('coating', 2265), ('buffett', 1616), ('carpet', 1830), ('recyclable', 10474), ('nylon', 8708), ('meadow', 7894), ('nesting', 8517), ('olympics', 8819), ('yale', 14350), ('affectionately', 261), ('proprietary', 10047), ('sponsored', 12106), ('tobacco', 13095), ('gyre', 5755), ('dragged', 3896), ('jefferson', 6997), ('strive', 12374), ('cooperating', 2778), ('fittest', 5003), ('niche', 8563), ('lexicon', 7394), ('asphalt', 773), ('underlying', 13511), ('mc', 7890), ('squared', 12140), ('supplier', 12547), ('reusable', 10867), ('sol', 11922), ('bruno', 1589), ('rouge', 11054), ('auto', 918), ('fiveminute', 5005), ('wetland', 14139), ('compost', 2481), ('inhabit', 6597), ('considers', 2629), ('afterlife', 282), ('badass', 1005), ('mason', 7841), ('mi', 8028), ('johnny', 7032), ('backseat', 993), ('packing', 9085), ('latenight', 7267), ('cage', 1713), ('gaze', 5399), ('germ', 5471), ('riddled', 10934), ('congressman', 2588), ('spotlight', 12115), ('til', 13051), ('hush', 6236), ('cacophony', 1704), ('oversized', 9048), ('unlock', 13614), ('recap', 10404), ('memorable', 7962), ('fantastical', 4804), ('resilient', 10778), ('categorize', 1875), ('tempting', 12880), ('hype', 6250), ('inexhaustible', 6544), ('solitary', 11933), ('surgeon', 12571), ('clogged', 2221), ('abandon', 3), ('sail', 11139), ('deserted', 3426), ('tangled', 12749), ('footing', 5121), ('unaware', 13468), ('raven', 10340), ('heartbreak', 5915), ('undergone', 13505), ('accompanied', 77), ('bride', 1533), ('clerk', 2190), ('announcer', 543), ('announce', 540), ('perilous', 9342), ('risked', 10973), ('arduous', 687), ('coveted', 2891), ('transmitting', 13248), ('coordinating', 2783), ('appliance', 630), ('edison', 4081), ('hoover', 6109), ('weighed', 14111), ('seller', 11428), ('wrinkle', 14324), ('warmer', 14028), ('drier', 3929), ('toaster', 13094), ('disney', 3697), ('fixture', 5013), ('messy', 8005), ('gruesome', 5717), ('plugging', 9585), ('taped', 12757), ('progressed', 9990), ('nugget', 8684), ('bother', 1446), ('amazoncom', 446), ('finest', 4962), ('shove', 11631), ('cane', 1767), ('meditation', 7936), ('introspection', 6840), ('inviting', 6888), ('foolish', 5117), ('creep', 2952), ('whisper', 14157), ('farewell', 4810), ('loneliness', 7564), ('tedtalk', 12829), ('distressing', 3766), ('regeneration', 10548), ('drowning', 3956), ('chop', 2083), ('firstclass', 4984), ('incorrect', 6478), ('ahh', 320), ('mythology', 8404), ('yup', 14401), ('daylight', 3171), ('massively', 7848), ('recovery', 10460), ('cooky', 2770), ('coated', 2264), ('sour', 11979), ('sugary', 12488), ('diffuse', 3564), ('tr', 13172), ('portuguese', 9707), ('clearer', 2185), ('bursting', 1667), ('seam', 11330), ('remake', 10639), ('registration', 10555), ('restroom', 10834), ('lounge', 7613), ('anthrax', 565), ('pi', 9457), ('drying', 3965), ('wicked', 14172), ('parody', 9177), ('delivery', 3323), ('satire', 11196), ('powerpoint', 9760), ('accent', 58), ('hostility', 6146), ('allegedly', 387), ('id', 6273), ('tactical', 12718), ('theorist', 12964), ('theologian', 12959), ('pope', 9676), ('devout', 3512), ('corrosive', 2825), ('preach', 9778), ('reassure', 10389), ('preaching', 9780), ('choir', 2074), ('militant', 8080), ('negatively', 8492), ('compounding', 2484), ('solves', 11943), ('ramp', 10298), ('suspension', 12606), ('wurman', 14339), ('rationally', 10336), ('potassium', 9738), ('conviction', 2760), ('binding', 1250), ('loyal', 7633), ('supporter', 12552), ('patriotism', 9246), ('patriot', 9244), ('withdrawal', 14241), ('posed', 9709), ('calf', 1726), ('undeniable', 13496), ('hitler', 6051), ('natalie', 8443), ('jew', 7013), ('hindu', 6031), ('oblivion', 8729), ('mobilized', 8186), ('socioeconomic', 11909), ('honored', 6103), ('obtained', 8751), ('mismatch', 8149), ('candidate', 1764), ('affirm', 263), ('qualified', 10203), ('bluntly', 1377), ('homosexual', 6091), ('outing', 8979), ('snowball', 11887), ('recruitment', 10469), ('loyalty', 7634), ('coined', 2301), ('karl', 7108), ('marx', 7831), ('mistakenly', 8161), ('complained', 2454), ('observes', 8741), ('sabbath', 11110), ('tooth', 13124), ('fairy', 4779), ('unicorn', 13576), ('banner', 1056), ('humanist', 6186), ('apparent', 613), ('confuse', 2574), ('mob', 8181), ('shorthand', 11621), ('dread', 3916), ('sagan', 11135), ('stressed', 12356), ('reverence', 10879), ('awe', 968), ('secretly', 11359), ('damned', 3120), ('respectful', 10800), ('openly', 8854), ('fiery', 4924), ('bilingual', 1239), ('et', 4476), ('que', 10217), ('mischievous', 8139), ('witty', 14249), ('celestial', 1913), ('controller', 2732), ('adjective', 186), ('almighty', 411), ('acknowledging', 117), ('liberal', 7401), ('clergy', 2189), ('believer', 1172), ('congregation', 2585), ('devastation', 3493), ('compassionate', 2434), ('anguish', 525), ('grief', 5682), ('eternal', 4479), ('slaughter', 11787), ('allegiance', 388), ('bystander', 1697), ('intimately', 6818), ('inappropriate', 6442), ('dodgy', 3818), ('tuesday', 13364), ('scatter', 11247), ('shore', 11611), ('membership', 7957), ('protector', 10071), ('heroism', 5968), ('ivan', 6959), ('admission', 201), ('respectfully', 10801), ('spectator', 12047), ('superhuman', 12531), ('underpinning', 13516), ('conceive', 2506), ('begs', 1156), ('trusting', 13350), ('ironic', 6918), ('deepen', 3249), ('uncharted', 13479), ('rev', 10870), ('drone', 3946), ('forecasting', 5137), ('valuation', 13772), ('inflection', 6571), ('penetration', 9304), ('proxy', 10104), ('netflix', 8519), ('premium', 9832), ('pricing', 9897), ('prius', 9928), ('forecast', 5136), ('regenerative', 10549), ('braking', 1490), ('scarcity', 11239), ('outsourcing', 9004), ('displacing', 3710), ('heather', 5922), ('highland', 5996), ('newfoundland', 8549), ('storm', 12315), ('ethereal', 4484), ('virtuoso', 13915), ('reel', 10502), ('sb', 11221), ('logged', 7553), ('trickle', 13310), ('query', 10220), ('plotted', 9578), ('correctly', 2814), ('ketchup', 7130), ('spain', 12003), ('pickup', 9465), ('embarking', 4180), ('aha', 317), ('submerged', 12427), ('churn', 2114), ('suspense', 12605), ('embodied', 4188), ('fullblown', 5301), ('iceland', 6267), ('ordering', 8912), ('instituted', 6698), ('guaranteed', 5720), ('enclosed', 4253), ('laundry', 7285), ('hampshire', 5789), ('livelihood', 7519), ('saddam', 11122), ('hussein', 6238), ('bastard', 1093), ('competitor', 2448), ('ruling', 11086), ('aspen', 772), ('colorado', 2347), ('giggle', 5488), ('resemble', 10752), ('wonderland', 14265), ('sushi', 12600), ('postmodern', 9732), ('bacon', 1000), ('grease', 5655), ('beethoven', 1145), ('gay', 5397), ('sensibility', 11447), ('thee', 12955), ('searing', 11338), ('cleansing', 2179), ('thorough', 12992), ('rude', 11076), ('vain', 13764), ('immersive', 6356), ('entropy', 4381), ('overestimate', 9024), ('sprawl', 12119), ('outstanding', 9006), ('salient', 11150), ('grammar', 5610), ('syntax', 12692), ('cathedral', 1880), ('consequently', 2616), ('geographically', 5457), ('curvature', 3074), ('defending', 3267), ('spilling', 12077), ('outdoor', 8973), ('activates', 134), ('voluntarily', 13962), ('festival', 4908), ('pleasurable', 9569), ('dismal', 3690), ('joint', 7037), ('prozac', 10105), ('stalin', 12179), ('shouted', 11629), ('boardroom', 1386), ('nicest', 8562), ('burglar', 1655), ('upstairs', 13705), ('bandaid', 1042), ('remedy', 10644), ('urbanism', 13713), ('aversion', 942), ('amenity', 456), ('convenience', 2738), ('insidious', 6662), ('agony', 307), ('ridicule', 10938), ('broadcasting', 1562), ('loading', 7530), ('caesar', 1708), ('fortunate', 5184), ('reconstruct', 10447), ('integral', 6721), ('courtyard', 2883), ('vocation', 13947), ('disturbed', 3777), ('degrading', 3296), ('agrarian', 308), ('attend', 859), ('cloth', 2236), ('wrestled', 14320), ('plugged', 9584), ('humancentered', 6182), ('responds', 10810), ('custom', 3080), ('theatre', 12953), ('driverless', 3943), ('disperse', 3705), ('aired', 335), ('cubicle', 3033), ('oakland', 8711), ('oneway', 8833), ('captive', 1790), ('hug', 6172), ('greet', 5672), ('builtin', 1624), ('pavilion', 9259), ('wander', 14011), ('announcing', 545), ('scuba', 11318), ('diver', 3781), ('wet', 14138), ('superimposed', 12532), ('ambient', 449), ('fulbright', 5296), ('rainy', 10287), ('donated', 3843), ('builder', 1620), ('unemployment', 13548), ('stewart', 12271), ('counterculture', 2861), ('graffiti', 5604), ('blackboard', 1307), ('recollection', 10437), ('squat', 12142), ('proper', 10033), ('mature', 7876), ('societal', 11907), ('geology', 5462), ('neuroscientist', 8532), ('woo', 14267), ('pit', 9507), ('prevented', 9885), ('tectonic', 12807), ('manageable', 7740), ('stumped', 12406), ('turing', 13382), ('behaves', 1161), ('behavioral', 1164), ('metric', 8022), ('reptile', 10729), ('napkin', 8426), ('memorizing', 7966), ('envision', 4389), ('anterior', 562), ('copied', 2789), ('mammalian', 7736), ('wiring', 14228), ('automatic', 924), ('desired', 3440), ('robotics', 11003), ('microprocessor', 8048), ('pioneered', 9498), ('stepping', 12260), ('lively', 7520), ('overfishing', 9025), ('pollutant', 9653), ('jellyfish', 7000), ('aquarium', 663), ('voracious', 13970), ('sneak', 11878), ('unsuspecting', 13657), ('sailor', 11142), ('guinness', 5742), ('cosmological', 2835), ('hawaiian', 5879), ('shark', 11558), ('streamlined', 12348), ('tuna', 13370), ('tighter', 13048), ('intrigued', 6830), ('faction', 4758), ('reef', 10501), ('tweaking', 13400), ('prehistoric', 9822), ('ancestry', 501), ('ovary', 9012), ('reminiscent', 10655), ('adulthood', 219), ('bycatch', 1693), ('mediterranean', 7937), ('fishery', 4995), ('pictured', 9469), ('float', 5053), ('relay', 10606), ('dataset', 3157), ('streaming', 12347), ('genus', 5453), ('aerial', 251), ('exaggerating', 4548), ('shred', 11639), ('diego', 3550), ('kelp', 7119), ('threatening', 13005), ('tagged', 12721), ('equator', 4412), ('plunge', 9591), ('funders', 5318), ('rabbi', 10247), ('kin', 7160), ('unite', 13593), ('panic', 9133), ('arkansas', 708), ('sacramento', 11116), ('compulsive', 2496), ('personalized', 9378), ('superstar', 12541), ('heating', 5923), ('secondlargest', 11352), ('fleet', 5034), ('fluorescent', 5082), ('dim', 3586), ('paramount', 9157), ('techie', 12798), ('ab', 1), ('legislation', 7352), ('friedman', 5266), ('jose', 7047), ('mandated', 7749), ('leverage', 7389), ('metabolic', 8007), ('biofuels', 1263), ('vat', 13805), ('geothermal', 5470), ('retailer', 10844), ('biofuel', 1262), ('guessing', 5729), ('deck', 3225), ('pressed', 9865), ('gig', 5485), ('lobbying', 7534), ('acclaimed', 74), ('foundational', 5196), ('remotely', 10661), ('gigabyte', 5486), ('zooming', 14422), ('bleak', 1327), ('specification', 12038), ('correspond', 2819), ('stabilized', 12160), ('panoramic', 9136), ('imaging', 6339), ('scraped', 11295), ('flickr', 5045), ('stitched', 12295), ('emergent', 4201), ('metadata', 8010), ('enriched', 4338), ('wearable', 14091), ('dormant', 3857), ('belonged', 1177), ('arrest', 726), ('prosecuted', 10051), ('outraged', 8994), ('legislature', 7355), ('dictatorship', 3546), ('export', 4682), ('nigerian', 8574), ('monetary', 8233), ('bribe', 1530), ('volatility', 13956), ('turnover', 13391), ('strengthening', 12353), ('attracted', 870), ('wildlife', 14194), ('democratization', 3339), ('exporting', 4685), ('amsterdam', 476), ('employing', 4236), ('technologist', 12805), ('quo', 10240), ('visceral', 13919), ('desktop', 3442), ('browse', 1583), ('smoothly', 11866), ('heavier', 5925), ('crease', 2933), ('postit', 9731), ('align', 377), ('aligned', 378), ('colliding', 2333), ('bumping', 1642), ('browsing', 1585), ('enrich', 4337), ('raced', 10250), ('interconnectedness', 6754), ('enlightened', 4328), ('serpent', 11487), ('forging', 5157), ('overrun', 9043), ('delusion', 3326), ('empathize', 4221), ('virtue', 13914), ('tireless', 13083), ('proponent', 10038), ('burial', 1656), ('finishing', 4970), ('totality', 13146), ('bare', 1067), ('perimeter', 9343), ('plywood', 9596), ('sensual', 11454), ('devastated', 3491), ('taller', 12742), ('liz', 7524), ('collaborated', 2309), ('relevance', 10613), ('swat', 12628), ('fulfilling', 5299), ('cathartic', 1879), ('entrenched', 4375), ('predominantly', 9812), ('pier', 9472), ('dehumanizing', 3298), ('dignified', 3578), ('vip', 13907), ('insanely', 6647), ('tedious', 12819), ('contractor', 2718), ('volunteered', 13965), ('disbelief', 3635), ('yorkers', 14385), ('abandoning', 5), ('banal', 1038), ('categorized', 1876), ('humble', 6197), ('substantially', 12445), ('reinforces', 10581), ('sorted', 11969), ('outrage', 8993), ('monolithic', 8243), ('oklahoma', 8809), ('instantaneous', 6688), ('erection', 4433), ('spectacle', 12044), ('terminal', 12906), ('strategist', 12337), ('pentagon', 9314), ('planner', 9536), ('secretary', 11356), ('instantaneously', 6689), ('peel', 9289), ('trojan', 13327), ('exclusively', 4587), ('insists', 6670), ('legitimacy', 7356), ('coalition', 2258), ('keeper', 7115), ('admitting', 206), ('unparalleled', 13626), ('holocaust', 6073), ('downstream', 3886), ('functioning', 5312), ('looting', 7592), ('insurgency', 6716), ('resurrect', 10841), ('sebastian', 11347), ('balkan', 1028), ('submarine', 12426), ('navy', 8469), ('voyage', 13977), ('jessica', 7010), ('globalized', 5518), ('heals', 5901), ('pronounce', 10022), ('enforcement', 4298), ('sought', 11971), ('enforce', 4296), ('maintaining', 7707), ('historically', 6048), ('baton', 1103), ('networking', 8523), ('merged', 7990), ('rationale', 10333), ('reconnect', 10444), ('embed', 4185), ('employment', 4237), ('disparate', 3702), ('handing', 5800), ('confirmed', 2560), ('unmarried', 13618), ('pissed', 9505), ('balanced', 1023), ('lethal', 7381), ('tense', 12896), ('max', 7880), ('sub', 12416), ('airborne', 331), ('loose', 7589), ('fireman', 4977), ('cia', 2116), ('qaeda', 10197), ('sunglass', 12516), ('censor', 1924), ('ranking', 10313), ('undertaking', 13531), ('logistical', 7558), ('constellation', 2645), ('viewpoint', 13885), ('vantage', 13787), ('poking', 9624), ('duct', 3974), ('rivalry', 10980), ('responder', 10808), ('geometry', 5464), ('blend', 1332), ('whirlwind', 14155), ('staggering', 12169), ('poised', 9617), ('gaming', 5370), ('download', 3879), ('onefifth', 8825), ('philippine', 9423), ('discrepancy', 3662), ('toyota', 13171), ('granddaughter', 5614), ('healthiest', 5905), ('homage', 6076), ('emitting', 4212), ('attended', 862), ('earns', 4029), ('rug', 11078), ('nicer', 8561), ('sunshine', 12523), ('thankful', 12945), ('paved', 9257), ('grape', 5631), ('achieving', 110), ('varying', 13799), ('dreamer', 3921), ('abyss', 46), ('underworld', 13538), ('descend', 3415), ('resolve', 10786), ('interpersonal', 6784), ('altitude', 429), ('damp', 3121), ('formidable', 5174), ('crushing', 3016), ('stratum', 12340), ('horizontally', 6124), ('twoyear', 13422), ('exploratory', 4671), ('europa', 4500), ('carolyn', 1828), ('terrain', 12911), ('onboard', 8821), ('hydrothermal', 6247), ('microbiologist', 8040), ('populate', 9682), ('bot', 1443), ('microscopic', 8050), ('slam', 11779), ('simultaneous', 11714), ('backward', 997), ('orbital', 8902), ('tesla', 12923), ('littleknown', 7514), ('sediment', 11368), ('payload', 9264), ('stratosphere', 12339), ('dissipate', 3739), ('approved', 655), ('collectively', 2327), ('ernest', 4437), ('maverick', 7879), ('jupiter', 7091), ('uneasy', 13545), ('obeying', 8720), ('salmon', 11153), ('upstream', 13707), ('spawning', 12019), ('sizable', 11751), ('communism', 2414), ('outofthebox', 8989), ('occupational', 8759), ('bumper', 1641), ('unmistakable', 13619), ('misuse', 8168), ('misused', 8169), ('dire', 3605), ('variant', 13792), ('nucleic', 8680), ('packet', 9084), ('pronounced', 10023), ('foster', 5192), ('hemisphere', 5952), ('traveler', 13269), ('wiping', 14223), ('pornography', 9693), ('shrug', 11647), ('vector', 13809), ('viewed', 13882), ('bioethics', 1261), ('parkinson', 9173), ('debilitating', 3196), ('clinically', 2212), ('bionic', 1277), ('alexis', 365), ('ankle', 533), ('ration', 10331), ('diagnosing', 3519), ('symptomatic', 12682), ('onset', 8839), ('foreseeable', 5148), ('fingertip', 4967), ('toolbox', 13122), ('converse', 2748), ('induce', 6527), ('pittsburgh', 9515), ('slightest', 11808), ('squeamish', 12144), ('eventual', 4520), ('amputation', 474), ('intact', 6718), ('nostril', 8647), ('gel', 5407), ('repeating', 10689), ('ultrasound', 13455), ('bypass', 1695), ('randomized', 10303), ('minimally', 8117), ('injecting', 6621), ('heartbreaking', 5916), ('fertilize', 4905), ('lawn', 7293), ('interdisciplinary', 6759), ('coincidence', 2299), ('nih', 8580), ('imbalance', 6343), ('geographical', 5456), ('brightly', 1543), ('clicked', 2197), ('tenderness', 12888), ('cursor', 3072), ('madness', 7676), ('murmur', 8369), ('chronological', 2107), ('scrolling', 11315), ('unsure', 13655), ('extracted', 4711), ('michigan', 8036), ('prolific', 10005), ('sunny', 12519), ('swirl', 12656), ('cloudy', 2240), ('breeze', 1525), ('slipping', 11815), ('candid', 1763), ('yahoo', 14349), ('fingerprint', 4966), ('radiate', 10261), ('sift', 11670), ('consecutive', 2611), ('camel', 1741), ('vermont', 13843), ('roaring', 10990), ('aurora', 898), ('nicole', 8568), ('swirling', 12657), ('iconic', 6270), ('coffin', 2285), ('photographic', 9437), ('hillary', 6023), ('presidential', 9863), ('barack', 1060), ('obama', 8714), ('heroine', 5967), ('scooter', 11276), ('timeline', 13063), ('towering', 13165), ('jonathan', 7043), ('welleducated', 14125), ('combating', 2359), ('condom', 2536), ('decreased', 3241), ('pledged', 9572), ('transmitted', 13246), ('botswana', 1449), ('unprotected', 13633), ('puzzling', 10195), ('cookie', 2768), ('iv', 6958), ('profile', 9977), ('emily', 4204), ('artistthis', 755), ('inconvenience', 6472), ('plotting', 9579), ('script', 11312), ('isabel', 6934), ('rosa', 11039), ('mohamed', 8211), ('trope', 13330), ('deliberate', 3309), ('palace', 9109), ('cryptic', 3022), ('depiction', 3384), ('iphones', 6907), ('gunshot', 5749), ('stockholm', 12298), ('creepy', 2954), ('coincidentally', 2300), ('pork', 9691), ('maid', 7694), ('rumble', 11087), ('parse', 9180), ('suitcase', 12498), ('awkward', 973), ('autobiography', 920), ('roosevelt', 11034), ('departed', 3371), ('origami', 8932), ('cyborg', 3096), ('selfconscious', 11401), ('geeky', 5405), ('worldrenowned', 14288), ('maria', 7800), ('seti', 11498), ('astrobiology', 819), ('drake', 3904), ('alternate', 425), ('sculpt', 11319), ('maya', 7884), ('stripe', 12371), ('transparently', 13252), ('extracting', 4712), ('luke', 7643), ('lucas', 7635), ('herbivore', 5957), ('carnivore', 1823), ('evaporate', 4511), ('evaporating', 4514), ('odyssey', 8782), ('hubble', 6167), ('colossal', 2351), ('animator', 532), ('bustling', 1678), ('internalized', 6778), ('capillary', 1780), ('inflammation', 6565), ('internalize', 6777), ('truthful', 13353), ('vista', 13930), ('attendance', 860), ('sparse', 12015), ('sack', 11115), ('bidding', 1229), ('visualizing', 13935), ('reset', 10762), ('hurting', 6233), ('orthopedic', 8944), ('xrays', 14345), ('waited', 13992), ('gardening', 5380), ('hmm', 6057), ('vest', 13854), ('ringing', 10961), ('identification', 6284), ('volunteering', 13966), ('cheetah', 2034), ('complaining', 2455), ('colonialism', 2341), ('rotten', 11052), ('leak', 7315), ('import', 6397), ('exported', 4683), ('indicated', 6503), ('characterization', 1986), ('charitable', 1996), ('slate', 11786), ('socialist', 11903), ('crocodile', 2982), ('vampire', 13777), ('exclude', 4581), ('dysfunctional', 4010), ('imported', 6401), ('ivory', 6960), ('somali', 11945), ('heritage', 5962), ('sequester', 11475), ('nutshell', 8705), ('socialism', 11902), ('treasury', 13280), ('deposit', 3395), ('treasure', 13278), ('trove', 13340), ('torrent', 13137), ('complacent', 2452), ('greedy', 5664), ('bureaucrat', 1651), ('fastmoving', 4836), ('entrepreneurial', 4378), ('windmill', 14207), ('scrap', 11293), ('drought', 3952), ('currency', 3065), ('productively', 9970), ('simplistic', 11706), ('mo', 8180), ('ibrahim', 6264), ('ailment', 325), ('med', 7917), ('strapped', 12334), ('depended', 3375), ('sweating', 12634), ('shortest', 11620), ('token', 13102), ('transferred', 13218), ('superhighway', 12530), ('transferring', 13219), ('overtake', 9050), ('channeled', 1976), ('inability', 6435), ('firmly', 4983), ('facilitator', 4754), ('punchline', 10156), ('takeaway', 12728), ('manages', 7744), ('johannesburg', 7030), ('formalized', 5168), ('completing', 2463), ('mba', 7889), ('moss', 8288), ('slid', 11803), ('bestseller', 1205), ('topped', 13130), ('oracle', 8897), ('greatness', 5661), ('tapestry', 12758), ('glowing', 5529), ('speck', 12043), ('eclectic', 4055), ('dialect', 3526), ('digit', 3572), ('port', 9696), ('offshore', 8799), ('undoubtedly', 13544), ('goldman', 5547), ('euro', 4499), ('excludes', 4583), ('venezuela', 13823), ('curse', 3070), ('unpack', 13624), ('announcement', 542), ('powerhouse', 9757), ('forestry', 5151), ('pesticide', 9394), ('atm', 837), ('angola', 522), ('moody', 8261), ('ukraine', 13450), ('bcgs', 1115), ('strengthen', 12351), ('flashlight', 5022), ('lantern', 7248), ('csection', 3026), ('coup', 2872), ('wielding', 14183), ('assault', 782), ('predicament', 9799), ('scholarship', 11262), ('republic', 10730), ('hardworking', 5839), ('persistent', 9370), ('mattered', 7873), ('anarchy', 495), ('throe', 13023), ('ethic', 4485), ('entitlement', 4372), ('confronts', 2573), ('excellence', 4563), ('lifealtering', 7420), ('patrick', 9243), ('cofounded', 2286), ('novelist', 8669), ('rapper', 10322), ('prosecute', 10050), ('senseless', 11446), ('zimbabwe', 14413), ('virginity', 13911), ('mali', 7726), ('ethiopian', 4490), ('giraffe', 5494), ('spelling', 12060), ('cameroon', 1745), ('dick', 3541), ('rant', 10314), ('eccentric', 4052), ('pakistani', 9107), ('huddled', 6169), ('reich', 10573), ('nazi', 8470), ('frederick', 5239), ('dubious', 3971), ('terrified', 12916), ('buffet', 1615), ('costing', 2844), ('harold', 5852), ('proliferate', 10003), ('encountering', 4263), ('otherness', 8958), ('ronald', 11029), ('ode', 8780), ('exquisite', 4695), ('butcher', 1680), ('shattered', 11565), ('carved', 1845), ('imaginable', 6333), ('naming', 8416), ('wellintentioned', 14127), ('epitome', 4404), ('marched', 7792), ('doughnut', 3873), ('surge', 12570), ('trim', 13317), ('satisfying', 11200), ('nodded', 8598), ('forprofit', 5180), ('indirectly', 6515), ('wealthier', 14085), ('ups', 13700), ('bestknown', 1204), ('maize', 7710), ('selfsufficient', 11424), ('abe', 9), ('proving', 10097), ('fused', 5340), ('classification', 2166), ('samuel', 11169), ('cultivation', 3044), ('insecticide', 6653), ('unicef', 13575), ('resin', 10779), ('shah', 11534), ('establishment', 4469), ('unskilled', 13647), ('experimentation', 4646), ('iteration', 6956), ('sewing', 11519), ('harassed', 5826), ('comrade', 2504), ('harassing', 5827), ('mama', 7734), ('piercing', 9474), ('gloom', 5521), ('fend', 4896), ('unlucky', 13617), ('softly', 11919), ('ignite', 6297), ('showcase', 11634), ('entrepreneurship', 4379), ('owning', 9066), ('resides', 10771), ('calamity', 1716), ('uneven', 13552), ('camping', 1753), ('upstate', 13706), ('stealing', 12245), ('victoria', 13872), ('scourge', 11288), ('prosocial', 10054), ('encouragement', 4266), ('littered', 7512), ('carcass', 1802), ('inspires', 6678), ('nomination', 8607), ('pb', 9268), ('credited', 2949), ('sued', 12478), ('mandatory', 7750), ('scandinavia', 11231), ('protester', 10077), ('hoffman', 6062), ('coexistence', 2283), ('listing', 7500), ('prosthetics', 10062), ('bilateral', 1238), ('walter', 14008), ('elastic', 4124), ('actuator', 149), ('cuff', 3035), ('attache', 847), ('compliant', 2468), ('preview', 9890), ('honoring', 6104), ('compile', 2449), ('granite', 5625), ('perk', 9349), ('reign', 10574), ('amused', 478), ('murray', 8371), ('modernity', 8199), ('propulsion', 10048), ('serendipity', 11476), ('blaming', 1317), ('counterintuitive', 2863), ('skewed', 11761), ('charismatic', 1995), ('directing', 3608), ('numbered', 8689), ('pub', 10127), ('mike', 8074), ('archaeological', 674), ('artifact', 746), ('exuberant', 4724), ('amidst', 460), ('bud', 1605), ('hosting', 6147), ('akin', 344), ('helplessness', 5951), ('hopelessness', 6117), ('pity', 9516), ('wrongly', 14336), ('reframe', 10530), ('cartel', 1839), ('kindness', 7165), ('benefited', 1191), ('opposition', 8877), ('distorted', 3758), ('policymaking', 9636), ('caveat', 1897), ('attractiveness', 874), ('pie', 9470), ('recurrent', 10472), ('constitute', 2648), ('adviser', 242), ('advises', 243), ('medias', 7920), ('betterment', 1214), ('holland', 6069), ('sideways', 11667), ('lemonade', 7361), ('drowned', 3955), ('inbetween', 6444), ('lifelike', 7426), ('kinetic', 7167), ('fleeing', 5033), ('perpetuating', 9360), ('unstoppable', 13653), ('slang', 11782), ('indulge', 6529), ('bolted', 1404), ('reminder', 10652), ('sam', 11161), ('devoured', 3511), ('generalization', 5414), ('handy', 5811), ('idiosyncratic', 6293), ('jason', 6985), ('reversal', 10881), ('noun', 8665), ('unconsciously', 13488), ('utter', 13750), ('governs', 5581), ('causation', 1888), ('additional', 174), ('evokes', 4535), ('hollow', 6070), ('listener', 7497), ('messenger', 8003), ('unborn', 13473), ('invading', 6853), ('earnings', 4028), ('consisting', 2635), ('wallet', 14005), ('interprets', 6792), ('rampant', 10299), ('disposed', 3717), ('brotherhood', 1579), ('socialize', 11905), ('reciprocal', 10423), ('transaction', 13209), ('awkwardness', 975), ('friendship', 5269), ('notoriously', 8663), ('harassment', 5828), ('safest', 11132), ('implicated', 6390), ('initiate', 6615), ('conditional', 2532), ('compliance', 2467), ('bribery', 1531), ('fraught', 5234), ('analyzing', 494), ('quirk', 10234), ('pinker', 9494), ('twentieth', 13404), ('nonexistent', 8611), ('seldom', 11386), ('resulted', 10837), ('indiscriminate', 6516), ('wholesale', 14167), ('obscene', 8731), ('huntergatherers', 6226), ('archaeologist', 675), ('foraging', 5126), ('slew', 11798), ('homosexuality', 6092), ('chopped', 2084), ('sanction', 11171), ('criticizing', 2979), ('sling', 11811), ('oneonone', 8827), ('municipality', 8362), ('manuel', 7776), ('homicide', 6087), ('hamlet', 5787), ('plummet', 9589), ('interstate', 6803), ('fbi', 4856), ('soared', 11894), ('rightly', 10953), ('injection', 6622), ('risen', 10970), ('declined', 3231), ('nasty', 8442), ('territorial', 12918), ('homeowner', 6083), ('pistol', 9506), ('raid', 10275), ('raided', 10276), ('invaded', 6851), ('liable', 7399), ('insult', 6713), ('episode', 4403), ('soprano', 11964), ('aggression', 297), ('coincided', 2298), ('eruption', 4448), ('dividend', 3793), ('minivan', 8124), ('exploited', 4668), ('memoir', 7961), ('visibility', 13921), ('sp', 11994), ('illogical', 6317), ('unfolded', 13563), ('midnight', 8062), ('deborah', 3197), ('trailer', 13200), ('sergeant', 11479), ('mm', 8178), ('anthony', 564), ('unsafe', 13643), ('sheriff', 11583), ('void', 13953), ('abdominal', 8), ('dashboard', 3153), ('mounting', 8312), ('filmmaking', 4944), ('bridging', 1535), ('spoiler', 12099), ('hugged', 6175), ('crowdsourced', 2996), ('paleontology', 9114), ('threeyearold', 13012), ('flute', 5085), ('bead', 1118), ('informs', 6586), ('behaved', 1160), ('shovel', 11633), ('helpless', 5949), ('fieldwork', 4921), ('tiring', 13085), ('torso', 13138), ('hallmark', 5778), ('canine', 1768), ('ct', 3027), ('unites', 13595), ('chronic', 2103), ('humanoid', 6196), ('hominid', 6088), ('milan', 8075), ('vacation', 13755), ('pant', 9137), ('visa', 13918), ('cod', 2274), ('premier', 9829), ('cafeteria', 1711), ('academia', 47), ('associate', 800), ('andy', 511), ('grove', 5708), ('paranoid', 9159), ('undergrad', 13506), ('cooper', 2776), ('humanize', 6189), ('intertwined', 6805), ('firework', 4980), ('moma', 8221), ('amber', 448), ('expressive', 4694), ('potato', 9739), ('latte', 7277), ('eerie', 4098), ('twentyfour', 13406), ('rhode', 10915), ('richards', 10926), ('psychiatrist', 10111), ('earthlike', 4032), ('visiting', 13928), ('anticipating', 573), ('comprehension', 2486), ('oceanographer', 8771), ('radius', 10270), ('reproducing', 10725), ('collider', 2332), ('cern', 1945), ('reviving', 10897), ('highenergy', 5991), ('scrutiny', 11317), ('unregulated', 13639), ('epa', 4394), ('protects', 10072), ('overdue', 9022), ('ozone', 9074), ('replenish', 10701), ('flare', 5019), ('subatomic', 12417), ('havoc', 5877), ('expelled', 4635), ('oxide', 9069), ('spit', 12089), ('contagious', 2675), ('lamb', 7229), ('farmed', 4815), ('rogue', 11017), ('spun', 12132), ('flung', 5081), ('scariest', 11244), ('debris', 3198), ('pluto', 9595), ('passenger', 9208), ('observatory', 8737), ('aboard', 17), ('aerospace', 253), ('nah', 8407), ('swell', 12644), ('publicity', 10131), ('prepare', 9838), ('manifesto', 7761), ('probable', 9942), ('wingspan', 14214), ('sliding', 11806), ('darker', 3142), ('fahrenheit', 4768), ('cuttingedge', 3090), ('rugged', 11079), ('circus', 2136), ('tyler', 13425), ('positioned', 9712), ('oops', 8846), ('spy', 12136), ('interplanetary', 6785), ('farthest', 4821), ('splendor', 12093), ('disc', 3636), ('vertically', 13852), ('expanse', 4625), ('tar', 12761), ('noon', 8629), ('twilight', 13408), ('brimming', 1548), ('thinner', 12982), ('extensive', 4702), ('deployment', 3392), ('goose', 5559), ('converge', 2743), ('drain', 3900), ('pebble', 9280), ('drained', 3902), ('lowlying', 7630), ('ontario', 8843), ('mystical', 8401), ('exotic', 4620), ('tropic', 13332), ('icy', 6272), ('plume', 9588), ('examined', 4553), ('erupting', 4447), ('grail', 5607), ('independently', 6497), ('eclipse', 4056), ('impossibly', 6409), ('defy', 3289), ('martial', 7826), ('mesmerizing', 7997), ('synergy', 12690), ('apologizing', 607), ('profusely', 9982), ('booking', 1420), ('ian', 6261), ('pluck', 9581), ('poll', 9646), ('cynic', 3102), ('dyslexic', 4011), ('academically', 49), ('granny', 5626), ('linguistics', 7478), ('nickname', 8567), ('reluctantly', 10630), ('ruthless', 11106), ('biography', 1264), ('disseminating', 3734), ('tackling', 12716), ('avoidance', 952), ('deathbed', 3192), ('erik', 4436), ('fulfillment', 5300), ('boundless', 1464), ('roboticist', 11002), ('immigrant', 6357), ('rewarded', 10907), ('prune', 10106), ('flipping', 5051), ('selfaware', 11396), ('daydream', 3170), ('knitting', 7187), ('wretched', 14322), ('humorous', 6212), ('immature', 6348), ('gown', 5582), ('sander', 11176), ('stain', 12171), ('obscure', 8732), ('adore', 214), ('commissioned', 2392), ('impossibility', 6407), ('conjure', 2590), ('caption', 1787), ('devotion', 3509), ('brightness', 1544), ('cemetery', 1923), ('louise', 7610), ('salesman', 11148), ('bach', 984), ('grownup', 5713), ('yearlong', 14360), ('illustrated', 6326), ('implies', 6395), ('stalking', 12181), ('warmth', 14031), ('sustenance', 12615), ('rung', 11091), ('aloud', 413), ('delegation', 3304), ('delegate', 3303), ('earner', 4025), ('rudimentary', 11077), ('disposal', 3715), ('hacker', 5763), ('hindi', 6029), ('delhi', 3308), ('summary', 12505), ('infuse', 6589), ('nokia', 8603), ('entail', 4352), ('infinity', 6564), ('selfawareness', 11397), ('wisp', 14237), ('selective', 11391), ('gyrus', 5756), ('coma', 2356), ('impostor', 6410), ('psychiatry', 10112), ('inhibits', 6610), ('aroused', 720), ('damaging', 3117), ('amygdala', 482), ('limbic', 7458), ('gauge', 5395), ('muscular', 8374), ('processed', 9956), ('sweat', 12632), ('incomprehensible', 6469), ('psychiatric', 10110), ('recognizes', 10435), ('considering', 2628), ('delusional', 3327), ('supplying', 12549), ('severed', 11513), ('learns', 7329), ('unlearn', 13605), ('relieve', 10623), ('excruciating', 4588), ('derek', 3409), ('prof', 9972), ('focal', 5092), ('hereditary', 5960), ('junky', 7090), ('abnormal', 15), ('deficient', 3273), ('juliet', 7078), ('radiant', 10260), ('propensity', 10032), ('mutant', 8387), ('photon', 9441), ('shiny', 11590), ('crossroad', 2990), ('disability', 3616), ('bhutan', 1222), ('demonstrating', 3351), ('availability', 935), ('arable', 670), ('hectare', 5930), ('predetermined', 9798), ('meager', 7895), ('structurally', 12385), ('trader', 13187), ('bath', 1096), ('buyer', 1687), ('mercy', 7986), ('annually', 549), ('rot', 11046), ('withdraw', 14240), ('budding', 1609), ('fashionable', 4829), ('policymakers', 9635), ('grading', 5596), ('receipt', 10407), ('aggressively', 299), ('tailored', 12726), ('outcry', 8971), ('certification', 1950), ('clearing', 2187), ('proclamation', 9962), ('disseminate', 3733), ('planting', 9542), ('strategically', 12336), ('ambitious', 453), ('herb', 5955), ('herbal', 5956), ('botanical', 1444), ('chewing', 2050), ('hopelessly', 6116), ('amazement', 441), ('twitching', 13415), ('depressive', 3401), ('adolescence', 207), ('scheduling', 11256), ('referral', 10509), ('bathed', 1098), ('shave', 11567), ('psychotherapy', 10124), ('wellknown', 14128), ('ferocious', 4900), ('dug', 3976), ('obsessively', 8747), ('discharged', 3641), ('portray', 9704), ('unscathed', 13644), ('strengthened', 12352), ('advise', 240), ('haunt', 5874), ('resurrection', 10842), ('phoenix', 9429), ('lifethreatening', 7432), ('mindfulness', 8105), ('tin', 13071), ('summertime', 12508), ('essay', 4462), ('cease', 1903), ('contingent', 2700), ('disgust', 3680), ('radiating', 10262), ('serenity', 11477), ('underlies', 13510), ('unchanged', 13478), ('fleeting', 5035), ('translates', 13238), ('portugal', 9706), ('adverse', 231), ('jealousy', 6993), ('obsessive', 8746), ('grasping', 5637), ('detrimental', 3488), ('tormented', 13133), ('experiential', 4642), ('modified', 8204), ('dye', 4003), ('jealous', 6992), ('outward', 9007), ('inward', 6898), ('vanish', 13782), ('frost', 5280), ('unfold', 13562), ('perceiving', 9321), ('plasticity', 9546), ('reinforcement', 10580), ('synaptic', 12685), ('meditate', 7934), ('unconditional', 13485), ('bout', 1466), ('deviation', 3501), ('fmri', 5090), ('capitol', 1784), ('chord', 2086), ('recreation', 10464), ('protected', 10067), ('appealed', 616), ('revolt', 10898), ('broadcaster', 1561), ('sydney', 12667), ('revive', 10895), ('revival', 10894), ('distributing', 3770), ('recreating', 10463), ('regulates', 10564), ('extremism', 4721), ('youtube', 14397), ('criminalize', 2964), ('pirate', 9503), ('choke', 2075), ('whoosh', 14169), ('apprentice', 645), ('insecure', 6654), ('encode', 4255), ('strand', 12326), ('rectangle', 10470), ('arrange', 721), ('smiley', 11855), ('stunt', 12409), ('quicker', 10229), ('treaty', 13287), ('sulfur', 12501), ('shade', 11529), ('heated', 5920), ('knob', 7188), ('acidification', 114), ('peaked', 9276), ('celebration', 1911), ('substitute', 12446), ('fearsome', 4863), ('weaker', 14081), ('daring', 3139), ('microwave', 8054), ('pest', 9393), ('brute', 1597), ('merging', 7992), ('congressional', 2587), ('medal', 7918), ('researched', 10747), ('recognizable', 10432), ('hydrocarbon', 6245), ('rainbow', 10281), ('kernel', 7128), ('coalfired', 2257), ('dwindling', 4001), ('petroleum', 9403), ('hamilton', 5786), ('alberta', 354), ('onetoone', 8832), ('unwittingly', 13678), ('periphery', 9348), ('pessimism', 9391), ('disproportionately', 3719), ('magnify', 7689), ('newly', 8550), ('dotted', 3864), ('seasonal', 11340), ('cruise', 3004), ('coupled', 2874), ('erosion', 4441), ('breach', 1503), ('renewed', 10677), ('bitten', 1300), ('prejudice', 9824), ('farreaching', 4819), ('evangelical', 4509), ('weakest', 14082), ('yoda', 14379), ('laborer', 7215), ('alongside', 412), ('octopus', 8775), ('coconut', 2273), ('uphill', 13690), ('assumed', 804), ('stiff', 12276), ('disparity', 3703), ('penn', 9309), ('converted', 2752), ('claw', 2172), ('glue', 5531), ('hairy', 5772), ('detach', 3461), ('adhesive', 184), ('sped', 12054), ('captivating', 1789), ('resulting', 10838), ('unfolds', 13565), ('ruler', 11085), ('relax', 10602), ('altar', 420), ('miniature', 8114), ('stacked', 12163), ('ceremony', 1944), ('symmetry', 12677), ('pottery', 9745), ('rectangular', 10471), ('nonlinear', 8617), ('handbook', 5793), ('algorithmic', 371), ('deterministic', 3485), ('parity', 9168), ('mystic', 8400), ('alchemy', 357), ('primer', 9906), ('developmental', 3499), ('lemon', 7360), ('brush', 1590), ('raymond', 10343), ('se', 11324), ('obliged', 8728), ('tentacle', 12899), ('mathematically', 7864), ('notation', 8650), ('predicts', 9810), ('examining', 4555), ('peeling', 9290), ('magnetism', 7686), ('chen', 2042), ('yang', 14351), ('generalized', 5416), ('regularity', 10560), ('selecting', 11389), ('regulating', 10565), ('lest', 7379), ('accounted', 90), ('extravagant', 4718), ('calculus', 1724), ('diminish', 3590), ('quark', 10213), ('elemental', 4149), ('incrementally', 6488), ('effectiveness', 4102), ('peerreviewed', 9294), ('innovator', 6641), ('exporter', 4684), ('detroit', 3489), ('opposing', 8875), ('accessory', 70), ('vanishing', 13785), ('sporting', 12113), ('handmade', 5804), ('popped', 9677), ('woven', 14309), ('conundrum', 2736), ('protective', 10070), ('inkjet', 6627), ('dakota', 3111), ('fourteen', 5201), ('preferably', 9815), ('bounty', 1465), ('advancing', 223), ('carbohydrate', 1798), ('energizing', 4293), ('aisle', 341), ('trickier', 13308), ('scramble', 11290), ('retrieve', 10860), ('fission', 4997), ('collateral', 2320), ('princeton', 9912), ('bent', 1196), ('activated', 133), ('altruistic', 433), ('motivator', 8301), ('bingo', 1253), ('alice', 373), ('apt', 661), ('leonard', 7370), ('serial', 11481), ('vicinity', 13868), ('cruz', 3021), ('grandparent', 5623), ('certified', 1951), ('emitted', 4210), ('landfill', 7237), ('groundwater', 5704), ('virtuous', 13916), ('allergy', 392), ('peanut', 9277), ('diagnosis', 3520), ('predictor', 9809), ('connector', 2600), ('pardon', 9162), ('remembers', 10648), ('cohost', 2295), ('tedindia', 12818), ('tinkerer', 13075), ('tinkering', 13076), ('pivotal', 9518), ('intake', 6719), ('toddler', 13098), ('lasting', 7262), ('stabbed', 12157), ('stimulate', 12282), ('predictive', 9808), ('dishwasher', 3685), ('interpreted', 6789), ('anonymity', 551), ('organizer', 8926), ('fluffy', 5077), ('enthusiastic', 4366), ('sacrificed', 11119), ('deserved', 3428), ('slogan', 11818), ('dissident', 3738), ('adventurer', 228), ('cambodian', 1738), ('brothel', 1577), ('outfit', 8976), ('tan', 12745), ('summoned', 12511), ('loudspeaker', 7608), ('savannah', 11210), ('offended', 8786), ('patriarchal', 9240), ('patriarchy', 9241), ('paula', 9252), ('feminism', 4893), ('flirting', 5052), ('venus', 13834), ('jenny', 7002), ('dentist', 3367), ('prosper', 10057), ('fernando', 4899), ('exert', 4598), ('hazardous', 5885), ('ventilation', 13830), ('thigh', 12977), ('shaving', 11569), ('plural', 9593), ('underside', 13522), ('cozy', 2898), ('applaud', 625), ('startup', 12213), ('ecologist', 4060), ('directs', 3613), ('forage', 5125), ('laying', 7302), ('sperm', 12066), ('larva', 7259), ('husk', 6237), ('fiveyearold', 5007), ('allocation', 401), ('allocated', 400), ('tunnel', 13377), ('thou', 12994), ('recruited', 10467), ('individually', 6523), ('marker', 7810), ('patrolling', 9248), ('disturbance', 3776), ('patrol', 9247), ('hassle', 5864), ('twoyearold', 13423), ('wiser', 14233), ('olfactory', 8815), ('smelling', 11851), ('grooming', 5697), ('odor', 8781), ('clockwork', 2219), ('multitask', 8352), ('regulate', 10562), ('kelvin', 7120), ('scoring', 11281), ('glued', 5532), ('patron', 9249), ('anomaly', 550), ('grandpa', 5622), ('lou', 7603), ('tasked', 12766), ('claire', 2153), ('bitch', 1296), ('depict', 3381), ('dude', 3975), ('spielberg', 12073), ('heartbroken', 5917), ('masculinity', 7835), ('anticipation', 574), ('mmm', 8179), ('luther', 7654), ('ethan', 4482), ('waking', 13998), ('unseen', 13645), ('upcoming', 13682), ('blinking', 1347), ('firefly', 4976), ('waterfall', 14061), ('bouncing', 1460), ('kinder', 7162), ('camouflage', 1746), ('joking', 7040), ('jawdropping', 6988), ('astonishment', 816), ('tray', 13273), ('handbag', 5792), ('porn', 9692), ('nationalism', 8447), ('mop', 8265), ('kentucky', 7123), ('detergent', 3476), ('uruguay', 13724), ('sip', 11734), ('dough', 3872), ('una', 13459), ('ranged', 10308), ('disobedience', 3698), ('heartbeat', 5914), ('paranoia', 9158), ('den', 3353), ('athletic', 832), ('hugging', 6176), ('doll', 3825), ('regain', 10541), ('barcelona', 1066), ('proceeding', 9953), ('insecurity', 6655), ('discard', 3637), ('cheerleader', 2031), ('colonial', 2340), ('preconception', 9793), ('rained', 10282), ('leaked', 7316), ('couch', 2849), ('hiring', 6042), ('graf', 5603), ('commissioner', 2393), ('nope', 8630), ('allimportant', 397), ('premiere', 9830), ('footnote', 5122), ('linger', 7474), ('tabloid', 12711), ('latitude', 7275), ('argentinian', 692), ('flickering', 5044), ('tomb', 13112), ('fiercely', 4923), ('escaping', 4454), ('minding', 8106), ('probation', 9944), ('vocational', 13948), ('manchester', 7746), ('craftsman', 2909), ('guild', 5738), ('atrisk', 843), ('redeem', 10480), ('senator', 11435), ('tragically', 13198), ('inclined', 6458), ('culinary', 3037), ('affirmative', 265), ('borrowed', 1437), ('puff', 10140), ('pastry', 9222), ('stigma', 12278), ('dining', 3596), ('diploma', 3601), ('averaged', 940), ('smoked', 11861), ('resume', 10839), ('hp', 6164), ('gillespie', 5491), ('gary', 5384), ('oprah', 8881), ('mellon', 7950), ('handshake', 5806), ('promised', 10011), ('crumbling', 3008), ('admiration', 198), ('defiance', 3270), ('amid', 459), ('reassured', 10390), ('resembled', 10753), ('ostracized', 8950), ('considerable', 2624), ('graduation', 5602), ('deportation', 3393), ('brutality', 1595), ('embassy', 4184), ('spirited', 12085), ('reckon', 10426), ('foreman', 5143), ('mastering', 7851), ('shuffling', 11650), ('toured', 13157), ('swoop', 12664), ('eighty', 4118), ('retired', 10855), ('crusade', 3012), ('rocky', 11011), ('cloak', 2217), ('uh', 13447), ('castle', 1858), ('presume', 9871), ('charlotte', 2000), ('seventy', 11509), ('pride', 9898), ('windowless', 14209), ('disagreed', 3622), ('wit', 14238), ('insatiable', 6649), ('doomsday', 3851), ('esoteric', 4457), ('bernie', 1201), ('polymath', 9659), ('housewife', 6158), ('pod', 9603), ('attorney', 868), ('humming', 6208), ('downloading', 3881), ('fixation', 5010), ('princess', 9911), ('mourn', 8313), ('jo', 7022), ('marilyn', 7803), ('shutter', 11654), ('crafting', 2908), ('wig', 14186), ('disclaimer', 3644), ('throne', 13024), ('thatcher', 12950), ('archer', 678), ('texted', 12936), ('koran', 7202), ('intellect', 6728), ('refusing', 10540), ('lurking', 7651), ('checkout', 2024), ('bloodshed', 1363), ('whatevers', 14142), ('madame', 7673), ('synagogue', 12683), ('propagate', 10027), ('kindly', 7164), ('proceeds', 9954), ('identifying', 6288), ('idle', 6295), ('reserved', 10760), ('dweller', 3999), ('provider', 10093), ('congested', 2578), ('peertopeer', 9295), ('redundancy', 10498), ('robin', 10998), ('slice', 11799), ('turtle', 13392), ('cough', 2850), ('freeway', 5248), ('articulated', 744), ('motherinlaw', 8292), ('quarry', 10214), ('portal', 9698), ('ukrainian', 13451), ('kazakhstan', 7113), ('winding', 14206), ('humanly', 6193), ('juxtaposition', 7101), ('atlas', 836), ('whatnot', 14143), ('pantheon', 9138), ('sniffing', 11883), ('marcus', 7795), ('nudge', 8683), ('ruining', 11082), ('scout', 11289), ('bail', 1014), ('lunchtime', 7648), ('alley', 394), ('waiter', 13993), ('clam', 2154), ('restless', 10821), ('pigeon', 9476), ('entertain', 4359), ('hercules', 5958), ('believable', 1169), ('oriented', 8931), ('completion', 2464), ('lavish', 7290), ('bee', 1140), ('literary', 7506), ('gardener', 5379), ('bumblebee', 1637), ('vibrate', 13864), ('blossom', 1369), ('nectar', 8486), ('manipulated', 7763), ('scent', 11253), ('seduced', 11369), ('edible', 4078), ('suppressing', 12560), ('botany', 1445), ('ugh', 13445), ('acted', 128), ('descartes', 3414), ('subjectivity', 12424), ('lima', 7456), ('mite', 8172), ('scandal', 11230), ('joel', 7026), ('symbiotic', 12671), ('graze', 5653), ('grazing', 5654), ('contraption', 2721), ('hatch', 5866), ('juicy', 7073), ('tasty', 12770), ('hay', 5882), ('bison', 1294), ('enlist', 4331), ('dominating', 3838), ('protestant', 10075), ('constitutional', 2651), ('cooperative', 2780), ('leaping', 7323), ('overlaid', 9030), ('sucker', 12472), ('tournament', 13161), ('screened', 11304), ('innate', 6630), ('fairness', 4778), ('gloomy', 5522), ('symbiosis', 12670), ('contested', 2695), ('sourcing', 11982), ('portfolio', 9700), ('bureaucratic', 1652), ('enriching', 4339), ('selforganized', 11419), ('participatory', 9189), ('blip', 1348), ('mash', 7836), ('scifi', 11272), ('goofy', 5556), ('balancing', 1024), ('teetering', 12851), ('adjusting', 189), ('bummer', 1638), ('lush', 7652), ('autumn', 934), ('dusty', 3993), ('untouchable', 13664), ('ho', 6058), ('dyson', 4012), ('dos', 3859), ('personnel', 9380), ('halt', 5782), ('offtheshelf', 8801), ('misfortune', 8144), ('insider', 6661), ('uniqueness', 13590), ('dismay', 3694), ('mainland', 7702), ('resisting', 10784), ('embark', 4178), ('fortress', 5183), ('recommended', 10440), ('stainless', 12173), ('triangular', 13300), ('outwards', 9008), ('lightness', 7443), ('incompatible', 6467), ('delf', 3307), ('wendy', 14132), ('crown', 2998), ('dorothy', 3858), ('parker', 9171), ('dylan', 4005), ('twentyfive', 13405), ('babe', 981), ('plato', 9551), ('inspirational', 6675), ('juggling', 7071), ('prop', 10025), ('slows', 11826), ('gloria', 5523), ('judging', 7066), ('midair', 8056), ('championship', 1968), ('setup', 11505), ('windy', 14211), ('uncanny', 13475), ('agility', 301), ('recurring', 10473), ('examination', 4551), ('scrambled', 11291), ('flee', 5032), ('footstep', 5124), ('transported', 13258), ('km', 7181), ('deploy', 3389), ('fascination', 4825), ('nursery', 8694), ('transformative', 13223), ('nook', 8628), ('welcoming', 14120), ('sixyearold', 11750), ('perceives', 9320), ('lauren', 7288), ('evenly', 4518), ('aristotle', 705), ('oppose', 8873), ('mentoring', 7979), ('envisions', 4391), ('coli', 2306), ('chew', 2049), ('automation', 926), ('yeast', 14365), ('font', 5112), ('spacing', 12000), ('activate', 132), ('cloning', 2224), ('digested', 3568), ('amp', 465), ('rub', 11070), ('lightly', 7442), ('conversational', 2747), ('branching', 1492), ('vintage', 13897), ('articulate', 743), ('mediocre', 7932), ('poof', 9667), ('leaning', 7320), ('hairstyle', 5771), ('bait', 1016), ('correspondence', 2820), ('reconstructing', 10449), ('iphone', 6906), ('cerebral', 1943), ('collage', 2314), ('chatter', 2010), ('pounding', 9747), ('gripped', 5691), ('witnessing', 14247), ('mute', 8390), ('captivated', 1788), ('euphoria', 4497), ('mechanically', 7914), ('fetal', 4909), ('suspended', 12604), ('wildfire', 14193), ('clot', 2235), ('dexterity', 3513), ('foam', 5091), ('pedestal', 9283), ('herman', 5963), ('buckle', 1603), ('instrumental', 6708), ('prominent', 10008), ('detailing', 3464), ('seized', 11384), ('vent', 13828), ('chapel', 1982), ('cleveland', 2191), ('highrise', 6009), ('slicing', 11801), ('retaining', 10847), ('pragmatic', 9769), ('slab', 11778), ('ballerina', 1030), ('cunning', 3050), ('seating', 11343), ('cashier', 1851), ('brooklyn', 1575), ('clone', 2222), ('mural', 8363), ('ha', 5757), ('wooden', 14269), ('hull', 6179), ('carpenter', 1829), ('plank', 9533), ('saltwater', 11156), ('longtime', 7580), ('pew', 9405), ('stall', 12182), ('tutor', 13394), ('nighttime', 8579), ('wouldbe', 14306), ('superhero', 12528), ('superheroes', 12529), ('villain', 13893), ('containment', 2680), ('vault', 13806), ('sharon', 11559), ('boxing', 1473), ('mammoth', 7737), ('dublin', 3972), ('usher', 13736), ('partnering', 9200), ('consult', 2660), ('intensely', 6737), ('unpopular', 13628), ('prelude', 9826), ('quran', 10246), ('dismissed', 3696), ('guesswork', 5730), ('behaving', 1162), ('arresting', 728), ('divine', 3795), ('ren', 10666), ('disdain', 3673), ('contempt', 2690), ('rehearsal', 10571), ('messing', 8004), ('confine', 2554), ('sage', 11136), ('ingrained', 6595), ('exceedingly', 4560), ('pastime', 9220), ('ideology', 6292), ('retained', 10846), ('oldfashioned', 8813), ('engages', 4303), ('eternally', 4480), ('weeping', 14109), ('overcoming', 9019), ('hebrew', 5928), ('transcendence', 13212), ('charter', 2004), ('crafted', 2907), ('propagating', 10028), ('karen', 7107), ('observational', 8736), ('irritating', 6932), ('hospitality', 6139), ('pavement', 9258), ('miner', 8111), ('waved', 14071), ('unsolved', 13649), ('appreciating', 642), ('shortage', 11614), ('lecturer', 7338), ('applicant', 632), ('problemsolving', 9949), ('tutorial', 13395), ('coloring', 2350), ('bachelor', 985), ('communicates', 2410), ('costeffective', 2843), ('fragility', 5212), ('buckminster', 1604), ('fuller', 5302), ('ram', 10296), ('packaged', 9081), ('generously', 5429), ('evocative', 4533), ('commented', 2385), ('cycling', 3099), ('northeast', 8638), ('commuting', 2420), ('insulating', 6710), ('alp', 414), ('highperformance', 6002), ('clad', 2149), ('blocking', 1357), ('archival', 684), ('aquifer', 665), ('groove', 5698), ('atrium', 844), ('lifeline', 7427), ('desalination', 3413), ('lifeblood', 7421), ('unifying', 13580), ('kennedy', 7122), ('grace', 5587), ('noninvasively', 8616), ('activation', 136), ('therapist', 12967), ('christopher', 2101), ('badge', 1006), ('polarization', 9627), ('onscreen', 8838), ('bowling', 1470), ('buffalo', 1613), ('sophomore', 11963), ('flint', 5047), ('schoolteacher', 11266), ('threequarters', 13010), ('node', 8600), ('centimeter', 1932), ('pendulum', 9301), ('inscription', 6651), ('inscribed', 6650), ('infancy', 6549), ('agile', 300), ('eyebrow', 4728), ('chin', 2066), ('selfportrait', 11421), ('desolate', 3443), ('conquer', 2603), ('columbus', 2353), ('manmade', 7769), ('provoked', 10102), ('gallup', 5363), ('mania', 7756), ('designeri', 3435), ('reactive', 10352), ('warned', 14033), ('weary', 14093), ('extrapolate', 4716), ('ineffective', 6534), ('handicap', 5799), ('advocatei', 249), ('lightbulb', 7439), ('lowcarbon', 7622), ('naval', 8462), ('outgoing', 8978), ('ipcc', 6905), ('factual', 4762), ('bolivia', 1400), ('taxation', 12775), ('commonplace', 2404), ('generational', 5423), ('nominee', 8608), ('mccain', 7891), ('voter', 13974), ('whichever', 14149), ('sclerosis', 11274), ('prayed', 9775), ('proverb', 10089), ('researcherso', 10749), ('advertised', 235), ('approximation', 658), ('bending', 1186), ('shard', 11553), ('tickle', 13039), ('intermediary', 6773), ('chorus', 2091), ('palsy', 9123), ('conduct', 2538), ('nuance', 8677), ('tracker', 13178), ('stark', 12203), ('anchored', 503), ('ignores', 6304), ('acquired', 122), ('indistinguishable', 6518), ('barbie', 1065), ('idealized', 6280), ('terabyte', 12902), ('malicious', 7727), ('surfer', 12568), ('adequately', 182), ('inwards', 6899), ('worsening', 14298), ('additionally', 175), ('durable', 3989), ('dose', 3861), ('birmingham', 1287), ('exposing', 4688), ('jamaica', 6973), ('averaging', 941), ('indie', 6510), ('lazarus', 7304), ('dialysis', 3529), ('baptist', 1058), ('oftentimes', 8802), ('burma', 1659), ('ambiguous', 451), ('accidentally', 73), ('overdose', 9021), ('discomfort', 3647), ('westerner', 14137), ('synchrony', 12688), ('fictional', 4918), ('transmits', 13245), ('warp', 14037), ('prominence', 10007), ('dove', 3875), ('curled', 3064), ('ultra', 13454), ('refine', 10513), ('constituent', 2647), ('examine', 4552), ('neutron', 8539), ('filament', 4933), ('finely', 4960), ('hadron', 5765), ('headon', 5892), ('minuscule', 8131), ('dimensional', 3589), ('spacetime', 11999), ('marching', 7793), ('hummingbird', 6209), ('wiper', 14222), ('washer', 14047), ('messed', 8002), ('swore', 12666), ('knocking', 7191), ('darkened', 3141), ('eleanor', 4129), ('algeria', 369), ('bulgaria', 1626), ('libya', 7411), ('belgium', 1167), ('chad', 1955), ('circumference', 2133), ('detector', 3472), ('recreate', 10461), ('electrically', 4136), ('snowflake', 11889), ('higgs', 5986), ('convoluted', 2764), ('simplification', 11702), ('underwent', 13537), ('helium', 5939), ('fuse', 5339), ('cox', 2897), ('waltz', 14009), ('instill', 6692), ('plethora', 9575), ('affordability', 271), ('imply', 6396), ('lofty', 7550), ('doable', 3806), ('unconnected', 13486), ('reliability', 10615), ('offend', 8785), ('fostering', 5193), ('lowering', 7626), ('outfitted', 8977), ('partnered', 9199), ('uhoh', 13448), ('suite', 12499), ('tenacious', 12881), ('cedar', 1905), ('pierce', 9473), ('rotting', 11053), ('cubic', 3032), ('cavity', 1898), ('crumble', 3007), ('franz', 5231), ('tallest', 12743), ('fungus', 5324), ('paired', 9103), ('absorbs', 33), ('oyster', 9072), ('fungal', 5322), ('bunker', 1646), ('boiled', 1396), ('dosage', 3860), ('recommending', 10441), ('chased', 2006), ('morph', 8273), ('repel', 10690), ('harvested', 5860), ('cellulose', 1919), ('renew', 10673), ('subtitle', 12448), ('infect', 6551), ('emphasizes', 4227), ('yep', 14372), ('untreated', 13666), ('outset', 8999), ('gasp', 5387), ('favored', 4853), ('vicious', 13869), ('sensitivity', 11451), ('experimentally', 4645), ('infecting', 6553), ('biting', 1299), ('confirms', 2561), ('boxed', 1472), ('narrower', 8437), ('tactile', 12719), ('decipher', 3221), ('operative', 8865), ('choreography', 2090), ('rattling', 10338), ('stillness', 12280), ('cheating', 2018), ('refining', 10517), ('rewire', 10909), ('vending', 13821), ('crow', 2992), ('entertained', 4360), ('devised', 3505), ('infidelity', 6560), ('pandora', 9131), ('someplace', 11950), ('feeder', 4881), ('slot', 11820), ('squirrel', 12150), ('enjoys', 4327), ('discarded', 3638), ('dismantle', 3691), ('bureau', 1649), ('loom', 7585), ('vegetarian', 13813), ('nixon', 8592), ('culprit', 3039), ('administered', 193), ('consumes', 2669), ('unforeseen', 13566), ('acknowledged', 116), ('lobbyist', 7535), ('shaky', 11540), ('populist', 9686), ('elitist', 4166), ('declaring', 3229), ('birdseye', 1286), ('whiz', 14165), ('swam', 12622), ('farmland', 4818), ('canned', 1769), ('housework', 6159), ('steak', 12243), ('occasional', 8756), ('lettuce', 7384), ('broccoli', 1567), ('soy', 11992), ('dessert', 3450), ('bottled', 1451), ('mashed', 7837), ('forwardthinking', 5189), ('tended', 12885), ('yogurt', 14382), ('fried', 5265), ('appealing', 617), ('bland', 1318), ('styrofoam', 12414), ('vegan', 13811), ('advocating', 250), ('ally', 409), ('yarn', 14355), ('oceanic', 8770), ('oneyear', 8834), ('bunny', 1647), ('ludicrous', 7641), ('jurisdiction', 7093), ('diving', 3796), ('submersible', 12428), ('alvin', 436), ('bleeds', 1331), ('molten', 8219), ('crawled', 2926), ('crush', 3014), ('blister', 1350), ('mounted', 8311), ('vodka', 13949), ('formaldehyde', 5167), ('digestive', 3570), ('commute', 2418), ('telepresence', 12860), ('acidic', 113), ('unbeknownst', 13470), ('depot', 3397), ('bc', 1113), ('excavate', 4557), ('dripping', 3939), ('sealed', 11329), ('pumped', 10149), ('mindbending', 8101), ('deepsea', 3255), ('strap', 12333), ('retrospect', 10861), ('timer', 13065), ('stool', 12307), ('nerdy', 8513), ('adjustment', 190), ('sketching', 11760), ('rewarding', 10908), ('pillar', 9483), ('valentine', 13765), ('hydrant', 6244), ('puerto', 10139), ('rican', 10922), ('venue', 13833), ('etiquette', 4494), ('gratuitous', 5646), ('erotic', 4442), ('linkage', 7481), ('kidnapped', 7147), ('risking', 10974), ('chronically', 2104), ('specialty', 12034), ('shipped', 11593), ('ventilator', 13831), ('priced', 9895), ('ce', 1902), ('institutionalized', 6701), ('motherhood', 8291), ('disastrous', 3634), ('electoral', 4133), ('reformer', 10527), ('spiked', 12075), ('extraction', 4713), ('verified', 13841), ('loudly', 7607), ('paraphrase', 9160), ('doubted', 3869), ('bred', 1522), ('earring', 4030), ('crucially', 3000), ('kitten', 7178), ('squishy', 12152), ('spawned', 12018), ('invents', 6865), ('archaeology', 676), ('brow', 1581), ('anyones', 592), ('eliminates', 4161), ('invisibility', 6883), ('barbecue', 1062), ('rib', 10919), ('centrifuge', 1936), ('creek', 2951), ('paleontologist', 9113), ('shout', 11628), ('nathan', 8444), ('erectus', 4434), ('infused', 6590), ('habitable', 5759), ('neanderthal', 8474), ('flicker', 5043), ('unraveling', 13635), ('descends', 3419), ('sailed', 11140), ('navigator', 8468), ('canoe', 1771), ('empirical', 4230), ('minor', 8127), ('ablebodied', 14), ('vortex', 13971), ('mountaintop', 8310), ('alignment', 379), ('absorption', 34), ('dismiss', 3695), ('affirmation', 264), ('topography', 13129), ('mus', 8372), ('grouping', 5707), ('hunch', 6214), ('beverage', 1217), ('nickel', 8566), ('addiction', 169), ('painkiller', 9096), ('comprehend', 2485), ('subtraction', 12453), ('illustrating', 6328), ('exhaustive', 4604), ('revise', 10890), ('vladimir', 13944), ('julian', 7075), ('cloned', 2223), ('gazing', 5400), ('regained', 10542), ('stubborn', 12393), ('rack', 10257), ('parting', 9194), ('envisioned', 4390), ('measurably', 7905), ('vitro', 13941), ('impotent', 6411), ('predisposition', 9811), ('hypothesized', 6256), ('kangaroo', 7105), ('maneuver', 7752), ('hind', 6028), ('alternating', 426), ('tripod', 13322), ('bulldozer', 1630), ('interlocking', 6772), ('der', 3407), ('clearance', 2182), ('kerosene', 7129), ('evaporates', 4513), ('rig', 10945), ('liter', 7502), ('freezing', 5251), ('fridge', 5264), ('afflicted', 267), ('openminded', 8855), ('fatality', 4840), ('slamming', 11781), ('brightline', 1542), ('tangle', 12748), ('impassioned', 6372), ('choking', 2077), ('rebound', 10397), ('rigged', 10946), ('approve', 654), ('conductor', 2542), ('sevenyearold', 11511), ('nineyearold', 8587), ('sleepy', 11795), ('deceptive', 3212), ('lifechanging', 7422), ('awaken', 959), ('interpreter', 6790), ('charisma', 1994), ('prep', 9836), ('leveraging', 7391), ('conveyor', 2757), ('merit', 7993), ('stroll', 12378), ('lovable', 7615), ('er', 4420), ('isaac', 6933), ('cleanup', 2180), ('grad', 5591), ('fond', 5111), ('ridiculed', 10939), ('recess', 10418), ('wishing', 14236), ('sung', 12515), ('seoul', 11464), ('interrupted', 6798), ('enslaved', 4346), ('prospective', 10056), ('utensil', 13741), ('soak', 11891), ('liquor', 7491), ('pledge', 9571), ('restoring', 10827), ('annie', 538), ('unforgettable', 13567), ('saga', 11134), ('earnest', 4026), ('poacher', 9600), ('tusk', 13393), ('poaching', 9601), ('internship', 6783), ('savanna', 11209), ('thirteen', 12987), ('liberate', 7402), ('looted', 7591), ('leopard', 7373), ('militia', 8082), ('ammunition', 462), ('dissect', 3732), ('titled', 13091), ('alqaeda', 418), ('attain', 854), ('neurobiologist', 8526), ('theft', 12956), ('repetitive', 10694), ('animates', 530), ('interactivity', 6750), ('stealth', 12246), ('limp', 7465), ('realism', 10363), ('requested', 10736), ('altogether', 431), ('commits', 2396), ('unintentional', 13585), ('contour', 2712), ('climax', 2203), ('inhabiting', 6600), ('solace', 11923), ('arranging', 724), ('characterize', 1987), ('aggregated', 295), ('exclusionary', 4585), ('replaces', 10698), ('coordinated', 2782), ('somber', 11947), ('accounting', 91), ('acceptance', 61), ('overflow', 9026), ('stayathome', 12237), ('judith', 7069), ('rallying', 10294), ('patchwork', 9226), ('betray', 1210), ('tying', 13424), ('litter', 7511), ('sober', 11897), ('chick', 2052), ('abortion', 22), ('dennis', 3359), ('anew', 516), ('childbirth', 2056), ('seaweed', 11346), ('neptune', 8511), ('sunflower', 12514), ('detectable', 3467), ('detected', 3468), ('heresy', 5961), ('grandest', 5615), ('proclaim', 9960), ('surpassed', 12575), ('dickinson', 3542), ('conserve', 2621), ('distort', 3757), ('picky', 9466), ('definite', 3281), ('spoiled', 12098), ('deepened', 3250), ('hatched', 5867), ('questionnaire', 10226), ('testosterone', 12930), ('facetoface', 4749), ('owl', 9062), ('peering', 9293), ('paralyzing', 9155), ('heartache', 5913), ('fraud', 5233), ('athletics', 833), ('plucked', 9582), ('devise', 3504), ('stimulating', 12285), ('unbearable', 13469), ('commentator', 2384), ('grandeur', 5616), ('forgiven', 5159), ('reared', 10380), ('claimed', 2151), ('advisor', 244), ('authori', 910), ('bangalore', 1045), ('poker', 9623), ('pretended', 9875), ('donate', 3842), ('dissonance', 3743), ('clearest', 2186), ('robe', 10996), ('sprinkle', 12128), ('pamphlet', 9124), ('disregard', 3722), ('fundamentalist', 5315), ('intolerance', 6823), ('deception', 3211), ('deceive', 3206), ('tricked', 13306), ('ace', 104), ('nightclub', 8576), ('downward', 3888), ('pinch', 9490), ('eureka', 4498), ('insist', 6666), ('podcast', 9604), ('introvert', 6841), ('alcoholism', 360), ('rigorously', 10958), ('insanity', 6648), ('efficacy', 4103), ('amplify', 471), ('drawback', 3912), ('thanked', 12944), ('laura', 7286), ('decorative', 3239), ('chronicle', 2105), ('darkest', 3143), ('feisty', 4886), ('shook', 11603), ('discharge', 3640), ('cried', 2960), ('emptied', 4243), ('memorized', 7965), ('enacted', 4252), ('progressing', 9991), ('emmanuel', 4214), ('stirred', 12292), ('spiderman', 12072), ('bleed', 1329), ('shrine', 11643), ('gin', 5492), ('ache', 105), ('thirsty', 12986), ('salty', 11157), ('reclaiming', 10430), ('timeconsuming', 13059), ('coexist', 2282), ('accompanying', 79), ('pelvis', 9297), ('precipice', 9787), ('awkwardly', 974), ('accompany', 78), ('judy', 7070), ('englishspeaking', 4312), ('kissed', 7173), ('recovering', 10459), ('newer', 8546), ('engraved', 4313), ('bumped', 1640), ('hopped', 6120), ('customization', 3082), ('orlando', 8939), ('utopian', 13749), ('unprepared', 13631), ('interruption', 6800), ('synapsis', 12684), ('firing', 4981), ('restructure', 10835), ('sucking', 12473), ('longitude', 7574), ('conveyed', 2755), ('dependency', 3377), ('flapping', 5018), ('catcher', 1872), ('crane', 2915), ('restrictive', 10833), ('decorate', 3236), ('calculates', 1720), ('grizzly', 5694), ('intricate', 6828), ('cpu', 2899), ('megawatt', 7945), ('boost', 1425), ('infusion', 6591), ('emulate', 4245), ('blindfolded', 1342), ('emit', 4208), ('dominates', 3837), ('arc', 672), ('streak', 12344), ('centered', 1930), ('attracting', 871), ('debated', 3194), ('attracts', 875), ('gamma', 5371), ('patricia', 9242), ('shed', 11571), ('descent', 3420), ('inhabited', 6599), ('systematically', 12704), ('termed', 12905), ('guidance', 5733), ('typo', 13432), ('isotope', 6946), ('glacial', 5500), ('reconstructed', 10448), ('moisture', 8213), ('precipitation', 9788), ('fingernail', 4965), ('stasis', 12218), ('migrating', 8070), ('ng', 8557), ('migrated', 8069), ('sampled', 11166), ('jumbled', 7081), ('rover', 11063), ('weaving', 14097), ('gaza', 5398), ('spencer', 12061), ('wrath', 14316), ('bronze', 1573), ('swimmer', 12650), ('harvey', 5862), ('emory', 4215), ('relentless', 10611), ('sanctuary', 11173), ('matriarch', 7869), ('ranger', 10309), ('oldschool', 8814), ('teamed', 12787), ('gill', 5490), ('positioning', 9713), ('overboard', 9016), ('depleted', 3386), ('compel', 2436), ('tattooed', 12772), ('veteran', 13857), ('hesitant', 5971), ('shuffle', 11649), ('softer', 11918), ('highfrequency', 5994), ('locate', 7541), ('batman', 1102), ('wayne', 14076), ('paw', 9260), ('amendment', 455), ('hierarchical', 5984), ('squirt', 12151), ('trainer', 13203), ('sniff', 11882), ('preceding', 9785), ('insistence', 6668), ('alltime', 407), ('seminal', 11432), ('barking', 1072), ('groan', 5695), ('veterinarian', 13858), ('entangled', 4353), ('highdefinition', 5988), ('headphone', 5893), ('chuckle', 2110), ('changer', 1973), ('humidity', 6202), ('spock', 12096), ('slur', 11831), ('recreated', 10462), ('powerfully', 9756), ('piloted', 9486), ('underprivileged', 13518), ('dropout', 3949), ('eldest', 4128), ('activistso', 143), ('sausage', 11207), ('paycheck', 9262), ('hacked', 5762), ('businesspeople', 1675), ('tuition', 13366), ('mitchell', 8171), ('maintains', 7708), ('unavailable', 13466), ('sneeze', 11880), ('tweet', 13401), ('stephanie', 12257), ('nanoscale', 8421), ('vigorously', 13889), ('biomolecules', 1276), ('cheapest', 2014), ('analogous', 484), ('cooled', 2772), ('leash', 7331), ('crumb', 3006), ('unreasonable', 13638), ('jfk', 7017), ('arguably', 693), ('flyer', 5088), ('dime', 3587), ('credential', 2945), ('revolutionize', 10901), ('unleashed', 13607), ('mastered', 7850), ('undertake', 13529), ('admiral', 197), ('bolster', 1402), ('workout', 14281), ('viking', 13890), ('containing', 2679), ('declining', 3232), ('berry', 1202), ('erasing', 4428), ('vendor', 13822), ('repercussion', 10691), ('misunderstanding', 8166), ('bubbling', 1600), ('leaking', 7317), ('leapt', 7324), ('predecessor', 9797), ('burke', 1658), ('subversive', 12456), ('filing', 4936), ('deregulation', 3408), ('cancel', 1759), ('dow', 3876), ('geoffrey', 5454), ('definitive', 3284), ('humiliate', 6203), ('hubris', 6168), ('imperial', 6381), ('concentric', 2512), ('titanium', 13089), ('complement', 2457), ('nursing', 8695), ('unbroken', 13474), ('mangrove', 7753), ('creeping', 2953), ('unwanted', 13675), ('firewood', 4979), ('imprisonment', 6420), ('weaponry', 14089), ('warhead', 14024), ('usable', 13726), ('indelible', 6494), ('fallout', 4788), ('preparedness', 9840), ('adversary', 230), ('attacker', 852), ('uranium', 13711), ('overseas', 9044), ('unsettling', 13646), ('temporarily', 12876), ('sheltered', 11580), ('futile', 5344), ('impede', 6374), ('radioactive', 10268), ('abolition', 20), ('inhumane', 6612), ('specified', 12040), ('technologically', 12804), ('digitized', 3576), ('espresso', 4461), ('ucla', 13441), ('thorny', 12991), ('accessed', 66), ('taker', 12732), ('longerterm', 7570), ('locking', 7548), ('unfamiliar', 13559), ('gracefully', 5589), ('sonar', 11953), ('thrives', 13020), ('rhythmic', 10918), ('shockingly', 11601), ('peach', 9274), ('savory', 11216), ('flashing', 5021), ('discount', 3652), ('driveway', 3944), ('mommy', 8228), ('yo', 14378), ('honduras', 6093), ('corrected', 2810), ('distinctly', 3752), ('comeback', 2366), ('listens', 7499), ('brace', 1478), ('intrepid', 6826), ('maddening', 7674), ('luminous', 7644), ('starring', 12205), ('flooded', 5057), ('crest', 2956), ('gum', 5746), ('eyelash', 4730), ('fur', 5330), ('poop', 9669), ('swinging', 12654), ('dip', 3600), ('goto', 5571), ('outrun', 8998), ('jackie', 6964), ('prized', 9936), ('gleefully', 5510), ('oversees', 9046), ('mitigate', 8173), ('nutritious', 8704), ('strawberry', 12342), ('syrup', 12702), ('trans', 13208), ('tasting', 12769), ('harlem', 5841), ('babysitter', 983), ('oversight', 9047), ('sourced', 11981), ('rightwing', 10954), ('shuts', 11653), ('hormonal', 6125), ('allegory', 389), ('revised', 10891), ('endorse', 4283), ('fetch', 4910), ('xenophobia', 14341), ('authoritarianism', 913), ('decay', 3203), ('anonymously', 553), ('motif', 8293), ('crux', 3020), ('restraint', 10828), ('yin', 14377), ('destroyer', 3456), ('samantha', 11162), ('haidt', 5766), ('strives', 12375), ('conflicting', 2565), ('heterosexual', 5974), ('censored', 1925), ('frivolous', 5274), ('clitoris', 2216), ('impacted', 6367), ('deputy', 3406), ('panicked', 9134), ('grieving', 5685), ('impacting', 6369), ('pitching', 9510), ('vcs', 13808), ('pitched', 9509), ('prompt', 10018), ('selfconfidence', 11399), ('notforprofit', 8655), ('conveys', 2758), ('tread', 13275), ('validation', 13769), ('intro', 6834), ('ethicist', 4488), ('arch', 673), ('demon', 3347), ('investigative', 6876), ('tier', 13045), ('interrogation', 6796), ('stink', 12289), ('costume', 2846), ('barber', 1064), ('blindly', 1344), ('humiliating', 6205), ('obedience', 8716), ('conformity', 2568), ('disengaged', 3677), ('humanely', 6184), ('cautionary', 1893), ('undiscovered', 13541), ('bullying', 1636), ('hannah', 5814), ('lowlevel', 7629), ('counselor', 2855), ('breadwinner', 1506), ('chore', 2087), ('butter', 1683), ('rattle', 10337), ('idaho', 6274), ('melissa', 7949), ('cigar', 2117), ('tether', 12931), ('handheld', 5798), ('multidisciplinary', 8342), ('adorable', 213), ('donald', 3841), ('exaggeration', 4549), ('trinidad', 13318), ('flushed', 5084), ('administer', 192), ('discrimination', 3667), ('non', 8609), ('sameness', 11163), ('selfevident', 11409), ('chernobyl', 2045), ('circulated', 2129), ('assaulted', 783), ('prosecution', 10052), ('enraged', 4336), ('venom', 13826), ('eliot', 4164), ('sitcom', 11741), ('blockbuster', 1354), ('prestigious', 9869), ('rhyme', 10916), ('butler', 1681), ('anton', 584), ('timescales', 13067), ('pong', 9664), ('praising', 9773), ('prohibit', 9995), ('barrage', 1076), ('milton', 8097), ('faded', 4766), ('authorized', 915), ('intervening', 6809), ('follower', 5106), ('islamist', 6939), ('depicting', 3383), ('ostensibly', 8949), ('parliamentary', 9175), ('morocco', 8272), ('spiritually', 12088), ('familiarity', 4794), ('highpressure', 6005), ('nozzle', 8674), ('pulsing', 10147), ('dispersed', 3706), ('ascend', 758), ('resisted', 10783), ('partition', 9196), ('honeybee', 6100), ('blackout', 1309), ('competed', 2442), ('contradictory', 2720), ('incorporates', 6476), ('choreographed', 2088), ('stalk', 12180), ('curated', 3054), ('continuity', 2708), ('fullscale', 5303), ('affliction', 268), ('drugresistant', 3958), ('terminator', 12907), ('ninja', 8588), ('gamers', 5369), ('warcraft', 14019), ('popularity', 9680), ('cheesy', 2033), ('ridiculously', 10941), ('rogers', 11016), ('junior', 7087), ('erode', 4438), ('welldesigned', 14123), ('abraham', 23), ('haunted', 5875), ('todd', 13097), ('rally', 10293), ('presidency', 9861), ('subordinate', 12432), ('grievance', 5683), ('emancipation', 4177), ('shaken', 11536), ('napoleon', 8427), ('statesman', 12224), ('consisted', 2631), ('anecdotal', 512), ('victor', 13871), ('medicare', 7927), ('defeated', 3259), ('solely', 11929), ('confess', 2547), ('yankee', 14353), ('duke', 3978), ('conjures', 2591), ('broaden', 1563), ('newcomer', 8545), ('beatboxing', 1128), ('completes', 2462), ('resembling', 10755), ('curate', 3053), ('enhancing', 4319), ('ejaculation', 4121), ('blonde', 1361), ('solitude', 11934), ('facial', 4750), ('mourning', 8314), ('bluetooth', 1375), ('witch', 14239), ('magnified', 7688), ('illuminate', 6318), ('graceful', 5588), ('superman', 12535), ('stained', 12172), ('lent', 7368), ('uphold', 13691), ('necklace', 8485), ('symbolizes', 12675), ('unveiling', 13673), ('timely', 13064), ('unexamined', 13553), ('faucet', 4847), ('perennial', 9328), ('disturb', 3775), ('medically', 7926), ('smoker', 11862), ('erectile', 4432), ('overweight', 9054), ('accelerates', 53), ('colon', 2338), ('cholesterol', 2079), ('optimal', 8886), ('sanskrit', 11185), ('oncology', 8823), ('wellness', 14130), ('blunt', 1376), ('disprove', 3720), ('kidnapping', 7148), ('prolonged', 10006), ('sore', 11965), ('teasing', 12796), ('bandage', 1041), ('deformed', 3288), ('pondering', 9663), ('checker', 2021), ('distracting', 3762), ('questioned', 10224), ('inertia', 6540), ('replica', 10702), ('glide', 5512), ('challenger', 1962), ('morgan', 8270), ('probing', 9946), ('stationary', 12228), ('receiver', 10410), ('sparkle', 12013), ('psychologisti', 10117), ('traumatized', 13266), ('surveyed', 12590), ('ecstatic', 4071), ('climber', 2206), ('arousal', 719), ('boredom', 1432), ('apathy', 598), ('java', 6986), ('checklist', 2023), ('colder', 2304), ('dryer', 3964), ('southwestern', 11987), ('petri', 9400), ('cohesion', 2293), ('photosynthetic', 9445), ('investigates', 6873), ('mug', 8336), ('frown', 5281), ('erect', 4430), ('circulate', 2128), ('unintended', 13584), ('foil', 5098), ('formulate', 5177), ('detecting', 3469), ('mesmerized', 7996), ('freshwater', 5260), ('facebooks', 4746), ('supremacist', 12562), ('alienated', 375), ('buzzword', 1692), ('closure', 2234), ('psychosocial', 10122), ('illuminates', 6320), ('fatigue', 4845), ('revolve', 10904), ('enslave', 4345), ('reevaluate', 10503), ('endowed', 4284), ('demolish', 3344), ('unfulfilled', 13571), ('limitless', 7464), ('grind', 5688), ('unravels', 13636), ('reminding', 10653), ('assassinated', 780), ('bobby', 1390), ('affirming', 266), ('despised', 3448), ('gospel', 5567), ('deepening', 3251), ('congratulate', 2582), ('forbes', 5127), ('doer', 3819), ('sufi', 12486), ('waged', 13986), ('lesser', 7377), ('dissolved', 3741), ('turk', 13383), ('embodies', 4189), ('widening', 14176), ('anothers', 554), ('rubbing', 11072), ('brushing', 1592), ('plasma', 9544), ('mister', 8162), ('shrunk', 11648), ('yogi', 14381), ('meditating', 7935), ('identifies', 6286), ('mustache', 8384), ('unrealistic', 13637), ('excluded', 4582), ('selectively', 11392), ('disrespect', 3723), ('harnessing', 5851), ('interferes', 6766), ('manipulator', 7766), ('sprout', 12130), ('aka', 343), ('receding', 10406), ('outpouring', 8991), ('aweinspiring', 969), ('exceptionally', 4567), ('astray', 818), ('thanking', 12947), ('passport', 9215), ('playfulness', 9558), ('classically', 2165), ('facilitates', 4753), ('spotting', 12117), ('authenticity', 908), ('firefighter', 4975), ('fragrance', 5216), ('smelled', 11850), ('antibody', 570), ('audible', 882), ('prism', 9924), ('aroma', 717), ('vial', 13861), ('perfume', 9340), ('relational', 10597), ('comprised', 2492), ('misleading', 8148), ('diplomatic', 3604), ('prevail', 9878), ('orient', 8929), ('firstever', 4985), ('realist', 10364), ('idealist', 6278), ('policing', 9633), ('muster', 8386), ('rescuing', 10745), ('bracket', 1480), ('scientisti', 11271), ('setback', 11496), ('beware', 1218), ('arthritis', 740), ('safely', 11130), ('stitching', 12296), ('hurtling', 6234), ('deploying', 3391), ('contaminate', 2683), ('yellowstone', 14370), ('hose', 6135), ('neatly', 8480), ('reintroduce', 10583), ('introduces', 6837), ('orderly', 8913), ('tidy', 13042), ('vincent', 13894), ('piled', 9479), ('incubator', 6489), ('beacon', 1117), ('oak', 8710), ('inaccessible', 6436), ('notch', 8651), ('ascent', 759), ('rim', 10959), ('excavated', 4558), ('insomnia', 6671), ('joes', 7027), ('slick', 11802), ('sara', 11190), ('bye', 1694), ('checkpoint', 2025), ('subsistence', 12442), ('intrigue', 6829), ('eh', 4114), ('reshaped', 10764), ('maturing', 7877), ('mysteriously', 8398), ('bargain', 1070), ('catalyze', 1865), ('roam', 10987), ('articulating', 745), ('pepper', 9316), ('fearing', 4861), ('brussels', 1593), ('relentlessly', 10612), ('deprivation', 3402), ('provoke', 10101), ('greener', 5668), ('skipped', 11769), ('boldly', 1399), ('gregory', 5676), ('temperate', 12869), ('drilled', 3934), ('monarch', 8229), ('marie', 7801), ('millennial', 8085), ('fusing', 5341), ('icu', 6271), ('crustacean', 3018), ('spotted', 12116), ('endemic', 4276), ('subsequent', 12437), ('rp', 11069), ('enticing', 4367), ('datadriven', 3156), ('aided', 324), ('antisocial', 583), ('avoidable', 951), ('flea', 5030), ('tolerant', 13106), ('validated', 13768), ('audacious', 880), ('healer', 5899), ('grandson', 5624), ('licking', 7415), ('starry', 12206), ('muddy', 8335), ('cannon', 1770), ('courtesy', 2879), ('thoughtfully', 12997), ('brushed', 1591), ('accusation', 99), ('nod', 8597), ('beehive', 1142), ('graveyard', 5649), ('hive', 6055), ('quirky', 10235), ('migratory', 8072), ('caf', 1709), ('starve', 12215), ('pollinating', 9649), ('pollinator', 9651), ('pollinate', 9648), ('reconnecting', 10445), ('decoding', 3234), ('decode', 3233), ('highlighting', 6000), ('goalsetting', 5535), ('gambling', 5366), ('tornado', 13135), ('fantastically', 4805), ('fare', 4809), ('toothpaste', 13126), ('impatient', 6373), ('inconsistency', 6470), ('frighten', 5270), ('persuading', 9384), ('qampa', 10198), ('ample', 467), ('wolfgang', 14257), ('mario', 7805), ('shaved', 11568), ('haunting', 5876), ('cleanliness', 2178), ('eater', 4046), ('hone', 6094), ('pitfall', 9511), ('blurred', 1379), ('fabled', 4737), ('seabed', 11326), ('invaluable', 6854), ('devoid', 3506), ('exploiting', 4669), ('conform', 2567), ('exchanged', 4573), ('scoop', 11275), ('assassination', 781), ('applauded', 626), ('unison', 13591), ('malaysia', 7722), ('synchronized', 12687), ('allan', 384), ('delicacy', 3312), ('birthplace', 1290), ('dynasty', 4008), ('colonel', 2339), ('cosmopolitan', 2838), ('crisp', 2970), ('peruvian', 9388), ('cuisine', 3036), ('relied', 10620), ('intergovernmental', 6770), ('guarded', 5722), ('creatives', 2941), ('wrapper', 14314), ('eiffel', 4115), ('alma', 410), ('fragmentation', 5214), ('vacant', 13754), ('proceeded', 9952), ('prototyped', 10082), ('wholly', 14168), ('longitudinal', 7575), ('scorching', 11278), ('triumphant', 13325), ('tenfold', 12893), ('nextgeneration', 8555), ('finer', 4961), ('gothic', 5570), ('antonio', 585), ('optimizing', 8893), ('distributes', 3769), ('discriminate', 3665), ('swapped', 12626), ('costa', 2841), ('rica', 10921), ('intervened', 6808), ('utilitarian', 13743), ('buenos', 1612), ('aire', 334), ('correctness', 2815), ('mailbox', 7697), ('comical', 2375), ('amuse', 477), ('repurposing', 10733), ('resourceful', 10796), ('absurdity', 38), ('upgraded', 13688), ('cartoonist', 1843), ('martha', 7825), ('ada', 154), ('dichotomy', 3540), ('scribe', 11311), ('spiraling', 12083), ('pup', 10166), ('starter', 12209), ('revisit', 10893), ('shaping', 11552), ('caterpillar', 1878), ('tending', 12889), ('stale', 12178), ('proverbial', 10090), ('reclaimed', 10429), ('sincerity', 11718), ('ta', 12706), ('solemn', 11930), ('unsuccessful', 13654), ('praised', 9772), ('recast', 10405), ('bloomberg', 1367), ('arrogant', 735), ('concession', 2521), ('referenced', 10507), ('ferry', 4901), ('goosebump', 5560), ('upbringing', 13681), ('equitable', 4417), ('gen', 5409), ('selffulfilling', 11411), ('smog', 11859), ('followup', 5109), ('mediated', 7922), ('uploading', 13696), ('chubby', 2108), ('oily', 8806), ('residue', 10773), ('scrape', 11294), ('cheek', 2026), ('circulating', 2130), ('teaming', 12788), ('fertilization', 4904), ('lipid', 7488), ('tedmed', 12820), ('bedside', 1138), ('disadvantaged', 3620), ('endure', 4287), ('obscured', 8733), ('sharpen', 11561), ('unwilling', 13677), ('hertz', 5970), ('amplitude', 473), ('shorten', 11617), ('db', 3175), ('sonic', 11955), ('blamed', 1316), ('biomarkers', 1270), ('bionics', 1278), ('amputee', 475), ('georgetown', 5468), ('booked', 1419), ('gravel', 5648), ('intimidating', 6821), ('tendon', 12890), ('pathologist', 9234), ('swelling', 12645), ('soulful', 11973), ('graded', 5593), ('detour', 3487), ('formulation', 5179), ('intractable', 6825), ('incoming', 6466), ('petal', 9396), ('benefiting', 1192), ('optional', 8896), ('feelgood', 4884), ('communicator', 2413), ('measles', 7903), ('pension', 9313), ('matthew', 7874), ('shrewd', 11641), ('judged', 7065), ('attendant', 861), ('socrates', 11913), ('narcissism', 8428), ('humanism', 6185), ('downright', 3883), ('sane', 11180), ('uncontrollable', 13490), ('tantalizing', 12752), ('panicking', 9135), ('wondrous', 14266), ('dangerously', 3130), ('psyched', 10108), ('archaic', 677), ('professionally', 9975), ('mashup', 7838), ('tilted', 13055), ('computerized', 2502), ('childish', 2059), ('janitor', 6978), ('supervisor', 12544), ('reunited', 10866), ('abusive', 45), ('preposterous', 9842), ('referendum', 10508), ('reliance', 10618), ('suppressed', 12559), ('reboot', 10396), ('clause', 2171), ('reckoning', 10427), ('doorstep', 3853), ('cartilage', 1841), ('cochlear', 2269), ('wandered', 14012), ('fraternity', 5232), ('selfesteem', 11408), ('jos', 7046), ('seeded', 11372), ('earthling', 4033), ('bathing', 1099), ('humpback', 6213), ('circulatory', 2132), ('undermining', 13513), ('safeguarding', 11129), ('ravaged', 10339), ('sylvia', 12669), ('earle', 4018), ('vanished', 13783), ('inhospitable', 6611), ('morrison', 8277), ('lifeless', 7425), ('honed', 6095), ('rightful', 10949), ('plagued', 9527), ('gamechanging', 5368), ('augment', 889), ('tribalism', 13302), ('bp', 1477), ('momma', 8227), ('computergenerated', 2501), ('additive', 176), ('chasm', 2008), ('phosphorus', 9432), ('unveil', 13671), ('anatomically', 497), ('pellet', 9296), ('swath', 12629), ('toxicity', 13168), ('dilute', 3584), ('sinking', 11733), ('jeopardy', 7003), ('commuter', 2419), ('likeminded', 7451), ('decaying', 3204), ('swan', 12624), ('calmly', 1733), ('reinforcing', 10582), ('nude', 8682), ('twitter', 13416), ('momentous', 8225), ('tweeting', 13403), ('thirdparty', 12984), ('sexist', 11523), ('halloween', 5779), ('innocuous', 6636), ('saddest', 11123), ('slash', 11785), ('formulated', 5178), ('sandy', 11179), ('waterway', 14066), ('ginger', 5493), ('multilayered', 8343), ('monitored', 8238), ('celsius', 1920), ('comply', 2473), ('intercept', 6752), ('decompose', 3235), ('stripping', 12373), ('troupe', 13338), ('caution', 1892), ('bald', 1026), ('onward', 8844), ('rehearse', 10572), ('swine', 12652), ('teamwork', 12790), ('complacency', 2451), ('dent', 3365), ('ripple', 10968), ('dislike', 3688), ('subconsciously', 12419), ('samsung', 11168), ('outdated', 8972), ('pave', 9256), ('humanness', 6195), ('deficiency', 3272), ('churchill', 2113), ('tethered', 12932), ('predatory', 9796), ('override', 9042), ('carnivorous', 1824), ('suppression', 12561), ('coo', 2765), ('attuned', 878), ('nourishing', 8667), ('neurotransmitter', 8534), ('cortical', 2831), ('eeg', 4096), ('retention', 10849), ('youthful', 14396), ('adaptability', 158), ('absent', 27), ('motivational', 8300), ('pupil', 10167), ('stuart', 12392), ('clinician', 2213), ('memo', 7960), ('unlocked', 13615), ('terrace', 12910), ('condensed', 2530), ('instinctual', 6696), ('diaper', 3534), ('funnier', 5327), ('predictably', 9804), ('insensitive', 6656), ('rocked', 11006), ('obtaining', 8752), ('falcon', 4783), ('avi', 945), ('fred', 5238), ('entirety', 4370), ('scot', 11283), ('indoors', 6526), ('polo', 9658), ('weirder', 14116), ('xerox', 14342), ('edgar', 4076), ('hysteria', 6259), ('allergic', 391), ('grapple', 5634), ('obamas', 8715), ('healed', 5898), ('hotspot', 6151), ('smartphones', 11844), ('yacht', 14348), ('sean', 11333), ('tailor', 12725), ('android', 510), ('supervision', 12543), ('attainment', 855), ('thy', 13033), ('coaching', 2255), ('teammate', 12789), ('gracious', 5590), ('cornerstone', 2801), ('grin', 5687), ('grit', 5693), ('offense', 8788), ('hunted', 6223), ('rodent', 11014), ('rested', 10819), ('investigator', 6877), ('diplomacy', 3602), ('purposefully', 10181), ('bleached', 1325), ('unspoken', 13651), ('sewn', 11520), ('lipstick', 7489), ('thug', 13029), ('endured', 4288), ('startled', 12211), ('frantically', 5230), ('silently', 11687), ('allure', 408), ('sprawling', 12120), ('violently', 13904), ('gleaming', 5509), ('puncture', 10159), ('genitals', 5439), ('ditch', 3779), ('mistrust', 8165), ('counterfeit', 2862), ('sham', 11543), ('cherished', 2044), ('resentment', 10757), ('accordingly', 85), ('crosscountry', 2987), ('sensational', 11443), ('jc', 6991), ('goggles', 5540), ('purest', 10175), ('exhilarating', 4608), ('idealistic', 6279), ('mocked', 8188), ('telltale', 12866), ('apologized', 606), ('wang', 14014), ('redefining', 10484), ('ptsd', 10126), ('disconnection', 3650), ('contemplation', 2688), ('murphy', 8370), ('glitch', 5515), ('duality', 3968), ('coercion', 2279), ('iranian', 6912), ('tehran', 12853), ('bewildering', 1219), ('harmless', 5846), ('secrete', 11357), ('starlight', 12204), ('levine', 7392), ('nanny', 8418), ('tattoo', 12771), ('quadruple', 10201), ('usc', 13729), ('ping', 9492), ('poignant', 9611), ('heater', 5921), ('carlos', 1820), ('sap', 11188), ('melbourne', 7947), ('kicker', 7141), ('idol', 6296), ('jeremy', 7004), ('altering', 424), ('clumsy', 2246), ('tease', 12794), ('manic', 7757), ('circumvent', 2135), ('overeating', 9023), ('dolly', 3827), ('cushion', 3077), ('bully', 1635), ('reexamine', 10504), ('politely', 9641), ('rosetta', 11042), ('fightorflight', 4929), ('commonality', 2402), ('pivot', 9517), ('earlystage', 4022), ('podcaster', 9605), ('hesitation', 5973), ('yosemite', 14387), ('bleaching', 1326), ('stitch', 12294), ('scarf', 11242), ('revolving', 10905), ('nostalgic', 8646), ('granting', 5629), ('wry', 14338), ('crowdsourcing', 2997), ('texting', 12938), ('tumbling', 13368), ('unloaded', 13613), ('trump', 13345), ('hypothetically', 6258), ('defective', 3262), ('evaporated', 4512), ('specializes', 12031), ('normalized', 8634), ('stellar', 12253), ('discriminated', 3666), ('curry', 3069), ('comparative', 2425), ('journalistso', 7055), ('spared', 12009), ('mutated', 8388), ('shutting', 11655), ('counterproductive', 2865), ('quarantine', 10212), ('ideation', 6282), ('metabolized', 8009), ('filtration', 4949), ('responsibly', 10814), ('sentinel', 11463), ('pulitzer', 10141), ('betrayal', 1211), ('clustered', 2249), ('angst', 524), ('resented', 10756), ('directive', 3610), ('incarnation', 6449), ('fascism', 4826), ('spurred', 12134), ('freeing', 5243), ('narrate', 8431), ('alchemist', 356), ('everchanging', 4522), ('propel', 10029), ('otherworldly', 8963), ('prefers', 9818), ('mythical', 8403), ('advent', 226), ('soybean', 11993), ('syria', 12699), ('fallacy', 4785), ('avoids', 955), ('stray', 12343), ('testify', 12927), ('uncommon', 13484), ('diane', 3533), ('michelle', 8035), ('blake', 1314), ('revived', 10896), ('middleincome', 8060), ('wartorn', 14043), ('monogamy', 8242), ('untangle', 13659), ('gridlock', 5681), ('caste', 1856), ('standardized', 12190), ('disenfranchised', 3676), ('medicaid', 7924), ('sim', 11693), ('mistreatment', 8163), ('aspiring', 778), ('reasoned', 10386), ('endoflife', 4281), ('threeyear', 13011), ('unchecked', 13480), ('sabbatical', 11111), ('radiologist', 10269), ('digestion', 3569), ('cadaver', 1706), ('legally', 7348), ('transplantation', 13254), ('freshly', 5258), ('hiccup', 5978), ('majesty', 7712), ('cervical', 1952), ('abnormality', 16), ('sow', 11991), ('dismantled', 3692), ('discretion', 3664), ('priceless', 9896), ('sexism', 11522), ('unassuming', 13465), ('refrain', 10529), ('propaganda', 10026), ('engender', 4305), ('inequity', 6538), ('myanmar', 8395), ('expects', 4633), ('commanding', 2380), ('alters', 428), ('exhilaration', 4609), ('democratizing', 3342), ('appreciative', 644), ('cultivated', 3042), ('romeo', 11027), ('biking', 1236), ('depleting', 3387), ('distributor', 3772), ('succumb', 12469), ('hail', 5767), ('begged', 1151), ('spur', 12133), ('roar', 10989), ('rash', 10325), ('energyefficient', 4295), ('ecofriendly', 4057), ('opioids', 8869), ('cortisol', 2832), ('positivity', 9716), ('monthold', 8256), ('restorative', 10824), ('acutely', 152), ('marc', 7790), ('tedx', 12832), ('viscerally', 13920), ('tedstate', 12825), ('polling', 9652), ('lookout', 7584), ('encoded', 4256), ('asymmetry', 827), ('radicalized', 10265), ('censorship', 1926), ('sprung', 12131), ('spying', 12137), ('conceptually', 2516), ('facebook', 4745), ('humbly', 6200), ('incision', 6457), ('console', 2637), ('deprive', 3403), ('impulsive', 6433), ('yielded', 14376), ('scored', 11280), ('selfconfident', 11400), ('overuse', 9052), ('statebuilding', 12220), ('postconflict', 9726), ('denies', 3356), ('reassurance', 10388), ('broker', 1571), ('unrest', 13642), ('precarious', 9781), ('coaster', 2261), ('verbally', 13837), ('enigmatic', 4321), ('enforced', 4297), ('hollowed', 6071), ('readymade', 10360), ('individuality', 6521), ('authoritarian', 912), ('iterative', 6957), ('vernacular', 13844), ('dane', 3127), ('streamed', 12346), ('commune', 2407), ('detention', 3474), ('alleged', 386), ('persecution', 9363), ('anthropocene', 566), ('leveled', 7387), ('freed', 5241), ('cyclone', 3100), ('cub', 3028), ('inserting', 6659), ('polarizing', 9629), ('entrepreneurso', 4380), ('pediatric', 9285), ('marrow', 7819), ('fellowship', 4889), ('syringe', 12701), ('catheter', 1882), ('reunion', 10865), ('psychopath', 10120), ('conspicuous', 2641), ('superb', 12525), ('sunscreen', 12521), ('impediment', 6375), ('sinister', 11731), ('nina', 8584), ('awakened', 960), ('vulture', 13982), ('abolish', 18), ('protested', 10076), ('leaflet', 7313), ('repression', 10721), ('midwife', 8065), ('selfhelp', 11412), ('undetected', 13540), ('subvert', 12457), ('conditioned', 2533), ('catapult', 1866), ('giussani', 5497), ('diligently', 3583), ('runoff', 11094), ('rico', 10931), ('warns', 14036), ('oppressive', 8880), ('undertaken', 13530), ('roadblock', 10985), ('waterproof', 14064), ('rounded', 11058), ('clog', 2220), ('eel', 4097), ('flipper', 5050), ('branded', 1494), ('crippled', 2967), ('corpse', 2807), ('evidencebased', 4530), ('automate', 922), ('marshal', 7823), ('stirring', 12293), ('trademark', 13185), ('disposable', 3714), ('thousandth', 13000), ('resonant', 10789), ('transformer', 13225), ('liberia', 7406), ('penicillin', 9306), ('bailout', 1015), ('vaccinated', 13757), ('converging', 2745), ('illusionist', 6324), ('nineteen', 8585), ('attentive', 865), ('freezer', 5250), ('endowment', 4285), ('sighted', 11673), ('muchneeded', 8331), ('boosting', 1426), ('governing', 5577), ('diy', 3801), ('furiously', 5332), ('bulky', 1628), ('takeoff', 12731), ('inflated', 6569), ('alpine', 417), ('lapse', 7250), ('rebecca', 10392), ('continuation', 2703), ('unsurprisingly', 13656), ('defendant', 3264), ('uncovers', 13495), ('crossborder', 2986), ('disclosure', 3646), ('illicit', 6312), ('gangster', 5374), ('trafficked', 13193), ('reap', 10378), ('eyou', 4735), ('transnational', 13249), ('confiscated', 2562), ('smuggler', 11869), ('whore', 14171), ('scandinavian', 11232), ('degeneration', 3291), ('determinant', 3479), ('hexagon', 5975), ('singlehandedly', 11727), ('mint', 8129), ('specify', 12041), ('relies', 10622), ('civility', 2146), ('urging', 13722), ('grumpy', 5718), ('fueling', 5294), ('deliberation', 3311), ('strengthens', 12354), ('consulted', 2663), ('cyber', 3092), ('dissent', 3735), ('vomit', 13967), ('undergoing', 13504), ('covert', 2890), ('undergo', 13503), ('robbery', 10994), ('carnival', 1822), ('drafted', 3893), ('deceived', 3207), ('reside', 10766), ('riddle', 10933), ('populous', 9687), ('lengthy', 7366), ('conquering', 2605), ('khan', 7137), ('funnel', 5326), ('guarding', 5724), ('ottoman', 8965), ('geopolitics', 5466), ('confessed', 2548), ('melinda', 7948), ('intolerant', 6824), ('stereotypical', 12263), ('gooey', 5555), ('schoolgirl', 11264), ('highprofile', 6006), ('reacted', 10349), ('salesperson', 11149), ('preindustrial', 9823), ('valuing', 13775), ('descending', 3418), ('irritable', 6930), ('authentically', 907), ('contend', 2691), ('immigration', 6358), ('untrue', 13667), ('illumination', 6322), ('retinal', 10853), ('normality', 8633), ('writerso', 14330), ('trending', 13296), ('xy', 14346), ('willow', 14202), ('discourage', 3653), ('modernize', 8201), ('baffling', 1009), ('improv', 6422), ('voiceover', 13952), ('infer', 6557), ('parenthood', 9165), ('hologram', 6074), ('brainwave', 1488), ('chirping', 2071), ('lending', 7364), ('mindless', 8107), ('savvy', 11217), ('dismantling', 3693), ('reimagining', 10577), ('artisanal', 751), ('boycott', 1475), ('polarized', 9628), ('feast', 4866), ('resign', 10774), ('undercover', 13499), ('pundit', 10160), ('unleashing', 13608), ('underbelly', 13498), ('falsehood', 4790), ('announces', 544), ('chemically', 2037), ('homelessness', 6081), ('equates', 4410), ('undesirable', 13539), ('unanswered', 13462), ('whopping', 14170), ('webcam', 14099), ('middleman', 8061), ('complicit', 2471), ('stranded', 12327), ('metro', 8023), ('newborn', 8544), ('neutralize', 8537), ('warlord', 14025), ('monotonous', 8246), ('standardization', 12189), ('affords', 274), ('pradesh', 9768), ('swede', 12636), ('widen', 14175), ('permafrost', 9350), ('warms', 14030), ('inheritance', 6606), ('stride', 12364), ('exchanging', 4574), ('informative', 6583), ('underpin', 13515), ('aboriginal', 21), ('smithsonian', 11858), ('wagner', 13988), ('pa', 9075), ('garment', 5381), ('syrian', 12700), ('suspend', 12603), ('dispatch', 3704), ('anxiously', 588), ('refuge', 10535), ('doubting', 3870), ('elect', 4130), ('rupee', 11096), ('selfdetermination', 11405), ('solvable', 11938), ('exercising', 4597), ('prescribe', 9845), ('famed', 4792), ('mansion', 7772), ('icelandic', 6268), ('brutally', 1596), ('voiceless', 13951), ('hijab', 6016), ('trafficker', 13194), ('requesting', 10737), ('consultation', 2662), ('inefficiency', 6535), ('proactively', 9940), ('maternity', 7861), ('adored', 215), ('disappoint', 3629), ('ahmed', 321), ('lebanese', 7335), ('illegally', 6311), ('epicenter', 4397), ('secretive', 11358), ('reddit', 10479), ('ryan', 11109), ('unspeakable', 13650), ('outright', 8997), ('spokesperson', 12103), ('overcrowded', 9020), ('blazing', 1324), ('underappreciated', 13497), ('dragonfly', 3899), ('archipelago', 680), ('clutch', 2250), ('subtly', 12451), ('facilitated', 4752), ('unimaginably', 13582), ('filed', 4935), ('putin', 10191), ('perpetuate', 9359), ('eavesdrop', 4049), ('enrolled', 4342), ('escorted', 4456), ('deceased', 3205), ('plantbased', 9540), ('linda', 7468), ('inflammatory', 6566), ('majestic', 7711), ('venomous', 13827), ('donut', 3848), ('drown', 3954), ('centuriesold', 1937), ('tirelessly', 13084), ('abolished', 19), ('busiest', 1672), ('toolkit', 13123), ('pothole', 9743), ('rajasthan', 10292), ('liftoff', 7437), ('johannes', 7029), ('murky', 8368), ('milligram', 8089), ('eighteen', 4116), ('primetime', 9907), ('handcuff', 5794), ('slump', 11830), ('kirk', 7171), ('gupta', 5750), ('transplanted', 13255), ('diseased', 3675), ('postage', 9724), ('scaffold', 11222), ('layering', 7301), ('collagen', 2315), ('smear', 11848), ('voila', 13954), ('braver', 1499), ('hurtful', 6232), ('ensures', 4350), ('rapist', 10321), ('selfdefense', 11403), ('sodium', 11915), ('oddity', 8777), ('bragging', 1483), ('tedxboston', 12834), ('surrogate', 12583), ('posing', 9710), ('remission', 10656), ('ovarian', 9011), ('optimization', 8890), ('disrupting', 3727), ('disrupted', 3726), ('crosssection', 2991), ('manifested', 7760), ('tremor', 13293), ('gatekeeper', 5390), ('enforcing', 4299), ('anticorruption', 575), ('aunty', 896), ('justin', 7099), ('bullied', 1633), ('burying', 1669), ('labeling', 7212), ('grower', 5710), ('wand', 14010), ('phoned', 9431), ('punching', 10155), ('scrub', 11316), ('missouri', 8157), ('stalled', 12183), ('unforgiving', 13568), ('presumed', 9872), ('prognosis', 9983), ('disabling', 3618), ('devaluing', 3490), ('reimagine', 10575), ('prenatal', 9833), ('receptive', 10416), ('defying', 3290), ('multiplication', 8347), ('bg', 1221), ('hiking', 6020), ('sleepless', 11794), ('minefield', 8110), ('hindsight', 6030), ('distrust', 3774), ('simplifying', 11705), ('smartphone', 11843), ('respiration', 10804), ('accelerometer', 57), ('individualized', 6522), ('collins', 2334), ('foe', 5096), ('dementia', 3332), ('residual', 10772), ('slapped', 11784), ('miraculously', 8135), ('reluctance', 10628), ('orthodox', 8943), ('fastpaced', 4837), ('mirrored', 8137), ('cg', 1953), ('cinematic', 2120), ('winston', 14217), ('knit', 7186), ('miguel', 8073), ('justification', 7096), ('aspirin', 777), ('shiver', 11597), ('mt', 8328), ('dimming', 3593), ('casey', 1849), ('persists', 9371), ('qualitative', 10205), ('prescribed', 9846), ('hansen', 5815), ('assessed', 788), ('mummy', 8358), ('quieter', 10232), ('flowed', 5069), ('unjust', 13603), ('consequential', 2615), ('admits', 203), ('interrogate', 6794), ('sixteen', 11748), ('demeaning', 3331), ('ceased', 1904), ('harriet', 5853), ('disheartening', 3684), ('sentenced', 11458), ('activistim', 142), ('afterschool', 285), ('ruby', 11075), ('segregation', 11381), ('binge', 1252), ('transgender', 13228), ('varies', 13795), ('forensics', 5146), ('unnoticed', 13623), ('isle', 6941), ('molly', 8218), ('resignation', 10775), ('li', 7397), ('calming', 1732), ('frenzy', 5253), ('battled', 1108), ('antioxidant', 578), ('hoop', 6108), ('intensified', 6738), ('bioluminescent', 1269), ('unfiltered', 13560), ('sniper', 11884), ('mucus', 8333), ('sac', 11113), ('indebted', 6491), ('invoking', 6891), ('lgbt', 7395), ('discord', 3651), ('cursed', 3071), ('ellen', 4168), ('marital', 7806), ('confinement', 2556), ('racked', 10258), ('transcript', 13216), ('exacerbate', 4543), ('contagion', 2674), ('immunized', 6365), ('hinge', 6032), ('rationalize', 10335), ('rooting', 11037), ('plummeted', 9590), ('urchin', 13716), ('grouper', 5706), ('ashore', 762), ('siberian', 11660), ('stressing', 12358), ('kg', 7135), ('hospice', 6136), ('misinformation', 8146), ('nourish', 8666), ('coworkers', 2896), ('aggregation', 296), ('underrepresented', 13519), ('malignant', 7728), ('frontlines', 5279), ('contamination', 2685), ('educatori', 4094), ('stormy', 12316), ('breastfeeding', 1515), ('grenade', 5677), ('primed', 9905), ('penetrates', 9303), ('frontline', 5278), ('evade', 4503), ('vigorous', 13888), ('mediate', 7921), ('weirdly', 14117), ('respecting', 10802), ('cad', 1705), ('fished', 4992), ('instruct', 6702), ('sacrificing', 11120), ('blackness', 1308), ('fleming', 5036), ('samesex', 11164), ('athens', 830), ('hotly', 6150), ('wartime', 14042), ('ancestral', 500), ('communitybased', 2417), ('willingly', 14200), ('quadrant', 10200), ('woefully', 14253), ('soot', 11959), ('vigilant', 13887), ('photoshopped', 9443), ('shooter', 11605), ('orchestrated', 8907), ('advert', 233), ('discern', 3639), ('maritime', 7807), ('entrepreneuri', 4377), ('tenacity', 12882), ('grasshopper', 5639), ('cluttered', 2252), ('chemo', 2040), ('oncologist', 8822), ('aspirational', 775), ('seductive', 11370), ('favelas', 4850), ('originates', 8938), ('ahem', 319), ('rebuilt', 10400), ('denver', 3368), ('burgeoning', 1653), ('minneapolis', 8125), ('incorrectly', 6479), ('shellfish', 11578), ('bottomless', 1453), ('consolidation', 2639), ('incarceration', 6448), ('forge', 5153), ('meltdown', 7953), ('weaken', 14078), ('gaga', 5351), ('thorn', 12990), ('velvet', 13820), ('lacked', 7218), ('trembling', 13290), ('exile', 4610), ('whistleblower', 14161), ('encryption', 4270), ('enact', 4251), ('encrypted', 4269), ('troublemaker', 13336), ('fascist', 4827), ('dubai', 3969), ('auntie', 895), ('axon', 979), ('conductive', 2541), ('graft', 5605), ('visibly', 13923), ('transitioning', 13235), ('deluge', 3325), ('coevolved', 2281), ('utilizing', 13747), ('patiently', 9239), ('ordeal', 8909), ('vomiting', 13968), ('seafood', 11327), ('kinect', 7166), ('tackled', 12715), ('aptly', 662), ('actionable', 131), ('granular', 5630), ('linkedin', 7483), ('owes', 9061), ('unpaid', 13625), ('blooming', 1368), ('worldviews', 14290), ('arid', 700), ('inspection', 6673), ('scour', 11287), ('montreal', 8257), ('thermometer', 12971), ('boarded', 1384), ('puddle', 10138), ('perverse', 9390), ('biodiverse', 1259), ('quantified', 10207), ('unavoidable', 13467), ('industrialization', 6531), ('appropriated', 651), ('designated', 3432), ('escort', 4455), ('exaggerated', 4547), ('devour', 3510), ('ft', 5289), ('dissolving', 3742), ('coworker', 2895), ('prescribing', 9847), ('strangest', 12332), ('lingering', 7475), ('disproportionate', 3718), ('disclose', 3645), ('campaigner', 1749), ('oslo', 8948), ('edinburgh', 4080), ('michel', 8033), ('imago', 6341), ('octave', 8773), ('hum', 6180), ('encoding', 4258), ('awaiting', 957), ('seeker', 11375), ('psychologistso', 10118), ('ipad', 6904), ('humanizing', 6190), ('postdoc', 9727), ('meticulously', 8021), ('acquaintance', 120), ('pollination', 9650), ('farflung', 4812), ('judicial', 7068), ('haitian', 5774), ('hippocratic', 6038), ('oath', 8713), ('legislative', 7353), ('infiltrate', 6561), ('emailing', 4176), ('fissure', 4998), ('ephemeral', 4395), ('catapulted', 1867), ('noxious', 8673), ('sharply', 11563), ('calibrated', 1727), ('cryptography', 3023), ('verification', 13840), ('noninvasive', 8615), ('excessively', 4571), ('twitch', 13414), ('neurobiological', 8525), ('nagging', 8406), ('autoimmune', 921), ('looping', 7588), ('racially', 10253), ('fathom', 4844), ('shortcoming', 11615), ('massacre', 7844), ('settler', 11503), ('influx', 6579), ('cavalry', 1895), ('audit', 885), ('compromising', 2495), ('ignition', 6299), ('invincible', 6882), ('barbed', 1063), ('agitated', 303), ('monstrous', 8250), ('yearround', 14364), ('buyin', 1688), ('wrongdoing', 14335), ('woken', 14255), ('clich', 2194), ('temper', 12867), ('mesopotamia', 7998), ('reconsider', 10446), ('clicker', 2198), ('pact', 9086), ('minimizing', 8119), ('tedwomen', 12831), ('risktaking', 10975), ('conflicted', 2564), ('underserved', 13521), ('lowwage', 7632), ('childcare', 2057), ('hr', 6165), ('tedxmidatlantic', 12838), ('instructional', 6705), ('pronoun', 10021), ('tedxsydney', 12843), ('rightfully', 10950), ('millennials', 8086), ('safari', 11126), ('disrupts', 3730), ('lynching', 7658), ('bravery', 1500), ('ny', 8706), ('sentencing', 11459), ('prosecutor', 10053), ('dodge', 3817), ('popcorn', 9675), ('jarrett', 6984), ('enroll', 4341), ('deter', 3475), ('lifegiving', 7424), ('multitude', 8354), ('divisive', 3798), ('playbook', 9554), ('irreplaceable', 6924), ('siege', 11668), ('thermostat', 12972), ('goldilocks', 5546), ('fury', 5338), ('opted', 8883), ('unwavering', 13676), ('shortened', 11618), ('experti', 4651), ('lodged', 7549), ('superiority', 12534), ('disrespectful', 3724), ('intruder', 6843), ('psychotherapist', 10123), ('aligns', 380), ('remaking', 10640), ('outnumber', 8988), ('spokenword', 12102), ('paternity', 9229), ('gland', 5506), ('humid', 6201), ('googled', 5558), ('te', 12781), ('mandarin', 7747), ('distancing', 3745), ('irresistible', 6925), ('instructed', 6703), ('teased', 12795), ('overcame', 9017), ('cystic', 3105), ('fibrosis', 4916), ('closeness', 2228), ('tunisian', 13376), ('newsroom', 8553), ('doha', 3822), ('mubarak', 8330), ('marco', 7794), ('detained', 3465), ('executing', 4592), ('pancreatic', 9128), ('stocking', 12299), ('onesizefitsall', 8829), ('transcribed', 13215), ('analytics', 490), ('chirp', 2070), ('collided', 2331), ('multiverse', 8355), ('bisexual', 1292), ('exoskeleton', 4619), ('amanda', 438), ('di', 3514), ('si', 11658), ('medicinal', 7929), ('sabotage', 11112), ('malware', 7733), ('adrian', 217), ('brett', 1526), ('selfdriving', 11407), ('armored', 712), ('etched', 4477), ('tundra', 13371), ('provocation', 10099), ('fastgrowing', 4835), ('expertso', 4653), ('scarier', 11243), ('swipe', 12655), ('zuckerberg', 14423), ('bieber', 1230), ('specializing', 12032), ('beaming', 1121), ('endorphin', 4282), ('posttraumatic', 9734), ('unimportant', 13583), ('amplifying', 472), ('scavenger', 11250), ('tweeted', 13402), ('toil', 13100), ('dprinted', 3890), ('democratically', 3338), ('nontraditional', 8621), ('tyrannical', 13435), ('colonized', 2344), ('physiologically', 9454), ('crowdsource', 2995), ('parental', 9164), ('deserving', 3430), ('hugh', 6177), ('modulate', 8208), ('duo', 3987), ('drastic', 3909), ('ferguson', 4897), ('demolition', 3346), ('jailed', 6971), ('fluent', 5076), ('cybersecurity', 3094), ('espionage', 4460), ('navigates', 8465), ('plunged', 9592), ('decisive', 3224), ('treason', 13277), ('obsessing', 8744), ('outperform', 8990), ('tantrum', 12753), ('tempest', 12871), ('variance', 13791), ('bo', 1382), ('ignited', 6298), ('roaming', 10988), ('criminality', 2963), ('cracker', 2903), ('coder', 2277), ('cancerous', 1762), ('victorious', 13874), ('thrived', 13019), ('oneoff', 8826), ('harmonious', 5847), ('danielle', 3133), ('shopper', 11609), ('bled', 1328), ('nutrientrich', 8701), ('cyberattacks', 3093), ('inaccurate', 6437), ('ibms', 6263), ('escalate', 4449), ('unarmed', 13464), ('quitting', 10238), ('sandra', 11177), ('heir', 5935), ('narrated', 8432), ('conservatism', 2619), ('piloting', 9487), ('bethany', 1209), ('usefulness', 13733), ('parole', 9178), ('divert', 3790), ('alienation', 376), ('greer', 5671), ('inhaling', 6602), ('tipped', 13079), ('insulting', 6714), ('spitting', 12091), ('elicit', 4157), ('citing', 2139), ('threepart', 13009), ('melanoma', 7946), ('onetime', 8831), ('tricking', 13309), ('crunching', 3010), ('degenerative', 3292), ('nausea', 8461), ('safeguard', 11128), ('tedxwomen', 12844), ('nonfiction', 8612), ('forgiving', 5161), ('wasteland', 14054), ('rousing', 11059), ('decimated', 3220), ('tedyouth', 12845), ('dilate', 3580), ('brag', 1482), ('welltrained', 14131), ('revers', 10880), ('negro', 8500), ('aback', 2), ('validate', 13767), ('autopilot', 932), ('mai', 7693), ('eligible', 4158), ('xi', 14343), ('swift', 12647), ('shutdown', 11652), ('longed', 7568), ('shameful', 11547), ('screenwriter', 11307), ('sophie', 11960), ('teded', 12813), ('reacts', 10354), ('gg', 5477), ('pitted', 9514), ('tedxcambridge', 12835), ('unapologetically', 13463), ('insurmountable', 6717), ('impactful', 6368), ('siri', 11737), ('horde', 6121), ('guestcurated', 5732), ('contraception', 2713), ('intrusive', 6844), ('lol', 7561), ('navigated', 8464), ('countdown', 2857), ('relatable', 10591), ('antiquity', 580), ('masked', 7840), ('persevered', 9365), ('homophobia', 6090), ('securely', 11365), ('tedxsummit', 12842), ('opioid', 8868), ('swiftly', 12648), ('mia', 8029), ('nonwhite', 8625), ('unworthy', 13679), ('punishing', 10163), ('fukushima', 5295), ('kickstarter', 7144), ('blockchain', 1355), ('bikini', 1237), ('microbiome', 8042), ('vaginal', 13762), ('tedxstanford', 12841), ('counterterrorism', 2866), ('warrant', 14039), ('unconstitutional', 13489), ('tedxexeter', 12837), ('disgusted', 3681), ('selfmade', 11418), ('stoic', 12301), ('airbnb', 330), ('dystopian', 4013), ('lawmaker', 7292), ('sobbing', 11896), ('strikingly', 12368), ('hipster', 6039), ('haram', 5825), ('instagram', 6681), ('andr', 508), ('austerity', 900), ('gladiator', 5503), ('mentorship', 7980), ('liu', 7515), ('hm', 6056), ('tedxbeaconstreet', 12833), ('highstakes', 6013), ('seventeen', 11507), ('lgbtq', 7396), ('chopping', 2085), ('consolidate', 2638), ('undocumented', 13543), ('slut', 11832), ('proclaimed', 9961), ('elon', 4170), ('weakens', 14080), ('tedxriodelaplata', 12840), ('shamed', 11546), ('hashtag', 5863), ('hw', 6241), ('tedxcern', 12836), ('bitcoin', 1297), ('reimagined', 10576), ('hypothalamus', 6254), ('surging', 12574), ('helper', 5946), ('nsa', 8676), ('tedcity', 12811), ('sixmonth', 11747), ('nyc', 8707), ('palliative', 9118), ('indispensable', 6517), ('snowden', 11888), ('tedbcg', 12809), ('championing', 1967), ('sturdy', 12412), ('tednyc', 12823), ('beyonc', 1220), ('latina', 7273), ('inperson', 6642), ('perplexing', 9362), ('discriminatory', 3668), ('zimmerman', 14414), ('selfie', 11413), ('finkel', 4972), ('vr', 13979), ('restlessness', 10822), ('criminalized', 2965), ('bce', 1114), ('erasure', 4429), ('machinelearning', 7665), ('tedibm', 12817), ('uber', 13438), ('onslaught', 8841), ('selfies', 11414), ('diaphragm', 3535), ('narrowly', 8438), ('gentrification', 5450), ('trayvon', 13274), ('espa', 4458), ('momentary', 8224), ('snapchat', 11874), ('isi', 6936), ('tedgloballondon', 12816), ('sisterhood', 11739), ('whatsapp', 14144), ('formative', 5172), ('lockdown', 7545), ('crispr', 2971), ('tedups', 12830), ('tedglobalgeneva', 12815), ('electrifying', 4138), ('coronavirus', 2803), ('zika', 14412), ('brainwashed', 1487), ('tinder', 13072), ('tedsummit', 12828), ('brexit', 1528), ('intergenerational', 6769), ('populism', 9685), ('tedchris', 12810), ('tedxmilehigh', 12839), ('ofer', 8784), ('addison', 172), ('otherin', 8956), ('palomares', 9121), ('otherwhat', 8961), ('larosa', 7257), ('otherimagine', 8955), ('otherif', 8954), ('gendler', 5411), ('bryce', 1598), ('otherwhen', 8962), ('otheras', 8952), ('otherthe', 8960), ('workplaywork', 14283), ('cem', 1921), ('misirlioglu', 8147), ('penpen', 9312), ('tedmerck', 12821), ('kgaa', 7136), ('darmstadt', 3146), ('su', 12415), ('othera', 8951), ('artrake', 756), ('otheron', 8959), ('iseult', 6935), ('rosenthal', 11041), ('otheryou', 8964), ('cabong', 1703), ('underhill', 13509), ('otherit', 8957), ('otherhow', 8953), ('bogaty', 1394), ('kozmonot', 7205), ('farkas', 4813), ('cutmorescott', 3087), ('wowhow', 14311), ('matheus', 7867), ('wittmann', 14248), ('biljana', 1240), ('labovic', 7216), ('julianna', 7076), ('zarzycki', 14405), ('tednas', 12822), ('covid', 2892)])"
      ]
     },
     "execution_count": 63,
     "metadata": {},
     "output_type": "execute_result"
    }
   ],
   "source": [
    "NLP_Vectors = tfidfvect.fit_transform(dataset_nlp['text_corpus']).toarray()\n",
    "     \n",
    "\n",
    "# collect the vocabulary items used in the vectorizer\n",
    "dictionary = tfidfvect.vocabulary_.items()\n",
    "dictionary"
   ]
  },
  {
   "cell_type": "code",
   "execution_count": 64,
   "id": "074f138e",
   "metadata": {},
   "outputs": [
    {
     "data": {
      "text/plain": [
       "(4005, 14425)"
      ]
     },
     "execution_count": 64,
     "metadata": {},
     "output_type": "execute_result"
    }
   ],
   "source": [
    "NLP_Vectors.shape"
   ]
  },
  {
   "cell_type": "code",
   "execution_count": 65,
   "id": "f680b123",
   "metadata": {},
   "outputs": [
    {
     "data": {
      "text/plain": [
       "14425"
      ]
     },
     "execution_count": 65,
     "metadata": {},
     "output_type": "execute_result"
    }
   ],
   "source": [
    "\n",
    "len(tfidfvect.get_feature_names())"
   ]
  },
  {
   "cell_type": "code",
   "execution_count": 66,
   "id": "bcaff490",
   "metadata": {},
   "outputs": [
    {
     "data": {
      "text/html": [
       "<div>\n",
       "<style scoped>\n",
       "    .dataframe tbody tr th:only-of-type {\n",
       "        vertical-align: middle;\n",
       "    }\n",
       "\n",
       "    .dataframe tbody tr th {\n",
       "        vertical-align: top;\n",
       "    }\n",
       "\n",
       "    .dataframe thead th {\n",
       "        text-align: right;\n",
       "    }\n",
       "</style>\n",
       "<table border=\"1\" class=\"dataframe\">\n",
       "  <thead>\n",
       "    <tr style=\"text-align: right;\">\n",
       "      <th></th>\n",
       "      <th>aaron</th>\n",
       "      <th>ab</th>\n",
       "      <th>aback</th>\n",
       "      <th>abandon</th>\n",
       "      <th>abandoned</th>\n",
       "      <th>abandoning</th>\n",
       "      <th>abc</th>\n",
       "      <th>abdomen</th>\n",
       "      <th>abdominal</th>\n",
       "      <th>abe</th>\n",
       "      <th>...</th>\n",
       "      <th>zinc</th>\n",
       "      <th>zip</th>\n",
       "      <th>zombie</th>\n",
       "      <th>zone</th>\n",
       "      <th>zoning</th>\n",
       "      <th>zoo</th>\n",
       "      <th>zoom</th>\n",
       "      <th>zooming</th>\n",
       "      <th>zuckerberg</th>\n",
       "      <th>zurich</th>\n",
       "    </tr>\n",
       "  </thead>\n",
       "  <tbody>\n",
       "    <tr>\n",
       "      <th>0</th>\n",
       "      <td>0.0</td>\n",
       "      <td>0.0</td>\n",
       "      <td>0.0</td>\n",
       "      <td>0.0</td>\n",
       "      <td>0.000000</td>\n",
       "      <td>0.0</td>\n",
       "      <td>0.0</td>\n",
       "      <td>0.0</td>\n",
       "      <td>0.0</td>\n",
       "      <td>0.0</td>\n",
       "      <td>...</td>\n",
       "      <td>0.0</td>\n",
       "      <td>0.000000</td>\n",
       "      <td>0.0</td>\n",
       "      <td>0.0</td>\n",
       "      <td>0.000000</td>\n",
       "      <td>0.0</td>\n",
       "      <td>0.0</td>\n",
       "      <td>0.0</td>\n",
       "      <td>0.0</td>\n",
       "      <td>0.0</td>\n",
       "    </tr>\n",
       "    <tr>\n",
       "      <th>1</th>\n",
       "      <td>0.0</td>\n",
       "      <td>0.0</td>\n",
       "      <td>0.0</td>\n",
       "      <td>0.0</td>\n",
       "      <td>0.000000</td>\n",
       "      <td>0.0</td>\n",
       "      <td>0.0</td>\n",
       "      <td>0.0</td>\n",
       "      <td>0.0</td>\n",
       "      <td>0.0</td>\n",
       "      <td>...</td>\n",
       "      <td>0.0</td>\n",
       "      <td>0.000000</td>\n",
       "      <td>0.0</td>\n",
       "      <td>0.0</td>\n",
       "      <td>0.000000</td>\n",
       "      <td>0.0</td>\n",
       "      <td>0.0</td>\n",
       "      <td>0.0</td>\n",
       "      <td>0.0</td>\n",
       "      <td>0.0</td>\n",
       "    </tr>\n",
       "    <tr>\n",
       "      <th>2</th>\n",
       "      <td>0.0</td>\n",
       "      <td>0.0</td>\n",
       "      <td>0.0</td>\n",
       "      <td>0.0</td>\n",
       "      <td>0.000000</td>\n",
       "      <td>0.0</td>\n",
       "      <td>0.0</td>\n",
       "      <td>0.0</td>\n",
       "      <td>0.0</td>\n",
       "      <td>0.0</td>\n",
       "      <td>...</td>\n",
       "      <td>0.0</td>\n",
       "      <td>0.000000</td>\n",
       "      <td>0.0</td>\n",
       "      <td>0.0</td>\n",
       "      <td>0.000000</td>\n",
       "      <td>0.0</td>\n",
       "      <td>0.0</td>\n",
       "      <td>0.0</td>\n",
       "      <td>0.0</td>\n",
       "      <td>0.0</td>\n",
       "    </tr>\n",
       "    <tr>\n",
       "      <th>3</th>\n",
       "      <td>0.0</td>\n",
       "      <td>0.0</td>\n",
       "      <td>0.0</td>\n",
       "      <td>0.0</td>\n",
       "      <td>0.032883</td>\n",
       "      <td>0.0</td>\n",
       "      <td>0.0</td>\n",
       "      <td>0.0</td>\n",
       "      <td>0.0</td>\n",
       "      <td>0.0</td>\n",
       "      <td>...</td>\n",
       "      <td>0.0</td>\n",
       "      <td>0.018965</td>\n",
       "      <td>0.0</td>\n",
       "      <td>0.0</td>\n",
       "      <td>0.044238</td>\n",
       "      <td>0.0</td>\n",
       "      <td>0.0</td>\n",
       "      <td>0.0</td>\n",
       "      <td>0.0</td>\n",
       "      <td>0.0</td>\n",
       "    </tr>\n",
       "    <tr>\n",
       "      <th>4</th>\n",
       "      <td>0.0</td>\n",
       "      <td>0.0</td>\n",
       "      <td>0.0</td>\n",
       "      <td>0.0</td>\n",
       "      <td>0.000000</td>\n",
       "      <td>0.0</td>\n",
       "      <td>0.0</td>\n",
       "      <td>0.0</td>\n",
       "      <td>0.0</td>\n",
       "      <td>0.0</td>\n",
       "      <td>...</td>\n",
       "      <td>0.0</td>\n",
       "      <td>0.000000</td>\n",
       "      <td>0.0</td>\n",
       "      <td>0.0</td>\n",
       "      <td>0.000000</td>\n",
       "      <td>0.0</td>\n",
       "      <td>0.0</td>\n",
       "      <td>0.0</td>\n",
       "      <td>0.0</td>\n",
       "      <td>0.0</td>\n",
       "    </tr>\n",
       "    <tr>\n",
       "      <th>...</th>\n",
       "      <td>...</td>\n",
       "      <td>...</td>\n",
       "      <td>...</td>\n",
       "      <td>...</td>\n",
       "      <td>...</td>\n",
       "      <td>...</td>\n",
       "      <td>...</td>\n",
       "      <td>...</td>\n",
       "      <td>...</td>\n",
       "      <td>...</td>\n",
       "      <td>...</td>\n",
       "      <td>...</td>\n",
       "      <td>...</td>\n",
       "      <td>...</td>\n",
       "      <td>...</td>\n",
       "      <td>...</td>\n",
       "      <td>...</td>\n",
       "      <td>...</td>\n",
       "      <td>...</td>\n",
       "      <td>...</td>\n",
       "      <td>...</td>\n",
       "    </tr>\n",
       "    <tr>\n",
       "      <th>4000</th>\n",
       "      <td>0.0</td>\n",
       "      <td>0.0</td>\n",
       "      <td>0.0</td>\n",
       "      <td>0.0</td>\n",
       "      <td>0.000000</td>\n",
       "      <td>0.0</td>\n",
       "      <td>0.0</td>\n",
       "      <td>0.0</td>\n",
       "      <td>0.0</td>\n",
       "      <td>0.0</td>\n",
       "      <td>...</td>\n",
       "      <td>0.0</td>\n",
       "      <td>0.000000</td>\n",
       "      <td>0.0</td>\n",
       "      <td>0.0</td>\n",
       "      <td>0.000000</td>\n",
       "      <td>0.0</td>\n",
       "      <td>0.0</td>\n",
       "      <td>0.0</td>\n",
       "      <td>0.0</td>\n",
       "      <td>0.0</td>\n",
       "    </tr>\n",
       "    <tr>\n",
       "      <th>4001</th>\n",
       "      <td>0.0</td>\n",
       "      <td>0.0</td>\n",
       "      <td>0.0</td>\n",
       "      <td>0.0</td>\n",
       "      <td>0.000000</td>\n",
       "      <td>0.0</td>\n",
       "      <td>0.0</td>\n",
       "      <td>0.0</td>\n",
       "      <td>0.0</td>\n",
       "      <td>0.0</td>\n",
       "      <td>...</td>\n",
       "      <td>0.0</td>\n",
       "      <td>0.000000</td>\n",
       "      <td>0.0</td>\n",
       "      <td>0.0</td>\n",
       "      <td>0.000000</td>\n",
       "      <td>0.0</td>\n",
       "      <td>0.0</td>\n",
       "      <td>0.0</td>\n",
       "      <td>0.0</td>\n",
       "      <td>0.0</td>\n",
       "    </tr>\n",
       "    <tr>\n",
       "      <th>4002</th>\n",
       "      <td>0.0</td>\n",
       "      <td>0.0</td>\n",
       "      <td>0.0</td>\n",
       "      <td>0.0</td>\n",
       "      <td>0.000000</td>\n",
       "      <td>0.0</td>\n",
       "      <td>0.0</td>\n",
       "      <td>0.0</td>\n",
       "      <td>0.0</td>\n",
       "      <td>0.0</td>\n",
       "      <td>...</td>\n",
       "      <td>0.0</td>\n",
       "      <td>0.000000</td>\n",
       "      <td>0.0</td>\n",
       "      <td>0.0</td>\n",
       "      <td>0.000000</td>\n",
       "      <td>0.0</td>\n",
       "      <td>0.0</td>\n",
       "      <td>0.0</td>\n",
       "      <td>0.0</td>\n",
       "      <td>0.0</td>\n",
       "    </tr>\n",
       "    <tr>\n",
       "      <th>4003</th>\n",
       "      <td>0.0</td>\n",
       "      <td>0.0</td>\n",
       "      <td>0.0</td>\n",
       "      <td>0.0</td>\n",
       "      <td>0.000000</td>\n",
       "      <td>0.0</td>\n",
       "      <td>0.0</td>\n",
       "      <td>0.0</td>\n",
       "      <td>0.0</td>\n",
       "      <td>0.0</td>\n",
       "      <td>...</td>\n",
       "      <td>0.0</td>\n",
       "      <td>0.000000</td>\n",
       "      <td>0.0</td>\n",
       "      <td>0.0</td>\n",
       "      <td>0.000000</td>\n",
       "      <td>0.0</td>\n",
       "      <td>0.0</td>\n",
       "      <td>0.0</td>\n",
       "      <td>0.0</td>\n",
       "      <td>0.0</td>\n",
       "    </tr>\n",
       "    <tr>\n",
       "      <th>4004</th>\n",
       "      <td>0.0</td>\n",
       "      <td>0.0</td>\n",
       "      <td>0.0</td>\n",
       "      <td>0.0</td>\n",
       "      <td>0.000000</td>\n",
       "      <td>0.0</td>\n",
       "      <td>0.0</td>\n",
       "      <td>0.0</td>\n",
       "      <td>0.0</td>\n",
       "      <td>0.0</td>\n",
       "      <td>...</td>\n",
       "      <td>0.0</td>\n",
       "      <td>0.000000</td>\n",
       "      <td>0.0</td>\n",
       "      <td>0.0</td>\n",
       "      <td>0.000000</td>\n",
       "      <td>0.0</td>\n",
       "      <td>0.0</td>\n",
       "      <td>0.0</td>\n",
       "      <td>0.0</td>\n",
       "      <td>0.0</td>\n",
       "    </tr>\n",
       "  </tbody>\n",
       "</table>\n",
       "<p>4005 rows × 14425 columns</p>\n",
       "</div>"
      ],
      "text/plain": [
       "      aaron   ab  aback  abandon  abandoned  abandoning  abc  abdomen  \\\n",
       "0       0.0  0.0    0.0      0.0   0.000000         0.0  0.0      0.0   \n",
       "1       0.0  0.0    0.0      0.0   0.000000         0.0  0.0      0.0   \n",
       "2       0.0  0.0    0.0      0.0   0.000000         0.0  0.0      0.0   \n",
       "3       0.0  0.0    0.0      0.0   0.032883         0.0  0.0      0.0   \n",
       "4       0.0  0.0    0.0      0.0   0.000000         0.0  0.0      0.0   \n",
       "...     ...  ...    ...      ...        ...         ...  ...      ...   \n",
       "4000    0.0  0.0    0.0      0.0   0.000000         0.0  0.0      0.0   \n",
       "4001    0.0  0.0    0.0      0.0   0.000000         0.0  0.0      0.0   \n",
       "4002    0.0  0.0    0.0      0.0   0.000000         0.0  0.0      0.0   \n",
       "4003    0.0  0.0    0.0      0.0   0.000000         0.0  0.0      0.0   \n",
       "4004    0.0  0.0    0.0      0.0   0.000000         0.0  0.0      0.0   \n",
       "\n",
       "      abdominal  abe  ...  zinc       zip  zombie  zone    zoning  zoo  zoom  \\\n",
       "0           0.0  0.0  ...   0.0  0.000000     0.0   0.0  0.000000  0.0   0.0   \n",
       "1           0.0  0.0  ...   0.0  0.000000     0.0   0.0  0.000000  0.0   0.0   \n",
       "2           0.0  0.0  ...   0.0  0.000000     0.0   0.0  0.000000  0.0   0.0   \n",
       "3           0.0  0.0  ...   0.0  0.018965     0.0   0.0  0.044238  0.0   0.0   \n",
       "4           0.0  0.0  ...   0.0  0.000000     0.0   0.0  0.000000  0.0   0.0   \n",
       "...         ...  ...  ...   ...       ...     ...   ...       ...  ...   ...   \n",
       "4000        0.0  0.0  ...   0.0  0.000000     0.0   0.0  0.000000  0.0   0.0   \n",
       "4001        0.0  0.0  ...   0.0  0.000000     0.0   0.0  0.000000  0.0   0.0   \n",
       "4002        0.0  0.0  ...   0.0  0.000000     0.0   0.0  0.000000  0.0   0.0   \n",
       "4003        0.0  0.0  ...   0.0  0.000000     0.0   0.0  0.000000  0.0   0.0   \n",
       "4004        0.0  0.0  ...   0.0  0.000000     0.0   0.0  0.000000  0.0   0.0   \n",
       "\n",
       "      zooming  zuckerberg  zurich  \n",
       "0         0.0         0.0     0.0  \n",
       "1         0.0         0.0     0.0  \n",
       "2         0.0         0.0     0.0  \n",
       "3         0.0         0.0     0.0  \n",
       "4         0.0         0.0     0.0  \n",
       "...       ...         ...     ...  \n",
       "4000      0.0         0.0     0.0  \n",
       "4001      0.0         0.0     0.0  \n",
       "4002      0.0         0.0     0.0  \n",
       "4003      0.0         0.0     0.0  \n",
       "4004      0.0         0.0     0.0  \n",
       "\n",
       "[4005 rows x 14425 columns]"
      ]
     },
     "execution_count": 66,
     "metadata": {},
     "output_type": "execute_result"
    }
   ],
   "source": [
    "NLP_Vectors_df = pd.DataFrame(NLP_Vectors , columns = tfidfvect.get_feature_names() , index = dataset_nlp.index )\n",
    "     \n",
    "NLP_Vectors_df "
   ]
  },
  {
   "cell_type": "code",
   "execution_count": 67,
   "id": "814a0224",
   "metadata": {},
   "outputs": [
    {
     "data": {
      "text/html": [
       "<div>\n",
       "<style scoped>\n",
       "    .dataframe tbody tr th:only-of-type {\n",
       "        vertical-align: middle;\n",
       "    }\n",
       "\n",
       "    .dataframe tbody tr th {\n",
       "        vertical-align: top;\n",
       "    }\n",
       "\n",
       "    .dataframe thead th {\n",
       "        text-align: right;\n",
       "    }\n",
       "</style>\n",
       "<table border=\"1\" class=\"dataframe\">\n",
       "  <thead>\n",
       "    <tr style=\"text-align: right;\">\n",
       "      <th></th>\n",
       "      <th>Unnamed: 0</th>\n",
       "      <th>daily_views</th>\n",
       "      <th>duration</th>\n",
       "      <th>event_TED-Ed_BE</th>\n",
       "      <th>days_taken_to_publish</th>\n",
       "      <th>time_since_published</th>\n",
       "      <th>text_corpus</th>\n",
       "      <th>aaron</th>\n",
       "      <th>ab</th>\n",
       "      <th>aback</th>\n",
       "      <th>...</th>\n",
       "      <th>zinc</th>\n",
       "      <th>zip</th>\n",
       "      <th>zombie</th>\n",
       "      <th>zone</th>\n",
       "      <th>zoning</th>\n",
       "      <th>zoo</th>\n",
       "      <th>zoom</th>\n",
       "      <th>zooming</th>\n",
       "      <th>zuckerberg</th>\n",
       "      <th>zurich</th>\n",
       "    </tr>\n",
       "  </thead>\n",
       "  <tbody>\n",
       "    <tr>\n",
       "      <th>0</th>\n",
       "      <td>0</td>\n",
       "      <td>696.735614</td>\n",
       "      <td>977</td>\n",
       "      <td>0</td>\n",
       "      <td>122 days</td>\n",
       "      <td>5056 days</td>\n",
       "      <td>alternative energy car climate change culture ...</td>\n",
       "      <td>0.0</td>\n",
       "      <td>0.0</td>\n",
       "      <td>0.0</td>\n",
       "      <td>...</td>\n",
       "      <td>0.0</td>\n",
       "      <td>0.0</td>\n",
       "      <td>0.0</td>\n",
       "      <td>0.0</td>\n",
       "      <td>0.0</td>\n",
       "      <td>0.0</td>\n",
       "      <td>0.0</td>\n",
       "      <td>0.0</td>\n",
       "      <td>0.0</td>\n",
       "      <td>0.0</td>\n",
       "    </tr>\n",
       "  </tbody>\n",
       "</table>\n",
       "<p>1 rows × 14432 columns</p>\n",
       "</div>"
      ],
      "text/plain": [
       "   Unnamed: 0  daily_views  duration  event_TED-Ed_BE days_taken_to_publish  \\\n",
       "0           0   696.735614       977                0              122 days   \n",
       "\n",
       "  time_since_published                                        text_corpus  \\\n",
       "0            5056 days  alternative energy car climate change culture ...   \n",
       "\n",
       "   aaron   ab  aback  ...  zinc  zip  zombie  zone  zoning  zoo  zoom  \\\n",
       "0    0.0  0.0    0.0  ...   0.0  0.0     0.0   0.0     0.0  0.0   0.0   \n",
       "\n",
       "   zooming  zuckerberg  zurich  \n",
       "0      0.0         0.0     0.0  \n",
       "\n",
       "[1 rows x 14432 columns]"
      ]
     },
     "execution_count": 67,
     "metadata": {},
     "output_type": "execute_result"
    }
   ],
   "source": [
    "#dataset_nlp#.merge(NLP_Vectors_df)\n",
    "ML_Features = pd.concat([dataset_nlp , NLP_Vectors_df ], axis=1)\n",
    "ML_Features.head(1)"
   ]
  },
  {
   "cell_type": "code",
   "execution_count": 68,
   "id": "e544f790",
   "metadata": {},
   "outputs": [],
   "source": [
    "ML_Features = ML_Features.drop(['text_corpus'] , axis=1)"
   ]
  },
  {
   "cell_type": "code",
   "execution_count": 69,
   "id": "d18686d5",
   "metadata": {},
   "outputs": [
    {
     "data": {
      "text/html": [
       "<div>\n",
       "<style scoped>\n",
       "    .dataframe tbody tr th:only-of-type {\n",
       "        vertical-align: middle;\n",
       "    }\n",
       "\n",
       "    .dataframe tbody tr th {\n",
       "        vertical-align: top;\n",
       "    }\n",
       "\n",
       "    .dataframe thead th {\n",
       "        text-align: right;\n",
       "    }\n",
       "</style>\n",
       "<table border=\"1\" class=\"dataframe\">\n",
       "  <thead>\n",
       "    <tr style=\"text-align: right;\">\n",
       "      <th></th>\n",
       "      <th>Unnamed: 0</th>\n",
       "      <th>daily_views</th>\n",
       "      <th>duration</th>\n",
       "      <th>event_TED-Ed_BE</th>\n",
       "      <th>days_taken_to_publish</th>\n",
       "      <th>time_since_published</th>\n",
       "      <th>aaron</th>\n",
       "      <th>ab</th>\n",
       "      <th>aback</th>\n",
       "      <th>abandon</th>\n",
       "      <th>...</th>\n",
       "      <th>zinc</th>\n",
       "      <th>zip</th>\n",
       "      <th>zombie</th>\n",
       "      <th>zone</th>\n",
       "      <th>zoning</th>\n",
       "      <th>zoo</th>\n",
       "      <th>zoom</th>\n",
       "      <th>zooming</th>\n",
       "      <th>zuckerberg</th>\n",
       "      <th>zurich</th>\n",
       "    </tr>\n",
       "  </thead>\n",
       "  <tbody>\n",
       "    <tr>\n",
       "      <th>0</th>\n",
       "      <td>0</td>\n",
       "      <td>696.735614</td>\n",
       "      <td>977</td>\n",
       "      <td>0</td>\n",
       "      <td>122 days</td>\n",
       "      <td>5056 days</td>\n",
       "      <td>0.0</td>\n",
       "      <td>0.0</td>\n",
       "      <td>0.0</td>\n",
       "      <td>0.0</td>\n",
       "      <td>...</td>\n",
       "      <td>0.0</td>\n",
       "      <td>0.0</td>\n",
       "      <td>0.0</td>\n",
       "      <td>0.0</td>\n",
       "      <td>0.0</td>\n",
       "      <td>0.0</td>\n",
       "      <td>0.0</td>\n",
       "      <td>0.0</td>\n",
       "      <td>0.0</td>\n",
       "      <td>0.0</td>\n",
       "    </tr>\n",
       "  </tbody>\n",
       "</table>\n",
       "<p>1 rows × 14431 columns</p>\n",
       "</div>"
      ],
      "text/plain": [
       "   Unnamed: 0  daily_views  duration  event_TED-Ed_BE days_taken_to_publish  \\\n",
       "0           0   696.735614       977                0              122 days   \n",
       "\n",
       "  time_since_published  aaron   ab  aback  abandon  ...  zinc  zip  zombie  \\\n",
       "0            5056 days    0.0  0.0    0.0      0.0  ...   0.0  0.0     0.0   \n",
       "\n",
       "   zone  zoning  zoo  zoom  zooming  zuckerberg  zurich  \n",
       "0   0.0     0.0  0.0   0.0      0.0         0.0     0.0  \n",
       "\n",
       "[1 rows x 14431 columns]"
      ]
     },
     "execution_count": 69,
     "metadata": {},
     "output_type": "execute_result"
    }
   ],
   "source": [
    "df=ML_Features.copy()\n",
    "     \n",
    "\n",
    "df.head(1)"
   ]
  },
  {
   "cell_type": "markdown",
   "id": "b57e5fc5",
   "metadata": {},
   "source": [
    "### Separating the dependent and independent variables"
   ]
  },
  {
   "cell_type": "code",
   "execution_count": 70,
   "id": "850e73c8",
   "metadata": {},
   "outputs": [],
   "source": [
    "#separating the dependent and independent variables\n",
    "y=df['daily_views']\n",
    "X=df.drop(columns='daily_views')"
   ]
  },
  {
   "cell_type": "markdown",
   "id": "9a0cd518",
   "metadata": {},
   "source": [
    "### one hot encoding"
   ]
  },
  {
   "cell_type": "code",
   "execution_count": 71,
   "id": "4148baef",
   "metadata": {},
   "outputs": [
    {
     "data": {
      "text/plain": [
       "(4005, 18315)"
      ]
     },
     "execution_count": 71,
     "metadata": {},
     "output_type": "execute_result"
    }
   ],
   "source": [
    "#one hot encoding on categorical features\n",
    "X=pd.get_dummies(X)\n",
    "X.shape"
   ]
  },
  {
   "cell_type": "code",
   "execution_count": 72,
   "id": "bea7a39b",
   "metadata": {},
   "outputs": [
    {
     "data": {
      "text/plain": [
       "duration    0\n",
       "duration    0\n",
       "dtype: int64"
      ]
     },
     "execution_count": 72,
     "metadata": {},
     "output_type": "execute_result"
    }
   ],
   "source": [
    "\n",
    "#checking for null values\n",
    "X[['duration']].isna().sum()"
   ]
  },
  {
   "cell_type": "code",
   "execution_count": 73,
   "id": "e47dbb96",
   "metadata": {},
   "outputs": [
    {
     "data": {
      "text/html": [
       "<div>\n",
       "<style scoped>\n",
       "    .dataframe tbody tr th:only-of-type {\n",
       "        vertical-align: middle;\n",
       "    }\n",
       "\n",
       "    .dataframe tbody tr th {\n",
       "        vertical-align: top;\n",
       "    }\n",
       "\n",
       "    .dataframe thead th {\n",
       "        text-align: right;\n",
       "    }\n",
       "</style>\n",
       "<table border=\"1\" class=\"dataframe\">\n",
       "  <thead>\n",
       "    <tr style=\"text-align: right;\">\n",
       "      <th></th>\n",
       "      <th>Unnamed: 0</th>\n",
       "      <th>duration</th>\n",
       "      <th>event_TED-Ed_BE</th>\n",
       "      <th>aaron</th>\n",
       "      <th>ab</th>\n",
       "      <th>aback</th>\n",
       "      <th>abandon</th>\n",
       "      <th>abandoned</th>\n",
       "      <th>abandoning</th>\n",
       "      <th>abc</th>\n",
       "      <th>...</th>\n",
       "      <th>time_since_published_987 days</th>\n",
       "      <th>time_since_published_988 days</th>\n",
       "      <th>time_since_published_989 days</th>\n",
       "      <th>time_since_published_99 days</th>\n",
       "      <th>time_since_published_990 days</th>\n",
       "      <th>time_since_published_993 days</th>\n",
       "      <th>time_since_published_994 days</th>\n",
       "      <th>time_since_published_995 days</th>\n",
       "      <th>time_since_published_996 days</th>\n",
       "      <th>time_since_published_997 days</th>\n",
       "    </tr>\n",
       "  </thead>\n",
       "  <tbody>\n",
       "    <tr>\n",
       "      <th>0</th>\n",
       "      <td>0</td>\n",
       "      <td>977</td>\n",
       "      <td>0</td>\n",
       "      <td>0.0</td>\n",
       "      <td>0.0</td>\n",
       "      <td>0.0</td>\n",
       "      <td>0.0</td>\n",
       "      <td>0.000000</td>\n",
       "      <td>0.0</td>\n",
       "      <td>0.0</td>\n",
       "      <td>...</td>\n",
       "      <td>0</td>\n",
       "      <td>0</td>\n",
       "      <td>0</td>\n",
       "      <td>0</td>\n",
       "      <td>0</td>\n",
       "      <td>0</td>\n",
       "      <td>0</td>\n",
       "      <td>0</td>\n",
       "      <td>0</td>\n",
       "      <td>0</td>\n",
       "    </tr>\n",
       "    <tr>\n",
       "      <th>1</th>\n",
       "      <td>1</td>\n",
       "      <td>1190</td>\n",
       "      <td>0</td>\n",
       "      <td>0.0</td>\n",
       "      <td>0.0</td>\n",
       "      <td>0.0</td>\n",
       "      <td>0.0</td>\n",
       "      <td>0.000000</td>\n",
       "      <td>0.0</td>\n",
       "      <td>0.0</td>\n",
       "      <td>...</td>\n",
       "      <td>0</td>\n",
       "      <td>0</td>\n",
       "      <td>0</td>\n",
       "      <td>0</td>\n",
       "      <td>0</td>\n",
       "      <td>0</td>\n",
       "      <td>0</td>\n",
       "      <td>0</td>\n",
       "      <td>0</td>\n",
       "      <td>0</td>\n",
       "    </tr>\n",
       "    <tr>\n",
       "      <th>2</th>\n",
       "      <td>2</td>\n",
       "      <td>1286</td>\n",
       "      <td>0</td>\n",
       "      <td>0.0</td>\n",
       "      <td>0.0</td>\n",
       "      <td>0.0</td>\n",
       "      <td>0.0</td>\n",
       "      <td>0.000000</td>\n",
       "      <td>0.0</td>\n",
       "      <td>0.0</td>\n",
       "      <td>...</td>\n",
       "      <td>0</td>\n",
       "      <td>0</td>\n",
       "      <td>0</td>\n",
       "      <td>0</td>\n",
       "      <td>0</td>\n",
       "      <td>0</td>\n",
       "      <td>0</td>\n",
       "      <td>0</td>\n",
       "      <td>0</td>\n",
       "      <td>0</td>\n",
       "    </tr>\n",
       "    <tr>\n",
       "      <th>3</th>\n",
       "      <td>3</td>\n",
       "      <td>1116</td>\n",
       "      <td>0</td>\n",
       "      <td>0.0</td>\n",
       "      <td>0.0</td>\n",
       "      <td>0.0</td>\n",
       "      <td>0.0</td>\n",
       "      <td>0.032883</td>\n",
       "      <td>0.0</td>\n",
       "      <td>0.0</td>\n",
       "      <td>...</td>\n",
       "      <td>0</td>\n",
       "      <td>0</td>\n",
       "      <td>0</td>\n",
       "      <td>0</td>\n",
       "      <td>0</td>\n",
       "      <td>0</td>\n",
       "      <td>0</td>\n",
       "      <td>0</td>\n",
       "      <td>0</td>\n",
       "      <td>0</td>\n",
       "    </tr>\n",
       "    <tr>\n",
       "      <th>4</th>\n",
       "      <td>4</td>\n",
       "      <td>1164</td>\n",
       "      <td>0</td>\n",
       "      <td>0.0</td>\n",
       "      <td>0.0</td>\n",
       "      <td>0.0</td>\n",
       "      <td>0.0</td>\n",
       "      <td>0.000000</td>\n",
       "      <td>0.0</td>\n",
       "      <td>0.0</td>\n",
       "      <td>...</td>\n",
       "      <td>0</td>\n",
       "      <td>0</td>\n",
       "      <td>0</td>\n",
       "      <td>0</td>\n",
       "      <td>0</td>\n",
       "      <td>0</td>\n",
       "      <td>0</td>\n",
       "      <td>0</td>\n",
       "      <td>0</td>\n",
       "      <td>0</td>\n",
       "    </tr>\n",
       "  </tbody>\n",
       "</table>\n",
       "<p>5 rows × 18315 columns</p>\n",
       "</div>"
      ],
      "text/plain": [
       "   Unnamed: 0  duration  event_TED-Ed_BE  aaron   ab  aback  abandon  \\\n",
       "0           0       977                0    0.0  0.0    0.0      0.0   \n",
       "1           1      1190                0    0.0  0.0    0.0      0.0   \n",
       "2           2      1286                0    0.0  0.0    0.0      0.0   \n",
       "3           3      1116                0    0.0  0.0    0.0      0.0   \n",
       "4           4      1164                0    0.0  0.0    0.0      0.0   \n",
       "\n",
       "   abandoned  abandoning  abc  ...  time_since_published_987 days  \\\n",
       "0   0.000000         0.0  0.0  ...                              0   \n",
       "1   0.000000         0.0  0.0  ...                              0   \n",
       "2   0.000000         0.0  0.0  ...                              0   \n",
       "3   0.032883         0.0  0.0  ...                              0   \n",
       "4   0.000000         0.0  0.0  ...                              0   \n",
       "\n",
       "   time_since_published_988 days  time_since_published_989 days  \\\n",
       "0                              0                              0   \n",
       "1                              0                              0   \n",
       "2                              0                              0   \n",
       "3                              0                              0   \n",
       "4                              0                              0   \n",
       "\n",
       "   time_since_published_99 days  time_since_published_990 days  \\\n",
       "0                             0                              0   \n",
       "1                             0                              0   \n",
       "2                             0                              0   \n",
       "3                             0                              0   \n",
       "4                             0                              0   \n",
       "\n",
       "   time_since_published_993 days  time_since_published_994 days  \\\n",
       "0                              0                              0   \n",
       "1                              0                              0   \n",
       "2                              0                              0   \n",
       "3                              0                              0   \n",
       "4                              0                              0   \n",
       "\n",
       "   time_since_published_995 days  time_since_published_996 days  \\\n",
       "0                              0                              0   \n",
       "1                              0                              0   \n",
       "2                              0                              0   \n",
       "3                              0                              0   \n",
       "4                              0                              0   \n",
       "\n",
       "   time_since_published_997 days  \n",
       "0                              0  \n",
       "1                              0  \n",
       "2                              0  \n",
       "3                              0  \n",
       "4                              0  \n",
       "\n",
       "[5 rows x 18315 columns]"
      ]
     },
     "execution_count": 73,
     "metadata": {},
     "output_type": "execute_result"
    }
   ],
   "source": [
    "\n",
    "X.head()"
   ]
  },
  {
   "cell_type": "markdown",
   "id": "0a23780a",
   "metadata": {},
   "source": [
    "### Model Building"
   ]
  },
  {
   "cell_type": "code",
   "execution_count": 74,
   "id": "bb9d2b14",
   "metadata": {},
   "outputs": [],
   "source": [
    "import xgboost as xgb\n",
    "xgb_model= xgb.XGBRegressor(objective=\"reg:squarederror\")"
   ]
  },
  {
   "cell_type": "code",
   "execution_count": 78,
   "id": "a3282bd2",
   "metadata": {},
   "outputs": [],
   "source": [
    "X= ML_Features[['duration', 'year', 'day','event_TED-Ed_BE']]"
   ]
  },
  {
   "cell_type": "code",
   "execution_count": 79,
   "id": "0472dd87",
   "metadata": {},
   "outputs": [],
   "source": [
    "from sklearn.preprocessing import StandardScaler\n",
    "Scaler= StandardScaler()\n",
    "     "
   ]
  },
  {
   "cell_type": "code",
   "execution_count": 82,
   "id": "c7a1f928",
   "metadata": {},
   "outputs": [
    {
     "data": {
      "text/html": [
       "<style>#sk-container-id-1 {color: black;background-color: white;}#sk-container-id-1 pre{padding: 0;}#sk-container-id-1 div.sk-toggleable {background-color: white;}#sk-container-id-1 label.sk-toggleable__label {cursor: pointer;display: block;width: 100%;margin-bottom: 0;padding: 0.3em;box-sizing: border-box;text-align: center;}#sk-container-id-1 label.sk-toggleable__label-arrow:before {content: \"▸\";float: left;margin-right: 0.25em;color: #696969;}#sk-container-id-1 label.sk-toggleable__label-arrow:hover:before {color: black;}#sk-container-id-1 div.sk-estimator:hover label.sk-toggleable__label-arrow:before {color: black;}#sk-container-id-1 div.sk-toggleable__content {max-height: 0;max-width: 0;overflow: hidden;text-align: left;background-color: #f0f8ff;}#sk-container-id-1 div.sk-toggleable__content pre {margin: 0.2em;color: black;border-radius: 0.25em;background-color: #f0f8ff;}#sk-container-id-1 input.sk-toggleable__control:checked~div.sk-toggleable__content {max-height: 200px;max-width: 100%;overflow: auto;}#sk-container-id-1 input.sk-toggleable__control:checked~label.sk-toggleable__label-arrow:before {content: \"▾\";}#sk-container-id-1 div.sk-estimator input.sk-toggleable__control:checked~label.sk-toggleable__label {background-color: #d4ebff;}#sk-container-id-1 div.sk-label input.sk-toggleable__control:checked~label.sk-toggleable__label {background-color: #d4ebff;}#sk-container-id-1 input.sk-hidden--visually {border: 0;clip: rect(1px 1px 1px 1px);clip: rect(1px, 1px, 1px, 1px);height: 1px;margin: -1px;overflow: hidden;padding: 0;position: absolute;width: 1px;}#sk-container-id-1 div.sk-estimator {font-family: monospace;background-color: #f0f8ff;border: 1px dotted black;border-radius: 0.25em;box-sizing: border-box;margin-bottom: 0.5em;}#sk-container-id-1 div.sk-estimator:hover {background-color: #d4ebff;}#sk-container-id-1 div.sk-parallel-item::after {content: \"\";width: 100%;border-bottom: 1px solid gray;flex-grow: 1;}#sk-container-id-1 div.sk-label:hover label.sk-toggleable__label {background-color: #d4ebff;}#sk-container-id-1 div.sk-serial::before {content: \"\";position: absolute;border-left: 1px solid gray;box-sizing: border-box;top: 0;bottom: 0;left: 50%;z-index: 0;}#sk-container-id-1 div.sk-serial {display: flex;flex-direction: column;align-items: center;background-color: white;padding-right: 0.2em;padding-left: 0.2em;position: relative;}#sk-container-id-1 div.sk-item {position: relative;z-index: 1;}#sk-container-id-1 div.sk-parallel {display: flex;align-items: stretch;justify-content: center;background-color: white;position: relative;}#sk-container-id-1 div.sk-item::before, #sk-container-id-1 div.sk-parallel-item::before {content: \"\";position: absolute;border-left: 1px solid gray;box-sizing: border-box;top: 0;bottom: 0;left: 50%;z-index: -1;}#sk-container-id-1 div.sk-parallel-item {display: flex;flex-direction: column;z-index: 1;position: relative;background-color: white;}#sk-container-id-1 div.sk-parallel-item:first-child::after {align-self: flex-end;width: 50%;}#sk-container-id-1 div.sk-parallel-item:last-child::after {align-self: flex-start;width: 50%;}#sk-container-id-1 div.sk-parallel-item:only-child::after {width: 0;}#sk-container-id-1 div.sk-dashed-wrapped {border: 1px dashed gray;margin: 0 0.4em 0.5em 0.4em;box-sizing: border-box;padding-bottom: 0.4em;background-color: white;}#sk-container-id-1 div.sk-label label {font-family: monospace;font-weight: bold;display: inline-block;line-height: 1.2em;}#sk-container-id-1 div.sk-label-container {text-align: center;}#sk-container-id-1 div.sk-container {/* jupyter's `normalize.less` sets `[hidden] { display: none; }` but bootstrap.min.css set `[hidden] { display: none !important; }` so we also need the `!important` here to be able to override the default hidden behavior on the sphinx rendered scikit-learn.org. See: https://github.com/scikit-learn/scikit-learn/issues/21755 */display: inline-block !important;position: relative;}#sk-container-id-1 div.sk-text-repr-fallback {display: none;}</style><div id=\"sk-container-id-1\" class=\"sk-top-container\"><div class=\"sk-text-repr-fallback\"><pre>XGBRegressor(base_score=0.5, booster=&#x27;gbtree&#x27;, callbacks=None,\n",
       "             colsample_bylevel=1, colsample_bynode=1, colsample_bytree=1,\n",
       "             early_stopping_rounds=None, enable_categorical=False,\n",
       "             eval_metric=None, gamma=0, gpu_id=-1, grow_policy=&#x27;depthwise&#x27;,\n",
       "             importance_type=None, interaction_constraints=&#x27;&#x27;,\n",
       "             learning_rate=0.300000012, max_bin=256, max_cat_to_onehot=4,\n",
       "             max_delta_step=0, max_depth=6, max_leaves=0, min_child_weight=1,\n",
       "             missing=nan, monotone_constraints=&#x27;()&#x27;, n_estimators=100, n_jobs=0,\n",
       "             num_parallel_tree=1, predictor=&#x27;auto&#x27;, random_state=0, reg_alpha=0,\n",
       "             reg_lambda=1, ...)</pre><b>In a Jupyter environment, please rerun this cell to show the HTML representation or trust the notebook. <br />On GitHub, the HTML representation is unable to render, please try loading this page with nbviewer.org.</b></div><div class=\"sk-container\" hidden><div class=\"sk-item\"><div class=\"sk-estimator sk-toggleable\"><input class=\"sk-toggleable__control sk-hidden--visually\" id=\"sk-estimator-id-1\" type=\"checkbox\" checked><label for=\"sk-estimator-id-1\" class=\"sk-toggleable__label sk-toggleable__label-arrow\">XGBRegressor</label><div class=\"sk-toggleable__content\"><pre>XGBRegressor(base_score=0.5, booster=&#x27;gbtree&#x27;, callbacks=None,\n",
       "             colsample_bylevel=1, colsample_bynode=1, colsample_bytree=1,\n",
       "             early_stopping_rounds=None, enable_categorical=False,\n",
       "             eval_metric=None, gamma=0, gpu_id=-1, grow_policy=&#x27;depthwise&#x27;,\n",
       "             importance_type=None, interaction_constraints=&#x27;&#x27;,\n",
       "             learning_rate=0.300000012, max_bin=256, max_cat_to_onehot=4,\n",
       "             max_delta_step=0, max_depth=6, max_leaves=0, min_child_weight=1,\n",
       "             missing=nan, monotone_constraints=&#x27;()&#x27;, n_estimators=100, n_jobs=0,\n",
       "             num_parallel_tree=1, predictor=&#x27;auto&#x27;, random_state=0, reg_alpha=0,\n",
       "             reg_lambda=1, ...)</pre></div></div></div></div></div>"
      ],
      "text/plain": [
       "XGBRegressor(base_score=0.5, booster='gbtree', callbacks=None,\n",
       "             colsample_bylevel=1, colsample_bynode=1, colsample_bytree=1,\n",
       "             early_stopping_rounds=None, enable_categorical=False,\n",
       "             eval_metric=None, gamma=0, gpu_id=-1, grow_policy='depthwise',\n",
       "             importance_type=None, interaction_constraints='',\n",
       "             learning_rate=0.300000012, max_bin=256, max_cat_to_onehot=4,\n",
       "             max_delta_step=0, max_depth=6, max_leaves=0, min_child_weight=1,\n",
       "             missing=nan, monotone_constraints='()', n_estimators=100, n_jobs=0,\n",
       "             num_parallel_tree=1, predictor='auto', random_state=0, reg_alpha=0,\n",
       "             reg_lambda=1, ...)"
      ]
     },
     "execution_count": 82,
     "metadata": {},
     "output_type": "execute_result"
    }
   ],
   "source": [
    "X_train, X_test, y_train, y_test= train_test_split(X, y,  test_size= 0.20, random_state= 5)\n",
    "     \n",
    "\n",
    "xgb_model.fit(X_train, y_train)"
   ]
  },
  {
   "cell_type": "code",
   "execution_count": 83,
   "id": "facccf02",
   "metadata": {},
   "outputs": [
    {
     "data": {
      "text/plain": [
       "0.9999979733167507"
      ]
     },
     "execution_count": 83,
     "metadata": {},
     "output_type": "execute_result"
    }
   ],
   "source": [
    "xgb_r2_train=xgb_model.score(X_train, y_train)\n",
    "xgb_r2_train"
   ]
  },
  {
   "cell_type": "code",
   "execution_count": 84,
   "id": "d3da5350",
   "metadata": {},
   "outputs": [
    {
     "data": {
      "text/plain": [
       "0.9964676036795754"
      ]
     },
     "execution_count": 84,
     "metadata": {},
     "output_type": "execute_result"
    }
   ],
   "source": [
    "xgb_r2_test= xgb_model.score(X_test, y_test)\n",
    "xgb_r2_test"
   ]
  },
  {
   "cell_type": "markdown",
   "id": "6fe12c03",
   "metadata": {},
   "source": [
    "- the score is 0.99, which means that the model's predictions have an **MSE of 0.99**. This is a relatively small MSE, which suggests that the **model is making accurate predictions.**"
   ]
  },
  {
   "cell_type": "code",
   "execution_count": 85,
   "id": "e62ac1b7",
   "metadata": {},
   "outputs": [],
   "source": [
    "xgb_y_train_pred= xgb_model.predict(X_train)\n",
    "xgb_y_test_pred= xgb_model.predict(X_test)\n",
    "     \n",
    "\n",
    "from sklearn.metrics import mean_absolute_error\n",
    "from sklearn.metrics import mean_squared_error"
   ]
  },
  {
   "cell_type": "code",
   "execution_count": 86,
   "id": "024d62d8",
   "metadata": {},
   "outputs": [
    {
     "data": {
      "text/plain": [
       "6.963720784862321"
      ]
     },
     "execution_count": 86,
     "metadata": {},
     "output_type": "execute_result"
    }
   ],
   "source": [
    "\n",
    "mean_absolute_error(y_train,xgb_y_train_pred)"
   ]
  },
  {
   "cell_type": "code",
   "execution_count": 87,
   "id": "12e34fdd",
   "metadata": {},
   "outputs": [
    {
     "data": {
      "text/plain": [
       "48.863533037322064"
      ]
     },
     "execution_count": 87,
     "metadata": {},
     "output_type": "execute_result"
    }
   ],
   "source": [
    "mean_absolute_error(y_test, xgb_y_test_pred)"
   ]
  },
  {
   "cell_type": "markdown",
   "id": "8904092b",
   "metadata": {},
   "source": [
    "- the mean absolute error on the training data is 6.96, which means that the model's predictions are, on average, off by about 6.96 on the training data. The mean absolute error on the test data is 48.8, which means that the model's predictions are, on average, off by about 48.8 on the test data\n",
    "\n",
    "\n",
    "- A lower MAE value indicates a better fit and more accurate predictions. In this case, the MAE on the training data is much lower than the MAE on the test data, which suggests that the model is overfitting the training data and may not generalize well to new data. "
   ]
  },
  {
   "cell_type": "code",
   "execution_count": 88,
   "id": "09ac3459",
   "metadata": {},
   "outputs": [
    {
     "data": {
      "text/plain": [
       "10.929729673404356"
      ]
     },
     "execution_count": 88,
     "metadata": {},
     "output_type": "execute_result"
    }
   ],
   "source": [
    "import math\n",
    "     \n",
    "\n",
    "xgb_rmse_train = math.sqrt(mean_squared_error(y_train,xgb_y_train_pred))\n",
    "xgb_rmse_train"
   ]
  },
  {
   "cell_type": "code",
   "execution_count": 89,
   "id": "6f277332",
   "metadata": {},
   "outputs": [
    {
     "name": "stdout",
     "output_type": "stream",
     "text": [
      "0:\tlearn: 5321.0647956\ttotal: 159ms\tremaining: 7.78s\n",
      "1:\tlearn: 3640.1750920\ttotal: 176ms\tremaining: 4.23s\n",
      "2:\tlearn: 2864.0544809\ttotal: 195ms\tremaining: 3.05s\n",
      "3:\tlearn: 2065.7006271\ttotal: 215ms\tremaining: 2.47s\n",
      "4:\tlearn: 1659.8056580\ttotal: 235ms\tremaining: 2.11s\n",
      "5:\tlearn: 1359.2139325\ttotal: 254ms\tremaining: 1.86s\n",
      "6:\tlearn: 1201.0248553\ttotal: 274ms\tremaining: 1.68s\n",
      "7:\tlearn: 1009.1114135\ttotal: 294ms\tremaining: 1.54s\n",
      "8:\tlearn: 912.3432614\ttotal: 316ms\tremaining: 1.44s\n",
      "9:\tlearn: 814.6974053\ttotal: 336ms\tremaining: 1.34s\n",
      "10:\tlearn: 666.9888572\ttotal: 358ms\tremaining: 1.27s\n",
      "11:\tlearn: 615.9643220\ttotal: 384ms\tremaining: 1.21s\n",
      "12:\tlearn: 572.7886010\ttotal: 407ms\tremaining: 1.16s\n",
      "13:\tlearn: 484.0987615\ttotal: 429ms\tremaining: 1.1s\n",
      "14:\tlearn: 454.9352535\ttotal: 456ms\tremaining: 1.06s\n",
      "15:\tlearn: 433.1870999\ttotal: 480ms\tremaining: 1.02s\n",
      "16:\tlearn: 416.4206501\ttotal: 503ms\tremaining: 976ms\n",
      "17:\tlearn: 360.0885353\ttotal: 525ms\tremaining: 934ms\n",
      "18:\tlearn: 343.6092679\ttotal: 547ms\tremaining: 893ms\n",
      "19:\tlearn: 309.0120115\ttotal: 572ms\tremaining: 858ms\n",
      "20:\tlearn: 295.7902392\ttotal: 597ms\tremaining: 824ms\n",
      "21:\tlearn: 268.7282952\ttotal: 620ms\tremaining: 789ms\n",
      "22:\tlearn: 253.4885559\ttotal: 642ms\tremaining: 753ms\n",
      "23:\tlearn: 233.8133953\ttotal: 666ms\tremaining: 722ms\n",
      "24:\tlearn: 225.8291126\ttotal: 690ms\tremaining: 690ms\n",
      "25:\tlearn: 218.7066493\ttotal: 713ms\tremaining: 658ms\n",
      "26:\tlearn: 205.1373941\ttotal: 736ms\tremaining: 627ms\n",
      "27:\tlearn: 192.2197935\ttotal: 758ms\tremaining: 596ms\n",
      "28:\tlearn: 184.1780318\ttotal: 783ms\tremaining: 567ms\n",
      "29:\tlearn: 174.6518665\ttotal: 808ms\tremaining: 539ms\n",
      "30:\tlearn: 169.7312191\ttotal: 832ms\tremaining: 510ms\n",
      "31:\tlearn: 165.5347325\ttotal: 855ms\tremaining: 481ms\n",
      "32:\tlearn: 159.0088970\ttotal: 903ms\tremaining: 465ms\n",
      "33:\tlearn: 152.8960928\ttotal: 935ms\tremaining: 440ms\n",
      "34:\tlearn: 146.0460882\ttotal: 960ms\tremaining: 411ms\n",
      "35:\tlearn: 142.1708422\ttotal: 984ms\tremaining: 383ms\n",
      "36:\tlearn: 138.0833373\ttotal: 1.01s\tremaining: 354ms\n",
      "37:\tlearn: 135.6872468\ttotal: 1.03s\tremaining: 326ms\n",
      "38:\tlearn: 131.9343775\ttotal: 1.06s\tremaining: 298ms\n",
      "39:\tlearn: 127.0593980\ttotal: 1.08s\tremaining: 270ms\n",
      "40:\tlearn: 123.2781980\ttotal: 1.1s\tremaining: 243ms\n",
      "41:\tlearn: 119.1138977\ttotal: 1.13s\tremaining: 215ms\n",
      "42:\tlearn: 115.8313372\ttotal: 1.16s\tremaining: 188ms\n",
      "43:\tlearn: 111.9553417\ttotal: 1.18s\tremaining: 161ms\n",
      "44:\tlearn: 109.1016759\ttotal: 1.21s\tremaining: 134ms\n",
      "45:\tlearn: 105.8576733\ttotal: 1.23s\tremaining: 107ms\n",
      "46:\tlearn: 104.4901771\ttotal: 1.26s\tremaining: 80.4ms\n",
      "47:\tlearn: 100.8526990\ttotal: 1.28s\tremaining: 53.5ms\n",
      "48:\tlearn: 98.6545021\ttotal: 1.31s\tremaining: 26.7ms\n",
      "49:\tlearn: 96.4027250\ttotal: 1.33s\tremaining: 0us\n"
     ]
    },
    {
     "data": {
      "text/plain": [
       "<catboost.core.CatBoostRegressor at 0x1e81826cfd0>"
      ]
     },
     "execution_count": 89,
     "metadata": {},
     "output_type": "execute_result"
    }
   ],
   "source": [
    "from catboost import CatBoostRegressor\n",
    "     \n",
    "\n",
    "model = CatBoostRegressor(iterations=50,\n",
    "                          learning_rate=0.6,\n",
    "                          depth=10)\n",
    "model.fit(X_train, y_train)"
   ]
  },
  {
   "cell_type": "code",
   "execution_count": 91,
   "id": "6408864f",
   "metadata": {},
   "outputs": [
    {
     "data": {
      "text/plain": [
       "0.9073034385420218"
      ]
     },
     "execution_count": 91,
     "metadata": {},
     "output_type": "execute_result"
    }
   ],
   "source": [
    "from sklearn.metrics import r2_score\n",
    "cat_y_train_pred= model.predict(X_train)\n",
    "cat_y_test_pred= model.predict(X_test)\n",
    "     \n",
    "\n",
    "cat_boost_r2_test = r2_score(y_test,cat_y_test_pred)\n",
    "cat_boost_r2_test"
   ]
  },
  {
   "cell_type": "markdown",
   "id": "3e4d9201",
   "metadata": {},
   "source": [
    "-  the **R-squared value is 0.907**, which means that the model explains about **90.7% of the variance in the data.**\n",
    "\n",
    "\n",
    "- **Note:** that a high R-squared value does not necessarily mean that the model is the best possible model for the data. It is possible to have a high R-squared value even if the model is overfitting the data or if the predictors are not meaningful"
   ]
  },
  {
   "cell_type": "code",
   "execution_count": 92,
   "id": "b08c5a9a",
   "metadata": {},
   "outputs": [
    {
     "data": {
      "text/plain": [
       "0.9998423312615744"
      ]
     },
     "execution_count": 92,
     "metadata": {},
     "output_type": "execute_result"
    }
   ],
   "source": [
    "cat_boost_r2_train=r2_score(y_train, cat_y_train_pred)\n",
    "cat_boost_r2_train"
   ]
  },
  {
   "cell_type": "code",
   "execution_count": 93,
   "id": "452647f8",
   "metadata": {},
   "outputs": [],
   "source": [
    "#fitting the model\n",
    "from sklearn.linear_model import LinearRegression\n",
    "reg = LinearRegression().fit(X_train, y_train)"
   ]
  },
  {
   "cell_type": "code",
   "execution_count": 94,
   "id": "618e38ca",
   "metadata": {},
   "outputs": [
    {
     "name": "stdout",
     "output_type": "stream",
     "text": [
      "MSE on test is 2.66955437218893e-23\n",
      "RMSE on test is 5.166773047259702e-12\n",
      "Training MAE: 0.00\n",
      "Test MAE: 0.00\n"
     ]
    }
   ],
   "source": [
    "\n",
    "#predicting the values for train and test set\n",
    "y_pred = reg.predict(X_train)\n",
    "y_test_pred = reg.predict(X_test)\n",
    "\n",
    "MSE  = mean_squared_error(y_test, y_test_pred)\n",
    "print(\"MSE on test is\" , MSE)\n",
    "\n",
    "RMSE = np.sqrt(MSE)\n",
    "print(\"RMSE on test is\" ,RMSE)\n",
    "\n",
    "y_pred = reg.predict(X_train)\n",
    "y_test_pred = reg.predict(X_test)\n",
    "print('Training MAE: {:0.2f}'.format(mean_absolute_error(y_train, y_pred)))\n",
    "print('Test MAE: {:0.2f}'.format(mean_absolute_error(y_test, y_test_pred)))"
   ]
  },
  {
   "cell_type": "markdown",
   "id": "2ff31107",
   "metadata": {},
   "source": [
    "- the **MSE on the test set is 2.66955437218893e-23 and the RMSE on the test set is 5.166773047259702e-12**. These values are very small, which suggests that the model is **making very accurate predictions.**\n",
    "\n",
    "\n",
    "- The **training MAE and test MAE are both 0.00, which means that the model's predictions are exactly correct on the training set and test set**. This is an exceptional performance and indicates that the model is likely to make accurate predictions on new data."
   ]
  },
  {
   "cell_type": "code",
   "execution_count": 98,
   "id": "07191f10",
   "metadata": {
    "scrolled": true
   },
   "outputs": [
    {
     "name": "stdout",
     "output_type": "stream",
     "text": [
      "Training MAE: 17.10\n",
      "Test MAE: 18.72\n",
      "Target mean: 3103.62\n",
      "Target std: 7463.26\n"
     ]
    }
   ],
   "source": [
    "from sklearn.ensemble import RandomForestRegressor\n",
    "import sklearn.metrics as metrics\n",
    "#applying RandomForestRegressor on default parameters\n",
    "rf = RandomForestRegressor(criterion='mae')\n",
    "rf.fit(X_train, y_train)\n",
    "y_pred = rf.predict(X_train)\n",
    "y_test_pred = rf.predict(X_test)\n",
    "print('Training MAE: {:0.2f}'.format(metrics.mean_absolute_error(y_train, y_pred)))\n",
    "print('Test MAE: {:0.2f}'.format(metrics.mean_absolute_error(y_test, y_test_pred)))\n",
    "print('Target mean: {:0.2f}'.format(y.mean()))\n",
    "print('Target std: {:0.2f}'.format(y.std()))"
   ]
  },
  {
   "cell_type": "markdown",
   "id": "19f57295",
   "metadata": {},
   "source": [
    "- the **training MAE is 17.10**, which means that the model's predictions are, on average, off by about 17.10. The **test MAE is 18.72**, which means that the model's predictions on the test set are, on average, off by about 18.72.\n",
    "\n",
    "\n",
    "- The target mean and target standard deviation give you some context for interpreting the MAE values. The target mean is the average value of the target variable in the training set, and the target standard deviation is a measure of the spread of the target variable.\n",
    "\n",
    "\n",
    "- If the MAE is small relative to the target mean and standard deviation, it means that the model's predictions are accurate. However, if the MAE is large relative to the target mean and standard deviation, it means that the model's predictions are not accurate and there is room for improvement.\n",
    "\n",
    "\n",
    "- In this case, **the MAE values are relatively large compared to the target mean and standard deviation**. This suggests that the **model's predictions are not very accurate** and there may be room for improvement\n"
   ]
  },
  {
   "cell_type": "markdown",
   "id": "1aa071d4",
   "metadata": {},
   "source": [
    "### Removing overfitting"
   ]
  },
  {
   "cell_type": "code",
   "execution_count": 99,
   "id": "e160603f",
   "metadata": {},
   "outputs": [],
   "source": [
    "#Random Forest Regressor param_dict\n",
    "n_estimators = [30,50,80,100,120,150]\n",
    "max_depth = [4,6,8,10,12]\n",
    "min_samples_split = [50,80,100,150,200]\n",
    "min_samples_leaf = [10,30,40,50,60,80]\n",
    "# HYperparameter Dict\n",
    "param_dict = {'n_estimators' : n_estimators,\n",
    "              'max_depth' : max_depth,\n",
    "              'min_samples_split' : min_samples_split,\n",
    "              'min_samples_leaf' : min_samples_leaf}\n",
    "#Random Forest Regressor param_dict\n",
    "n_estimators = [30,50,80,100,120,150]\n",
    "max_depth = [4,6,8,10,12]\n",
    "min_samples_split = [50,80,100,150,200]\n",
    "min_samples_leaf = [10,30,40,50,60,80]\n",
    "# HYperparameter Dict\n",
    "param_dict = {'n_estimators' : n_estimators,\n",
    "              'max_depth' : max_depth,\n",
    "              'min_samples_split' : min_samples_split,\n",
    "              'min_samples_leaf' : min_samples_leaf}"
   ]
  },
  {
   "cell_type": "code",
   "execution_count": 101,
   "id": "613afcb4",
   "metadata": {},
   "outputs": [
    {
     "data": {
      "text/html": [
       "<style>#sk-container-id-2 {color: black;background-color: white;}#sk-container-id-2 pre{padding: 0;}#sk-container-id-2 div.sk-toggleable {background-color: white;}#sk-container-id-2 label.sk-toggleable__label {cursor: pointer;display: block;width: 100%;margin-bottom: 0;padding: 0.3em;box-sizing: border-box;text-align: center;}#sk-container-id-2 label.sk-toggleable__label-arrow:before {content: \"▸\";float: left;margin-right: 0.25em;color: #696969;}#sk-container-id-2 label.sk-toggleable__label-arrow:hover:before {color: black;}#sk-container-id-2 div.sk-estimator:hover label.sk-toggleable__label-arrow:before {color: black;}#sk-container-id-2 div.sk-toggleable__content {max-height: 0;max-width: 0;overflow: hidden;text-align: left;background-color: #f0f8ff;}#sk-container-id-2 div.sk-toggleable__content pre {margin: 0.2em;color: black;border-radius: 0.25em;background-color: #f0f8ff;}#sk-container-id-2 input.sk-toggleable__control:checked~div.sk-toggleable__content {max-height: 200px;max-width: 100%;overflow: auto;}#sk-container-id-2 input.sk-toggleable__control:checked~label.sk-toggleable__label-arrow:before {content: \"▾\";}#sk-container-id-2 div.sk-estimator input.sk-toggleable__control:checked~label.sk-toggleable__label {background-color: #d4ebff;}#sk-container-id-2 div.sk-label input.sk-toggleable__control:checked~label.sk-toggleable__label {background-color: #d4ebff;}#sk-container-id-2 input.sk-hidden--visually {border: 0;clip: rect(1px 1px 1px 1px);clip: rect(1px, 1px, 1px, 1px);height: 1px;margin: -1px;overflow: hidden;padding: 0;position: absolute;width: 1px;}#sk-container-id-2 div.sk-estimator {font-family: monospace;background-color: #f0f8ff;border: 1px dotted black;border-radius: 0.25em;box-sizing: border-box;margin-bottom: 0.5em;}#sk-container-id-2 div.sk-estimator:hover {background-color: #d4ebff;}#sk-container-id-2 div.sk-parallel-item::after {content: \"\";width: 100%;border-bottom: 1px solid gray;flex-grow: 1;}#sk-container-id-2 div.sk-label:hover label.sk-toggleable__label {background-color: #d4ebff;}#sk-container-id-2 div.sk-serial::before {content: \"\";position: absolute;border-left: 1px solid gray;box-sizing: border-box;top: 0;bottom: 0;left: 50%;z-index: 0;}#sk-container-id-2 div.sk-serial {display: flex;flex-direction: column;align-items: center;background-color: white;padding-right: 0.2em;padding-left: 0.2em;position: relative;}#sk-container-id-2 div.sk-item {position: relative;z-index: 1;}#sk-container-id-2 div.sk-parallel {display: flex;align-items: stretch;justify-content: center;background-color: white;position: relative;}#sk-container-id-2 div.sk-item::before, #sk-container-id-2 div.sk-parallel-item::before {content: \"\";position: absolute;border-left: 1px solid gray;box-sizing: border-box;top: 0;bottom: 0;left: 50%;z-index: -1;}#sk-container-id-2 div.sk-parallel-item {display: flex;flex-direction: column;z-index: 1;position: relative;background-color: white;}#sk-container-id-2 div.sk-parallel-item:first-child::after {align-self: flex-end;width: 50%;}#sk-container-id-2 div.sk-parallel-item:last-child::after {align-self: flex-start;width: 50%;}#sk-container-id-2 div.sk-parallel-item:only-child::after {width: 0;}#sk-container-id-2 div.sk-dashed-wrapped {border: 1px dashed gray;margin: 0 0.4em 0.5em 0.4em;box-sizing: border-box;padding-bottom: 0.4em;background-color: white;}#sk-container-id-2 div.sk-label label {font-family: monospace;font-weight: bold;display: inline-block;line-height: 1.2em;}#sk-container-id-2 div.sk-label-container {text-align: center;}#sk-container-id-2 div.sk-container {/* jupyter's `normalize.less` sets `[hidden] { display: none; }` but bootstrap.min.css set `[hidden] { display: none !important; }` so we also need the `!important` here to be able to override the default hidden behavior on the sphinx rendered scikit-learn.org. See: https://github.com/scikit-learn/scikit-learn/issues/21755 */display: inline-block !important;position: relative;}#sk-container-id-2 div.sk-text-repr-fallback {display: none;}</style><div id=\"sk-container-id-2\" class=\"sk-top-container\"><div class=\"sk-text-repr-fallback\"><pre>RandomizedSearchCV(cv=5, estimator=RandomForestRegressor(criterion=&#x27;mae&#x27;),\n",
       "                   param_distributions={&#x27;max_depth&#x27;: [4, 6, 8, 10, 12],\n",
       "                                        &#x27;min_samples_leaf&#x27;: [10, 30, 40, 50, 60,\n",
       "                                                             80],\n",
       "                                        &#x27;min_samples_split&#x27;: [50, 80, 100, 150,\n",
       "                                                              200],\n",
       "                                        &#x27;n_estimators&#x27;: [30, 50, 80, 100, 120,\n",
       "                                                         150]})</pre><b>In a Jupyter environment, please rerun this cell to show the HTML representation or trust the notebook. <br />On GitHub, the HTML representation is unable to render, please try loading this page with nbviewer.org.</b></div><div class=\"sk-container\" hidden><div class=\"sk-item sk-dashed-wrapped\"><div class=\"sk-label-container\"><div class=\"sk-label sk-toggleable\"><input class=\"sk-toggleable__control sk-hidden--visually\" id=\"sk-estimator-id-2\" type=\"checkbox\" ><label for=\"sk-estimator-id-2\" class=\"sk-toggleable__label sk-toggleable__label-arrow\">RandomizedSearchCV</label><div class=\"sk-toggleable__content\"><pre>RandomizedSearchCV(cv=5, estimator=RandomForestRegressor(criterion=&#x27;mae&#x27;),\n",
       "                   param_distributions={&#x27;max_depth&#x27;: [4, 6, 8, 10, 12],\n",
       "                                        &#x27;min_samples_leaf&#x27;: [10, 30, 40, 50, 60,\n",
       "                                                             80],\n",
       "                                        &#x27;min_samples_split&#x27;: [50, 80, 100, 150,\n",
       "                                                              200],\n",
       "                                        &#x27;n_estimators&#x27;: [30, 50, 80, 100, 120,\n",
       "                                                         150]})</pre></div></div></div><div class=\"sk-parallel\"><div class=\"sk-parallel-item\"><div class=\"sk-item\"><div class=\"sk-label-container\"><div class=\"sk-label sk-toggleable\"><input class=\"sk-toggleable__control sk-hidden--visually\" id=\"sk-estimator-id-3\" type=\"checkbox\" ><label for=\"sk-estimator-id-3\" class=\"sk-toggleable__label sk-toggleable__label-arrow\">estimator: RandomForestRegressor</label><div class=\"sk-toggleable__content\"><pre>RandomForestRegressor(criterion=&#x27;mae&#x27;)</pre></div></div></div><div class=\"sk-serial\"><div class=\"sk-item\"><div class=\"sk-estimator sk-toggleable\"><input class=\"sk-toggleable__control sk-hidden--visually\" id=\"sk-estimator-id-4\" type=\"checkbox\" ><label for=\"sk-estimator-id-4\" class=\"sk-toggleable__label sk-toggleable__label-arrow\">RandomForestRegressor</label><div class=\"sk-toggleable__content\"><pre>RandomForestRegressor(criterion=&#x27;mae&#x27;)</pre></div></div></div></div></div></div></div></div></div></div>"
      ],
      "text/plain": [
       "RandomizedSearchCV(cv=5, estimator=RandomForestRegressor(criterion='mae'),\n",
       "                   param_distributions={'max_depth': [4, 6, 8, 10, 12],\n",
       "                                        'min_samples_leaf': [10, 30, 40, 50, 60,\n",
       "                                                             80],\n",
       "                                        'min_samples_split': [50, 80, 100, 150,\n",
       "                                                              200],\n",
       "                                        'n_estimators': [30, 50, 80, 100, 120,\n",
       "                                                         150]})"
      ]
     },
     "execution_count": 101,
     "metadata": {},
     "output_type": "execute_result"
    }
   ],
   "source": [
    " from sklearn.model_selection import RandomizedSearchCV\n",
    "# Create an instance of the random forest regressor\n",
    "rf_model = RandomForestRegressor(criterion='mae')\n",
    "\n",
    "#RandomSearch\n",
    "rf_random = RandomizedSearchCV(rf_model,param_dict,verbose=0,cv=5)\n",
    "rf_random.fit(X_train,y_train)"
   ]
  },
  {
   "cell_type": "code",
   "execution_count": 102,
   "id": "35590342",
   "metadata": {},
   "outputs": [
    {
     "data": {
      "text/html": [
       "<style>#sk-container-id-3 {color: black;background-color: white;}#sk-container-id-3 pre{padding: 0;}#sk-container-id-3 div.sk-toggleable {background-color: white;}#sk-container-id-3 label.sk-toggleable__label {cursor: pointer;display: block;width: 100%;margin-bottom: 0;padding: 0.3em;box-sizing: border-box;text-align: center;}#sk-container-id-3 label.sk-toggleable__label-arrow:before {content: \"▸\";float: left;margin-right: 0.25em;color: #696969;}#sk-container-id-3 label.sk-toggleable__label-arrow:hover:before {color: black;}#sk-container-id-3 div.sk-estimator:hover label.sk-toggleable__label-arrow:before {color: black;}#sk-container-id-3 div.sk-toggleable__content {max-height: 0;max-width: 0;overflow: hidden;text-align: left;background-color: #f0f8ff;}#sk-container-id-3 div.sk-toggleable__content pre {margin: 0.2em;color: black;border-radius: 0.25em;background-color: #f0f8ff;}#sk-container-id-3 input.sk-toggleable__control:checked~div.sk-toggleable__content {max-height: 200px;max-width: 100%;overflow: auto;}#sk-container-id-3 input.sk-toggleable__control:checked~label.sk-toggleable__label-arrow:before {content: \"▾\";}#sk-container-id-3 div.sk-estimator input.sk-toggleable__control:checked~label.sk-toggleable__label {background-color: #d4ebff;}#sk-container-id-3 div.sk-label input.sk-toggleable__control:checked~label.sk-toggleable__label {background-color: #d4ebff;}#sk-container-id-3 input.sk-hidden--visually {border: 0;clip: rect(1px 1px 1px 1px);clip: rect(1px, 1px, 1px, 1px);height: 1px;margin: -1px;overflow: hidden;padding: 0;position: absolute;width: 1px;}#sk-container-id-3 div.sk-estimator {font-family: monospace;background-color: #f0f8ff;border: 1px dotted black;border-radius: 0.25em;box-sizing: border-box;margin-bottom: 0.5em;}#sk-container-id-3 div.sk-estimator:hover {background-color: #d4ebff;}#sk-container-id-3 div.sk-parallel-item::after {content: \"\";width: 100%;border-bottom: 1px solid gray;flex-grow: 1;}#sk-container-id-3 div.sk-label:hover label.sk-toggleable__label {background-color: #d4ebff;}#sk-container-id-3 div.sk-serial::before {content: \"\";position: absolute;border-left: 1px solid gray;box-sizing: border-box;top: 0;bottom: 0;left: 50%;z-index: 0;}#sk-container-id-3 div.sk-serial {display: flex;flex-direction: column;align-items: center;background-color: white;padding-right: 0.2em;padding-left: 0.2em;position: relative;}#sk-container-id-3 div.sk-item {position: relative;z-index: 1;}#sk-container-id-3 div.sk-parallel {display: flex;align-items: stretch;justify-content: center;background-color: white;position: relative;}#sk-container-id-3 div.sk-item::before, #sk-container-id-3 div.sk-parallel-item::before {content: \"\";position: absolute;border-left: 1px solid gray;box-sizing: border-box;top: 0;bottom: 0;left: 50%;z-index: -1;}#sk-container-id-3 div.sk-parallel-item {display: flex;flex-direction: column;z-index: 1;position: relative;background-color: white;}#sk-container-id-3 div.sk-parallel-item:first-child::after {align-self: flex-end;width: 50%;}#sk-container-id-3 div.sk-parallel-item:last-child::after {align-self: flex-start;width: 50%;}#sk-container-id-3 div.sk-parallel-item:only-child::after {width: 0;}#sk-container-id-3 div.sk-dashed-wrapped {border: 1px dashed gray;margin: 0 0.4em 0.5em 0.4em;box-sizing: border-box;padding-bottom: 0.4em;background-color: white;}#sk-container-id-3 div.sk-label label {font-family: monospace;font-weight: bold;display: inline-block;line-height: 1.2em;}#sk-container-id-3 div.sk-label-container {text-align: center;}#sk-container-id-3 div.sk-container {/* jupyter's `normalize.less` sets `[hidden] { display: none; }` but bootstrap.min.css set `[hidden] { display: none !important; }` so we also need the `!important` here to be able to override the default hidden behavior on the sphinx rendered scikit-learn.org. See: https://github.com/scikit-learn/scikit-learn/issues/21755 */display: inline-block !important;position: relative;}#sk-container-id-3 div.sk-text-repr-fallback {display: none;}</style><div id=\"sk-container-id-3\" class=\"sk-top-container\"><div class=\"sk-text-repr-fallback\"><pre>RandomForestRegressor(criterion=&#x27;mae&#x27;, max_depth=6, min_samples_leaf=10,\n",
       "                      min_samples_split=50, n_estimators=150)</pre><b>In a Jupyter environment, please rerun this cell to show the HTML representation or trust the notebook. <br />On GitHub, the HTML representation is unable to render, please try loading this page with nbviewer.org.</b></div><div class=\"sk-container\" hidden><div class=\"sk-item\"><div class=\"sk-estimator sk-toggleable\"><input class=\"sk-toggleable__control sk-hidden--visually\" id=\"sk-estimator-id-5\" type=\"checkbox\" checked><label for=\"sk-estimator-id-5\" class=\"sk-toggleable__label sk-toggleable__label-arrow\">RandomForestRegressor</label><div class=\"sk-toggleable__content\"><pre>RandomForestRegressor(criterion=&#x27;mae&#x27;, max_depth=6, min_samples_leaf=10,\n",
       "                      min_samples_split=50, n_estimators=150)</pre></div></div></div></div></div>"
      ],
      "text/plain": [
       "RandomForestRegressor(criterion='mae', max_depth=6, min_samples_leaf=10,\n",
       "                      min_samples_split=50, n_estimators=150)"
      ]
     },
     "execution_count": 102,
     "metadata": {},
     "output_type": "execute_result"
    }
   ],
   "source": [
    "#finding the optimal model w.r.t. best_estimator_\n",
    "rf_optimal_model = rf_random.best_estimator_\n",
    "     \n",
    "\n",
    "rf_optimal_model"
   ]
  },
  {
   "cell_type": "code",
   "execution_count": 103,
   "id": "a596b187",
   "metadata": {},
   "outputs": [
    {
     "name": "stdout",
     "output_type": "stream",
     "text": [
      "Training MAE: 186.09\n",
      "Test MAE: 106.18\n"
     ]
    }
   ],
   "source": [
    "#calculating the MAE on train and test set\n",
    "y_pred = rf_optimal_model.predict(X_train)\n",
    "y_test_pred = rf_optimal_model.predict(X_test)\n",
    "print('Training MAE: {:0.2f}'.format(metrics.mean_absolute_error(y_train, y_pred)))\n",
    "print('Test MAE: {:0.2f}'.format(metrics.mean_absolute_error(y_test, y_test_pred)))"
   ]
  },
  {
   "cell_type": "code",
   "execution_count": 104,
   "id": "6d3c3c54",
   "metadata": {},
   "outputs": [
    {
     "name": "stdout",
     "output_type": "stream",
     "text": [
      "r_sqr value for train: 0.8226673370161794\n",
      "For test set the R_Squared for RFforest is 0.969218967021621 and adjusted R_Squared is 0.9691804811089199\n"
     ]
    }
   ],
   "source": [
    "# make predictions for test data\n",
    "y_hat = rf_optimal_model.predict(X_test)\n",
    "print(f'r_sqr value for train: {rf_optimal_model.score(X_train, y_train)}')\n",
    "r_squared= r2_score(y_test,y_hat)\n",
    "#Calculate Adjusted R-sqaured\n",
    "adjusted_r_squared = 1 - (1-r_squared)*(len(y)-1)/(len(y)-X.shape[1]-1)\n",
    "print(f'For test set the R_Squared for RFforest is {r_squared} and adjusted R_Squared is {adjusted_r_squared}')"
   ]
  },
  {
   "cell_type": "markdown",
   "id": "0239c46d",
   "metadata": {},
   "source": [
    "- the R-squared value for the training set is 0.8226673370161794, which means that the model explains about **82% of the variance in the training data**. This is generally considered a good fit, but there may still be room for improvement.\n",
    "\n",
    "\n",
    "- The R-squared value for the test set is 0.969218967021621, which means that the model explains about **97% of the variance in the test data**. This is an excellent fit and indicates that the model is likely to generalize well to new data.\n",
    "\n",
    "\n",
    "- The adjusted R-squared value is a modified version of R-squared that adjusts for the number of predictors in the model. In this case, the adjusted R-squared value for the **test set is 0.9691804811089199, which is very close to the R-squared value**. This suggests that the **model is not overfitting** and that the predictors are contributing significantly to the model's ability to explain the variance in the data."
   ]
  },
  {
   "cell_type": "markdown",
   "id": "8f5b048f",
   "metadata": {},
   "source": [
    "### Conclusion\n",
    "\n",
    "\n",
    "That's it we have reached the end of this project. We started the project with Data Exploration in which we faced many challenges as dataset included data in many different data structures which was bit complicated to extract but the most challenging part of EDA was dealing catagorical variables, it took lot of research to deal with such large number of catagorical variables. Following EDA we performed feature engineering, data cleaning, target encoding and one hot encoding of categorical columns, feature selection and then model building."
   ]
  },
  {
   "cell_type": "code",
   "execution_count": null,
   "id": "29f8535f",
   "metadata": {},
   "outputs": [],
   "source": []
  }
 ],
 "metadata": {
  "kernelspec": {
   "display_name": "Python 3 (ipykernel)",
   "language": "python",
   "name": "python3"
  },
  "language_info": {
   "codemirror_mode": {
    "name": "ipython",
    "version": 3
   },
   "file_extension": ".py",
   "mimetype": "text/x-python",
   "name": "python",
   "nbconvert_exporter": "python",
   "pygments_lexer": "ipython3",
   "version": "3.9.0"
  }
 },
 "nbformat": 4,
 "nbformat_minor": 5
}
